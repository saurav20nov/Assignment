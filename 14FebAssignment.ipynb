{
 "cells": [
  {
   "cell_type": "markdown",
   "id": "71414cca-002d-4c4d-a817-83967be9939b",
   "metadata": {},
   "source": [
    "Q1. what is multithreading in python? why is it used? Name the module used to handle threads in python"
   ]
  },
  {
   "cell_type": "markdown",
   "id": "f5f92987-8bce-4513-8758-78062b615d85",
   "metadata": {},
   "source": [
    "Multithreading is a threading technique in Python programming to run multiple threads concurrently by rapidly switching between threads with a CPU help.\n",
    "\n",
    "It is a way of achieving multitasking by using concept of thread.\n",
    "\n",
    "Multithreading can also be defined as the ability of a processor to execute multiple threads concurrently\n",
    "\n",
    "\n",
    "It is used beacuse\n",
    "                    Multithreading allows us to break down an application into multiple sub-tasks and run these tasks simultaneously. If we use multithreading properly, our application speed, performance, and rendering can all be improved.\n",
    "                    \n",
    "\n",
    "\n",
    "There are following benefits of using Multithreading:\n",
    "\n",
    "It ensures effective utilization of computer system resources.\n",
    "\n",
    "Multithreaded applications are more responsive.\n",
    "\n",
    "It shares resources and its state with sub-threads (child) which makes it more economical.\n",
    "\n",
    "It makes the multiprocessor architecture more effective due to similarity.\n",
    "\n",
    "It saves time by executing multiple threads at the same time.\n",
    "\n",
    "The system does not require too much memory to store multiple threads.\n",
    "\n",
    "\n",
    "\n",
    "\n",
    "There are two main modules of multithreading used to handle threads in Python:\n",
    "\n",
    "1. The thread module  : Now with python3 thread module is not n use but it can only be accessed with _thread that supports   \n",
    "backward compatibility.\n",
    "\n",
    "2. The threading module :  We have used this module in class .\n",
    "The threading module is a high-level implementation of multithreading used to deploy an application in Python. "
   ]
  },
  {
   "cell_type": "code",
   "execution_count": 7,
   "id": "e21bf23b-5b0b-43ee-bbf1-baf576405ffe",
   "metadata": {},
   "outputs": [
    {
     "data": {
      "text/plain": [
       "'INFO:root:Hello, When Indians are eligible to vote ?18 \\nINFO:root:Thank you\\n'"
      ]
     },
     "execution_count": 7,
     "metadata": {},
     "output_type": "execute_result"
    }
   ],
   "source": [
    "# threading example\n",
    "import logging\n",
    "logging.basicConfig(filename=\"pw.log\",level=logging.INFO)\n",
    "import threading  \n",
    "def pw(n):  \n",
    "    logging.info(f\"Hello, When Indians are eligible to vote ?{n} \")  \n",
    "T1 = threading.Thread( target = pw, args = (18, ))  \n",
    "T1.start()  \n",
    "T1.join()  \n",
    "logging.info(\"Thank you\")  \n",
    "\n",
    "f=open(\"pw.log\",\"r\")\n",
    "f.read()"
   ]
  },
  {
   "cell_type": "code",
   "execution_count": null,
   "id": "c7f8597b-b82e-4612-9619-d36f84f2e1f6",
   "metadata": {},
   "outputs": [],
   "source": []
  },
  {
   "cell_type": "code",
   "execution_count": null,
   "id": "10f05fb1-a482-4f7e-a077-d5ca515b4818",
   "metadata": {},
   "outputs": [],
   "source": []
  },
  {
   "cell_type": "markdown",
   "id": "447530b0-2afc-4e13-93f1-1a59f24e1659",
   "metadata": {},
   "source": [
    "Q2. why threading module used? write the use of the following functions:\n",
    "\n",
    "1. activeCount\n",
    "\n",
    "2. currentThread\n",
    "\n",
    "3. enumerate"
   ]
  },
  {
   "cell_type": "markdown",
   "id": "1b6f33c7-b737-4c58-9f60-11844dd7bc75",
   "metadata": {},
   "source": [
    "Threading module is the high-level implementation of threading in python and the de facto standard for managing multithreaded applications. It provides a wide range of features when compared to the thread module.\n",
    "\n",
    "activeCount()\t: Returns the count of Thread objects which are still alive\n",
    "\n",
    "currentThread()\t: Returns the current object of the Thread class.\n",
    "\n",
    "enumerate()\t    : Lists all active Thread objects."
   ]
  },
  {
   "cell_type": "code",
   "execution_count": null,
   "id": "39f160ab-f62c-4232-8f15-24c336fdcf33",
   "metadata": {},
   "outputs": [],
   "source": []
  },
  {
   "cell_type": "code",
   "execution_count": null,
   "id": "0e8db9a5-795f-42b5-8a05-ccb632ef7218",
   "metadata": {},
   "outputs": [],
   "source": []
  },
  {
   "cell_type": "markdown",
   "id": "dbeb1daf-3916-4fa5-a220-c5c84c960081",
   "metadata": {},
   "source": [
    "Q3. Explain the following functions\n",
    "\n",
    "run()\n",
    "\n",
    "start()\n",
    "\n",
    "join()\n",
    " \n",
    "isAlive()"
   ]
  },
  {
   "cell_type": "markdown",
   "id": "f187321e-4736-46ea-a607-07465b43a60b",
   "metadata": {},
   "source": [
    "run()\t:\n",
    "\n",
    "The run() method is the entry point for a thread.\n",
    "\n",
    "This method denotes the activity of a thread and can be overridden by a class that extends the Thread class."
   ]
  },
  {
   "cell_type": "markdown",
   "id": "61f5f8c7-dbe0-402c-b3e7-6b0bcaa7a311",
   "metadata": {},
   "source": [
    "start()  :  \n",
    "\n",
    "The start() method starts a thread by calling the run method.\n",
    "\n",
    "Starts the activity of a thread. It must be called only once for each thread because it will throw a runtime error if called multiple times.\n",
    "        "
   ]
  },
  {
   "cell_type": "markdown",
   "id": "aa5eb3c8-d18f-4d99-a95c-676093b74ed1",
   "metadata": {},
   "source": [
    "join() :\n",
    "    \n",
    "The join() waits for threads to terminate.\n",
    "\n",
    "It blocks the execution of other code until the thread on which the join() method was called gets terminated."
   ]
  },
  {
   "cell_type": "markdown",
   "id": "a38cab9d-2052-4fd5-a82b-c061b321143d",
   "metadata": {},
   "source": [
    "isAlive() :\n",
    "    \n",
    "The isAlive() method checks whether a thread is still executing.\n",
    "\n",
    "It returns true if the thread is still alive."
   ]
  },
  {
   "cell_type": "code",
   "execution_count": null,
   "id": "cefb9302-0d27-486f-8a05-f1e64acd1708",
   "metadata": {},
   "outputs": [],
   "source": []
  },
  {
   "cell_type": "code",
   "execution_count": null,
   "id": "590280f7-766b-410e-887c-7f831da31133",
   "metadata": {},
   "outputs": [],
   "source": []
  },
  {
   "cell_type": "markdown",
   "id": "8aff2210-ffd7-4d20-80f1-2d6581de953e",
   "metadata": {},
   "source": [
    "Q4. write a python program to create two threads. Thread one must print the list of squares and thread\n",
    "two must print the list of cubes"
   ]
  },
  {
   "cell_type": "code",
   "execution_count": null,
   "id": "8a21c80c-13bc-4abe-adeb-a32a7bc9a1d3",
   "metadata": {},
   "outputs": [],
   "source": []
  },
  {
   "cell_type": "code",
   "execution_count": 28,
   "id": "fa829a56-5868-4213-8f51-fcaf57c9293c",
   "metadata": {},
   "outputs": [
    {
     "name": "stdin",
     "output_type": "stream",
     "text": [
      "no of total entry of list 9\n",
      "Enter the Number for converting into sqaure and cube 1\n",
      "Enter the Number for converting into sqaure and cube 2\n",
      "Enter the Number for converting into sqaure and cube 3\n",
      "Enter the Number for converting into sqaure and cube 4\n",
      "Enter the Number for converting into sqaure and cube 5\n",
      "Enter the Number for converting into sqaure and cube 6\n",
      "Enter the Number for converting into sqaure and cube 7\n",
      "Enter the Number for converting into sqaure and cube 8\n",
      "Enter the Number for converting into sqaure and cube 9\n"
     ]
    },
    {
     "name": "stdout",
     "output_type": "stream",
     "text": [
      "Square of 1 = 1\n",
      "Square of 2 = 8\n",
      "Square of 3 = 27\n",
      "Square of 4 = 64\n",
      "Square of 5 = 125\n",
      "Square of 6 = 216\n",
      "Square of 7 = 343\n",
      "Square of 8 = 512\n",
      "Square of 9 = 729\n",
      "Original list is [1, 2, 3, 4, 5, 6, 7, 8, 9] \n",
      "The list of square of original list is [1, 8, 27, 64, 125, 216, 343, 512, 729]\n",
      "Cube of 1 = 1\n",
      "Cube of 2 = 8\n",
      "Cube of 3 = 27\n",
      "Cube of 4 = 64\n",
      "Cube of 5 = 125\n",
      "Cube of 6 = 216\n",
      "Cube of 7 = 343\n",
      "Cube of 8 = 512\n",
      "Cube of 9 = 729\n",
      "Original list is [1, 2, 3, 4, 5, 6, 7, 8, 9] \n",
      "The list of cube of original list is [1, 8, 27, 64, 125, 216, 343, 512, 729]\n",
      "Done!\n"
     ]
    }
   ],
   "source": [
    "# with print function\n",
    "import threading\n",
    "\n",
    "l1=[]\n",
    "l2=[]\n",
    "def print_cube(num):\n",
    "    for i in num:\n",
    "        \n",
    "\t# function to print cube \n",
    "        print(f\"Cube of {i} = {i*i*i}\")\n",
    "        l1.append(i*i*i)\n",
    "    print(f\"Original list is {l} \\nThe list of cube of original list is {l1}\")\n",
    "\n",
    "\n",
    "def print_square(num):\n",
    "\t# function to print square \n",
    "    for j in num:\n",
    "        print(f\"Square of {j} = {j *j*j}\")\n",
    "        l2.append(j*j*j)\n",
    "\n",
    "    print(f\"Original list is {l} \\nThe list of square of original list is {l2}\")\n",
    "l=[] \n",
    "n=int(input(\"no of total entry of list\"))\n",
    "for i in range(n):\n",
    "    \n",
    "    ele=int(input(\"Enter the Number for converting into sqaure and cube\"))\n",
    "    l.append(ele)\n",
    "\t# creating thread\n",
    "t1 = threading.Thread(target=print_square, args=(l,))\n",
    "t2 = threading.Thread(target=print_cube, args=(l,))\n",
    "\n",
    "\t# starting thread 1\n",
    "t1.start()\n",
    "\t# starting thread 2\n",
    "t2.start()\n",
    "\n",
    "\t# wait until thread 1 is completely executed\n",
    "t1.join()\n",
    "\t# wait until thread 2 is completely executed\n",
    "t2.join()\n",
    "\n",
    "\t# both threads completely executed\n",
    "print(\"Done!\")\n"
   ]
  },
  {
   "cell_type": "code",
   "execution_count": null,
   "id": "f74a4381-8059-4c55-b980-f897c9a5116c",
   "metadata": {},
   "outputs": [],
   "source": []
  },
  {
   "cell_type": "code",
   "execution_count": 29,
   "id": "faf24aac-de93-405b-879b-fe8b8b493300",
   "metadata": {},
   "outputs": [
    {
     "name": "stdin",
     "output_type": "stream",
     "text": [
      "no of total entry of list 9\n",
      "Enter the Number for converting into sqaure and cube 1\n",
      "Enter the Number for converting into sqaure and cube 2\n",
      "Enter the Number for converting into sqaure and cube 3\n",
      "Enter the Number for converting into sqaure and cube 4\n",
      "Enter the Number for converting into sqaure and cube 5\n",
      "Enter the Number for converting into sqaure and cube 6\n",
      "Enter the Number for converting into sqaure and cube 7\n",
      "Enter the Number for converting into sqaure and cube 8\n",
      "Enter the Number for converting into sqaure and cube 9\n"
     ]
    },
    {
     "data": {
      "text/plain": [
       "'INFO:root:Square of 1 = 1\\nINFO:root:Cube of 1 = 1\\nINFO:root:Square of 2 = 8\\nINFO:root:Cube of 2 = 8\\nINFO:root:Square of 3 = 27\\nINFO:root:Cube of 3 = 27\\nINFO:root:Square of 4 = 64\\nINFO:root:Cube of 4 = 64\\nINFO:root:Square of 5 = 125\\nINFO:root:Cube of 5 = 125\\nINFO:root:Square of 6 = 216\\nINFO:root:Cube of 6 = 216\\nINFO:root:Square of 7 = 343\\nINFO:root:Cube of 7 = 343\\nINFO:root:Square of 8 = 512\\nINFO:root:Cube of 8 = 512\\nINFO:root:Square of 9 = 729\\nINFO:root:Cube of 9 = 729\\nINFO:root:Original list is [1, 2, 3, 4, 5, 6, 7, 8, 9] \\nThe list of square of original list is [1, 8, 27, 64, 125, 216, 343, 512, 729]\\nINFO:root:Original list is [1, 2, 3, 4, 5, 6, 7, 8, 9] \\nThe list of cube of original list is [1, 8, 27, 64, 125, 216, 343, 512, 729]\\nINFO:root:Done!\\n'"
      ]
     },
     "execution_count": 29,
     "metadata": {},
     "output_type": "execute_result"
    }
   ],
   "source": [
    "# with logging function\n",
    "import threading\n",
    "\n",
    "l1=[]\n",
    "l2=[]\n",
    "def print_cube(num):\n",
    "    for i in num:\n",
    "        \n",
    "\t# function to print cube of given num\n",
    "        logging.info(f\"Cube of {i} = {i*i*i}\")\n",
    "        l1.append(i*i*i)\n",
    "    logging.info(f\"Original list is {l} \\nThe list of cube of original list is {l1}\")\n",
    "\n",
    "\n",
    "def print_square(num):\n",
    "\t# function to print square of given num\n",
    "    for j in num:\n",
    "        logging.info(f\"Square of {j} = {j *j*j}\")\n",
    "        l2.append(j*j*j)\n",
    "\n",
    "    logging.info(f\"Original list is {l} \\nThe list of square of original list is {l2}\")\n",
    "    \n",
    "l=[] \n",
    "n=int(input(\"no of total entry of list\"))\n",
    "for i in range(n):\n",
    "    \n",
    "    ele=int(input(\"Enter the Number for converting into sqaure and cube\"))\n",
    "    l.append(ele)\n",
    "\t# creating thread\n",
    "t1 = threading.Thread(target=print_square, args=(l,))\n",
    "t2 = threading.Thread(target=print_cube, args=(l,))\n",
    "\n",
    "\t# starting thread 1\n",
    "t1.start()\n",
    "\t# starting thread 2\n",
    "t2.start()\n",
    "\n",
    "\t# wait until thread 1 is completely executed\n",
    "t1.join()\n",
    "\t# wait until thread 2 is completely executed\n",
    "t2.join()\n",
    "\n",
    "\t# both threads completely executed\n",
    "logging.info(\"Done!\")\n",
    "f=open(\"pw.log\",\"r\")\n",
    "f.read()"
   ]
  },
  {
   "cell_type": "code",
   "execution_count": null,
   "id": "30a18371-dce7-4b3f-8164-d423b51fdd95",
   "metadata": {},
   "outputs": [],
   "source": []
  },
  {
   "cell_type": "markdown",
   "id": "db01330b-ab3c-4540-9aaa-66f119497307",
   "metadata": {},
   "source": [
    "Q5. State advantages and disadvantages of multithreading."
   ]
  },
  {
   "cell_type": "markdown",
   "id": "083c5c3f-3eb8-40ae-a4c3-0ff812f48511",
   "metadata": {},
   "source": [
    "Advantages:\n",
    "    \n",
    "Enhanced performance by decreased development time\n",
    "\n",
    "Simplified and streamlined program coding\n",
    "\n",
    "Improvised GUI responsiveness\n",
    "\n",
    "Simultaneous and parallelized occurrence of tasks\n",
    "\n",
    "Better use of cache storage by utilization of resources\n",
    "\n",
    "Decreased cost of maintenance\n",
    "\n",
    "Better use of CPU resource"
   ]
  },
  {
   "cell_type": "code",
   "execution_count": null,
   "id": "769c1a25-4b2e-4d70-a24c-8bb8d4db704b",
   "metadata": {},
   "outputs": [],
   "source": []
  },
  {
   "cell_type": "markdown",
   "id": "c8a68f49-41a3-409f-ae66-9bed96306273",
   "metadata": {},
   "source": [
    "Disadvantages:\n",
    "    \n",
    "Complex debugging and testing processes\n",
    "\n",
    "Overhead switching of context\n",
    "\n",
    "Increased potential for deadlock occurrence\n",
    "\n",
    "Increased difficulty level in writing a program\n",
    "\n",
    "Unpredictable results"
   ]
  },
  {
   "cell_type": "code",
   "execution_count": null,
   "id": "a111606b-7732-4bba-9637-f7bfa4c54dda",
   "metadata": {},
   "outputs": [],
   "source": []
  },
  {
   "cell_type": "code",
   "execution_count": null,
   "id": "f4277fb6-0084-4eac-b6ac-257efab07eb1",
   "metadata": {},
   "outputs": [],
   "source": []
  },
  {
   "cell_type": "markdown",
   "id": "071d348a-1c9b-4e8d-98c7-9608db5ab5a3",
   "metadata": {},
   "source": [
    "Q6. Explain deadlocks and race conditions."
   ]
  },
  {
   "cell_type": "markdown",
   "id": "9181c9ec-984e-4bdf-b516-72b1b1369794",
   "metadata": {},
   "source": [
    "\n",
    "Deadlocks:\n",
    "\n",
    "Deadlocks are the most feared issue that developers face when writing concurrent/multithreaded applications in python. \n",
    "\n",
    "The best way to understand deadlocks is by using the classic computer science example problem known as the Dining Philosophers Problem.\n",
    "\n",
    "The problem statement for dining philosophers is as follows:\n",
    "\n",
    "Five philosophers are seated on a round table with five plates of spaghetti (a type of pasta) and five forks.\n",
    "\n",
    "At any given time, a philosopher must either be eating or thinking.\n",
    "\n",
    "Moreover, a philosopher must take the two forks adjacent to him (i.e., the left and right forks) before he can eat the spaghetti. The problem of deadlock occurs when all five philosophers pick up their right forks simultaneously.\n",
    "\n",
    "Since each of the philosophers has one fork, they will all wait for the others to put their fork down. As a result, none of them will be able to eat spaghetti.\n",
    "\n",
    "Similarly, in a concurrent system, a deadlock occurs when different threads or processes (philosophers) try to acquire the shared system resources (forks) at the same time. As a result, none of the processes get a chance to execute as they are waiting for another resource held by some other process."
   ]
  },
  {
   "cell_type": "code",
   "execution_count": null,
   "id": "6e7f4f8a-9bef-472b-b387-3ecf17959db2",
   "metadata": {},
   "outputs": [],
   "source": []
  },
  {
   "cell_type": "markdown",
   "id": "96324c2f-b1e8-4528-acf8-ca7cf035f642",
   "metadata": {},
   "source": [
    "Race conditions:\n",
    "\n",
    "A race condition is an unwanted state of a program which occurs when a system performs two or more operations simultaneously. For example, consider this simple for loop:\n",
    "            i=0; # a global variable\n",
    "            for x in range(100):\n",
    "                print(i)\n",
    "                i+=1;\n",
    "                \n",
    "If we create n number of threads which run this code at once, we cannot determine the value of i (which is shared by the threads) when the program finishes execution. This is because in a real multithreading environment, the threads can overlap, and the value of i which was retrieved and modified by a thread can change in between when some other thread accesses it."
   ]
  },
  {
   "cell_type": "code",
   "execution_count": null,
   "id": "7bc7c75d-ae27-42c2-83ac-675ca0a2c9db",
   "metadata": {},
   "outputs": [],
   "source": []
  }
 ],
 "metadata": {
  "kernelspec": {
   "display_name": "Python 3 (ipykernel)",
   "language": "python",
   "name": "python3"
  },
  "language_info": {
   "codemirror_mode": {
    "name": "ipython",
    "version": 3
   },
   "file_extension": ".py",
   "mimetype": "text/x-python",
   "name": "python",
   "nbconvert_exporter": "python",
   "pygments_lexer": "ipython3",
   "version": "3.10.8"
  }
 },
 "nbformat": 4,
 "nbformat_minor": 5
}
