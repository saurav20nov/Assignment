{
 "cells": [
  {
   "cell_type": "markdown",
   "id": "2a7c9d32-b78d-4ce1-9b89-e5fd27ec5655",
   "metadata": {},
   "source": [
    "Q1: What is the difference between a t-test and a z-test? Provide an example scenario where you would\n",
    "use each type of test."
   ]
  },
  {
   "cell_type": "markdown",
   "id": "8fa529d3-3c6f-4457-81a2-63dcb977a5c3",
   "metadata": {},
   "source": [
    "A t-test and a z-test are both statistical hypothesis tests used to determine whether there is a significant difference between two groups. However, the main difference between the two tests lies in the assumptions made about the population variance.\n",
    "\n",
    "A z-test is used when the population variance is known, and the sample size is large (typically n > 30). In contrast, a t-test is used when the population variance is unknown, and the sample size is small (typically n < 30).\n",
    "\n",
    "For example, let's say you want to compare the mean height of two different populations: the heights of adult males in New York City and the heights of adult males in Los Angeles. Suppose you have access to the height measurements of 1000 adult males in each city. In this case, you could use a z-test to compare the means since the sample sizes are large, and the population variance can be estimated accurately.\n",
    "\n",
    "On the other hand, suppose you only have access to the height measurements of 15 adult males in each city. In this case, the population variance cannot be estimated accurately, and you would need to use a t-test to compare the means.\n",
    "\n",
    "In summary, if the population variance is known, and the sample size is large, a z-test is appropriate. If the population variance is unknown, and the sample size is small, a t-test is appropriate."
   ]
  },
  {
   "cell_type": "code",
   "execution_count": null,
   "id": "403c1e8d-290b-4a3a-877d-fbc470cbcdfe",
   "metadata": {},
   "outputs": [],
   "source": []
  },
  {
   "cell_type": "markdown",
   "id": "52bf4877-c4d2-41cd-a895-8a2a4b165e89",
   "metadata": {},
   "source": [
    "Q2: Differentiate between one-tailed and two-tailed tests."
   ]
  },
  {
   "cell_type": "markdown",
   "id": "bd908716-02fb-45f5-9587-b2db9a668871",
   "metadata": {},
   "source": [
    "A statistical hypothesis test is used to determine whether there is enough evidence to reject a null hypothesis in favor of an alternative hypothesis. The hypothesis test can be either one-tailed or two-tailed.\n",
    "\n",
    "A one-tailed test is a hypothesis test in which the alternative hypothesis is directional. That is, it tests whether the parameter of interest is either greater than or less than a certain value. The null hypothesis is that there is no difference between the parameter and the given value. One-tailed tests are used when we have a specific hypothesis about the direction of the difference between two groups or populations. For example, if we want to test whether a new drug is more effective than a placebo, we might use a one-tailed test to determine if the drug is statistically significantly better than the placebo.\n",
    "\n",
    "A two-tailed test is a hypothesis test in which the alternative hypothesis is non-directional. That is, it tests whether the parameter of interest is different from a certain value, but without specifying the direction of the difference. The null hypothesis is that there is no difference between the parameter and the given value. Two-tailed tests are used when we don't have a specific hypothesis about the direction of the difference between two groups or populations. For example, if we want to test whether the average height of men is different from the average height of women, we might use a two-tailed test to determine if there is a statistically significant difference between the two groups."
   ]
  },
  {
   "cell_type": "code",
   "execution_count": null,
   "id": "dbf5e36c-81e0-470f-84e7-db485e57a590",
   "metadata": {},
   "outputs": [],
   "source": []
  },
  {
   "cell_type": "markdown",
   "id": "a27bd8f8-fbe3-4db5-ae7d-bb9797dc20d7",
   "metadata": {},
   "source": [
    "Q3: Explain the concept of Type 1 and Type 2 errors in hypothesis testing. Provide an example scenario for\n",
    "each type of error."
   ]
  },
  {
   "cell_type": "markdown",
   "id": "77bc646d-5ec5-4df1-9a8a-adff3b31cc08",
   "metadata": {},
   "source": [
    "In hypothesis testing, Type 1 and Type 2 errors refer to the two types of errors that can occur while making a decision based on statistical significance.\n",
    "\n",
    "Type 1 Error: This error occurs when we reject a true null hypothesis. In other words, we conclude that there is a significant effect or difference when in reality there is none. The probability of committing a Type 1 error is denoted by alpha (α), which is the level of significance we set for the test. A lower value of alpha decreases the probability of a Type 1 error.\n",
    "\n",
    "Example: Suppose a pharmaceutical company tests a new drug to see if it's effective at treating a certain disease. The null hypothesis is that the drug has no effect, and the alternative hypothesis is that it does have an effect. If the company rejects the null hypothesis and concludes that the drug is effective, but in reality, the drug has no effect, it's a Type 1 error.\n",
    "\n",
    "Type 2 Error: This error occurs when we fail to reject a false null hypothesis. In other words, we conclude that there is no significant effect or difference when, in reality, there is one. The probability of committing a Type 2 error is denoted by beta (β), which is inversely related to the sample size and the effect size. A larger sample size or a larger effect size decreases the probability of a Type 2 error.\n",
    "\n",
    "Example: Suppose a university wants to test whether a new teaching method improves students' grades. The null hypothesis is that the teaching method has no effect, and the alternative hypothesis is that it does have an effect. If the university fails to reject the null hypothesis and concludes that the teaching method has no effect, but in reality, it does improve the students' grades, it's a Type 2 error.\n",
    "\n",
    "In summary, Type 1 error occurs when we reject a true null hypothesis, and Type 2 error occurs when we fail to reject a false null hypothesis. Both types of errors are important to consider while making decisions based on statistical significance."
   ]
  },
  {
   "cell_type": "code",
   "execution_count": null,
   "id": "0c45f66d-6e77-415b-ab4f-166a9e6e7426",
   "metadata": {},
   "outputs": [],
   "source": []
  },
  {
   "cell_type": "markdown",
   "id": "4673150d-444a-4c34-92db-ed8bfc35d7ed",
   "metadata": {},
   "source": [
    "Q4: Explain Bayes's theorem with an example."
   ]
  },
  {
   "cell_type": "markdown",
   "id": "80b6a17d-e79a-485c-b81a-3e3db7ba6c82",
   "metadata": {},
   "source": [
    "Bayes's theorem is a mathematical formula that helps us update our beliefs about the likelihood of an event occurring based on new evidence. It is named after the Reverend Thomas Bayes, an 18th-century English statistician and theologian. The theorem states that the probability of an event given new evidence is equal to the prior probability of the event multiplied by the likelihood of the evidence given the event, divided by the probability of the evidence.\n",
    "\n",
    "To illustrate Bayes's theorem, let's consider an example:\n",
    "\n",
    "Suppose a medical test is used to detect a disease. The test is 95% accurate, meaning that if a person has the disease, there is a 95% chance that the test will come back positive, and if a person does not have the disease, there is a 95% chance that the test will come back negative. Suppose that 1% of the population has the disease.\n",
    "\n",
    "Now, imagine that a person takes the test and receives a positive result. What is the probability that they actually have the disease?\n",
    "\n",
    "We can use Bayes's theorem to answer this question. Let's define our events as follows:\n",
    "\n",
    "A: the person has the disease\n",
    "B: the test result is positive\n",
    "\n",
    "We want to find P(A | B), the probability that the person has the disease given a positive test result.\n",
    "\n",
    "According to Bayes's theorem, we have:\n",
    "\n",
    "P(A | B) = P(A) * P(B | A) / P(B)\n",
    "\n",
    "where:\n",
    "P(A) = the prior probability of the person having the disease = 0.01\n",
    "P(B | A) = the probability of the test being positive given that the person has the disease = 0.95\n",
    "P(B) = the probability of the test being positive, which can be calculated using the law of total probability:\n",
    "\n",
    "P(B) = P(A) * P(B | A) + P(not A) * P(B | not A)\n",
    "\n",
    "where:\n",
    "P(not A) = the probability of the person not having the disease = 0.99\n",
    "P(B | not A) = the probability of the test being positive given that the person does not have the disease = 0.05\n",
    "\n",
    "Plugging in the values, we get:\n",
    "\n",
    "P(B) = 0.01 * 0.95 + 0.99 * 0.05 = 0.059\n",
    "\n",
    "Now, we can calculate P(A | B):\n",
    "\n",
    "P(A | B) = P(A) * P(B | A) / P(B) = 0.01 * 0.95 / 0.059 ≈ 0.16\n",
    "\n",
    "This means that if a person tests positive for the disease, there is only a 16% chance that they actually have the disease. This example illustrates the importance of taking into account both the prior probability and the accuracy of the test when interpreting test results."
   ]
  },
  {
   "cell_type": "code",
   "execution_count": null,
   "id": "4327a213-64cb-4a80-94e6-bc71c3012f77",
   "metadata": {},
   "outputs": [],
   "source": []
  },
  {
   "cell_type": "markdown",
   "id": "3caf4cf6-4f61-48f0-8fb6-ff8a9aa9f234",
   "metadata": {},
   "source": [
    "Q5: What is a confidence interval? How to calculate the confidence interval, explain with an example."
   ]
  },
  {
   "cell_type": "markdown",
   "id": "249553a7-a119-4d29-a4c6-ebe7323e726f",
   "metadata": {},
   "source": [
    "A confidence interval is a statistical measure used to estimate the range of values within which a population parameter, such as the population mean or proportion, is likely to lie. It is a range of values calculated from a sample of data that is expected to contain the true population parameter with a certain degree of confidence.\n",
    "\n",
    "To calculate a confidence interval, you need to know the sample size, the sample mean or proportion, the standard deviation or standard error, and the desired level of confidence.\n",
    "\n",
    "For example, suppose you want to estimate the average height of adult women in a city. You randomly select a sample of 100 women and measure their heights. The sample mean height is 5 feet 6 inches, and the sample standard deviation is 2 inches.\n",
    "\n",
    "To calculate a 95% confidence interval for the population mean height, you would use the following formula:\n",
    "\n",
    "Confidence interval = sample mean ± (critical value x standard error)\n",
    "\n",
    "The critical value for a 95% confidence interval with 99 degrees of freedom (n-1) is 1.984 (from a t-distribution table). The standard error is calculated as the standard deviation divided by the square root of the sample size, or 2 inches / sqrt(100) = 0.2 inches.\n",
    "\n",
    "Therefore, the 95% confidence interval for the population mean height is:\n",
    "\n",
    "5 feet 6 inches ± (1.984 x 0.2 inches)\n",
    "or\n",
    "5 feet 6 inches ± 0.397 inches\n",
    "\n",
    "This means that we can be 95% confident that the true population mean height of adult women in the city falls within the range of 5 feet 5.6 inches to 5 feet 6.4 inches."
   ]
  },
  {
   "cell_type": "code",
   "execution_count": null,
   "id": "0cf555ab-726a-4f6f-88f6-2dbcf8b6b8d0",
   "metadata": {},
   "outputs": [],
   "source": []
  },
  {
   "cell_type": "markdown",
   "id": "03d96e3a-21f6-493f-a55f-0bd0362336e3",
   "metadata": {},
   "source": [
    "Q6. Use Bayes' Theorem to calculate the probability of an event occurring given prior knowledge of the\n",
    "event's probability and new evidence. Provide a sample problem and solution."
   ]
  },
  {
   "cell_type": "markdown",
   "id": "42dca028-9223-4ad5-9a21-3735251e47be",
   "metadata": {},
   "source": [
    "Bayes' theorem is a mathematical formula used to calculate conditional probabilities. It describes the probability of an event based on prior knowledge or beliefs (prior probability) and new evidence or information.\n",
    "\n",
    "The formula for Bayes' theorem is as follows:\n",
    "\n",
    "P(A|B) = P(B|A) * P(A) / P(B)\n",
    "\n",
    "where:\n",
    "\n",
    "P(A|B) is the probability of event A occurring given event B\n",
    "P(B|A) is the probability of event B occurring given event A\n",
    "P(A) is the prior probability of event A occurring\n",
    "P(B) is the prior probability of event B occurring\n",
    "Here's a sample problem and solution using Bayes' theorem:\n",
    "\n",
    "Problem:\n",
    "A factory produces two types of light bulbs: Type A and Type B. Type A bulbs have a failure rate of 5%, while Type B bulbs have a failure rate of 3%. A quality control inspector randomly selects a light bulb from the factory and tests it. If the bulb fails the test, what is the probability that it is a Type A bulb?\n",
    "\n",
    "Solution:\n",
    "Let's define the following events:\n",
    "\n",
    "A = selecting a Type A bulb\n",
    "B = the bulb fails the quality control test\n",
    "We want to find P(A|B), the probability of selecting a Type A bulb given that the bulb failed the quality control test. We can use Bayes' theorem to calculate this probability:\n",
    "\n",
    "P(A|B) = P(B|A) * P(A) / P(B)\n",
    "\n",
    "We know that:\n",
    "\n",
    "P(B|A) is the probability that a Type A bulb fails the test, which is 0.05\n",
    "P(A) is the prior probability of selecting a Type A bulb, which is 0.5 (assuming an equal number of Type A and Type B bulbs are produced)\n",
    "P(B) is the prior probability of a bulb failing the test, which is P(B|A) * P(A) + P(B|not A) * P(not A)\n",
    "P(B|not A) is the probability that a Type B bulb fails the test, which is 0.03\n",
    "P(not A) is the complement of P(A), which is 0.5\n",
    "Plugging in the values, we get:\n",
    "\n",
    "P(A|B) = 0.05 * 0.5 / (0.05 * 0.5 + 0.03 * 0.5)\n",
    "P(A|B) = 0.625 or 62.5%\n",
    "\n",
    "Therefore, the probability that the failed bulb is a Type A bulb is 62.5%."
   ]
  },
  {
   "cell_type": "code",
   "execution_count": null,
   "id": "22f7425c-d835-4cd3-96a7-42a9b6a1b0a5",
   "metadata": {},
   "outputs": [],
   "source": []
  },
  {
   "cell_type": "markdown",
   "id": "ccf78342-06e3-4662-9043-b3484994e815",
   "metadata": {},
   "source": [
    "Q7. Calculate the 95% confidence interval for a sample of data with a mean of 50 and a standard deviation\n",
    "of 5. Interpret the results."
   ]
  },
  {
   "cell_type": "markdown",
   "id": "bbf34a5d-80d7-421e-a785-6e2838bbe43c",
   "metadata": {},
   "source": [
    "To calculate the 95% confidence interval, we need to use the following formula:\n",
    "\n",
    "CI = X ± Z * (σ / sqrt(n))\n",
    "\n",
    "where X is the sample mean, σ is the population standard deviation (which we don't know, so we'll use the sample standard deviation as an estimate), n is the sample size, and Z is the critical value from the standard normal distribution for a 95% confidence level, which is 1.96.\n",
    "\n",
    "Plugging in the numbers, we get:\n",
    "\n",
    "CI = 50 ± 1.96 * (5 / sqrt(n))\n",
    "\n",
    "Since we don't know the sample size, we can't calculate the confidence interval precisely. However, we can see how the width of the confidence interval changes with sample size.\n",
    "\n",
    "For example, if we have a sample size of n = 100, then:\n",
    "\n",
    "CI = 50 ± 1.96 * (5 / sqrt(100)) = 50 ± 1\n",
    "\n",
    "So the 95% confidence interval would be [49, 51], meaning that we can be 95% confident that the true population mean falls between 49 and 51.\n",
    "\n",
    "If we have a smaller sample size, say n = 30, then:\n",
    "\n",
    "CI = 50 ± 1.96 * (5 / sqrt(30)) = 50 ± 1.8\n",
    "\n",
    "So the 95% confidence interval would be [48.2, 51.8], which is wider than the previous interval because we have less information about the population mean with a smaller sample size.\n",
    "\n",
    "Interpreting the results, we can say that if we took multiple samples of the same size from the same population, and calculated the 95% confidence interval for each sample mean, about 95% of these intervals would contain the true population mean. In other words, we can be reasonably confident that the true population mean falls within the calculated confidence interval."
   ]
  },
  {
   "cell_type": "code",
   "execution_count": null,
   "id": "0aa60d6f-9e37-4ad5-a60e-f6965c91e2d8",
   "metadata": {},
   "outputs": [],
   "source": []
  },
  {
   "cell_type": "markdown",
   "id": "e5973175-51dd-4b25-897b-7bdf99f68c87",
   "metadata": {},
   "source": [
    "Q8. What is the margin of error in a confidence interval? How does sample size affect the margin of error?\n",
    "Provide an example of a scenario where a larger sample size would result in a smaller margin of error."
   ]
  },
  {
   "cell_type": "markdown",
   "id": "9dea83af-42e8-401e-a705-544d53091107",
   "metadata": {},
   "source": [
    "The margin of error in a confidence interval is the range of values that is added and subtracted to the point estimate to create a range of values that is likely to contain the true population parameter with a certain degree of confidence. The margin of error is influenced by various factors such as the level of confidence desired, the variability in the population, and the sample size.\n",
    "\n",
    "When the sample size increases, the margin of error decreases because a larger sample size results in a more precise estimate of the population parameter. In other words, a larger sample size reduces the effect of sampling variability and increases the accuracy of the estimate.\n",
    "\n",
    "For example, suppose a political pollster wants to estimate the proportion of voters who support a particular candidate in a city with a population of 100,000. The pollster takes a sample of 500 voters and finds that 60% of them support the candidate. If the pollster wants to construct a 95% confidence interval for the true proportion of voters who support the candidate, the margin of error can be calculated using a formula that takes into account the sample size, level of confidence, and the estimated proportion.\n",
    "\n",
    "Assuming the standard error is calculated to be 0.023, the margin of error can be calculated as:\n",
    "\n",
    "Margin of error = 1.96 * 0.023 = 0.045\n",
    "\n",
    "This means that we can be 95% confident that the true proportion of voters who support the candidate is between 0.555 and 0.665.\n",
    "\n",
    "If the pollster had instead taken a sample of 1000 voters, the standard error would decrease, and the margin of error would be smaller. Suppose the new standard error is 0.016, then the margin of error would be:\n",
    "\n",
    "Margin of error = 1.96 * 0.016 = 0.032\n",
    "\n",
    "This means that we can be 95% confident that the true proportion of voters who support the candidate is between 0.568 and 0.632, which is a narrower range than the previous example with a smaller sample size."
   ]
  },
  {
   "cell_type": "code",
   "execution_count": null,
   "id": "7569f87f-891c-446f-8b3b-de26aa77a3e4",
   "metadata": {},
   "outputs": [],
   "source": []
  },
  {
   "cell_type": "markdown",
   "id": "102b97fe-499d-40bc-a1b0-41f8ca9b95d2",
   "metadata": {},
   "source": [
    "Q9. Calculate the z-score for a data point with a value of 75, a population mean of 70, and a population\n",
    "standard deviation of 5. Interpret the results."
   ]
  },
  {
   "cell_type": "markdown",
   "id": "dbda51c4-9f95-4b57-bd77-cbf1af852f8f",
   "metadata": {},
   "source": [
    "The z-score formula is:\n",
    "\n",
    "z = (x - μ) / σ\n",
    "\n",
    "Where:\n",
    "x = data point value\n",
    "μ = population mean\n",
    "σ = population standard deviation\n",
    "\n",
    "Substituting the given values:\n",
    "\n",
    "z = (75 - 70) / 5\n",
    "z = 1\n",
    "\n",
    "Interpretation:\n",
    "The z-score of 1 means that the data point is one standard deviation above the population mean. This indicates that the data point is higher than the average value of the population and falls in the 84th percentile of the population."
   ]
  },
  {
   "cell_type": "code",
   "execution_count": null,
   "id": "4844108d-ee45-411e-98ca-3e71b8d565ae",
   "metadata": {},
   "outputs": [],
   "source": []
  },
  {
   "cell_type": "markdown",
   "id": "ed45836b-e0cf-4e44-8122-a633915bffc7",
   "metadata": {},
   "source": [
    "Q10. In a study of the effectiveness of a new weight loss drug, a sample of 50 participants lost an average\n",
    "of 6 pounds with a standard deviation of 2.5 pounds. Conduct a hypothesis test to determine if the drug is\n",
    "significantly effective at a 95% confidence level using a t-test."
   ]
  },
  {
   "cell_type": "markdown",
   "id": "d3352317-2df2-46a3-b68a-774123fdd765",
   "metadata": {},
   "source": [
    "To conduct a hypothesis test to determine if the drug is significantly effective at a 95% confidence level using a t-test, we need to follow the following steps:\n",
    "\n",
    "Step 1: State the null and alternative hypotheses\n",
    "\n",
    "The null hypothesis, denoted by H0, is that the drug is not significantly effective. The alternative hypothesis, denoted by H1, is that the drug is significantly effective.\n",
    "\n",
    "H0: µ = 0 (the population mean weight loss is zero)\n",
    "H1: µ ≠ 0 (the population mean weight loss is not zero)\n",
    "\n",
    "Step 2: Determine the level of significance\n",
    "\n",
    "The level of significance, denoted by α, is the probability of rejecting the null hypothesis when it is true. In this case, we are using a 95% confidence level, which corresponds to a level of significance of α = 0.05.\n",
    "\n",
    "Step 3: Calculate the test statistic\n",
    "\n",
    "To calculate the test statistic, we will use the t-test formula:\n",
    "\n",
    "t = (x̄ - µ) / (s / √n)\n",
    "\n",
    "where x̄ is the sample mean weight loss, µ is the hypothesized population mean weight loss (which is 0 in this case), s is the sample standard deviation, and n is the sample size.\n",
    "\n",
    "Plugging in the values, we get:\n",
    "\n",
    "t = (6 - 0) / (2.5 / √50) = 12\n",
    "\n",
    "Step 4: Determine the critical value\n",
    "\n",
    "Since we are using a two-tailed test at a 95% confidence level with 50 degrees of freedom, the critical value is ±2.011. This value can be obtained from a t-distribution table or using a statistical software.\n",
    "\n",
    "Step 5: Compare the test statistic to the critical value\n",
    "\n",
    "The absolute value of the test statistic (12) is greater than the critical value (2.011), which means that we reject the null hypothesis. We can conclude that the weight loss drug is significantly effective at a 95% confidence level.\n",
    "\n",
    "Step 6: Interpret the results\n",
    "\n",
    "Based on the results of the hypothesis test, we can conclude that there is sufficient evidence to support the claim that the weight loss drug is significantly effective at a 95% confidence level."
   ]
  },
  {
   "cell_type": "code",
   "execution_count": null,
   "id": "5b3f7533-fab6-4174-854f-28ee425d04a9",
   "metadata": {},
   "outputs": [],
   "source": []
  },
  {
   "cell_type": "markdown",
   "id": "2192861f-0fb3-48ed-a9a2-8c0f218deb99",
   "metadata": {},
   "source": [
    "Q11. In a survey of 500 people, 65% reported being satisfied with their current job. Calculate the 95%\n",
    "confidence interval for the true proportion of people who are satisfied with their job."
   ]
  },
  {
   "cell_type": "markdown",
   "id": "d271987e-4ba6-4a64-9b22-45114d10fe1c",
   "metadata": {},
   "source": [
    "To calculate the 95% confidence interval for the true proportion of people who are satisfied with their job, we can use the following formula:\n",
    "\n",
    "Confidence interval = sample proportion ± z-score * standard error\n",
    "\n",
    "where the sample proportion is the proportion of people in the sample who reported being satisfied with their job, the z-score corresponds to the level of confidence (in this case, 95%), and the standard error measures the variability of the sample proportion.\n",
    "\n",
    "First, we need to calculate the sample proportion:\n",
    "\n",
    "sample proportion = 65% = 0.65\n",
    "\n",
    "Next, we need to calculate the z-score corresponding to the 95% confidence level. Since the sample size is large (n=500), we can assume that the sampling distribution of the sample proportion is approximately normal, and we can use the standard normal distribution table to find the z-score. The z-score for a 95% confidence level is 1.96.\n",
    "\n",
    "z-score = 1.96\n",
    "\n",
    "Finally, we need to calculate the standard error:\n",
    "\n",
    "standard error = sqrt[(sample proportion * (1 - sample proportion)) / n]\n",
    "\n",
    "standard error = sqrt[(0.65 * 0.35) / 500]\n",
    "\n",
    "standard error = 0.0317\n",
    "\n",
    "Plugging in these values into the formula, we get:\n",
    "\n",
    "Confidence interval = 0.65 ± 1.96 * 0.0317\n",
    "\n",
    "Confidence interval = (0.59, 0.71)\n",
    "\n",
    "Therefore, we can say with 95% confidence that the true proportion of people who are satisfied with their job is between 0.59 and 0.71."
   ]
  },
  {
   "cell_type": "code",
   "execution_count": null,
   "id": "5b50f128-fcdd-4e44-9f97-3a433d1a719c",
   "metadata": {},
   "outputs": [],
   "source": []
  },
  {
   "cell_type": "markdown",
   "id": "db74c262-8666-47f8-9180-bce4882e6b1c",
   "metadata": {},
   "source": [
    "Q12. A researcher is testing the effectiveness of two different teaching methods on student performance.\n",
    "Sample A has a mean score of 85 with a standard deviation of 6, while sample B has a mean score of 82\n",
    "with a standard deviation of 5. Conduct a hypothesis test to determine if the two teaching methods have a\n",
    "significant difference in student performance using a t-test with a significance level of 0.01."
   ]
  },
  {
   "cell_type": "markdown",
   "id": "26637d91-405a-4028-9b10-7e2394a26441",
   "metadata": {},
   "source": [
    "To test whether there is a significant difference in student performance between the two teaching methods, we can use a two-sample t-test. Here are the steps:\n",
    "\n",
    "Step 1: State the null and alternative hypotheses.\n",
    "Null hypothesis: There is no significant difference in student performance between the two teaching methods.\n",
    "Alternative hypothesis: There is a significant difference in student performance between the two teaching methods.\n",
    "\n",
    "Step 2: Determine the significance level and degrees of freedom.\n",
    "The significance level is given as 0.01. The degrees of freedom are calculated as follows:\n",
    "df = (n1 + n2) - 2\n",
    "where n1 and n2 are the sample sizes.\n",
    "\n",
    "Step 3: Calculate the t-statistic.\n",
    "The formula for the t-statistic for two independent samples is given by:\n",
    "\n",
    "t = (x1 - x2) / sqrt[(s1^2 / n1) + (s2^2 / n2)]\n",
    "\n",
    "where x1 and x2 are the sample means, s1 and s2 are the sample standard deviations, and n1 and n2 are the sample sizes.\n",
    "\n",
    "Using the given values, we get:\n",
    "\n",
    "t = (85 - 82) / sqrt[(6^2 / 50) + (5^2 / 50)]\n",
    "t = 3 / 0.8473\n",
    "t = 3.54\n",
    "\n",
    "Step 4: Determine the critical value.\n",
    "We need to determine the critical value for a two-tailed test with a significance level of 0.01 and degrees of freedom of 98 (50 + 50 - 2). Using a t-table or calculator, the critical value is approximately ±2.626.\n",
    "\n",
    "Step 5: Make a decision and interpret the results.\n",
    "The calculated t-value (3.54) is greater than the critical value (2.626), which means we reject the null hypothesis. Therefore, we can conclude that there is a significant difference in student performance between the two teaching methods.\n",
    "\n",
    "Alternatively, we can also calculate the p-value and compare it with the significance level. The p-value is the probability of obtaining a t-statistic as extreme or more extreme than the calculated t-value, assuming the null hypothesis is true. Using a t-table or calculator, we can find that the p-value for a two-tailed test with 98 degrees of freedom and a t-value of 3.54 is approximately 0.0006. Since this p-value is less than the significance level of 0.01, we reject the null hypothesis and conclude that there is a significant difference in student performance between the two teaching methods.\n",
    "\n",
    "\n",
    "\n",
    "\n",
    "\n"
   ]
  },
  {
   "cell_type": "code",
   "execution_count": null,
   "id": "a759d4c1-301f-472f-8aab-2b44a7d336cf",
   "metadata": {},
   "outputs": [],
   "source": []
  },
  {
   "cell_type": "markdown",
   "id": "05332866-4ff5-49fd-96dd-fab86b09724e",
   "metadata": {},
   "source": [
    "Q13. A population has a mean of 60 and a standard deviation of 8. A sample of 50 observations has a mean\n",
    "of 65. Calculate the 90% confidence interval for the true population mean."
   ]
  },
  {
   "cell_type": "markdown",
   "id": "d0e97699-6f09-4b9b-9d00-0f2c78258452",
   "metadata": {},
   "source": [
    "To calculate the 90% confidence interval for the true population mean, we need to use the formula:\n",
    "\n",
    "CI = X̄ ± Z(α/2) * (σ/√n)\n",
    "\n",
    "Where:\n",
    "\n",
    "X̄ is the sample mean (65)\n",
    "Z(α/2) is the critical value for the confidence level (90%), which can be found using a standard normal distribution table or a calculator. For a 90% confidence level, Z(α/2) = 1.645.\n",
    "σ is the population standard deviation (8)\n",
    "n is the sample size (50)\n",
    "Plugging in the values, we get:\n",
    "\n",
    "CI = 65 ± 1.645 * (8/√50)\n",
    "CI = 65 ± 1.838\n",
    "CI = (63.162, 66.838)\n",
    "\n",
    "Therefore, we can say with 90% confidence that the true population mean lies between 63.162 and 66.838"
   ]
  },
  {
   "cell_type": "code",
   "execution_count": null,
   "id": "ee9c023c-b44a-4e73-bee4-717703ac0f0f",
   "metadata": {},
   "outputs": [],
   "source": []
  },
  {
   "cell_type": "markdown",
   "id": "95bf16f3-67b0-4ffa-bdfc-51870b0a940f",
   "metadata": {},
   "source": [
    "Q14. In a study of the effects of caffeine on reaction time, a sample of 30 participants had an average\n",
    "reaction time of 0.25 seconds with a standard deviation of 0.05 seconds. Conduct a hypothesis test to\n",
    "determine if the caffeine has a significant effect on reaction time at a 90% confidence level using a t-test."
   ]
  },
  {
   "cell_type": "markdown",
   "id": "49c8aea7-fb39-4e3a-8fdd-e8c05355a771",
   "metadata": {},
   "source": [
    "To conduct a hypothesis test, we need to define the null and alternative hypotheses. In this case, our null hypothesis (H0) is that caffeine has no significant effect on reaction time, and our alternative hypothesis (Ha) is that caffeine has a significant effect on reaction time.\n",
    "\n",
    "H0: µ = 0.25 (caffeine has no significant effect on reaction time)\n",
    "Ha: µ ≠ 0.25 (caffeine has a significant effect on reaction time)\n",
    "\n",
    "We will use a t-test since we do not know the population standard deviation. We will also use a 90% confidence level, which means our significance level (α) is 0.1 (1 - 0.9).\n",
    "\n",
    "The formula for the t-test is:\n",
    "\n",
    "t = (x̄ - µ) / (s / √n)\n",
    "\n",
    "Where:\n",
    "x̄ = sample mean\n",
    "µ = population mean (in this case, the hypothesized value under the null hypothesis)\n",
    "s = sample standard deviation\n",
    "n = sample size\n",
    "\n",
    "Plugging in the values from the problem, we get:\n",
    "\n",
    "t = (0.25 - 0) / (0.05 / √30) = 7.746\n",
    "\n",
    "The degrees of freedom for this test are n - 1 = 29. Using a t-table or calculator, we find that the critical t-value for a two-tailed test at a significance level of 0.1 with 29 degrees of freedom is ±1.699.\n",
    "\n",
    "Since our calculated t-value (7.746) is greater than the critical t-value (1.699), we reject the null hypothesis and conclude that caffeine has a significant effect on reaction time at a 90% confidence level.\n",
    "\n",
    "Therefore, we can conclude that caffeine has a significant effect on reaction time based on the sample data provided."
   ]
  },
  {
   "cell_type": "code",
   "execution_count": null,
   "id": "0cccd4c6-b91f-4296-ad09-372faf1ddb33",
   "metadata": {},
   "outputs": [],
   "source": []
  },
  {
   "cell_type": "code",
   "execution_count": null,
   "id": "810eb874-8f63-407e-ad55-6ec3a8f0b35c",
   "metadata": {},
   "outputs": [],
   "source": []
  }
 ],
 "metadata": {
  "kernelspec": {
   "display_name": "Python 3 (ipykernel)",
   "language": "python",
   "name": "python3"
  },
  "language_info": {
   "codemirror_mode": {
    "name": "ipython",
    "version": 3
   },
   "file_extension": ".py",
   "mimetype": "text/x-python",
   "name": "python",
   "nbconvert_exporter": "python",
   "pygments_lexer": "ipython3",
   "version": "3.10.8"
  }
 },
 "nbformat": 4,
 "nbformat_minor": 5
}
