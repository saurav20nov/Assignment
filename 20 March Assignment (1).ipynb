{
 "cells": [
  {
   "cell_type": "markdown",
   "id": "f1472667-f45a-45fd-b0b6-d3e6ca52f2ab",
   "metadata": {},
   "source": [
    "Q1. What is data encoding? How is it useful in data science?\n",
    "\n",
    "Ans 1. Data encoding is the process of converting categorical data, which represents labels or names, into numerical values that machine learning algorithms can process. It is a crucial step in data preprocessing as many machine learning algorithms require numerical data as input. Data encoding allows us to represent categorical features in a meaningful way, enabling the algorithms to understand and learn patterns from the data.\n",
    "\n",
    "Q2. What is nominal encoding? Provide an example of how you would use it in a real-world scenario.\n",
    "\n",
    "Ans 2. Nominal encoding, also known as label encoding, assigns unique integer values to each category in a categorical feature. For example, in a real-world scenario of a survey where respondents are asked about their favorite colors (red, blue, green, yellow), we can use nominal encoding to represent the colors as integers (0 for red, 1 for blue, 2 for green, and 3 for yellow).\n",
    "\n",
    "Q3. In what situations is nominal encoding preferred over one-hot encoding? Provide a practical example.\n",
    "\n",
    "Ans 3. Nominal encoding is preferred over one-hot encoding when the categorical feature has a large number of unique categories, and there is a desire to reduce the dimensionality of the data. For example, in a dataset containing cities as a categorical feature, where each city is a unique category, using one-hot encoding would create a large number of binary columns, making the dataset sparse and computationally expensive. In such cases, nominal encoding provides a more compact representation.\n",
    "\n",
    "Q4. Suppose you have a dataset containing categorical data with 5 unique values. Which encoding technique would you use to transform this data into a format suitable for machine learning algorithms? Explain why you made this choice.\n",
    "\n",
    "Ans 4. For a dataset with 5 unique categorical values, I would use nominal encoding (label encoding) to transform the data into numerical format. Nominal encoding assigns a unique integer to each category, which is efficient for a small number of unique values and helps in reducing the dimensionality of the data, making it suitable for machine learning algorithms.\n",
    "\n",
    "Q5. In a machine learning project, you have a dataset with 1000 rows and 5 columns. Two of the columns are categorical, and the remaining three columns are numerical. If you were to use nominal encoding to transform the categorical data, how many new columns would be created? Show your calculations.\n",
    "\n",
    "Ans 5. If we use nominal encoding on the two categorical columns, each categorical column would be replaced with a single numerical column. Therefore, using nominal encoding on the two categorical columns would create 2 new columns in the dataset.\n",
    "\n",
    "Q6. You are working with a dataset containing information about different types of animals, including their species, habitat, and diet. Which encoding technique would you use to transform the categorical data into a format suitable for machine learning algorithms? Justify your answer.\n",
    "\n",
    "Ans 6. For the given dataset containing information about animal species, habitat, and diet, I would use one-hot encoding. One-hot encoding creates binary columns for each category in a categorical feature, representing the presence (1) or absence (0) of that category for each data point. This approach ensures that no ordinal relationship is assumed between the categories, and it is suitable for cases where there is no inherent order among the different categories, as is the case with animal species, habitats, and diets.\n",
    "\n",
    "Q7. You are working on a project that involves predicting customer churn for a telecommunications company. You have a dataset with 5 features, including the customer's gender, age, contract type, monthly charges, and tenure. Which encoding technique(s) would you use to transform the categorical data into numerical data? Provide a step-by-step explanation of how you would implement the encoding.\n",
    "\n",
    "Ans 7. To transform the categorical data into numerical data for predicting customer churn, I would use nominal encoding (label encoding) for the feature \"gender\" as it has only two unique categories (e.g., male and female). For the feature \"contract type,\" I would use one-hot encoding as it likely has multiple unique categories (e.g., monthly, yearly, biennial contracts). The \"age\" feature is already numerical and does not require encoding. The numerical features \"monthly charges\" and \"tenure\" can remain unchanged as well.\n",
    "\n",
    "Step-by-step encoding process:\n",
    "1. Nominal encoding for \"gender\": Replace the categories \"male\" and \"female\" with numerical values, such as 0 and 1, respectively.\n",
    "2. One-hot encoding for \"contract type\": Create binary columns for each contract type category (e.g., monthly, yearly, biennial). Each data point will have a 1 in the column corresponding to its contract type and 0 in all other contract type columns.\n",
    "3. Leave \"age,\" \"monthly charges,\" and \"tenure\" unchanged as they are already in numerical format.\n",
    "\n",
    "By using these encoding techniques, we can convert the categorical data into numerical format, allowing us to build a machine learning model to predict customer churn efficiently."
   ]
  },
  {
   "cell_type": "code",
   "execution_count": null,
   "id": "75fb2ec1-b2b8-4f69-baac-0657020588fc",
   "metadata": {},
   "outputs": [],
   "source": []
  }
 ],
 "metadata": {
  "kernelspec": {
   "display_name": "Python 3 (ipykernel)",
   "language": "python",
   "name": "python3"
  },
  "language_info": {
   "codemirror_mode": {
    "name": "ipython",
    "version": 3
   },
   "file_extension": ".py",
   "mimetype": "text/x-python",
   "name": "python",
   "nbconvert_exporter": "python",
   "pygments_lexer": "ipython3",
   "version": "3.10.8"
  }
 },
 "nbformat": 4,
 "nbformat_minor": 5
}
