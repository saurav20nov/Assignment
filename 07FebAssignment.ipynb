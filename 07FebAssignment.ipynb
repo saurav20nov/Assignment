{
 "cells": [
  {
   "cell_type": "markdown",
   "id": "154e2797-80bb-47ba-a260-7bb596213abc",
   "metadata": {},
   "source": [
    "Q1. You are writing code for a company. The requirement of the company is that you create a python\n",
    "function that will check whether the password entered by the user is correct or not. The function should\n",
    "take the password as input and return the string “Valid Password” if the entered password follows the\n",
    "below-given password guidelines else it should return “Invalid Password”.\n",
    "Note: 1. The Password should contain at least two uppercase letters and at least two lowercase letters.\n",
    "2. The Password should contain at least a number and three special characters.\n",
    "3. The length of the password should be 10 characters long."
   ]
  },
  {
   "cell_type": "code",
   "execution_count": 2,
   "id": "56daf760-842d-4181-b186-3c4bf0502b93",
   "metadata": {},
   "outputs": [
    {
     "name": "stdin",
     "output_type": "stream",
     "text": [
      "Enter the Password AAaa@@@123\n"
     ]
    },
    {
     "name": "stdout",
     "output_type": "stream",
     "text": [
      "Valid Password\n"
     ]
    }
   ],
   "source": [
    "def password(s):\n",
    "    l, u, p, d = 0, 0, 0, 0\n",
    "    if (len(s) == 10):\n",
    "        for i in s:\n",
    "\n",
    "\t\t# counts lower alpha\n",
    "            if (i.islower()):\n",
    "                l+=1\t\t\n",
    "\n",
    "\t\t# countts upper alpha\n",
    "            if (i.isupper()):\n",
    "                u+=1\t\t\n",
    "\n",
    "\t\t# counts digit\n",
    "            if (i.isdigit()):\n",
    "                d+=1\t\t\n",
    "\n",
    "\t\t# counts special charcater\n",
    "            if(i=='@'or i=='$' or i=='_'):\n",
    "                p+=1\t\t\n",
    "    if (l>=2 and u>=2 and p==3 and d>=1 and l+p+u+d==len(s)):\n",
    "        print(\"Valid Password\")\n",
    "    else:\n",
    "        print(\"Invalid Password\")\n",
    "\n",
    "s = input(\"Enter the Password\") \n",
    "password(s)"
   ]
  },
  {
   "cell_type": "code",
   "execution_count": 4,
   "id": "56cf1064-0776-4089-82a1-aa7ada060b3e",
   "metadata": {},
   "outputs": [
    {
     "name": "stdin",
     "output_type": "stream",
     "text": [
      "Enter the Password AA1234fgjg@\n"
     ]
    },
    {
     "name": "stdout",
     "output_type": "stream",
     "text": [
      "Invalid Password\n"
     ]
    }
   ],
   "source": [
    "s1 = input(\"Enter the Password\") \n",
    "password(s1)"
   ]
  },
  {
   "cell_type": "markdown",
   "id": "9031af70-7450-4356-aca9-bed023a79e38",
   "metadata": {},
   "source": [
    "Q2(1) Check if the string starts with a particular letter"
   ]
  },
  {
   "cell_type": "code",
   "execution_count": 6,
   "id": "e13bd01a-9a85-45ba-bfbb-16e7d098dea4",
   "metadata": {},
   "outputs": [
    {
     "data": {
      "text/plain": [
       "[True]"
      ]
     },
     "execution_count": 6,
     "metadata": {},
     "output_type": "execute_result"
    }
   ],
   "source": [
    "# with list comprehension\n",
    "[\"saurav\".startswith(\"s\")]"
   ]
  },
  {
   "cell_type": "code",
   "execution_count": 15,
   "id": "6bb90d56-57ad-4d4b-b759-f04eda3f7947",
   "metadata": {},
   "outputs": [
    {
     "data": {
      "text/plain": [
       "[False]"
      ]
     },
     "execution_count": 15,
     "metadata": {},
     "output_type": "execute_result"
    }
   ],
   "source": [
    "[\"saurav\".startswith(\" \")]"
   ]
  },
  {
   "cell_type": "code",
   "execution_count": 8,
   "id": "d9725fec-b93f-4ffe-bca9-4838ccc07ef4",
   "metadata": {},
   "outputs": [
    {
     "data": {
      "text/plain": [
       "[False]"
      ]
     },
     "execution_count": 8,
     "metadata": {},
     "output_type": "execute_result"
    }
   ],
   "source": [
    "[\"saurav\".startswith(\"p\")]"
   ]
  },
  {
   "cell_type": "code",
   "execution_count": 9,
   "id": "30d2852e-cc1c-499b-b422-d09545954ecb",
   "metadata": {},
   "outputs": [
    {
     "data": {
      "text/plain": [
       "False"
      ]
     },
     "execution_count": 9,
     "metadata": {},
     "output_type": "execute_result"
    }
   ],
   "source": [
    "# with lambda function\n",
    "m=lambda s:s.startswith(\"a\")\n",
    "m(\"saurav\")"
   ]
  },
  {
   "cell_type": "code",
   "execution_count": 25,
   "id": "dc8804e8-aaf7-4d01-b5bc-4309374f77b3",
   "metadata": {},
   "outputs": [
    {
     "data": {
      "text/plain": [
       "True"
      ]
     },
     "execution_count": 25,
     "metadata": {},
     "output_type": "execute_result"
    }
   ],
   "source": [
    "m=lambda s:s.startswith(\"s\")\n",
    "m(\"saurav\")"
   ]
  },
  {
   "cell_type": "markdown",
   "id": "b07bdca1-086f-4388-8d43-d16123e84792",
   "metadata": {},
   "source": [
    "Q2(2) Check if the string is numeric"
   ]
  },
  {
   "cell_type": "code",
   "execution_count": 5,
   "id": "2a69a216-e304-4c6b-9935-99aac53234fd",
   "metadata": {},
   "outputs": [
    {
     "data": {
      "text/plain": [
       "False"
      ]
     },
     "execution_count": 5,
     "metadata": {},
     "output_type": "execute_result"
    }
   ],
   "source": [
    "# with lambda function\n",
    "m=lambda s:s.isnumeric()\n",
    "m(\"saurav\")"
   ]
  },
  {
   "cell_type": "code",
   "execution_count": 27,
   "id": "5e240e21-756f-4782-8ab9-31298fb38154",
   "metadata": {},
   "outputs": [
    {
     "data": {
      "text/plain": [
       "True"
      ]
     },
     "execution_count": 27,
     "metadata": {},
     "output_type": "execute_result"
    }
   ],
   "source": [
    "m=lambda s:s.isnumeric()\n",
    "m(\"12345\")"
   ]
  },
  {
   "cell_type": "code",
   "execution_count": 4,
   "id": "04ec4055-8093-4e00-9999-77bd0d870e10",
   "metadata": {
    "tags": []
   },
   "outputs": [
    {
     "data": {
      "text/plain": [
       "[False]"
      ]
     },
     "execution_count": 4,
     "metadata": {},
     "output_type": "execute_result"
    }
   ],
   "source": [
    "#with list comprehension\n",
    "[\"saurav\".isnumeric()]"
   ]
  },
  {
   "cell_type": "code",
   "execution_count": 30,
   "id": "0746487c-b4db-459a-b4f2-260c5903b0d6",
   "metadata": {},
   "outputs": [
    {
     "data": {
      "text/plain": [
       "[True]"
      ]
     },
     "execution_count": 30,
     "metadata": {},
     "output_type": "execute_result"
    }
   ],
   "source": [
    "[\"123\".isnumeric()]"
   ]
  },
  {
   "cell_type": "markdown",
   "id": "d5d43143-a587-4e8f-ba17-2f5f2740a7b2",
   "metadata": {},
   "source": [
    "Q2(3) Sort a list of tuples having fruit names and their quantity. [(\"mango\",99),(\"orange\",80), (\"grapes\", 1000)]"
   ]
  },
  {
   "cell_type": "code",
   "execution_count": 31,
   "id": "c4e91051-210c-4bcc-a3fb-57d74f8c9261",
   "metadata": {},
   "outputs": [
    {
     "name": "stdout",
     "output_type": "stream",
     "text": [
      "[('orange', 80), ('mango', 99), ('grapes', 1000)]\n"
     ]
    }
   ],
   "source": [
    "l=[(\"mango\",99),(\"orange\",80), (\"grapes\", 1000)]\n",
    "def Sort_Tuple(tup):\n",
    "    tup.sort(key = lambda x: x[1])\n",
    "    return tup\n",
    "\n",
    "print(Sort_Tuple(l))"
   ]
  },
  {
   "cell_type": "markdown",
   "id": "0c3e77a1-6a24-4220-8dc3-1e6d6d5876f5",
   "metadata": {},
   "source": [
    "Q2(4) Find the squares of numbers from 1 to 10"
   ]
  },
  {
   "cell_type": "code",
   "execution_count": 10,
   "id": "d37d8661-18d2-4eb7-85c8-fe0a29c871b4",
   "metadata": {},
   "outputs": [
    {
     "data": {
      "text/plain": [
       "[1, 4, 9, 16, 25, 36, 49, 64, 81, 100]"
      ]
     },
     "execution_count": 10,
     "metadata": {},
     "output_type": "execute_result"
    }
   ],
   "source": [
    "# with map & lambda function\n",
    "l= []  \n",
    "for i in range(1,11):\n",
    "    l.append(i)\n",
    "list(map(lambda x:x**2,l))"
   ]
  },
  {
   "cell_type": "code",
   "execution_count": 13,
   "id": "5481ca8d-91e3-4680-8a29-71d25f19f693",
   "metadata": {},
   "outputs": [
    {
     "data": {
      "text/plain": [
       "[1, 4, 9, 16, 25, 36, 49, 64, 81, 100]"
      ]
     },
     "execution_count": 13,
     "metadata": {},
     "output_type": "execute_result"
    }
   ],
   "source": [
    "# with list comprehension\n",
    "l= []  \n",
    "for i in range(1,11):\n",
    "    l.append(i)\n",
    "[i**2 for i in l]"
   ]
  },
  {
   "cell_type": "markdown",
   "id": "40d4f7d5-6778-4b6e-9525-8d3e7eab55f0",
   "metadata": {},
   "source": [
    "Q2(5)  Find the cube root of numbers from 1 to 10"
   ]
  },
  {
   "cell_type": "code",
   "execution_count": 14,
   "id": "492fdc61-53b4-4e9a-a9b5-51799fbe74a1",
   "metadata": {},
   "outputs": [
    {
     "data": {
      "text/plain": [
       "[1.0,\n",
       " 1.2599210498948732,\n",
       " 1.4422495703074083,\n",
       " 1.5874010519681994,\n",
       " 1.7099759466766968,\n",
       " 1.8171205928321397,\n",
       " 1.912931182772389,\n",
       " 2.0,\n",
       " 2.080083823051904,\n",
       " 2.154434690031884]"
      ]
     },
     "execution_count": 14,
     "metadata": {},
     "output_type": "execute_result"
    }
   ],
   "source": [
    "# with map & lambda\n",
    "l= []  \n",
    "for i in range(1,11):\n",
    "    l.append(i)\n",
    "list(map(lambda x:x**(1/3),l))"
   ]
  },
  {
   "cell_type": "code",
   "execution_count": 19,
   "id": "61d46ad5-8569-40e7-9a25-8989c5861035",
   "metadata": {},
   "outputs": [
    {
     "data": {
      "text/plain": [
       "[1.0,\n",
       " 1.2599210498948732,\n",
       " 1.4422495703074083,\n",
       " 1.5874010519681994,\n",
       " 1.7099759466766968,\n",
       " 1.8171205928321397,\n",
       " 1.912931182772389,\n",
       " 2.0,\n",
       " 2.080083823051904,\n",
       " 2.154434690031884]"
      ]
     },
     "execution_count": 19,
     "metadata": {},
     "output_type": "execute_result"
    }
   ],
   "source": [
    "# with list comprehension\n",
    "l= []  \n",
    "for i in range(1,11):\n",
    "    l.append(i)\n",
    "[ i**(1/3) for i in l]"
   ]
  },
  {
   "cell_type": "markdown",
   "id": "45094813-a391-488b-bc2a-aad2409fb48e",
   "metadata": {},
   "source": [
    "Q2 (6)  Check if a given number is even"
   ]
  },
  {
   "cell_type": "code",
   "execution_count": 40,
   "id": "fc34dede-cea5-4b06-b679-2d5c6ff3cfc9",
   "metadata": {},
   "outputs": [
    {
     "data": {
      "text/plain": [
       "[False]"
      ]
     },
     "execution_count": 40,
     "metadata": {},
     "output_type": "execute_result"
    }
   ],
   "source": [
    "# with list comprehension\n",
    "s=1231\n",
    "[s%2==0]"
   ]
  },
  {
   "cell_type": "code",
   "execution_count": 39,
   "id": "4f530189-55e5-496d-b287-a71e67250a4a",
   "metadata": {},
   "outputs": [
    {
     "name": "stdout",
     "output_type": "stream",
     "text": [
      "[False]\n"
     ]
    },
    {
     "data": {
      "text/plain": [
       "[True]"
      ]
     },
     "execution_count": 39,
     "metadata": {},
     "output_type": "execute_result"
    }
   ],
   "source": [
    "print([12345%2==0])\n",
    "[123456%2==0]"
   ]
  },
  {
   "cell_type": "code",
   "execution_count": 38,
   "id": "c97f1c7f-18c2-47d2-b2c5-22211687359d",
   "metadata": {},
   "outputs": [
    {
     "name": "stdout",
     "output_type": "stream",
     "text": [
      "False\n"
     ]
    },
    {
     "data": {
      "text/plain": [
       "True"
      ]
     },
     "execution_count": 38,
     "metadata": {},
     "output_type": "execute_result"
    }
   ],
   "source": [
    "# with lambda function\n",
    "g=lambda s: s%2==0\n",
    "print(g(123))\n",
    "g(123456)"
   ]
  },
  {
   "cell_type": "markdown",
   "id": "1ed3f7ca-1f47-407d-b369-582290e31b5d",
   "metadata": {},
   "source": [
    "Q2 (7)  Filter odd numbers from the given list. [1,2,3,4,5,6,7,8,9,10]"
   ]
  },
  {
   "cell_type": "code",
   "execution_count": 59,
   "id": "66e2ac1a-b732-4cae-9f4f-9317c899df7e",
   "metadata": {},
   "outputs": [
    {
     "data": {
      "text/plain": [
       "[1, 3, 5, 7, 9]"
      ]
     },
     "execution_count": 59,
     "metadata": {},
     "output_type": "execute_result"
    }
   ],
   "source": [
    "# using list comprehension\n",
    "l=[1,2,3,4,5,6,7,8,9,10]\n",
    "[i for i in l if i%2!=0] "
   ]
  },
  {
   "cell_type": "code",
   "execution_count": 57,
   "id": "c44b503e-cf6a-43d0-8321-a0a36ba26cb9",
   "metadata": {},
   "outputs": [
    {
     "data": {
      "text/plain": [
       "[1, 3, 5, 7, 9]"
      ]
     },
     "execution_count": 57,
     "metadata": {},
     "output_type": "execute_result"
    }
   ],
   "source": [
    "# using lambda function\n",
    "odd = list(filter(lambda x: x % 2 == 1,l))\n",
    "odd"
   ]
  },
  {
   "cell_type": "markdown",
   "id": "80ce9f45-c882-435a-986b-13872568d2cf",
   "metadata": {},
   "source": [
    "Q2 (8) Sort a list of integers into positive and negative integers lists.[1,2,3,4,5,6,-1,-2,-3,-4,-5,0]"
   ]
  },
  {
   "cell_type": "code",
   "execution_count": 63,
   "id": "609b1424-79ea-4838-a321-d5053d5d33be",
   "metadata": {},
   "outputs": [
    {
     "name": "stdout",
     "output_type": "stream",
     "text": [
      "[1, 2, 3, 4, 5, 6]\n"
     ]
    },
    {
     "data": {
      "text/plain": [
       "[-1, -2, -3, -4, -5]"
      ]
     },
     "execution_count": 63,
     "metadata": {},
     "output_type": "execute_result"
    }
   ],
   "source": [
    "# using list comprehension\n",
    "l=[1,2,3,4,5,6,-1,-2,-3,-4,-5,0]\n",
    "print([i for i in l if i>0] )\n",
    "[i for i in l if i<0] \n"
   ]
  },
  {
   "cell_type": "code",
   "execution_count": 66,
   "id": "26d5024e-1bb3-4875-bd48-96bf9a1e8d30",
   "metadata": {},
   "outputs": [
    {
     "name": "stdout",
     "output_type": "stream",
     "text": [
      "[1, 2, 3, 4, 5, 6]\n"
     ]
    },
    {
     "data": {
      "text/plain": [
       "[-1, -2, -3, -4, -5]"
      ]
     },
     "execution_count": 66,
     "metadata": {},
     "output_type": "execute_result"
    }
   ],
   "source": [
    "# using lambda function\n",
    "\n",
    "positive = list(filter(lambda x: x >0,l))\n",
    "print(positive)\n",
    "negative = list(filter(lambda x: x <0,l))\n",
    "negative"
   ]
  },
  {
   "cell_type": "code",
   "execution_count": null,
   "id": "16b93c9d-ac0f-412d-8cf6-2207d5fe0135",
   "metadata": {},
   "outputs": [],
   "source": []
  }
 ],
 "metadata": {
  "kernelspec": {
   "display_name": "Python 3 (ipykernel)",
   "language": "python",
   "name": "python3"
  },
  "language_info": {
   "codemirror_mode": {
    "name": "ipython",
    "version": 3
   },
   "file_extension": ".py",
   "mimetype": "text/x-python",
   "name": "python",
   "nbconvert_exporter": "python",
   "pygments_lexer": "ipython3",
   "version": "3.10.8"
  }
 },
 "nbformat": 4,
 "nbformat_minor": 5
}
