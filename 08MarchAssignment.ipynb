{
 "cells": [
  {
   "cell_type": "markdown",
   "id": "59852554-90b1-4e6a-b275-7fd56db366d1",
   "metadata": {},
   "source": [
    "Q1. What is the Probability density function?"
   ]
  },
  {
   "cell_type": "markdown",
   "id": "e1e1efda-5b75-4b50-b339-a56f3abde800",
   "metadata": {},
   "source": [
    "The probability density function (PDF) is a mathematical function used to describe the likelihood of a continuous random variable taking on a particular value or set of values. It is used to define the distribution of the random variable and is often denoted by f(x).\n",
    "\n",
    "The PDF describes the relative likelihood of observing different values of a random variable. Specifically, it specifies the probability that the variable takes on a value within a particular range of values. The total area under the PDF curve is equal to 1, representing the total probability of all possible outcomes."
   ]
  },
  {
   "cell_type": "code",
   "execution_count": null,
   "id": "3057a094-efee-4be6-a790-a4952b293c86",
   "metadata": {},
   "outputs": [],
   "source": []
  },
  {
   "cell_type": "markdown",
   "id": "786b5a97-7569-4477-b8c1-22874e0434b4",
   "metadata": {},
   "source": [
    "Q2. What are the types of Probability distribution?"
   ]
  },
  {
   "cell_type": "markdown",
   "id": "8a694394-1950-4cfe-bbac-740cf94e4d1d",
   "metadata": {},
   "source": [
    "There are many types of probability distributions in statistics, but some of the most commonly used distributions include:\n",
    "\n",
    "Normal Distribution: A bell-shaped curve that describes the distribution of many natural phenomena such as height, weight, and IQ.\n",
    "\n",
    "Binomial Distribution: Used when there are only two possible outcomes for each trial, such as heads or tails in a coin toss.\n",
    "\n",
    "Poisson Distribution: Used to model the number of events occurring in a fixed interval of time or space.\n",
    "\n",
    "Exponential Distribution: Used to model the time between two consecutive events in a Poisson process.\n",
    "\n",
    "Uniform Distribution: A distribution in which all values between two endpoints are equally likely.\n",
    "\n",
    "Chi-Square Distribution: A distribution used to test the goodness of fit of a sample to a theoretical distribution.\n",
    "\n",
    "Student's t-Distribution: Used for small sample sizes when the population standard deviation is unknown.\n",
    "\n",
    "F-Distribution: Used to test the equality of variances of two populations."
   ]
  },
  {
   "cell_type": "code",
   "execution_count": null,
   "id": "db4a6fbc-17c8-41a2-9b09-5c5ea6427f43",
   "metadata": {},
   "outputs": [],
   "source": []
  },
  {
   "cell_type": "markdown",
   "id": "1df9522c-a76f-4561-be26-a7d65392f360",
   "metadata": {},
   "source": [
    "Q3. Write a Python function to calculate the probability density function of a normal distribution with\n",
    "given mean and standard deviation at a given point."
   ]
  },
  {
   "cell_type": "code",
   "execution_count": 1,
   "id": "f517de34-b6c9-45c6-9e62-7f3b86c93204",
   "metadata": {},
   "outputs": [],
   "source": [
    "from scipy.stats import norm\n",
    "\n",
    "def normal_pdf(x, mean, std_dev):\n",
    "    \n",
    "    return norm.pdf(x, loc=mean, scale=std_dev)\n"
   ]
  },
  {
   "cell_type": "code",
   "execution_count": 2,
   "id": "1d69026b-f3cb-4eed-b6f9-69702b23b5f8",
   "metadata": {},
   "outputs": [
    {
     "data": {
      "text/plain": [
       "0.12951759566589174"
      ]
     },
     "execution_count": 2,
     "metadata": {},
     "output_type": "execute_result"
    }
   ],
   "source": [
    "normal_pdf(1.5, 0, 1)"
   ]
  },
  {
   "cell_type": "code",
   "execution_count": null,
   "id": "0df4f6ce-3457-4186-948e-de6d574fc381",
   "metadata": {},
   "outputs": [],
   "source": []
  },
  {
   "cell_type": "markdown",
   "id": "95468de6-edad-4846-ad4a-ab4886a7ae8f",
   "metadata": {},
   "source": [
    "Q4. What are the properties of Binomial distribution? Give two examples of events where binomial\n",
    "distribution can be applied."
   ]
  },
  {
   "cell_type": "markdown",
   "id": "525fcec9-e03b-4793-be86-0a8b62c5357d",
   "metadata": {},
   "source": [
    "The Binomial distribution is a probability distribution that models the number of successes in a fixed number of independent trials with the same probability of success. Some of the properties of the Binomial distribution include:\n",
    "\n",
    "The number of trials is fixed.\n",
    "Each trial has only two possible outcomes: success or failure.\n",
    "The probability of success is constant for each trial.\n",
    "The trials are independent of each other.\n",
    "The random variable X, representing the number of successes, follows a Binomial distribution with parameters n and p, where n is the number of trials and p is the probability of success.\n",
    "Two examples of events where the Binomial distribution can be applied are:\n",
    "\n",
    "Flipping a coin: When we flip a fair coin, there are two possible outcomes: heads or tails, and the probability of getting a head or a tail is the same for each flip. If we flip the coin n times, the number of heads we get follows a Binomial distribution with parameters n and 0.5 (assuming the coin is fair).\n",
    "\n",
    "Exam scores: Suppose we have a multiple-choice exam with n questions, and each question has four possible answers, of which only one is correct. Assume that a student answers each question randomly. If we want to find the probability that the student gets k questions correct, we can model the situation with a Binomial distribution with parameters n and 0.25, where the probability of success (getting the right answer) is 0.25 for each question."
   ]
  },
  {
   "cell_type": "code",
   "execution_count": null,
   "id": "652018e5-dcb7-425f-92dc-f73b4235a20b",
   "metadata": {},
   "outputs": [],
   "source": []
  },
  {
   "cell_type": "markdown",
   "id": "9f1a67b9-e612-4276-b692-79fadf7153ce",
   "metadata": {},
   "source": [
    "Q5. Generate a random sample of size 1000 from a binomial distribution with probability of success 0.4\n",
    "and plot a histogram of the results using matplotlib."
   ]
  },
  {
   "cell_type": "code",
   "execution_count": 3,
   "id": "f63be19d-1ad5-4bd8-8671-dc4f6cfb5314",
   "metadata": {},
   "outputs": [
    {
     "data": {
      "image/png": "[encoded data removed]",
      "text/plain": [
       "<Figure size 640x480 with 1 Axes>"
      ]
     },
     "metadata": {},
     "output_type": "display_data"
    }
   ],
   "source": [
    "import numpy as np\n",
    "import matplotlib.pyplot as plt\n",
    "\n",
    "\n",
    "p = 0.4\n",
    "\n",
    "\n",
    "sample = np.random.binomial(n=1, p=p, size=1000)\n",
    "\n",
    "\n",
    "plt.hist(sample, bins=2, edgecolor='black', linewidth=1.2)\n",
    "plt.xlabel('Success or Failure')\n",
    "plt.ylabel('Frequency')\n",
    "plt.title('Histogram of a Binomial Distribution with p=0.4')\n",
    "plt.show()\n"
   ]
  },
  {
   "cell_type": "code",
   "execution_count": null,
   "id": "0cdbc2e9-bc3e-4518-9b58-cc49d21b9564",
   "metadata": {},
   "outputs": [],
   "source": []
  },
  {
   "cell_type": "markdown",
   "id": "aa427115-390a-4987-b419-62d968301159",
   "metadata": {},
   "source": [
    "Q6. Write a Python function to calculate the cumulative distribution function of a Poisson distribution\n",
    "with given mean at a given point."
   ]
  },
  {
   "cell_type": "code",
   "execution_count": 4,
   "id": "0a3beea4-4007-404b-8888-6e7988fe9189",
   "metadata": {},
   "outputs": [
    {
     "data": {
      "text/plain": [
       "0.8571234604985472"
      ]
     },
     "execution_count": 4,
     "metadata": {},
     "output_type": "execute_result"
    }
   ],
   "source": [
    "import math\n",
    "\n",
    "def poisson_cdf(mean, k):\n",
    "   \n",
    "    cdf = 0\n",
    "    for i in range(k+1):\n",
    "        cdf += math.exp(-mean) * mean**i / math.factorial(i)\n",
    "    return cdf\n",
    "\n",
    "poisson_cdf(2, 3)\n"
   ]
  },
  {
   "cell_type": "code",
   "execution_count": null,
   "id": "906413b1-2ec8-413c-b504-b7eccb230f51",
   "metadata": {},
   "outputs": [],
   "source": []
  },
  {
   "cell_type": "markdown",
   "id": "5524be9a-529e-47f2-be8a-150377c3d433",
   "metadata": {},
   "source": [
    "Q7. How Binomial distribution different from Poisson distribution?"
   ]
  },
  {
   "cell_type": "markdown",
   "id": "5fcfdb6c-fcb0-41a7-a224-44e64e060bb5",
   "metadata": {},
   "source": [
    "Binomial distribution and Poisson distribution are both used in probability theory to model the occurrence of events, but they are used in different contexts and have different characteristics.\n",
    "\n",
    "The Binomial distribution is used to model the number of successes in a fixed number of independent trials, where each trial has the same probability of success. The parameters of the Binomial distribution are the number of trials and the probability of success in each trial. For example, the number of heads obtained when flipping a coin 10 times can be modeled using a Binomial distribution.\n",
    "\n",
    "On the other hand, the Poisson distribution is used to model the number of rare events that occur in a fixed interval of time or space. The parameter of the Poisson distribution is the rate at which these rare events occur. For example, the number of customers who enter a store per hour can be modeled using a Poisson distribution.\n",
    "\n",
    "While both distributions deal with counts, the Binomial distribution assumes a fixed number of trials, whereas the Poisson distribution assumes a fixed rate of occurrence. Additionally, the Binomial distribution is discrete, while the Poisson distribution is continuous. Finally, the Poisson distribution assumes that events occur independently and randomly, while the Binomial distribution assumes that the trials are independent and identically distributed."
   ]
  },
  {
   "cell_type": "code",
   "execution_count": null,
   "id": "a7e0f1b7-bb0b-46f0-b334-f6af34dac3b8",
   "metadata": {},
   "outputs": [],
   "source": []
  },
  {
   "cell_type": "markdown",
   "id": "f31200db-871d-4ffe-9c10-9148cb9e54f6",
   "metadata": {},
   "source": [
    "Q8. Generate a random sample of size 1000 from a Poisson distribution with mean 5 and calculate the\n",
    "sample mean and variance."
   ]
  },
  {
   "cell_type": "code",
   "execution_count": 7,
   "id": "0674868e-5a46-4d34-bb27-738ff6514422",
   "metadata": {},
   "outputs": [
    {
     "name": "stdout",
     "output_type": "stream",
     "text": [
      "Sample mean: 4.985\n",
      "Sample variance: 5.001776776776777\n"
     ]
    }
   ],
   "source": [
    "import numpy as np\n",
    "\n",
    "np.random.seed(42)  \n",
    "sample = np.random.poisson(lam=5, size=1000)  # generate the sample\n",
    "\n",
    "mean = np.mean(sample)\n",
    "variance = np.var(sample, ddof=1)  \n",
    "\n",
    "print(\"Sample mean:\", mean)\n",
    "print(\"Sample variance:\", variance)\n"
   ]
  },
  {
   "cell_type": "code",
   "execution_count": null,
   "id": "1b16d78e-bd5b-4171-b077-826453adf167",
   "metadata": {},
   "outputs": [],
   "source": []
  },
  {
   "cell_type": "markdown",
   "id": "7ab12497-fbc2-454e-9846-408b19f8c174",
   "metadata": {},
   "source": [
    "Q9. How mean and variance are related in Binomial distribution and Poisson distribution?"
   ]
  },
  {
   "cell_type": "markdown",
   "id": "e781d92e-e612-4db1-868c-dff70a706c08",
   "metadata": {},
   "source": [
    "The Binomial distribution and Poisson distribution are two commonly used discrete probability distributions.\n",
    "\n",
    "In the Binomial distribution, the mean (μ) and variance (σ^2) are related by the formula:\n",
    "\n",
    "μ = np\n",
    "σ^2 = np(1-p)\n",
    "\n",
    "Where n is the number of trials and p is the probability of success in each trial.\n",
    "\n",
    "In the Poisson distribution, the mean (μ) and variance (σ^2) are equal, i.e.,\n",
    "\n",
    "μ = σ^2 = λ\n",
    "\n",
    "Where λ is the average number of events in a given interval of time or space.\n",
    "\n",
    "The relationship between the mean and variance in these two distributions is different. In the Binomial distribution, the variance depends on the probability of success and the number of trials, whereas in the Poisson distribution, the variance is equal to the mean. This means that as the mean of a Poisson distribution increases, so does its variance, while in a Binomial distribution, the variance increases as the probability of success gets closer to 0.5, and as the number of trials increases."
   ]
  },
  {
   "cell_type": "code",
   "execution_count": null,
   "id": "314359ad-ba6c-4872-8d7e-8f98322a0104",
   "metadata": {},
   "outputs": [],
   "source": []
  },
  {
   "cell_type": "markdown",
   "id": "c8fc095d-8bc3-4bab-878b-3e45001acb8a",
   "metadata": {},
   "source": [
    "Q10. In normal distribution with respect to mean position, where does the least frequent data appear?"
   ]
  },
  {
   "cell_type": "markdown",
   "id": "c119ae7c-036a-4a59-aa28-db4a03bedcd4",
   "metadata": {},
   "source": [
    "In a normal distribution, also known as a Gaussian distribution, the data is symmetrically distributed around the mean. The least frequent data appears in the tails of the distribution, which are the regions that are farthest away from the mean.\n",
    "\n",
    "Specifically, in a normal distribution, approximately 68% of the data falls within one standard deviation of the mean, 95% of the data falls within two standard deviations of the mean, and 99.7% of the data falls within three standard deviations of the mean. Therefore, the data that falls beyond three standard deviations from the mean is the least frequent, as it represents only 0.3% of the total data.\n",
    "\n",
    "So, the farther away from the mean a data point is, the less frequently it appears in the distribution."
   ]
  },
  {
   "cell_type": "code",
   "execution_count": null,
   "id": "54f19090-7284-440c-9089-af3b25f76823",
   "metadata": {},
   "outputs": [],
   "source": []
  }
 ],
 "metadata": {
  "kernelspec": {
   "display_name": "Python 3 (ipykernel)",
   "language": "python",
   "name": "python3"
  },
  "language_info": {
   "codemirror_mode": {
    "name": "ipython",
    "version": 3
   },
   "file_extension": ".py",
   "mimetype": "text/x-python",
   "name": "python",
   "nbconvert_exporter": "python",
   "pygments_lexer": "ipython3",
   "version": "3.10.8"
  }
 },
 "nbformat": 4,
 "nbformat_minor": 5
}
