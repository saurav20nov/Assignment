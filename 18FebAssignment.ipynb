{
 "cells": [
  {
   "cell_type": "markdown",
   "id": "93ad3484-66aa-4441-8f06-73d1c9ccb774",
   "metadata": {},
   "source": [
    "Q1. What is an API? Give an example, where an API is used in real life."
   ]
  },
  {
   "cell_type": "markdown",
   "id": "0e6b7288-b566-453a-a2d8-c05740a40651",
   "metadata": {},
   "source": [
    "API stands for application programming interface, which is a set of definitions and protocols for building and integrating application software.\n",
    "\n",
    "It is a set of programming codes that queries data, parse responses, and sends instructions between one software platform and another.\n",
    "\n",
    "or ;\n",
    "\n",
    "An application programming interface is a way for two or more computer programs to communicate with each other. It is a type of software interface, offering a service to other pieces of software. \n",
    "\n",
    "\n",
    "\n",
    "Ex in reallife:\n",
    "\n",
    "1. Google Maps\n",
    "\n",
    "2. Login page of Email\n",
    "\n",
    "3. Payment Section of Flipkart\n",
    "\n",
    "4. Weather App\n",
    "\n",
    "5. Paypal\n",
    "\n",
    "6. Bookmyshow"
   ]
  },
  {
   "cell_type": "code",
   "execution_count": null,
   "id": "6fa9a035-1d50-45cd-aa45-0e6a88076e7b",
   "metadata": {},
   "outputs": [],
   "source": []
  },
  {
   "cell_type": "markdown",
   "id": "885d52c1-eecb-4519-b759-8104080a2ea5",
   "metadata": {},
   "source": [
    "Q2. Give advantages and disadvantages of using API."
   ]
  },
  {
   "cell_type": "markdown",
   "id": "474c6036-d283-4b12-b122-77365ef7c78d",
   "metadata": {},
   "source": [
    "Advantages:\n",
    "\n",
    "Applications: Access to APIs ensures more flexibility in information-transfer processes.\n",
    "\n",
    "Reach: APIs let you create layers in apps in order to distribute information to different audiences.\n",
    "\n",
    "Customization: Furthermore, it can serve as a solution to create different experiences for users, letting protocols, functions, and commands be adapted according to specific demands.\n",
    "\n",
    "Efficiency: When you have content that is automatically published and made available on different channels simultaneously, APIs allow for more efficient data distribution.\n",
    "\n",
    "Adaptability: One of the greatest benefits of APIs is the ability it has to adapt to changes through data migration and flexibility of services.\n",
    "\n",
    "\n",
    "Disadvantages: \n",
    "\n",
    "Creating API is a very time-consuming process\n",
    "\n",
    "A fixed scale is necessary\n",
    "\n",
    "Imprecise boundary delineation\n",
    "\n",
    "To create API, programming knowledge is necessary\n",
    "\n",
    "Maintenance cost is very high\n",
    "\n",
    "It can crash when testing API"
   ]
  },
  {
   "cell_type": "code",
   "execution_count": null,
   "id": "4e9c4df0-495f-42ae-866c-cb5772f28093",
   "metadata": {},
   "outputs": [],
   "source": []
  },
  {
   "cell_type": "markdown",
   "id": "6108afad-d232-4b3c-8fd8-6a3a981c5073",
   "metadata": {},
   "source": [
    "Q3. What is a Web API? Differentiate between API and Web API."
   ]
  },
  {
   "cell_type": "markdown",
   "id": "2674e0c6-7acc-4a5a-a257-940dea4ec8aa",
   "metadata": {},
   "source": [
    "Web API :\n",
    "    \n",
    "Web API stands for Application Programming Interface. \n",
    "\n",
    "It is a software application that allows two different applications or machines to interact with each other without any user interference. \n",
    "\n",
    "In this API contains a complete set of rules and specifications used when interacting with any web application.\n",
    "\n",
    "\n",
    "\n",
    "An API (Application Programming Interface) is a set of rules and protocols that allows communication between different software systems. In other words, it provides a way for one software system to interact with another. An API can be used to access the functionality of an existing software system, or to enable the development of new software applications.\n",
    "\n",
    "A web API, or web service, is an API that is accessed using the HTTP protocol over the web. It allows different software applications to interact with each other over a network, typically the internet. Web APIs are often used to enable the exchange of data between different web applications or services.\n",
    "\n",
    "So, a web API is a specific type of API that uses the web as its communication channel, while an API is a more general term that can refer to any kind of interface between software systems."
   ]
  },
  {
   "cell_type": "code",
   "execution_count": null,
   "id": "ba8d4075-f819-4ce2-9d94-a16a36c385cd",
   "metadata": {},
   "outputs": [],
   "source": []
  },
  {
   "cell_type": "markdown",
   "id": "a48bd821-b178-46c5-8cb2-a1526115ac73",
   "metadata": {},
   "source": [
    "Q4. Explain REST and SOAP Architecture. Mention shortcomings of SOAP."
   ]
  },
  {
   "cell_type": "markdown",
   "id": "67798e0f-4fab-48f9-acb5-60f6bdd137a3",
   "metadata": {},
   "source": [
    "REST :\n",
    "\n",
    "REST was designed specifically for working with components such as media components, files, or even objects on a particular hardware device.\n",
    "\n",
    "Any web service that is defined on the principles of REST can be called a RestFul web service. \n",
    "\n",
    "A Restful service would use the normal HTTP verbs of GET, POST, PUT and DELETE for working with the required components. \n",
    "\n",
    "REST stands for Representational State Transfer.\n",
    "\n",
    "It uses a resource identifier to identify the particular resource that's required in an interaction between components.\n",
    "\n",
    "When HTTP is used in a transition, as it most commonly is, the GET, HEAD, POST, PUT, PATCH, DELETE, CONNECT, OPTIONS and TRACE operations are available. \n",
    "\n",
    "This typical use of HTTP means that developers don't need to install any extra software or libraries when they create a Rest API.\n",
    "\n",
    "\n",
    "\n",
    "\n",
    "\n",
    "SOAP :\n",
    "\n",
    "\n",
    "\n",
    "\n",
    "SOAP stands for Simple Object Access Protocol.\n",
    "\n",
    "SOAP is a protocol which was designed before REST and came into the picture. \n",
    "\n",
    "The main idea behind designing SOAP was to ensure that programs built on different platforms and programming languages could exchange data in an easy manner.\n",
    "\n",
    "IT is designed with large enterprise applications in mind\n",
    "\n",
    "The SOAP web services architecture is based on interactions between three components: a service provider, a service requester, and an optional service registry.\n",
    "\n",
    "\n",
    "SOAP is a concrete protocol with its own set of rules and security features like integrated ACID compliance and authorization. \n",
    "\n",
    "It's also highly complex since it requires more bandwidth and resources. \n",
    "\n",
    "It performs well in distributed enterprise environments since it doesn't assume direct point-to-point\n",
    "\n",
    "\n",
    "\n",
    "\n",
    "\n",
    "\n",
    "\n",
    "Shortcomings of SOAP: \n",
    "\n",
    "\n",
    "\n",
    "Highly complex\n",
    "\n",
    "In comparison to Rest, SOAP is significantly more complex. It's also less flexible. This might present a challenge for developers that are not highly skilled. The extensive processing required may also slow down performance.\n",
    "No variety of data formats\n",
    "\n",
    "SOAP is also extremely limited in its support of data formats. The formats supported by Rest include HTML, JSON, YAML, XML and others. Meanwhile, SOAP only supports XML.\n",
    "API calls are not cached\n",
    "\n",
    "The process where a request is sent after an API is set up with the correct endpoints is referred to as an API call. The process results in the information being transferred, processed and feedback being provided. It's not possible for SOAP API calls to be cached.\n",
    "Uses more bandwidth\n",
    "\n",
    "SOAP is generally slower in comparison to Rest and it also uses more bandwidth given its very complex nature. It’s another limiting factor in the efficacy of this technology for certain projects."
   ]
  },
  {
   "cell_type": "code",
   "execution_count": null,
   "id": "4c3887b5-ad6e-4b18-9d44-56790b92b7f1",
   "metadata": {},
   "outputs": [],
   "source": []
  },
  {
   "cell_type": "markdown",
   "id": "352abefd-db6a-4d30-9ca7-f820226f56ff",
   "metadata": {},
   "source": [
    "Q5. Differentiate between REST and SOAP."
   ]
  },
  {
   "cell_type": "markdown",
   "id": "c3adaefd-c6b5-4020-b525-9492ed31b951",
   "metadata": {},
   "source": []
  },
  {
   "cell_type": "markdown",
   "id": "95403951-789d-4d70-90ea-5c71600e2f4c",
   "metadata": {},
   "source": [
    "SOAP :\n",
    "\n",
    "1. SOAP stands for Simple Object Access Protocol\n",
    "\n",
    "2. SOAP is a protocol. SOAP was designed with a specification. It includes a WSDL file which has the required information on what the web service does in addition to the location of the web service.\n",
    "\n",
    "3. SOAP cannot make use of REST since SOAP is a protocol and REST is an architectural pattern.\n",
    "\n",
    "4. SOAP uses service interfaces to expose its functionality to client applications. In SOAP, the WSDL file provides the client with the necessary information which can be used to understand what services the web service can offer.\n",
    "\n",
    "5. SOAP can only work with XML format. As seen from SOAP messages, all data passed is in XML format.\n",
    "\n",
    "\n",
    "\n",
    "REST :\n",
    "\n",
    "1. REST stands for Representational State Transfer\n",
    "\n",
    "2. REST is an Architectural style in which a web service can only be treated as a RESTful service if it follows the constraints of being\n",
    "    Client Server\n",
    "    Stateless\n",
    "    Cacheable\n",
    "    Layered System\n",
    "    Uniform Interface\n",
    "\n",
    "3. REST can make use of SOAP as the underlying protocol for web services, because in the end it is just an architectural pattern.\n",
    "\n",
    "4. REST use Uniform Service locators to access to the components on the hardware device.\n",
    "\n",
    "5. REST permits different data format such as Plain text, HTML, XML, JSON, etc. But the most preferred format for transferring data is JSON."
   ]
  },
  {
   "cell_type": "code",
   "execution_count": null,
   "id": "7997382d-a6a8-4297-b9ec-cfb3c3beda36",
   "metadata": {},
   "outputs": [],
   "source": []
  }
 ],
 "metadata": {
  "kernelspec": {
   "display_name": "Python 3 (ipykernel)",
   "language": "python",
   "name": "python3"
  },
  "language_info": {
   "codemirror_mode": {
    "name": "ipython",
    "version": 3
   },
   "file_extension": ".py",
   "mimetype": "text/x-python",
   "name": "python",
   "nbconvert_exporter": "python",
   "pygments_lexer": "ipython3",
   "version": "3.10.8"
  }
 },
 "nbformat": 4,
 "nbformat_minor": 5
}
