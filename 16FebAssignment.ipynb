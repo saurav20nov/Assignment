{
 "cells": [
  {
   "cell_type": "markdown",
   "id": "c7495812-1c64-4505-8fd2-cc87cbdb7196",
   "metadata": {},
   "source": [
    "Q1. What is a database? Differentiate between SQL and NoSQL databases."
   ]
  },
  {
   "cell_type": "markdown",
   "id": "f6510c6b-b324-4e47-8103-e8cb04ad9d3c",
   "metadata": {},
   "source": [
    "A database is an organized collection of structured information, or data, typically stored electronically in a computer system.\n",
    "\n",
    "SQL:\n",
    "\n",
    "SQL databases are primarily called RDBMS or Relational Databases\n",
    "\n",
    "SQL databases are table based databases\n",
    "\n",
    "SQL databases have a predefined schema\n",
    "\n",
    "SQL databases are vertically scalable\n",
    "\n",
    "SQL databases are not best suited for hierarchical data storage.\n",
    "\n",
    "Examples\tOracle, Postgres, and MS-SQL.\n",
    "\n",
    "\n",
    "NOSQL:\n",
    "\n",
    "NoSQL databases are primarily called as Non-relational or distributed database\n",
    "\n",
    "NoSQL databases can be document based, key-value pairs, graph databases\n",
    "\n",
    "NoSQL databases use dynamic schema for unstructured data.\n",
    "\n",
    "NoSQL databases are horizontally scalable\n",
    "\n",
    "More suitable for the hierarchical data store as it supports key-value pair method.\n",
    "\n",
    "Examples\tMongoDB, Redis, Neo4j, Cassandra, Hbase."
   ]
  },
  {
   "cell_type": "code",
   "execution_count": null,
   "id": "1792eb1a-f21e-490e-a921-3529bb3141ff",
   "metadata": {},
   "outputs": [],
   "source": []
  },
  {
   "cell_type": "code",
   "execution_count": null,
   "id": "c3767192-efd4-4eba-97a5-11d7622c43e6",
   "metadata": {},
   "outputs": [],
   "source": []
  },
  {
   "cell_type": "markdown",
   "id": "b7acd0c5-9460-4d59-9cf9-aa9fb2f549f2",
   "metadata": {},
   "source": [
    "Q2. What is DDL? Explain why CREATE, DROP, ALTER, and TRUNCATE are used with an example."
   ]
  },
  {
   "cell_type": "markdown",
   "id": "3f573655-a376-4463-a6e6-ff40f9ef10af",
   "metadata": {},
   "source": [
    "The DDL Commands in Structured Query Language are used to create and modify the schema of the database and its objects.\n",
    "\n",
    "It simply deals with descriptions of the database schema and is used to create and modify the structure of database objects in the database. DDL is a set of SQL commands used to create, modify, and delete database structures but not data."
   ]
  },
  {
   "cell_type": "markdown",
   "id": "a2732b1e-082f-42aa-9aab-346a143151bd",
   "metadata": {},
   "source": [
    "CREATE:\n",
    "\n",
    "This command is used to create the database or its objects (like table, index, function, views, store procedure, and triggers).\n",
    "\n",
    "The following SQL creates a table called \"Persons\" that contains five columns: PersonID, LastName, FirstName, Address, and City:\n",
    "\n",
    "CREATE TABLE Persons (\n",
    "    PersonID int,\n",
    "    LastName varchar(255),\n",
    "    FirstName varchar(255),\n",
    "    Address varchar(255),\n",
    "    City varchar(255)\n",
    ");"
   ]
  },
  {
   "cell_type": "markdown",
   "id": "4ebb1e9c-8701-4b7c-a6da-dc037f462649",
   "metadata": {},
   "source": [
    "DROP :\n",
    "\n",
    "DROP is used to delete a whole database or just a table.The DROP statement destroys the objects like an existing database, table, index, or view.\n",
    "A DROP statement in SQL removes a component from a relational database management system (RDBMS).\n",
    "\n",
    "\n",
    "DROP TABLE:\n",
    "\n",
    "The DROP TABLE command deletes a table in the database.\n",
    "\n",
    "The following SQL deletes the table \"Pw\":\n",
    "\n",
    "DROP TABLE Pw;"
   ]
  },
  {
   "cell_type": "markdown",
   "id": "fd0f47cb-aabb-495f-935d-1d06bc1762fc",
   "metadata": {},
   "source": [
    "ALTER: \n",
    "\n",
    "This is used to alter the structure of the database.\n",
    "\n",
    "ALTER TABLE is used to add, delete/drop or modify columns in the existing table. It is also used to add and drop various constraints on the existing table.\n",
    "\n",
    "The example to ADD a New Column to an existing table −\n",
    "ALTER TABLE CUSTOMERS ADD SEX char(1);\n",
    "\n",
    "The example to DROP sex column from the existing table -\n",
    "ALTER TABLE CUSTOMERS DROP SEX;\n",
    "\n"
   ]
  },
  {
   "cell_type": "markdown",
   "id": "327b125b-4aac-4aba-8e10-131222d73417",
   "metadata": {},
   "source": [
    "TRUNCATE :\n",
    "\n",
    "The SQL TRUNCATE TABLE command is used to delete complete data from an existing table.\n",
    "\n",
    "The TRUNCATE TABLE command deletes the data inside a table, but not the table itself.\n",
    "\n",
    "EX:\n",
    "\n",
    "TRUNCATE TABLE Categories;\n",
    "\n",
    "To truncate Student_details table from student_data database:\n",
    "\n",
    "TRUNCATE TABLE Student_details;"
   ]
  },
  {
   "cell_type": "code",
   "execution_count": null,
   "id": "be22954f-aeb7-4662-bea5-976c9fada0ba",
   "metadata": {},
   "outputs": [],
   "source": []
  },
  {
   "cell_type": "code",
   "execution_count": null,
   "id": "19269221-e198-46fd-981b-cb493c81bf50",
   "metadata": {},
   "outputs": [],
   "source": []
  },
  {
   "cell_type": "markdown",
   "id": "d9fddfe3-b23d-485b-b30d-958dd3efd8f3",
   "metadata": {},
   "source": [
    "Q3. What is DML? Explain INSERT, UPDATE, and DELETE with an example."
   ]
  },
  {
   "cell_type": "markdown",
   "id": "16d45ffc-c0f9-4cbb-890a-e3af696fff2d",
   "metadata": {},
   "source": [
    "DML(Data Manipulation Language):\n",
    "\n",
    "The SQL commands that deals with the manipulation of data present in the database belong to DML or Data Manipulation Language and this includes most of the SQL statements. It is the component of the SQL statement that controls access to data and to the database. \n",
    "\n"
   ]
  },
  {
   "cell_type": "markdown",
   "id": "dfd94083-18af-4980-91f0-2496c00fa844",
   "metadata": {},
   "source": [
    "INSERT : \n",
    "    \n",
    "It is used to insert data into a table\n",
    "\n",
    "EX: (Inserting  values) :\n",
    "\n",
    "INSERT INTO Student VALUES (‘5′,’HARSH’,’WEST BENGAL’,’XXXXXXXXXX’,’19’);"
   ]
  },
  {
   "cell_type": "markdown",
   "id": "e3e9daff-a3fc-4c78-9329-18bd3452c8bc",
   "metadata": {},
   "source": [
    "UPDATE: \n",
    "\n",
    "It is used to update existing data within a table.\n",
    "\n",
    "Ex Update the column NAME and set the value to ‘SUDH’ in all the rows where Age is 20.\n",
    "UPDATE Student SET NAME = 'SUDH' WHERE Age = 20;"
   ]
  },
  {
   "cell_type": "markdown",
   "id": "d8d1a32a-5a57-425e-9820-58ccebe46d24",
   "metadata": {},
   "source": [
    "DELETE :\n",
    "\n",
    "It is used to delete records from a database table.\n",
    "\n",
    "EX: Delete the rows where NAME = ‘Sudh’. \n",
    "\n",
    "DELETE FROM Student WHERE NAME = 'Sudh';\n",
    "\n",
    "EX : Delete rows where Age =20\n",
    "\n",
    "DELETE FROM Student WHERE Age = 20;"
   ]
  },
  {
   "cell_type": "code",
   "execution_count": null,
   "id": "161d5f90-5035-4581-8937-571ec322b17c",
   "metadata": {},
   "outputs": [],
   "source": []
  },
  {
   "cell_type": "markdown",
   "id": "400a3320-a861-469d-b94d-c6795de8da68",
   "metadata": {},
   "source": [
    "Q4. What is DQL? Explain SELECT with an example."
   ]
  },
  {
   "cell_type": "markdown",
   "id": "8d331f40-fcf5-46c1-a155-d6aaffb345f6",
   "metadata": {},
   "source": [
    "DQL (Data Query Language):\n",
    "\n",
    "DQL statements are used for performing queries on the data within schema objects. The purpose of the DQL Command is to get some schema relation based on the query passed to it. We can define DQL as follows it is a component of SQL statement that allows getting data from the database and imposing order upon it. It includes the SELECT statement. This command allows getting the data out of the database to perform operations with it. "
   ]
  },
  {
   "cell_type": "markdown",
   "id": "229bf329-296c-487b-8134-5a4fe1ebb0d7",
   "metadata": {},
   "source": [
    "SELECT: \n",
    "\n",
    "It is used to retrieve data from the database.\n",
    "\n",
    "\n",
    "EX: Query to fetch the fields ROLL_NO, NAME, AGE from the table Student:\n",
    "\n",
    "\n",
    "SELECT ROLL_NO, NAME, AGE FROM Student;\n",
    "\n",
    "\n",
    "Ex: To fetch all the fields from the table Student:\n",
    "\n",
    " SELECT * FROM Student;"
   ]
  },
  {
   "cell_type": "code",
   "execution_count": null,
   "id": "2ec9c254-8227-4763-b97e-920816016aee",
   "metadata": {},
   "outputs": [],
   "source": []
  },
  {
   "cell_type": "markdown",
   "id": "5e33d769-bbaf-4e17-9ed5-be87fa27961f",
   "metadata": {},
   "source": [
    "Q5. Explain Primary Key and Foreign Key."
   ]
  },
  {
   "cell_type": "markdown",
   "id": "2ef4bd5b-689e-473d-a24d-f649e43d64b2",
   "metadata": {},
   "source": [
    "Primary Key:\n",
    "\n",
    "A primary key is used to ensure that data in the specific column is unique. A column cannot have NULL values. It is either an existing table column or a column that is specifically generated by the database according to a defined sequence. \n",
    "\n",
    "There is only one primary key chosen out of all unique keys.\n",
    "\n",
    "Ex:\n",
    "STUD_NO, as well as STUD_PHONE both, are candidate keys for relation STUDENT but STUD_NO can be chosen as the primary key (only one out of many candidate keys). "
   ]
  },
  {
   "cell_type": "markdown",
   "id": "595b051e-2b5d-4d59-a242-e4caaac7eaec",
   "metadata": {},
   "source": [
    "Foreign Key: \n",
    "\n",
    "A foreign key is a column or group of columns in a relational database table that provides a link between data in two tables. It is a column (or columns) that references a column (most often the primary key) of another table. \n",
    "\n",
    "In the relational databases, a foreign key is a field or a column that is used to establish a link between two tables.\n",
    "\n",
    "In simple words you can say that, a foreign key in one table used to point primary key in another table.\n",
    "\n",
    "Ex: STUD_NO in STUDENT_COURSE is a foreign key to STUD_NO(Primary key) in STUDENT relation. \n",
    "      \n",
    "      It is helping in establishing relation between two tables by making connection with primary key by matching entry\n",
    "\n"
   ]
  },
  {
   "cell_type": "code",
   "execution_count": null,
   "id": "5ae23ca7-ef10-41cd-80fa-aa61565c702f",
   "metadata": {},
   "outputs": [],
   "source": []
  },
  {
   "cell_type": "code",
   "execution_count": null,
   "id": "45e3a287-92fd-4de4-95aa-add28f231cc0",
   "metadata": {},
   "outputs": [],
   "source": []
  },
  {
   "cell_type": "markdown",
   "id": "991cc725-8b66-4410-af96-ee50b0bbd026",
   "metadata": {},
   "source": [
    "Q6. Write a python code to connect MySQL to python. Explain the cursor() and execute() method.\n",
    "\n"
   ]
  },
  {
   "cell_type": "markdown",
   "id": "b87bded2-74aa-46cf-8a9e-189b9839aa1f",
   "metadata": {},
   "source": [
    "Python code to connect MYSQL to python:\n",
    "\n",
    "\n",
    "import mysql.connector\n",
    "\n",
    "\n",
    "mydb = mysql.connector.connect(\n",
    "\n",
    "  host=\"localhost\",\n",
    "  \n",
    "  user=\"abc\",\n",
    "  \n",
    "  password=\"password\"\n",
    ")\n",
    "\n",
    "mycursor = mydb.cursor()\n",
    "\n",
    "\n",
    "mycursor.execute(\"CREATE DATABASE if not exists test2\")\n",
    "\n",
    "\n",
    "mydb.close()"
   ]
  },
  {
   "cell_type": "code",
   "execution_count": null,
   "id": "31a05b94-e485-4cbd-bd0f-f091eb9eded6",
   "metadata": {},
   "outputs": [],
   "source": []
  },
  {
   "cell_type": "code",
   "execution_count": null,
   "id": "2f165ea9-0f2d-43b0-ad20-2ab7658ee543",
   "metadata": {},
   "outputs": [],
   "source": []
  },
  {
   "cell_type": "markdown",
   "id": "4cc4103b-4305-44a3-ba79-7ad449225c93",
   "metadata": {},
   "source": [
    "cursor():\n",
    "\n",
    "A cursor is an object which helps to execute the query and fetch the records from the database.\n",
    "\n",
    "It is an object that is used to make the connection for executing SQL queries.\n",
    "\n",
    "It acts as middleware between SQLite database connection and SQL query. It is created after giving connection to SQLite database.\n",
    "\n",
    "The cursor plays a very important role in executing the query. \n",
    "\n"
   ]
  },
  {
   "cell_type": "markdown",
   "id": "154ce247-5d2b-45d4-b70a-c43e3530e0d2",
   "metadata": {},
   "source": [
    "execute():\n",
    "    \n",
    "The execute () method helps us to execute the query and return records according to the query.\n",
    "\n",
    "Here excute refers similar to excuting the sql code in mysql database.\n",
    "\n",
    "It helps in excuting the query and returning the fetched record in execution of code."
   ]
  },
  {
   "cell_type": "raw",
   "id": "5f105b31-26e0-4417-9667-eead07993bdf",
   "metadata": {},
   "source": []
  },
  {
   "cell_type": "code",
   "execution_count": null,
   "id": "5ed52da6-f533-4967-9600-928a1b1c4880",
   "metadata": {},
   "outputs": [],
   "source": []
  },
  {
   "cell_type": "markdown",
   "id": "756d6b5e-8986-4a5e-b3aa-034a51ddf55f",
   "metadata": {},
   "source": [
    "Q7. Give the order of execution of SQL clauses in an SQL query."
   ]
  },
  {
   "cell_type": "markdown",
   "id": "7dfef893-6f43-48b1-94f0-a13e4f84616f",
   "metadata": {},
   "source": [
    "The order in which the clauses in queries are executed is as follows:\n",
    "\n",
    "\n",
    "1. FROM/JOIN: \n",
    "\n",
    "    The FROM and/or JOIN clauses are executed first to determine the data of interest.\n",
    "\n",
    "\n",
    "2. WHERE: \n",
    "\n",
    "    The WHERE clause is executed to filter out records that do not meet the constraints.\n",
    "\n",
    "\n",
    "3. GROUP BY:\n",
    "\n",
    "    The GROUP BY clause is executed to group the data based on the values in one or more columns.\n",
    "\n",
    "\n",
    "4. HAVING: \n",
    "\n",
    "    The HAVING clause is executed to remove the created grouped records that don’t meet the constraints.\n",
    "\n",
    "\n",
    "5. SELECT: \n",
    "\n",
    "    The SELECT clause is executed to derive all desired columns and expressions.\n",
    "\n",
    "\n",
    "6. ORDER BY:\n",
    "\n",
    "    The ORDER BY clause is executed to sort the derived values in ascending or descending order.\n",
    "\n",
    "\n",
    "7. LIMIT/OFFSET: \n",
    "\n",
    "    Finally, the LIMIT and/or OFFSET clauses are executed to keep or skip a specified number of rows."
   ]
  },
  {
   "cell_type": "code",
   "execution_count": null,
   "id": "eee329e6-abba-42ad-aa3c-f8bea88f7509",
   "metadata": {},
   "outputs": [],
   "source": []
  }
 ],
 "metadata": {
  "kernelspec": {
   "display_name": "Python 3 (ipykernel)",
   "language": "python",
   "name": "python3"
  },
  "language_info": {
   "codemirror_mode": {
    "name": "ipython",
    "version": 3
   },
   "file_extension": ".py",
   "mimetype": "text/x-python",
   "name": "python",
   "nbconvert_exporter": "python",
   "pygments_lexer": "ipython3",
   "version": "3.10.8"
  }
 },
 "nbformat": 4,
 "nbformat_minor": 5
}
