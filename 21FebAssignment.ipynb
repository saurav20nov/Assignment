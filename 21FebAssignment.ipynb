{
 "cells": [
  {
   "cell_type": "markdown",
   "id": "8b6e5774-8aea-4a36-82f3-05e74ce5cb0d",
   "metadata": {},
   "source": [
    "Q1. What is Web Scraping? Why is it Used? Give three areas where Web Scraping is used to get data."
   ]
  },
  {
   "cell_type": "markdown",
   "id": "c81cd305-ab20-48f2-b6e7-c836e95974ae",
   "metadata": {},
   "source": [
    "Web scraping (or data scraping) is a technique used to collect content and data from the internet. \n",
    "\n",
    "It is used to fetch data and perform data analysis on the gathered datas.\n",
    "\n",
    "Web Scraping has multiple applications across various industries:\n",
    "\n",
    "1. Price Monitoring\n",
    "\n",
    "2. Market Research\n",
    "\n",
    "3. News Monitoring\n",
    "\n",
    "4. Sentiment Analysis\n",
    "\n",
    "5. Email Marketing\n",
    "\n",
    "Ares where it is used are :\n",
    "\n",
    "1. Real Estate\n",
    "\n",
    "2. Shopping Sites\n",
    "\n",
    "3. Promotion and Marketing"
   ]
  },
  {
   "cell_type": "code",
   "execution_count": null,
   "id": "333fe6bd-32b0-4df9-b9d2-0bf1f1c41120",
   "metadata": {},
   "outputs": [],
   "source": []
  },
  {
   "cell_type": "markdown",
   "id": "d49347f9-fc96-4bbc-8cea-e3a5de55a2e4",
   "metadata": {},
   "source": [
    "Q2. What are the different methods used for Web Scraping?"
   ]
  },
  {
   "cell_type": "markdown",
   "id": "b393ddfd-5777-4632-83b6-e03ccfea8474",
   "metadata": {},
   "source": [
    "1. Web scraping Software\n",
    "\n",
    "2. Manual Scraping\n",
    "\n",
    "Tools used :\n",
    "\n",
    "1. BeautifulSoup\n",
    "\n",
    "2. Scrapy\n",
    "\n",
    "3. Pandas\n",
    "\n",
    "4. Parsehub\n"
   ]
  },
  {
   "cell_type": "code",
   "execution_count": null,
   "id": "e39b6b67-e0a9-4b58-8531-72b7fdc01ffe",
   "metadata": {},
   "outputs": [],
   "source": []
  },
  {
   "cell_type": "markdown",
   "id": "52ff6010-612b-4360-8046-97281fe8f664",
   "metadata": {},
   "source": [
    "Q3. What is Beautiful Soup? Why is it used?"
   ]
  },
  {
   "cell_type": "markdown",
   "id": "c9438822-a43a-4015-b42b-2048778f2708",
   "metadata": {},
   "source": [
    "BeautifulSoup is another Python library, commonly used to parse data from XML and HTML documents. \n",
    "\n",
    "Organizing this parsed content into more accessible trees, BeautifulSoup makes navigating and searching through large swathes of data much easier.\n",
    "\n",
    "It’s the go-to tool for many data analysts.\n",
    "\n",
    "It is used in scarpping the content from web.\n",
    "\n",
    "\n",
    "\n",
    "\n",
    "\n",
    "\n",
    "Some key features that make beautiful soup unique are:\n",
    "\n",
    "Beautiful Soup provides a few simple methods and Pythonic idioms for navigating, searching, and modifying a parse tree.\n",
    "\n",
    "Beautiful Soup automatically converts incoming documents to Unicode and outgoing documents to UTF-8.\n",
    "\n",
    "Beautiful Soup sits on top of popular Python parsers like lxml and html5lib, which allows us to try out different parsing strategies or trade speed for flexibility."
   ]
  },
  {
   "cell_type": "code",
   "execution_count": null,
   "id": "9205e37c-7765-49be-b9bd-d447269a7fd1",
   "metadata": {},
   "outputs": [],
   "source": []
  },
  {
   "cell_type": "markdown",
   "id": "bbbe7146-d206-4805-be31-a193048fb2b5",
   "metadata": {},
   "source": [
    "Q4. Why is flask used in this Web Scraping project?"
   ]
  },
  {
   "cell_type": "markdown",
   "id": "f3358bc3-c6d2-4dc6-b288-99509e23e857",
   "metadata": {},
   "source": [
    "Flask is a lightweight framework to build websites. We’ll use this to parse our collected data and display it as HTML in a new HTML file.\n",
    "\n",
    "The requests module allows us to send http requests to the website we want to scrape.\n",
    "\n",
    "It helps in creating web app of the project.\n",
    "\n",
    "Flask is even helpful in deployment of web scraping project on AWS or other platform."
   ]
  },
  {
   "cell_type": "code",
   "execution_count": null,
   "id": "37b17a6b-c0d0-4b98-97f8-d027b6257d30",
   "metadata": {},
   "outputs": [],
   "source": []
  },
  {
   "cell_type": "markdown",
   "id": "f0958ce1-3bc3-4117-9756-900cc1fa3a05",
   "metadata": {},
   "source": [
    "Q5. Write the names of AWS services used in this project. Also, explain the use of each service."
   ]
  },
  {
   "cell_type": "markdown",
   "id": "7844a451-f7f5-4c46-9c5e-dd6f906d98b3",
   "metadata": {},
   "source": [
    "github => Code Pipeline => Elastic Beanstalk\n",
    "\n",
    "As chain suggests programmer make project and upload it to github .\n",
    "\n",
    "Now Beanstalk links with github to have the project in aws platform.\n",
    "\n",
    "Code pipeline create the environment and links with beanstalk to host the project.\n",
    "\n",
    "\n",
    "Codepipeline:\n",
    "\n",
    "AWS CodePipeline is a continuous delivery service that enables you to model, visualize, and automate the steps required to release your software.\n",
    "\n",
    "With AWS CodePipeline, you model the full release process for building your code, deploying to pre-production environments, testing your application and releasing it to production.\n",
    "\n",
    "AWS CodePipeline then builds, tests, and deploys your application according to the defined workflow every time there is a code change. You can integrate partner tools and your own custom tools into any stage of the release process to form an end-to-end continuous delivery solution.\n",
    "\n",
    "It creates environment and host project.\n",
    "\n",
    "Ex: http://webscrapping-env.eba-ymdpdg2q.us-east-2.elasticbeanstalk.com/\n",
    "\n",
    "\n",
    "\n",
    "Beanstalk :\n",
    "\n",
    "Amazon Elastic Beanstalk is a web infrastructure management service. It handles deployment and scaling for web applications and services.\n",
    "\n",
    "Elastic Beanstalk can automatically manage setup, configuration, scaling and provisioning for other AWS services.\n",
    "\n",
    "It establishes Connection between AWS and Github.\n",
    "\n",
    "Amazon Elastic Beanstalk supported platforms :\n",
    "\n",
    "Docker\n",
    "\n",
    "Go\n",
    "\n",
    "Java SE\n",
    "\n",
    "Java with Tomcat\n",
    "\n",
    ".NET\n",
    "\n",
    "Node.js\n",
    "\n",
    "PHP\n",
    "\n",
    "Python\n",
    "\n",
    "Ruby"
   ]
  },
  {
   "cell_type": "code",
   "execution_count": null,
   "id": "0b373247-13b8-4369-8141-df3fe49633f4",
   "metadata": {},
   "outputs": [],
   "source": []
  }
 ],
 "metadata": {
  "kernelspec": {
   "display_name": "Python 3 (ipykernel)",
   "language": "python",
   "name": "python3"
  },
  "language_info": {
   "codemirror_mode": {
    "name": "ipython",
    "version": 3
   },
   "file_extension": ".py",
   "mimetype": "text/x-python",
   "name": "python",
   "nbconvert_exporter": "python",
   "pygments_lexer": "ipython3",
   "version": "3.10.8"
  }
 },
 "nbformat": 4,
 "nbformat_minor": 5
}
