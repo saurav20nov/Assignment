{
 "cells": [
  {
   "cell_type": "markdown",
   "id": "e879074a-ed51-42f8-9f5c-1ee9cfc28546",
   "metadata": {},
   "source": [
    "1.  Guido Van Rossum"
   ]
  },
  {
   "cell_type": "markdown",
   "id": "c1108194-b88a-42a5-b926-8d29ed5309a7",
   "metadata": {},
   "source": [
    "2.  Object Oriented , Structural and functional Programming"
   ]
  },
  {
   "cell_type": "markdown",
   "id": "6908f574-51d9-40ea-b1e9-0c44210d2321",
   "metadata": {},
   "source": [
    "3.  Yes , Python is case sensitive language"
   ]
  },
  {
   "cell_type": "markdown",
   "id": "af19673b-86b9-4031-942c-024f3a5740e5",
   "metadata": {},
   "source": [
    "4.  .py is the generally used but .pyi and .pyw is also supported"
   ]
  },
  {
   "cell_type": "markdown",
   "id": "75d7a326-bdf8-4f4d-8b9b-de5666413cad",
   "metadata": {},
   "source": [
    "5. Python is often called interpreted language  ( But it is proved that it is both commpiled and interpreted where compilation part id hidden from user)"
   ]
  },
  {
   "cell_type": "markdown",
   "id": "8e37d3ce-3a61-4688-8c14-4cd28022f72e",
   "metadata": {},
   "source": [
    "6.  Class ,module , a function body are blocks and identation is used as general purpose of executing a proper block of code in right manner."
   ]
  },
  {
   "cell_type": "raw",
   "id": "ec99eee5-65c8-4c9f-9ab4-ecc734889c7f",
   "metadata": {},
   "source": [
    "7. # is used  for single line comment"
   ]
  },
  {
   "cell_type": "markdown",
   "id": "302636db-d15a-423f-989a-f4abf845f668",
   "metadata": {},
   "source": [
    "8. sys.version "
   ]
  },
  {
   "cell_type": "markdown",
   "id": "46b364b6-3150-4f3d-b365-c33eb1051b1a",
   "metadata": {},
   "source": [
    "9. Lambda  function"
   ]
  },
  {
   "cell_type": "markdown",
   "id": "fb9df3e3-9c95-48de-aca8-fc86185471c9",
   "metadata": {},
   "source": [
    "10.  Preferred installer program"
   ]
  },
  {
   "cell_type": "markdown",
   "id": "c1895b87-cf2e-4301-8401-1a867af7cafd",
   "metadata": {},
   "source": [
    "11.  print(), type(), input(), max(), sort(), len(), etc"
   ]
  },
  {
   "cell_type": "markdown",
   "id": "637e1f52-b921-4392-88de-09e5c1516aad",
   "metadata": {},
   "source": [
    "12.  Max of 79 characters"
   ]
  },
  {
   "cell_type": "markdown",
   "id": "389c8159-c3fe-4305-a4d9-b4662df6129e",
   "metadata": {},
   "source": [
    "13. There are following benefits:\n",
    "\n",
    "     Easy to code, Easy to read , Extensive library , Larger developer community, Free and open source , wider support in various new technologies and so on"
   ]
  },
  {
   "cell_type": "markdown",
   "id": "145d7430-5c27-4808-bfaa-da3289646fcb",
   "metadata": {},
   "source": [
    "14 . It is managed by python manager which determines where to put application data in memory.\n",
    "\n",
    "There in python it involves a private heap containing all python objects and data structures  This management of this private heap is ensured internally by python memory manager"
   ]
  },
  {
   "cell_type": "markdown",
   "id": "a3aa5ed5-3711-4f2b-8199-b143b7aeaff7",
   "metadata": {},
   "source": [
    "15 . Install python form python.org/downloads section and while installation it asks for adding to path . And if not done from this step we can copy bin address of python file and search for edit envionment variable in window search bar , go to system variable and select path variable , go to edit and add new section and there paste the bin url and click ok and thus work get finished."
   ]
  },
  {
   "cell_type": "markdown",
   "id": "23485c22-4af7-42f7-ab31-9380d6efbb90",
   "metadata": {},
   "source": [
    "16 . Yes , identation is very important in python it is used to indicate a block of code"
   ]
  }
 ],
 "metadata": {
  "kernelspec": {
   "display_name": "Python 3 (ipykernel)",
   "language": "python",
   "name": "python3"
  },
  "language_info": {
   "codemirror_mode": {
    "name": "ipython",
    "version": 3
   },
   "file_extension": ".py",
   "mimetype": "text/x-python",
   "name": "python",
   "nbconvert_exporter": "python",
   "pygments_lexer": "ipython3",
   "version": "3.10.8"
  }
 },
 "nbformat": 4,
 "nbformat_minor": 5
}
