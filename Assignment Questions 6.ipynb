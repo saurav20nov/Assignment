{
 "cells": [
  {
   "cell_type": "markdown",
   "id": "e1bfadae-094c-4239-b0b9-d6fbdb8d211b",
   "metadata": {},
   "source": [
    "<aside>\n",
    "💡 **Question 1**\n",
    "\n",
    "A permutation perm of n + 1 integers of all the integers in the range [0, n] can be represented as a string s of length n where:\n",
    "\n",
    "- s[i] == 'I' if perm[i] < perm[i + 1], and\n",
    "- s[i] == 'D' if perm[i] > perm[i + 1].\n",
    "\n",
    "Given a string s, reconstruct the permutation perm and return it. If there are multiple valid permutations perm, return **any of them**.\n",
    "\n",
    "**Example 1:**\n",
    "\n",
    "**Input:** s = \"IDID\"\n",
    "\n",
    "**Output:**\n",
    "\n",
    "[0,4,1,3,2]\n",
    "\n",
    "</aside>"
   ]
  },
  {
   "cell_type": "code",
   "execution_count": 1,
   "id": "6572b722-a901-4352-ab1b-091b3936099f",
   "metadata": {},
   "outputs": [
    {
     "name": "stdout",
     "output_type": "stream",
     "text": [
      "[0, 4, 1, 3, 2]\n"
     ]
    }
   ],
   "source": [
    "def reconstruct_permutation(s):\n",
    "    perm = []\n",
    "    n = len(s)\n",
    "    current = 0\n",
    "\n",
    "    for c in s:\n",
    "        if c == 'I':\n",
    "            perm.append(current)\n",
    "            current += 1\n",
    "        elif c == 'D':\n",
    "            perm.append(n)\n",
    "            n -= 1\n",
    "\n",
    "    perm.append(current)\n",
    "    return perm\n",
    "\n",
    "s = \"IDID\"\n",
    "result = reconstruct_permutation(s)\n",
    "print(result)\n"
   ]
  },
  {
   "cell_type": "markdown",
   "id": "df11e314-014f-4932-ad84-9b11b16f3fab",
   "metadata": {},
   "source": [
    "<aside>\n",
    "💡 **Question 2**\n",
    "\n",
    "You are given an m x n integer matrix matrix with the following two properties:\n",
    "\n",
    "- Each row is sorted in non-decreasing order.\n",
    "- The first integer of each row is greater than the last integer of the previous row.\n",
    "\n",
    "Given an integer target, return true *if* target *is in* matrix *or* false *otherwise*.\n",
    "\n",
    "You must write a solution in O(log(m * n)) time complexity.\n",
    "\n",
    "**Example 1:**\n",
    "\n",
    "</aside>\n",
    "**Input:** matrix = [[1,3,5,7],[10,11,16,20],[23,30,34,60]], target = 3\n",
    "\n",
    "**Output:** true"
   ]
  },
  {
   "cell_type": "code",
   "execution_count": 2,
   "id": "498f7067-c6e3-43ca-bee7-a416251f987c",
   "metadata": {},
   "outputs": [
    {
     "name": "stdout",
     "output_type": "stream",
     "text": [
      "True\n"
     ]
    }
   ],
   "source": [
    "def searchMatrix(matrix, target):\n",
    "    for row in matrix:\n",
    "        if target in row:\n",
    "            return True\n",
    "    return False\n",
    "matrix = [[1,3,5,7],[10,11,16,20],[23,30,34,60]]\n",
    "target = 3\n",
    "result = searchMatrix(matrix, target)\n",
    "print(result)\n"
   ]
  },
  {
   "cell_type": "code",
   "execution_count": 3,
   "id": "5e170a13-4653-4548-83e2-a1f6a3a366c4",
   "metadata": {},
   "outputs": [
    {
     "name": "stdout",
     "output_type": "stream",
     "text": [
      "True\n"
     ]
    }
   ],
   "source": [
    "def searchMatrix(matrix, target):\n",
    "    flat_list = [num for row in matrix for num in row]\n",
    "    return target in flat_list\n",
    "matrix = [[1,3,5,7],[10,11,16,20],[23,30,34,60]]\n",
    "target = 3\n",
    "result = searchMatrix(matrix, target)\n",
    "print(result)\n"
   ]
  },
  {
   "cell_type": "code",
   "execution_count": 4,
   "id": "568f5372-73c2-4c3a-95d1-02b10b5efa6f",
   "metadata": {},
   "outputs": [
    {
     "name": "stdout",
     "output_type": "stream",
     "text": [
      "True\n"
     ]
    }
   ],
   "source": [
    "def searchMatrix(matrix, target):\n",
    "    for row in matrix:\n",
    "        if target > row[-1]:\n",
    "            continue\n",
    "        if target < row[0]:\n",
    "            return False\n",
    "        left, right = 0, len(row) - 1\n",
    "        while left <= right:\n",
    "            mid = (left + right) // 2\n",
    "            if row[mid] == target:\n",
    "                return True\n",
    "            elif row[mid] < target:\n",
    "                left = mid + 1\n",
    "            else:\n",
    "                right = mid - 1\n",
    "    return False\n",
    "matrix = [[1,3,5,7],[10,11,16,20],[23,30,34,60]]\n",
    "target = 3\n",
    "result = searchMatrix(matrix, target)\n",
    "print(result)"
   ]
  },
  {
   "cell_type": "markdown",
   "id": "56f353eb-3a5e-4e58-aa22-314a11fb03d0",
   "metadata": {},
   "source": [
    "<aside>\n",
    "💡 **Question 3**\n",
    "\n",
    "Given an array of integers arr, return *true if and only if it is a valid mountain array*.\n",
    "\n",
    "Recall that arr is a mountain array if and only if:\n",
    "\n",
    "- arr.length >= 3\n",
    "- There exists some i with 0 < i < arr.length - 1 such that:\n",
    "    - arr[0] < arr[1] < ... < arr[i - 1] < arr[i]\n",
    "    - arr[i] > arr[i + 1] > ... > arr[arr.length - 1]\n",
    "</aside>\n",
    "**Example 1:**\n",
    "\n",
    "**Input:** arr = [2,1]\n",
    "\n",
    "**Output:**\n",
    "\n",
    "false"
   ]
  },
  {
   "cell_type": "code",
   "execution_count": 5,
   "id": "a9137c88-1c5b-45ee-85e2-a16268643450",
   "metadata": {},
   "outputs": [
    {
     "name": "stdout",
     "output_type": "stream",
     "text": [
      "False\n"
     ]
    }
   ],
   "source": [
    "def validMountainArray(arr):\n",
    "    n = len(arr)\n",
    "    if n < 3:\n",
    "        return False\n",
    "\n",
    "    i = 0\n",
    "    while i < n - 1 and arr[i] < arr[i + 1]:\n",
    "        i += 1\n",
    "\n",
    "    if i == 0 or i == n - 1:\n",
    "        return False\n",
    "\n",
    "    while i < n - 1 and arr[i] > arr[i + 1]:\n",
    "        i += 1\n",
    "\n",
    "    return i == n - 1\n",
    "arr = [2, 1]\n",
    "result = validMountainArray(arr)\n",
    "print(result)\n",
    "\n"
   ]
  },
  {
   "cell_type": "code",
   "execution_count": 6,
   "id": "49f81715-fe2f-499b-80fd-482817293fd7",
   "metadata": {},
   "outputs": [
    {
     "name": "stdout",
     "output_type": "stream",
     "text": [
      "False\n"
     ]
    }
   ],
   "source": [
    "def validMountainArray(arr):\n",
    "    n = len(arr)\n",
    "    if n < 3:\n",
    "        return False\n",
    "\n",
    "    peak = arr.index(max(arr))\n",
    "\n",
    "    if peak == 0 or peak == n - 1:\n",
    "        return False\n",
    "\n",
    "    for i in range(peak):\n",
    "        if arr[i] >= arr[i + 1]:\n",
    "            return False\n",
    "\n",
    "    for i in range(peak, n - 1):\n",
    "        if arr[i] <= arr[i + 1]:\n",
    "            return False\n",
    "\n",
    "    return True\n",
    "arr = [2, 1]\n",
    "result = validMountainArray(arr)\n",
    "print(result)\n"
   ]
  },
  {
   "cell_type": "markdown",
   "id": "0c9c35fb-ffc5-45e3-89a6-261f22d0449d",
   "metadata": {},
   "source": [
    "<aside>\n",
    "💡 **Question 4**\n",
    "\n",
    "Given a binary array nums, return *the maximum length of a contiguous subarray with an equal number of* 0 *and* 1.\n",
    "\n",
    "**Example 1:**\n",
    "\n",
    "**Input:** nums = [0,1]\n",
    "\n",
    "**Output:** 2\n",
    "\n",
    "**Explanation:**\n",
    "\n",
    "[0, 1] is the longest contiguous subarray with an equal number of 0 and 1.\n",
    "\n",
    "</aside>"
   ]
  },
  {
   "cell_type": "code",
   "execution_count": 7,
   "id": "3b61c4cc-ed12-4d01-9266-1e38d9c38107",
   "metadata": {},
   "outputs": [
    {
     "name": "stdout",
     "output_type": "stream",
     "text": [
      "2\n"
     ]
    }
   ],
   "source": [
    "def findMaxLength(nums):\n",
    "    max_length = 0\n",
    "    count = 0\n",
    "    count_map = {}\n",
    "\n",
    "    for i, num in enumerate(nums):\n",
    "        count += 1 if num == 1 else -1\n",
    "\n",
    "        if count == 0:\n",
    "            max_length = i + 1\n",
    "        elif count not in count_map:\n",
    "            count_map[count] = i\n",
    "        else:\n",
    "            max_length = max(max_length, i - count_map[count])\n",
    "\n",
    "    return max_length\n",
    "nums = [0, 1]\n",
    "result = findMaxLength(nums)\n",
    "print(result)\n"
   ]
  },
  {
   "cell_type": "markdown",
   "id": "39f3a21c-729c-4b96-91b5-8f41127a3da9",
   "metadata": {},
   "source": [
    "<aside>\n",
    "💡 **Question 5**\n",
    "\n",
    "The **product sum** of two equal-length arrays a and b is equal to the sum of a[i] * b[i] for all 0 <= i < a.length (**0-indexed**).\n",
    "\n",
    "- For example, if a = [1,2,3,4] and b = [5,2,3,1], the **product sum** would be 1*5 + 2*2 + 3*3 + 4*1 = 22.\n",
    "\n",
    "Given two arrays nums1 and nums2 of length n, return *the **minimum product sum** if you are allowed to **rearrange** the **order** of the elements in* nums1.\n",
    "\n",
    "**Example 1:**\n",
    "\n",
    "**Input:** nums1 = [5,3,4,2], nums2 = [4,2,2,5]\n",
    "\n",
    "**Output:** 40\n",
    "\n",
    "**Explanation:**\n",
    "\n",
    "We can rearrange nums1 to become [3,5,4,2]. The product sum of [3,5,4,2] and [4,2,2,5] is 3*4 + 5*2 + 4*2 + 2*5 = 40.\n",
    "\n",
    "</aside>"
   ]
  },
  {
   "cell_type": "code",
   "execution_count": 8,
   "id": "9532e643-10d4-46b7-921f-970b5772ccd3",
   "metadata": {},
   "outputs": [
    {
     "name": "stdout",
     "output_type": "stream",
     "text": [
      "40\n"
     ]
    }
   ],
   "source": [
    "def minProductSum(nums1, nums2):\n",
    "    nums1.sort()\n",
    "    nums2.sort()\n",
    "    min_product_sum = 0\n",
    "\n",
    "    for i in range(len(nums1)):\n",
    "        min_product_sum += nums1[i] * nums2[len(nums2) - i - 1]\n",
    "\n",
    "    return min_product_sum\n",
    "\n",
    "nums1 = [5, 3, 4, 2]\n",
    "nums2 = [4, 2, 2, 5]\n",
    "result = minProductSum(nums1, nums2)\n",
    "print(result)\n"
   ]
  },
  {
   "cell_type": "code",
   "execution_count": 9,
   "id": "541d333a-27d3-44c7-8926-e9f74606cbba",
   "metadata": {},
   "outputs": [
    {
     "name": "stdout",
     "output_type": "stream",
     "text": [
      "40\n"
     ]
    }
   ],
   "source": [
    "def minProductSum(nums1, nums2):\n",
    "    nums1.sort()\n",
    "    nums2.sort(reverse=True)\n",
    "    min_product_sum = sum(x * y for x, y in zip(nums1, nums2))\n",
    "    return min_product_sum\n",
    "\n",
    "nums1 = [5, 3, 4, 2]\n",
    "nums2 = [4, 2, 2, 5]\n",
    "result = minProductSum(nums1, nums2)\n",
    "print(result)\n"
   ]
  },
  {
   "cell_type": "code",
   "execution_count": 10,
   "id": "e4cbfe45-91e0-455a-9aff-19bab5436218",
   "metadata": {},
   "outputs": [
    {
     "name": "stdout",
     "output_type": "stream",
     "text": [
      "40\n"
     ]
    }
   ],
   "source": [
    "def minProductSum(nums1, nums2):\n",
    "    nums1.sort()\n",
    "    nums2.sort(reverse=True)\n",
    "    min_product_sum = sum(nums1[i] * nums2[i] for i in range(len(nums1)))\n",
    "    return min_product_sum\n",
    "\n",
    "nums1 = [5, 3, 4, 2]\n",
    "nums2 = [4, 2, 2, 5]\n",
    "result = minProductSum(nums1, nums2)\n",
    "print(result)\n"
   ]
  },
  {
   "cell_type": "markdown",
   "id": "af565a4f-7e35-4b71-8c95-ca1bd656e3b7",
   "metadata": {},
   "source": [
    "<aside>\n",
    "💡 **Question 6**\n",
    "\n",
    "An integer array original is transformed into a **doubled** array changed by appending **twice the value** of every element in original, and then randomly **shuffling** the resulting array.\n",
    "\n",
    "Given an array changed, return original *if* changed *is a **doubled** array. If* changed *is not a **doubled** array, return an empty array. The elements in* original *may be returned in **any** order*.\n",
    "\n",
    "**Example 1:**\n",
    "\n",
    "**Input:** changed = [1,3,4,2,6,8]\n",
    "\n",
    "**Output:** [1,3,4]\n",
    "\n",
    "**Explanation:** One possible original array could be [1,3,4]:\n",
    "\n",
    "- Twice the value of 1 is 1 * 2 = 2.\n",
    "- Twice the value of 3 is 3 * 2 = 6.\n",
    "- Twice the value of 4 is 4 * 2 = 8.\n",
    "\n",
    "Other original arrays could be [4,3,1] or [3,1,4].\n",
    "\n",
    "</aside>"
   ]
  },
  {
   "cell_type": "code",
   "execution_count": 11,
   "id": "3d862ff9-ac67-4985-8e23-7025a1ad618d",
   "metadata": {},
   "outputs": [
    {
     "data": {
      "text/plain": [
       "[1, 3, 4]"
      ]
     },
     "execution_count": 11,
     "metadata": {},
     "output_type": "execute_result"
    }
   ],
   "source": [
    "def findOriginalArray(changed):\n",
    "    if len(changed) % 2 != 0:\n",
    "        return []\n",
    "\n",
    "    num_count = {}\n",
    "    original = []\n",
    "\n",
    "    for num in changed:\n",
    "        if num in num_count:\n",
    "            num_count[num] += 1\n",
    "        else:\n",
    "            num_count[num] = 1\n",
    "\n",
    "    for num in changed:\n",
    "        if num_count[num] == 0 or num_count[num * 2] == 0:\n",
    "            continue\n",
    "\n",
    "        num_count[num] -= 1\n",
    "        num_count[num * 2] -= 1\n",
    "        original.append(num)\n",
    "\n",
    "    return original\n",
    "changed = [1,3,4,2,6,8]\n",
    "findOriginalArray(changed)"
   ]
  },
  {
   "cell_type": "markdown",
   "id": "31a0cb32-4fe1-4798-bac2-6f458c19c385",
   "metadata": {},
   "source": [
    "<aside>\n",
    "💡 **Question 7**\n",
    "\n",
    "Given a positive integer n, generate an n x n matrix filled with elements from 1 to n2 in spiral order.\n",
    "\n",
    "**Example 1:**\n",
    "\n",
    "</aside>\n",
    "**Input:** n = 3\n",
    "\n",
    "**Output:** [[1,2,3],[8,9,4],[7,6,5]]"
   ]
  },
  {
   "cell_type": "code",
   "execution_count": 12,
   "id": "da67a254-7921-4d19-b4db-2cd7f48d8290",
   "metadata": {},
   "outputs": [
    {
     "data": {
      "text/plain": [
       "[[1, 2, 3], [8, 9, 4], [7, 6, 5]]"
      ]
     },
     "execution_count": 12,
     "metadata": {},
     "output_type": "execute_result"
    }
   ],
   "source": [
    "def generateMatrix(n):\n",
    "    matrix = [[0] * n for _ in range(n)]\n",
    "    num = 1\n",
    "    row_start = 0\n",
    "    row_end = n - 1\n",
    "    col_start = 0\n",
    "    col_end = n - 1\n",
    "\n",
    "    while num <= n * n:\n",
    "        # Traverse right\n",
    "        for j in range(col_start, col_end + 1):\n",
    "            matrix[row_start][j] = num\n",
    "            num += 1\n",
    "        row_start += 1\n",
    "\n",
    "        # Traverse down\n",
    "        for i in range(row_start, row_end + 1):\n",
    "            matrix[i][col_end] = num\n",
    "            num += 1\n",
    "        col_end -= 1\n",
    "\n",
    "        # Traverse left\n",
    "        for j in range(col_end, col_start - 1, -1):\n",
    "            matrix[row_end][j] = num\n",
    "            num += 1\n",
    "        row_end -= 1\n",
    "\n",
    "        # Traverse up\n",
    "        for i in range(row_end, row_start - 1, -1):\n",
    "            matrix[i][col_start] = num\n",
    "            num += 1\n",
    "        col_start += 1\n",
    "\n",
    "    return matrix\n",
    "n=3\n",
    "generateMatrix(n)"
   ]
  },
  {
   "cell_type": "code",
   "execution_count": 13,
   "id": "d70bae72-3d79-4e8a-aa4b-3775b3170720",
   "metadata": {},
   "outputs": [
    {
     "data": {
      "text/plain": [
       "[[1, 2, 3], [8, 9, 4], [7, 6, 5]]"
      ]
     },
     "execution_count": 13,
     "metadata": {},
     "output_type": "execute_result"
    }
   ],
   "source": [
    "def generateMatrix(n):\n",
    "    matrix = [[0] * n for _ in range(n)]\n",
    "    num = 1\n",
    "    row, col = 0, 0\n",
    "    direction = 0\n",
    "    directions = [(0, 1), (1, 0), (0, -1), (-1, 0)]\n",
    "\n",
    "    for _ in range(n * n):\n",
    "        matrix[row][col] = num\n",
    "        num += 1\n",
    "\n",
    "        next_row = row + directions[direction][0]\n",
    "        next_col = col + directions[direction][1]\n",
    "\n",
    "        if next_row < 0 or next_row >= n or next_col < 0 or next_col >= n or matrix[next_row][next_col] != 0:\n",
    "            direction = (direction + 1) % 4\n",
    "\n",
    "        row += directions[direction][0]\n",
    "        col += directions[direction][1]\n",
    "\n",
    "    return matrix\n",
    "\n",
    "n = 3\n",
    "generateMatrix(n)\n"
   ]
  },
  {
   "cell_type": "markdown",
   "id": "432dc617-50f3-4f6c-826a-8008981c574f",
   "metadata": {},
   "source": [
    "<aside>\n",
    "💡 **Question 8**\n",
    "\n",
    "Given two [sparse matrices](https://en.wikipedia.org/wiki/Sparse_matrix) mat1 of size m x k and mat2 of size k x n, return the result of mat1 x mat2. You may assume that multiplication is always possible.\n",
    "\n",
    "**Example 1:**\n",
    "\n",
    "</aside>\n",
    "**Input:** mat1 = [[1,0,0],[-1,0,3]], mat2 = [[7,0,0],[0,0,0],[0,0,1]]\n",
    "\n",
    "**Output:**\n",
    "\n",
    "[[7,0,0],[-7,0,3]]"
   ]
  },
  {
   "cell_type": "code",
   "execution_count": 14,
   "id": "dcf4c1cd-b03f-49b6-baac-b655f0f0e1ce",
   "metadata": {},
   "outputs": [
    {
     "name": "stdout",
     "output_type": "stream",
     "text": [
      "[[7, 0, 0], [-7, 0, 3]]\n"
     ]
    }
   ],
   "source": [
    "def multiply(mat1, mat2):\n",
    "    m, k = len(mat1), len(mat1[0])\n",
    "    k, n = len(mat2), len(mat2[0])\n",
    "\n",
    "    result = [[0] * n for _ in range(m)]\n",
    "\n",
    "    for i in range(m):\n",
    "        for j in range(n):\n",
    "            for p in range(k):\n",
    "                result[i][j] += mat1[i][p] * mat2[p][j]\n",
    "\n",
    "    return result\n",
    "\n",
    "mat1 = [[1,0,0],[-1,0,3]]\n",
    "mat2 = [[7,0,0],[0,0,0],[0,0,1]]\n",
    "\n",
    "result = multiply(mat1, mat2)\n",
    "print(result)\n"
   ]
  }
 ],
 "metadata": {
  "kernelspec": {
   "display_name": "Python 3 (ipykernel)",
   "language": "python",
   "name": "python3"
  },
  "language_info": {
   "codemirror_mode": {
    "name": "ipython",
    "version": 3
   },
   "file_extension": ".py",
   "mimetype": "text/x-python",
   "name": "python",
   "nbconvert_exporter": "python",
   "pygments_lexer": "ipython3",
   "version": "3.10.8"
  }
 },
 "nbformat": 4,
 "nbformat_minor": 5
}
