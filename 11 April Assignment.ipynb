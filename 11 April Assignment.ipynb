{
 "cells": [
  {
   "cell_type": "raw",
   "id": "1182ce3b-9391-4cfa-a063-886848ffc247",
   "metadata": {},
   "source": [
    "Q1. What is an ensemble technique in machine learning?\n",
    "Ans 1. An ensemble technique in machine learning involves combining multiple base models to create a more robust and accurate predictive model.\n",
    "\n",
    "Q2. Why are ensemble techniques used in machine learning?\n",
    "Ans 2. Ensemble techniques are used in machine learning to improve predictive performance, increase generalization, and reduce overfitting by combining the predictions of multiple models.\n",
    "\n",
    "Q3. What is bagging?\n",
    "Ans 3. Bagging, or Bootstrap Aggregating, is an ensemble technique where multiple base models are trained independently on random subsets of the training data, and their predictions are combined through averaging (for regression) or voting (for classification).\n",
    "\n",
    "Q4. What is boosting?\n",
    "Ans 4. Boosting is an ensemble technique that works sequentially to improve model performance. It trains multiple weak learners iteratively, where each subsequent model focuses on the examples that previous models misclassified.\n",
    "\n",
    "Q5. What are the benefits of using ensemble techniques?\n",
    "Ans 5. Ensemble techniques can improve model performance, reduce overfitting, increase model generalization, and provide more robust predictions by combining the strengths of multiple individual models.\n",
    "\n",
    "Q6. Are ensemble techniques always better than individual models?\n",
    "Ans 6. While ensemble techniques often outperform individual models, they may not always be superior, especially if the individual models are already strong and diverse. The effectiveness of ensemble methods depends on factors such as data quality, model diversity, and the nature of the problem.\n",
    "\n",
    "Q7. How is the confidence interval calculated using bootstrap?\n",
    "Ans 7. The confidence interval using bootstrap is calculated by resampling the original dataset with replacement to create multiple bootstrap samples. Then, the statistic of interest (e.g., mean) is calculated for each bootstrap sample. Finally, the confidence interval is determined from the distribution of these statistics.\n",
    "\n",
    "Q8. How does bootstrap work and What are the steps involved in bootstrap?\n",
    "Ans 8. Bootstrap is a resampling technique used for estimating the sampling distribution of a statistic by resampling with replacement from the original dataset. The steps involved in bootstrap are:\n",
    "\n",
    "Randomly draw a sample with replacement from the original dataset.\n",
    "Calculate the statistic of interest (e.g., mean, median) for the bootstrap sample.\n",
    "Repeat steps 1 and 2 a large number of times (typically thousands) to create a distribution of the statistic.\n",
    "Determine the confidence interval or other measures of variability from the distribution of the statistic.\n",
    "Q9. A researcher wants to estimate the mean height of a population of trees. They measure the height of a sample of 50 trees and obtain a mean height of 15 meters and a standard deviation of 2 meters. Use bootstrap to estimate the 95% confidence interval for the population mean height.\n",
    "Ans 9. To estimate the 95% confidence interval for the population mean height using bootstrap, the researcher would repeatedly sample with replacement from the observed heights of the 50 trees, calculate the mean for each bootstrap sample, and then determine the 2.5th and 97.5th percentiles of the bootstrap distribution to find the interval."
   ]
  },
  {
   "cell_type": "code",
   "execution_count": null,
   "id": "a79486cf-af2a-408f-8bdb-17919f671e0a",
   "metadata": {},
   "outputs": [],
   "source": []
  }
 ],
 "metadata": {
  "kernelspec": {
   "display_name": "Python 3 (ipykernel)",
   "language": "python",
   "name": "python3"
  },
  "language_info": {
   "codemirror_mode": {
    "name": "ipython",
    "version": 3
   },
   "file_extension": ".py",
   "mimetype": "text/x-python",
   "name": "python",
   "nbconvert_exporter": "python",
   "pygments_lexer": "ipython3",
   "version": "3.10.8"
  }
 },
 "nbformat": 4,
 "nbformat_minor": 5
}
