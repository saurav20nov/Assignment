{
 "cells": [
  {
   "cell_type": "code",
   "execution_count": 1,
   "id": "7d0ddfe7-0b74-4cfc-9e5f-1eafd42796a6",
   "metadata": {},
   "outputs": [
    {
     "data": {
      "text/plain": [
       "4"
      ]
     },
     "execution_count": 1,
     "metadata": {},
     "output_type": "execute_result"
    }
   ],
   "source": [
    "1+3"
   ]
  },
  {
   "cell_type": "markdown",
   "id": "8bdb333c-f973-48c7-81b6-049992dcacac",
   "metadata": {},
   "source": [
    "My name is kalala"
   ]
  },
  {
   "cell_type": "raw",
   "id": "b7c2e2a3-5664-42e2-b325-1a9f97d189bd",
   "metadata": {},
   "source": [
    "i am here to die"
   ]
  },
  {
   "cell_type": "code",
   "execution_count": null,
   "id": "16ddc1bd-38e0-4128-9165-16915cc7021f",
   "metadata": {},
   "outputs": [],
   "source": []
  }
 ],
 "metadata": {
  "kernelspec": {
   "display_name": "Python 3 (ipykernel)",
   "language": "python",
   "name": "python3"
  },
  "language_info": {
   "codemirror_mode": {
    "name": "ipython",
    "version": 3
   },
   "file_extension": ".py",
   "mimetype": "text/x-python",
   "name": "python",
   "nbconvert_exporter": "python",
   "pygments_lexer": "ipython3",
   "version": "3.10.8"
  }
 },
 "nbformat": 4,
 "nbformat_minor": 5
}
