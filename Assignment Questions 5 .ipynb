{
 "cells": [
  {
   "cell_type": "markdown",
   "id": "439a1461-98f1-4bfd-ba0c-bbb179945a05",
   "metadata": {},
   "source": [
    "Convert 1D Array Into 2D Array\n",
    "\n",
    "You are given a **0-indexed** 1-dimensional (1D) integer array original, and two integers, m and n. You are tasked with creating a 2-dimensional (2D) array with  m rows and n columns using **all** the elements from original.\n",
    "\n",
    "The elements from indices 0 to n - 1 (**inclusive**) of original should form the first row of the constructed 2D array, the elements from indices n to 2 * n - 1 (**inclusive**) should form the second row of the constructed 2D array, and so on.\n",
    "\n",
    "Return *an* m x n *2D array constructed according to the above procedure, or an empty 2D array if it is impossible*.\n",
    "\n",
    "**Example 1:**\n",
    "**Input:** original = [1,2,3,4], m = 2, n = 2\n",
    "\n",
    "**Output:** [[1,2],[3,4]]\n",
    "\n",
    "**Explanation:** The constructed 2D array should contain 2 rows and 2 columns.\n",
    "\n",
    "The first group of n=2 elements in original, [1,2], becomes the first row in the constructed 2D array.\n",
    "\n",
    "The second group of n=2 elements in original, [3,4], becomes the second row in the constructed 2D array."
   ]
  },
  {
   "cell_type": "code",
   "execution_count": 1,
   "id": "504d4adb-49a5-4720-96f3-1aa84b5b6823",
   "metadata": {},
   "outputs": [
    {
     "name": "stdout",
     "output_type": "stream",
     "text": [
      "[[1, 2], [3, 4]]\n"
     ]
    }
   ],
   "source": [
    "def convert_1d_to_2d(original, m, n):\n",
    "    if len(original) != m * n:\n",
    "        return []\n",
    "\n",
    "    result = [original[i * n: (i + 1) * n] for i in range(m)]\n",
    "    return result\n",
    "original = [1, 2, 3, 4]\n",
    "m = 2\n",
    "n = 2\n",
    "output = convert_1d_to_2d(original, m, n)\n",
    "print(output)  \n"
   ]
  },
  {
   "cell_type": "code",
   "execution_count": 2,
   "id": "8469339a-c935-4056-a1be-bb41694692f6",
   "metadata": {},
   "outputs": [
    {
     "name": "stdout",
     "output_type": "stream",
     "text": [
      "[[1, 2], [3, 4]]\n"
     ]
    }
   ],
   "source": [
    "import numpy as np\n",
    "\n",
    "def convert_1d_to_2d(original, m, n):\n",
    "    if len(original) != m * n:\n",
    "        return []\n",
    "\n",
    "    result = np.array(original).reshape((m, n))\n",
    "    return result.tolist()\n",
    "original = [1, 2, 3, 4]\n",
    "m = 2\n",
    "n = 2\n",
    "output = convert_1d_to_2d(original, m, n)\n",
    "print(output) \n"
   ]
  },
  {
   "cell_type": "markdown",
   "id": "73c03399-3bba-4ab5-a6bd-4fb0863eda37",
   "metadata": {},
   "source": [
    "<aside>\n",
    "💡 **Question 2**\n",
    "\n",
    "You have n coins and you want to build a staircase with these coins. The staircase consists of k rows where the ith row has exactly i coins. The last row of the staircase **may be** incomplete.\n",
    "\n",
    "Given the integer n, return *the number of **complete rows** of the staircase you will build*.\n",
    "\n",
    "**Example 1:**\n",
    "\n",
    "</aside>\n",
    "**Input:** n = 5\n",
    "\n",
    "**Output:** 2\n",
    "\n",
    "**Explanation:** Because the 3rd row is incomplete, we return 2."
   ]
  },
  {
   "cell_type": "code",
   "execution_count": 3,
   "id": "16180bef-3111-4e28-b43c-331c9f91e4e5",
   "metadata": {},
   "outputs": [
    {
     "name": "stdout",
     "output_type": "stream",
     "text": [
      "2\n"
     ]
    }
   ],
   "source": [
    "def findCompleteRows(n):\n",
    "    rows = 0\n",
    "    coins_used = 0\n",
    "    while coins_used <= n:\n",
    "        rows += 1\n",
    "        coins_used += rows\n",
    "    return rows - 1\n",
    "n = 5\n",
    "output = findCompleteRows(n)\n",
    "print(output)  "
   ]
  },
  {
   "cell_type": "code",
   "execution_count": 4,
   "id": "1626314e-dc3d-4cef-8971-0027c232b74e",
   "metadata": {},
   "outputs": [
    {
     "name": "stdout",
     "output_type": "stream",
     "text": [
      "2\n"
     ]
    }
   ],
   "source": [
    "from math import sqrt\n",
    "\n",
    "def findCompleteRows(n):\n",
    "    rows = int(sqrt(2 * n + 0.25) - 0.5)\n",
    "    return rows\n",
    "n = 5\n",
    "output = findCompleteRows(n)\n",
    "print(output)  \n"
   ]
  },
  {
   "cell_type": "code",
   "execution_count": 5,
   "id": "da314556-4ce9-40e4-8b9e-f60acf4777a7",
   "metadata": {},
   "outputs": [
    {
     "name": "stdout",
     "output_type": "stream",
     "text": [
      "2\n"
     ]
    }
   ],
   "source": [
    "from math import sqrt\n",
    "\n",
    "def findCompleteRows(n):\n",
    "    rows = int((sqrt(8 * n + 1) - 1) / 2)\n",
    "    return rows\n",
    "\n",
    "n = 5\n",
    "output = findCompleteRows(n)\n",
    "print(output)  "
   ]
  },
  {
   "cell_type": "code",
   "execution_count": 6,
   "id": "f2906c24-0b14-4977-a1f9-8ffee70e5438",
   "metadata": {},
   "outputs": [
    {
     "name": "stdout",
     "output_type": "stream",
     "text": [
      "2\n"
     ]
    }
   ],
   "source": [
    "def findCompleteRows(n):\n",
    "    row = 0\n",
    "    while n >= row + 1:\n",
    "        n -= row + 1\n",
    "        row += 1\n",
    "    return row\n",
    "\n",
    "n = 5\n",
    "output = findCompleteRows(n)\n",
    "print(output)  "
   ]
  },
  {
   "cell_type": "markdown",
   "id": "17e68874-138f-434e-8fd0-cc6c61181db3",
   "metadata": {},
   "source": [
    "<aside>\n",
    "💡 **Question 3**\n",
    "\n",
    "Given an integer array nums sorted in **non-decreasing** order, return *an array of **the squares of each number** sorted in non-decreasing order*.\n",
    "\n",
    "**Example 1:**\n",
    "\n",
    "**Input:** nums = [-4,-1,0,3,10]\n",
    "\n",
    "**Output:** [0,1,9,16,100]\n",
    "\n",
    "**Explanation:** After squaring, the array becomes [16,1,0,9,100].\n",
    "\n",
    "After sorting, it becomes [0,1,9,16,100].\n",
    "\n",
    "</aside>"
   ]
  },
  {
   "cell_type": "code",
   "execution_count": 7,
   "id": "41b578f7-16d1-44e2-beb3-c8d6f838ca3e",
   "metadata": {},
   "outputs": [
    {
     "name": "stdout",
     "output_type": "stream",
     "text": [
      "[0, 1, 9, 16, 100]\n"
     ]
    }
   ],
   "source": [
    "def sortedSquares(nums):\n",
    "    squared_nums = []\n",
    "    for num in nums:\n",
    "        squared_nums.append(num * num)\n",
    "    squared_nums.sort()\n",
    "    return squared_nums\n",
    "\n",
    "nums = [-4, -1, 0, 3, 10]\n",
    "output = sortedSquares(nums)\n",
    "print(output)  "
   ]
  },
  {
   "cell_type": "code",
   "execution_count": 8,
   "id": "5d19921d-8ec7-44fe-913f-e02a5072a257",
   "metadata": {},
   "outputs": [
    {
     "name": "stdout",
     "output_type": "stream",
     "text": [
      "[0, 1, 9, 16, 100]\n"
     ]
    }
   ],
   "source": [
    "def sortedSquares(nums):\n",
    "    squared_nums = [num * num for num in nums]\n",
    "    return sorted(squared_nums)\n",
    "\n",
    "nums = [-4, -1, 0, 3, 10]\n",
    "output = sortedSquares(nums)\n",
    "print(output)  "
   ]
  },
  {
   "cell_type": "markdown",
   "id": "4f40d11a-72c1-479b-b76e-bbd885971c84",
   "metadata": {},
   "source": [
    "<aside>\n",
    "💡 **Question 4**\n",
    "\n",
    "Given two **0-indexed** integer arrays nums1 and nums2, return *a list* answer *of size* 2 *where:*\n",
    "\n",
    "- answer[0] *is a list of all **distinct** integers in* nums1 *which are **not** present in* nums2*.*\n",
    "- answer[1] *is a list of all **distinct** integers in* nums2 *which are **not** present in* nums1.\n",
    "\n",
    "**Note** that the integers in the lists may be returned in **any** order.\n",
    "\n",
    "**Example 1:**\n",
    "\n",
    "**Input:** nums1 = [1,2,3], nums2 = [2,4,6]\n",
    "\n",
    "**Output:** [[1,3],[4,6]]\n",
    "\n",
    "**Explanation:**\n",
    "\n",
    "For nums1, nums1[1] = 2 is present at index 0 of nums2, whereas nums1[0] = 1 and nums1[2] = 3 are not present in nums2. Therefore, answer[0] = [1,3].\n",
    "\n",
    "For nums2, nums2[0] = 2 is present at index 1 of nums1, whereas nums2[1] = 4 and nums2[2] = 6 are not present in nums2. Therefore, answer[1] = [4,6].\n",
    "\n",
    "</aside>"
   ]
  },
  {
   "cell_type": "code",
   "execution_count": 9,
   "id": "e586be3d-5968-4167-b420-506462a7b6c1",
   "metadata": {},
   "outputs": [
    {
     "name": "stdout",
     "output_type": "stream",
     "text": [
      "[[1, 3], [4, 6]]\n"
     ]
    }
   ],
   "source": [
    "def findDisjoint(nums1, nums2):\n",
    "    set1 = set(nums1)\n",
    "    set2 = set(nums2)\n",
    "    diff1 = set1 - set2\n",
    "    diff2 = set2 - set1\n",
    "    return [list(diff1), list(diff2)]\n",
    "nums1 = [1, 2, 3]\n",
    "nums2 = [2, 4, 6]\n",
    "output = findDisjoint(nums1, nums2)\n",
    "print(output)  \n"
   ]
  },
  {
   "cell_type": "code",
   "execution_count": 10,
   "id": "382777ae-283c-4bc4-a722-e2a77cfe4a72",
   "metadata": {},
   "outputs": [
    {
     "name": "stdout",
     "output_type": "stream",
     "text": [
      "[[1, 3], [4, 6]]\n"
     ]
    }
   ],
   "source": [
    "def findDisjoint(nums1, nums2):\n",
    "    set1 = set(nums1)\n",
    "    set2 = set(nums2)\n",
    "    diff1 = list(set1 - set2)\n",
    "    diff2 = list(set2 - set1)\n",
    "    return [diff1, diff2]\n",
    "nums1 = [1, 2, 3]\n",
    "nums2 = [2, 4, 6]\n",
    "output = findDisjoint(nums1, nums2)\n",
    "print(output)  "
   ]
  },
  {
   "cell_type": "markdown",
   "id": "3ff6444a-1307-4f23-a831-42a766878b3b",
   "metadata": {},
   "source": [
    "<aside>\n",
    "💡 **Question 5**\n",
    "\n",
    "Given two integer arrays arr1 and arr2, and the integer d, *return the distance value between the two arrays*.\n",
    "\n",
    "The distance value is defined as the number of elements arr1[i] such that there is not any element arr2[j] where |arr1[i]-arr2[j]| <= d.\n",
    "\n",
    "**Example 1:**\n",
    "\n",
    "**Input:** arr1 = [4,5,8], arr2 = [10,9,1,8], d = 2\n",
    "\n",
    "**Output:** 2\n",
    "\n",
    "**Explanation:**\n",
    "\n",
    "For arr1[0]=4 we have:\n",
    "\n",
    "|4-10|=6 > d=2\n",
    "\n",
    "|4-9|=5 > d=2\n",
    "\n",
    "|4-1|=3 > d=2\n",
    "\n",
    "|4-8|=4 > d=2\n",
    "\n",
    "For arr1[1]=5 we have:\n",
    "\n",
    "|5-10|=5 > d=2\n",
    "\n",
    "|5-9|=4 > d=2\n",
    "\n",
    "|5-1|=4 > d=2\n",
    "\n",
    "|5-8|=3 > d=2\n",
    "\n",
    "For arr1[2]=8 we have:\n",
    "\n",
    "**|8-10|=2 <= d=2**\n",
    "\n",
    "**|8-9|=1 <= d=2**\n",
    "\n",
    "|8-1|=7 > d=2\n",
    "\n",
    "**|8-8|=0 <= d=2**\n",
    "\n",
    "</aside>"
   ]
  },
  {
   "cell_type": "code",
   "execution_count": 11,
   "id": "341bc428-f6e9-4258-99b4-e936ec071583",
   "metadata": {},
   "outputs": [
    {
     "name": "stdout",
     "output_type": "stream",
     "text": [
      "2\n"
     ]
    }
   ],
   "source": [
    "def findDistanceValue(arr1, arr2, d):\n",
    "    distance_count = 0\n",
    "    for num1 in arr1:\n",
    "        if not any(abs(num1 - num2) <= d for num2 in arr2):\n",
    "            distance_count += 1\n",
    "    return distance_count\n",
    "arr1 = [4, 5, 8]\n",
    "arr2 = [10, 9, 1, 8]\n",
    "d = 2\n",
    "output = findDistanceValue(arr1, arr2, d)\n",
    "print(output)  "
   ]
  },
  {
   "cell_type": "markdown",
   "id": "ac8b4f11-bba1-4358-a614-17db04a3f65f",
   "metadata": {},
   "source": [
    "<aside>\n",
    "💡 **Question 6**\n",
    "\n",
    "Given an integer array nums of length n where all the integers of nums are in the range [1, n] and each integer appears **once** or **twice**, return *an array of all the integers that appears **twice***.\n",
    "\n",
    "You must write an algorithm that runs in O(n) time and uses only constant extra space.\n",
    "\n",
    "**Example 1:**\n",
    "\n",
    "**Input:** nums = [4,3,2,7,8,2,3,1]\n",
    "\n",
    "**Output:**\n",
    "\n",
    "[2,3]\n",
    "\n",
    "</aside>"
   ]
  },
  {
   "cell_type": "code",
   "execution_count": 12,
   "id": "1ce416cb-1642-40aa-bcda-d7072894f49c",
   "metadata": {},
   "outputs": [
    {
     "name": "stdout",
     "output_type": "stream",
     "text": [
      "[2, 3]\n"
     ]
    }
   ],
   "source": [
    "def findDuplicates(nums):\n",
    "    result = []\n",
    "    for num in nums:\n",
    "        if nums.count(num) == 2:\n",
    "            result.append(num)\n",
    "    result=set(result)\n",
    "    result=list(result)\n",
    "    return result\n",
    "nums = [4, 3, 2, 7, 8, 2, 3, 1]\n",
    "output = findDuplicates(nums)\n",
    "print(output)"
   ]
  },
  {
   "cell_type": "markdown",
   "id": "1bf96588-68a9-40f9-8b6b-070fef6122a2",
   "metadata": {},
   "source": [
    "<aside>\n",
    "💡 **Question 7**\n",
    "\n",
    "Suppose an array of length n sorted in ascending order is **rotated** between 1 and n times. For example, the array nums = [0,1,2,4,5,6,7] might become:\n",
    "\n",
    "- [4,5,6,7,0,1,2] if it was rotated 4 times.\n",
    "- [0,1,2,4,5,6,7] if it was rotated 7 times.\n",
    "\n",
    "Notice that **rotating** an array [a[0], a[1], a[2], ..., a[n-1]] 1 time results in the array [a[n-1], a[0], a[1], a[2], ..., a[n-2]].\n",
    "\n",
    "Given the sorted rotated array nums of **unique** elements, return *the minimum element of this array*.\n",
    "\n",
    "You must write an algorithm that runs in O(log n) time.\n",
    "\n",
    "**Example 1:**\n",
    "\n",
    "**Input:** nums = [3,4,5,1,2]\n",
    "\n",
    "**Output:** 1\n",
    "\n",
    "**Explanation:**\n",
    "\n",
    "The original array was [1,2,3,4,5] rotated 3 times.\n",
    "\n",
    "</aside>"
   ]
  },
  {
   "cell_type": "code",
   "execution_count": 13,
   "id": "d52721c2-f4a9-461d-85f4-63e3eff46c6c",
   "metadata": {},
   "outputs": [
    {
     "name": "stdout",
     "output_type": "stream",
     "text": [
      "1\n"
     ]
    }
   ],
   "source": [
    "def findMin(nums):\n",
    "    left, right = 0, len(nums) - 1\n",
    "\n",
    "    while left < right:\n",
    "        mid = (left + right) // 2\n",
    "\n",
    "        if nums[mid] > nums[right]:\n",
    "            left = mid + 1\n",
    "        else:\n",
    "            right = mid\n",
    "\n",
    "    return nums[left]\n",
    "nums = [3, 4, 5, 1, 2]\n",
    "output = findMin(nums)\n",
    "print(output)"
   ]
  },
  {
   "cell_type": "code",
   "execution_count": 14,
   "id": "39707867-7c39-4c31-8f34-aa587c6b431c",
   "metadata": {},
   "outputs": [
    {
     "name": "stdout",
     "output_type": "stream",
     "text": [
      "1\n"
     ]
    }
   ],
   "source": [
    "def findMin(nums):\n",
    "    left, right = 0, len(nums) - 1\n",
    "\n",
    "    while left < right:\n",
    "        mid = (left + right) // 2\n",
    "\n",
    "        if nums[mid] > nums[right]:\n",
    "            left = mid + 1\n",
    "        else:\n",
    "            right = mid\n",
    "\n",
    "    return nums[left]\n",
    "nums = [3, 4, 5, 1, 2]\n",
    "output = findMin(nums)\n",
    "print(output)  "
   ]
  },
  {
   "cell_type": "markdown",
   "id": "92d48fa9-80d0-476b-b3df-eec7d02eb474",
   "metadata": {},
   "source": [
    "<aside>\n",
    "💡 **Question 8**\n",
    "\n",
    "An integer array original is transformed into a **doubled** array changed by appending **twice the value** of every element in original, and then randomly **shuffling** the resulting array.\n",
    "\n",
    "Given an array changed, return original *if* changed *is a **doubled** array. If* changed *is not a **doubled** array, return an empty array. The elements in* original *may be returned in **any** order*.\n",
    "\n",
    "**Example 1:**\n",
    "\n",
    "**Input:** changed = [1,3,4,2,6,8]\n",
    "\n",
    "**Output:** [1,3,4]\n",
    "\n",
    "**Explanation:** One possible original array could be [1,3,4]:\n",
    "\n",
    "- Twice the value of 1 is 1 * 2 = 2.\n",
    "- Twice the value of 3 is 3 * 2 = 6.\n",
    "- Twice the value of 4 is 4 * 2 = 8.\n",
    "\n",
    "Other original arrays could be [4,3,1] or [3,1,4].\n",
    "\n",
    "</aside>"
   ]
  },
  {
   "cell_type": "code",
   "execution_count": 15,
   "id": "adc5481e-14c3-43d4-8b3c-c47f814e3ed9",
   "metadata": {},
   "outputs": [
    {
     "name": "stdout",
     "output_type": "stream",
     "text": [
      "1 3 4 "
     ]
    }
   ],
   "source": [
    "def findOriginalArray(arr):\n",
    "    numFreq = {}\n",
    "\n",
    "    for i in range(len(arr)):\n",
    "        if arr[i] in numFreq:\n",
    "            numFreq[arr[i]] += 1\n",
    "        else:\n",
    "            numFreq[arr[i]] = 1\n",
    "\n",
    "    arr.sort()\n",
    "\n",
    "    res = []\n",
    "\n",
    "    for i in range(len(arr)):\n",
    "        freq = numFreq[arr[i]]\n",
    "        if freq > 0:\n",
    "            res.append(arr[i])\n",
    "            numFreq[arr[i]] -= 1\n",
    "            twice = 2 * arr[i]\n",
    "            numFreq[twice] -= 1\n",
    "\n",
    "    return res\n",
    "\n",
    "arr = [1, 3, 4, 2, 6, 8]\n",
    "res = findOriginalArray(arr)\n",
    "\n",
    "for i in range(len(res)):\n",
    "    print(res[i], end=\" \")\n"
   ]
  },
  {
   "cell_type": "code",
   "execution_count": 16,
   "id": "1a1fa935-3d9f-4817-aed2-91d02c42a75f",
   "metadata": {},
   "outputs": [
    {
     "name": "stdout",
     "output_type": "stream",
     "text": [
      "1 3 4\n"
     ]
    }
   ],
   "source": [
    "from collections import Counter\n",
    "\n",
    "def findOriginalArray(arr):\n",
    "    numFreq = Counter(arr)\n",
    "    res = []\n",
    "\n",
    "    for num in arr:\n",
    "        if numFreq[num] > 0 and numFreq[2*num] > 0:\n",
    "            res.append(num)\n",
    "            numFreq[num] -= 1\n",
    "            numFreq[2*num] -= 1\n",
    "\n",
    "    return res\n",
    "\n",
    "arr = [1, 3, 4, 2, 6, 8]\n",
    "res = findOriginalArray(arr)\n",
    "\n",
    "print(*res)\n"
   ]
  },
  {
   "cell_type": "code",
   "execution_count": null,
   "id": "3fc91e7a-3fc4-4f48-a740-1fa868fa825e",
   "metadata": {},
   "outputs": [],
   "source": []
  }
 ],
 "metadata": {
  "kernelspec": {
   "display_name": "Python 3 (ipykernel)",
   "language": "python",
   "name": "python3"
  },
  "language_info": {
   "codemirror_mode": {
    "name": "ipython",
    "version": 3
   },
   "file_extension": ".py",
   "mimetype": "text/x-python",
   "name": "python",
   "nbconvert_exporter": "python",
   "pygments_lexer": "ipython3",
   "version": "3.10.8"
  }
 },
 "nbformat": 4,
 "nbformat_minor": 5
}
