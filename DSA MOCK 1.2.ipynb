{
 "cells": [
  {
   "cell_type": "markdown",
   "id": "6cc7b947-6831-46ce-a622-b7d590adfc24",
   "metadata": {},
   "source": [
    "First Unique Character in a String\n",
    "\n",
    "Given a string s, find the first non-repeating character in it and return its index. If it does not exist, return -1.\n",
    "\n",
    "Example 1:\n",
    "Input: s = \"leetcode\"\n",
    "Output: 0\n",
    "\n",
    "Example 2:\n",
    "Input: s = \"loveleetcode\"\n",
    "Output: 2\n",
    "\n",
    "Example 3:\n",
    "Input: s = \"aabb\"\n",
    "Output: -1\n",
    "\n",
    "Constraints:\n",
    "a. 1 <= s.length <= 10^5\n",
    "b. s consists of only lowercase English letters."
   ]
  },
  {
   "cell_type": "code",
   "execution_count": 1,
   "id": "681c5835-9e84-4480-ae8e-405e51729744",
   "metadata": {},
   "outputs": [
    {
     "name": "stdout",
     "output_type": "stream",
     "text": [
      "0\n",
      "2\n",
      "-1\n"
     ]
    }
   ],
   "source": [
    "def firstUniqChar(s):\n",
    "    for char in s:\n",
    "        if s.count(char) == 1:\n",
    "            return s.index(char)\n",
    "    return -1\n",
    "s = \"leetcode\"\n",
    "result = firstUniqChar(s)\n",
    "print(result)  \n",
    "\n",
    "s = \"loveleetcode\"\n",
    "result1 = firstUniqChar(s)\n",
    "print(result1)  \n",
    "\n",
    "s = \"aabb\"\n",
    "result2 = firstUniqChar(s)\n",
    "print(result2)  \n"
   ]
  },
  {
   "cell_type": "code",
   "execution_count": null,
   "id": "026c97cd-a420-4803-8f9f-b9cf8947bfe5",
   "metadata": {},
   "outputs": [],
   "source": []
  }
 ],
 "metadata": {
  "kernelspec": {
   "display_name": "Python 3 (ipykernel)",
   "language": "python",
   "name": "python3"
  },
  "language_info": {
   "codemirror_mode": {
    "name": "ipython",
    "version": 3
   },
   "file_extension": ".py",
   "mimetype": "text/x-python",
   "name": "python",
   "nbconvert_exporter": "python",
   "pygments_lexer": "ipython3",
   "version": "3.10.8"
  }
 },
 "nbformat": 4,
 "nbformat_minor": 5
}
