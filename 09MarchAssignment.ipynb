{
 "cells": [
  {
   "cell_type": "markdown",
   "id": "ac9b47e1-2033-4174-9c4c-111b992bf66d",
   "metadata": {},
   "source": [
    "Q1: What are the Probability Mass Function (PMF) and Probability Density Function (PDF)? Explain with\n",
    "an example."
   ]
  },
  {
   "cell_type": "markdown",
   "id": "99e5573a-1a3b-49b6-83a0-18b03ca68b1a",
   "metadata": {},
   "source": [
    "Probability Mass Function (PMF) and Probability Density Function (PDF) are two important concepts in probability theory and statistics.\n",
    "\n",
    "A Probability Mass Function (PMF) is a function that gives the probability of discrete outcomes of a discrete random variable. In other words, it gives the probability that a random variable takes on a particular value. The PMF is defined as:\n",
    "\n",
    "P(X = x) = probability that the random variable X takes on the value x.\n",
    "\n",
    "Here, X is the random variable and x is a possible value that X can take. The PMF has some properties, including:\n",
    "\n",
    "The values of the PMF are between 0 and 1.\n",
    "The sum of the PMF over all possible values of X is equal to 1.\n",
    "For example, consider a random variable X that represents the outcome of rolling a fair six-sided die. The PMF of X is:\n",
    "\n",
    "P(X = 1) = 1/6\n",
    "P(X = 2) = 1/6\n",
    "P(X = 3) = 1/6\n",
    "P(X = 4) = 1/6\n",
    "P(X = 5) = 1/6\n",
    "P(X = 6) = 1/6\n",
    "\n",
    "The PMF of X gives the probability that the die roll will result in each possible outcome.\n",
    "\n",
    "On the other hand, a Probability Density Function (PDF) is a function that describes the probability distribution of a continuous random variable. In contrast to the PMF, the PDF cannot give the probability of a specific value of the continuous random variable. Instead, it gives the probability of the random variable being in a particular interval.\n",
    "\n",
    "The PDF is defined as:\n",
    "\n",
    "f(x) = probability density function of the random variable X at the point x.\n",
    "\n",
    "Here, X is the continuous random variable and x is a point on the real line. The PDF has some properties, including:\n",
    "\n",
    "The values of the PDF are non-negative.\n",
    "The integral of the PDF over the entire real line is equal to 1.\n",
    "For example, consider a continuous random variable X that represents the height of people in a population. The PDF of X might be a bell-shaped curve known as the normal distribution. The PDF of X gives the probability that a person's height falls within a particular range of values.\n",
    "\n",
    "In summary, the PMF is used for discrete random variables, while the PDF is used for continuous random variables. The PMF gives the probability of specific values, while the PDF gives the probability of intervals of values."
   ]
  },
  {
   "cell_type": "code",
   "execution_count": null,
   "id": "244dcb53-dc96-4ade-8db3-d45c37be9531",
   "metadata": {},
   "outputs": [],
   "source": []
  },
  {
   "cell_type": "markdown",
   "id": "574e7412-78e6-475f-bfd6-04062e330d84",
   "metadata": {},
   "source": [
    "Q2: What is Cumulative Density Function (CDF)? Explain with an example. Why CDF is used?"
   ]
  },
  {
   "cell_type": "markdown",
   "id": "66356e5d-c04f-428c-ac6d-987bbfff4a95",
   "metadata": {},
   "source": [
    "The Cumulative Density Function (CDF) is a statistical concept used to describe the distribution of a random variable. The CDF of a random variable X is defined as the probability that X takes a value less than or equal to a certain value x.\n",
    "\n",
    "Mathematically, the CDF is expressed as:\n",
    "\n",
    "F(x) = P(X ≤ x)\n",
    "\n",
    "where X is the random variable and F(x) is the cumulative probability function.\n",
    "\n",
    "For example, let's say we have a random variable X that represents the heights of a group of people in a particular population. The CDF for this variable would tell us the probability that a person selected at random from this population has a height less than or equal to a certain value x.\n",
    "\n",
    "Suppose we have the following data for the heights of 10 individuals in the population:\n",
    "\n",
    "5.2, 5.5, 5.8, 5.9, 6.0, 6.2, 6.4, 6.5, 6.8, 7.0\n",
    "\n",
    "To calculate the CDF for a specific height, say 6.2, we count the number of individuals with a height less than or equal to 6.2 and divide it by the total number of individuals in the population:\n",
    "\n",
    "F(6.2) = P(X ≤ 6.2) = (number of individuals with height ≤ 6.2) / (total number of individuals)\n",
    "\n",
    "In this case, there are 6 individuals with a height less than or equal to 6.2, so the CDF at 6.2 is:\n",
    "\n",
    "F(6.2) = 6/10 = 0.6\n",
    "\n",
    "The CDF is useful because it provides a complete description of the distribution of a random variable. It allows us to determine the probability of the random variable taking a value less than or equal to a certain value, which is useful in many applications, including hypothesis testing, prediction, and modeling. Additionally, the CDF can be used to calculate other statistical measures such as the mean and variance of the random variable."
   ]
  },
  {
   "cell_type": "code",
   "execution_count": null,
   "id": "a92d3f34-9698-4443-8f16-38fc2ceb1629",
   "metadata": {},
   "outputs": [],
   "source": []
  },
  {
   "cell_type": "markdown",
   "id": "65b02384-9f1f-47e6-ae53-671ef76f4b42",
   "metadata": {},
   "source": [
    "Q3: What are some examples of situations where the normal distribution might be used as a model?\n",
    "Explain how the parameters of the normal distribution relate to the shape of the distribution."
   ]
  },
  {
   "cell_type": "markdown",
   "id": "c9ae890a-bbd9-4c92-9c54-c8f5fa39bf3d",
   "metadata": {},
   "source": [
    "The normal distribution is a commonly used probability distribution in statistics and is used to model various real-world phenomena. Here are some examples of situations where the normal distribution might be used as a model:\n",
    "\n",
    "Heights: The heights of people in a population can often be modeled using a normal distribution.\n",
    "\n",
    "Test Scores: The scores on a standardized test can be modeled using a normal distribution, assuming that the test is designed to have a normal distribution of scores.\n",
    "\n",
    "Errors: In many fields, including engineering and physics, errors in measurements are often assumed to be normally distributed.\n",
    "\n",
    "Financial Markets: Returns on financial assets, such as stocks or bonds, are often assumed to follow a normal distribution.\n",
    "\n",
    "The normal distribution is characterized by two parameters: the mean, which represents the center of the distribution, and the standard deviation, which represents the spread of the distribution. The mean determines where the distribution is centered, while the standard deviation determines how spread out the distribution is.\n",
    "\n",
    "If the standard deviation is small, then the distribution will be narrow and tall, with most of the data clustered around the mean. If the standard deviation is large, then the distribution will be wide and flat, with the data spread out over a larger range of values. Additionally, the symmetry of the normal distribution means that the mean, median, and mode are all the same value, which is the peak of the distribution."
   ]
  },
  {
   "cell_type": "code",
   "execution_count": null,
   "id": "092062c8-773d-4ef1-84ec-2b9b37da0e1e",
   "metadata": {},
   "outputs": [],
   "source": []
  },
  {
   "cell_type": "markdown",
   "id": "4507a37c-affe-462a-9a22-6243dcaf4e99",
   "metadata": {},
   "source": [
    "Q4: Explain the importance of Normal Distribution. Give a few real-life examples of Normal\n",
    "Distribution."
   ]
  },
  {
   "cell_type": "markdown",
   "id": "62c7a554-1a0c-4099-b745-38477587f05a",
   "metadata": {},
   "source": [
    "Normal distribution, also known as Gaussian distribution, is an essential concept in statistics and probability theory. It is a continuous probability distribution that has a bell-shaped curve, with the majority of data points clustered around the mean, and few data points distributed towards the tails. Normal distribution is critical because it is the foundation of many statistical models, including regression analysis, hypothesis testing, and confidence intervals.\n",
    "\n",
    "One of the reasons why normal distribution is so important is because of the Central Limit Theorem. This theorem states that as the sample size increases, the distribution of sample means approaches a normal distribution, regardless of the shape of the population distribution. This means that normal distribution can be used to make predictions about a population based on a sample of data.\n",
    "\n",
    "Here are a few real-life examples of normal distribution:\n",
    "\n",
    "Height: The height of individuals in a population typically follows a normal distribution, with the majority of people being of average height, and few people being very short or very tall.\n",
    "\n",
    "Test Scores: The scores on a standardized test such as the SAT or ACT follow a normal distribution. This means that the majority of students score around the mean, and fewer students score significantly above or below the mean.\n",
    "\n",
    "IQ Scores: Intelligence quotient (IQ) scores also follow a normal distribution, with most people having an average IQ and fewer people having very high or very low IQ scores.\n",
    "\n",
    "Weight: The weight of individuals in a population also typically follows a normal distribution, with most people being of average weight and fewer people being very underweight or overweight.\n",
    "\n",
    "Blood Pressure: The distribution of blood pressure readings in a population follows a normal distribution, with most people having average blood pressure and fewer people having very high or very low blood pressure."
   ]
  },
  {
   "cell_type": "code",
   "execution_count": null,
   "id": "d085f776-6ff3-41e5-b045-83a4c9ff7109",
   "metadata": {},
   "outputs": [],
   "source": []
  },
  {
   "cell_type": "markdown",
   "id": "d96f1780-c7f2-4ea8-9e95-6165a658205b",
   "metadata": {},
   "source": [
    "Q5: What is Bernaulli Distribution? Give an Example. What is the difference between Bernoulli\n",
    "Distribution and Binomial Distribution?"
   ]
  },
  {
   "cell_type": "markdown",
   "id": "e097e9ce-388d-4b4c-a105-6d5611158f5a",
   "metadata": {},
   "source": [
    "Bernoulli Distribution is a discrete probability distribution that models the outcomes of a single binary experiment, where there are only two possible outcomes, usually labeled as \"success\" or \"failure\". The distribution is named after Swiss mathematician Jakob Bernoulli.\n",
    "\n",
    "The Bernoulli distribution has a probability mass function (PMF) of:\n",
    "\n",
    "P(X=k) = p^k * (1-p)^(1-k) for k=0,1\n",
    "\n",
    "where p is the probability of success and 1-p is the probability of failure. The distribution has a mean of p and a variance of p(1-p).\n",
    "\n",
    "An example of a Bernoulli distribution is a coin toss, where heads may be labeled as success and tails as failure. Here, p=0.5 since the probability of getting heads or tails is equal.\n",
    "\n",
    "The Binomial Distribution is a discrete probability distribution that models the number of successes in a fixed number of independent Bernoulli trials. It is a generalization of the Bernoulli distribution.\n",
    "\n",
    "The binomial distribution has a probability mass function (PMF) of:\n",
    "\n",
    "P(X=k) = (n choose k) * p^k * (1-p)^(n-k) for k=0,1,2,...,n\n",
    "\n",
    "where n is the number of trials, p is the probability of success in each trial, (n choose k) is the binomial coefficient that represents the number of ways to choose k successes from n trials. The distribution has a mean of np and a variance of np(1-p).\n",
    "\n",
    "The main difference between the Bernoulli distribution and the binomial distribution is that the Bernoulli distribution models a single binary trial, while the binomial distribution models multiple binary trials. The binomial distribution is a sum of independent and identically distributed Bernoulli random variables. Additionally, in the Bernoulli distribution, the parameter p is fixed and represents the probability of success in a single trial, whereas in the binomial distribution, the parameter p represents the probability of success in each trial, which can be different in different trials."
   ]
  },
  {
   "cell_type": "code",
   "execution_count": null,
   "id": "aaa0389b-493e-4907-984f-cb413bae046d",
   "metadata": {},
   "outputs": [],
   "source": []
  },
  {
   "cell_type": "markdown",
   "id": "353d97fe-8ec1-4c4f-9c68-cf42dee213c9",
   "metadata": {},
   "source": [
    "Q6. Consider a dataset with a mean of 50 and a standard deviation of 10. If we assume that the dataset\n",
    "is normally distributed, what is the probability that a randomly selected observation will be greater\n",
    "than 60? Use the appropriate formula and show your calculations."
   ]
  },
  {
   "cell_type": "markdown",
   "id": "393ccbb4-93ad-499b-92d8-2e7ae32ac7eb",
   "metadata": {},
   "source": [
    "The z-score formula is:\n",
    "\n",
    "z = (x - μ) / σ\n",
    "\n",
    "where z is the z-score, x is the observed value, μ is the mean, and σ is the standard deviation.\n",
    "\n",
    "In this case, we want to find the z-score for x = 60, so:\n",
    "\n",
    "z = (60 - 50) / 10\n",
    "z = 1\n",
    "\n",
    "We can use the standard normal distribution table to find the probability of a z-score of 1 or greater. The table shows that the probability of a z-score of 1 or greater is 0.1587.\n",
    "\n",
    "Therefore, the probability that a randomly selected observation from the dataset will be greater than 60 is 0.1587 or approximately 15.87%."
   ]
  },
  {
   "cell_type": "code",
   "execution_count": null,
   "id": "686baac3-6d2e-4250-aacd-6448daf7ee0e",
   "metadata": {},
   "outputs": [],
   "source": []
  },
  {
   "cell_type": "markdown",
   "id": "37b99644-5a05-42a1-a409-634d25ce0286",
   "metadata": {},
   "source": [
    "Q7: Explain uniform Distribution with an example."
   ]
  },
  {
   "cell_type": "markdown",
   "id": "c73aa9c6-3f7c-4cbb-b451-ed9ab346d1d8",
   "metadata": {},
   "source": [
    "In probability theory and statistics, a uniform distribution is a continuous probability distribution in which all values in a given range are equally likely to be observed. In other words, each value within the range has the same probability of being chosen.\n",
    "\n",
    "For example, suppose we roll a fair six-sided die. Each outcome, i.e., 1, 2, 3, 4, 5, or 6, has an equal probability of 1/6 of being rolled. This is an example of a discrete uniform distribution.\n",
    "\n",
    "Now, let's consider a continuous uniform distribution with a range from 0 to 10. Any value between 0 and 10, including the endpoints, has an equal probability of being chosen. The probability density function of a continuous uniform distribution is given by:\n",
    "\n",
    "f(x) = 1/(b-a) , for a <= x <= b\n",
    "\n",
    "where a is the minimum value in the range, b is the maximum value in the range, and f(x) is the probability density function.\n",
    "\n",
    "For instance, suppose we want to select a random number from 0 to 10 using a random number generator that follows a uniform distribution. Each value in the range from 0 to 10 has an equal chance of being chosen, and the probability of selecting any value within this range is the same.\n",
    "\n",
    "Therefore, a uniform distribution is a useful distribution to model situations in which each outcome in a given range is equally likely to occur."
   ]
  },
  {
   "cell_type": "code",
   "execution_count": null,
   "id": "008a9560-d79e-4f5b-bcb8-50f101d609fd",
   "metadata": {},
   "outputs": [],
   "source": []
  },
  {
   "cell_type": "markdown",
   "id": "a99e036a-bf94-40f0-b10d-5e8ab5c5b7e0",
   "metadata": {},
   "source": [
    "Q8: What is the z score? State the importance of the z score."
   ]
  },
  {
   "cell_type": "markdown",
   "id": "1aea9f1e-67f8-45b8-b96f-5bbbb6ffa7db",
   "metadata": {},
   "source": [
    "The z-score is a statistical measure that indicates how many standard deviations an observation or data point is away from the mean of the dataset. It is calculated by subtracting the mean of the dataset from the observed value and then dividing the result by the standard deviation of the dataset.\n",
    "\n",
    "The formula for calculating the z-score is:\n",
    "\n",
    "z = (x - μ) / σ\n",
    "\n",
    "where:\n",
    "\n",
    "z is the z-score\n",
    "x is the observed value\n",
    "μ is the mean of the dataset\n",
    "σ is the standard deviation of the dataset\n",
    "\n",
    "\n",
    "The importance of the z-score is that it allows us to standardize data and compare observations from different datasets that have different units of measurement or scales. By converting raw data into z-scores, we can make meaningful comparisons between different observations and determine how extreme or unusual a particular observation is compared to the rest of the dataset. This is particularly useful in fields such as finance, engineering, and social sciences where data analysis is crucial for decision-making. Additionally, z-scores are used in hypothesis testing and calculating confidence intervals, which are important statistical techniques for making inferences about a population based on a sample of data.\n",
    "\n",
    "\n",
    "1. To convert from normal distribution to standard normal distribution\n",
    "\n",
    "2. To find area under the curve when mean and standard deviation is either known or can be calculated."
   ]
  },
  {
   "cell_type": "code",
   "execution_count": null,
   "id": "44e06070-ac94-4f9e-a9f3-0cf410c3dd07",
   "metadata": {},
   "outputs": [],
   "source": []
  },
  {
   "cell_type": "markdown",
   "id": "719daae3-25d3-4c73-80dc-9628a68240d9",
   "metadata": {},
   "source": [
    "Q9: What is Central Limit Theorem? State the significance of the Central Limit Theorem."
   ]
  },
  {
   "cell_type": "markdown",
   "id": "cde32bb6-e880-421d-9887-db87674a92b9",
   "metadata": {},
   "source": [
    "The Central Limit Theorem (CLT) is a statistical theory that states that, regardless of the underlying distribution of a random variable, the sampling distribution of the mean of a sufficiently large sample drawn from that distribution will be approximately normal. In other words, the CLT states that as the sample size increases, the distribution of sample means will converge to a normal distribution, regardless of the original distribution of the population.\n",
    "\n",
    "The significance of the CLT is that it provides a framework for making statistical inferences about the population mean based on the sample mean. It enables researchers to estimate the population mean and make inferences about it even when they only have access to a limited sample of data. The CLT also underlies many statistical methods, such as hypothesis testing, confidence intervals, and regression analysis, which are widely used in various fields, including social sciences, engineering, finance, and medicine.\n",
    "\n",
    "Moreover, the CLT is also important in quality control and process improvement. In manufacturing, for instance, the CLT can be used to monitor the performance of a production process and ensure that the products meet the desired specifications. The CLT can also help in decision-making by providing a basis for evaluating the reliability of data and testing the validity of assumptions about the population."
   ]
  },
  {
   "cell_type": "code",
   "execution_count": null,
   "id": "e1de8fb3-f4f5-41a6-ac3a-235b0e039d0c",
   "metadata": {},
   "outputs": [],
   "source": []
  },
  {
   "cell_type": "markdown",
   "id": "d0925e94-6a24-4f12-b069-7c062c78f525",
   "metadata": {},
   "source": [
    "Q10: State the assumptions of the Central Limit Theorem."
   ]
  },
  {
   "cell_type": "markdown",
   "id": "698980ff-391d-4706-bbd8-4eed439c97c9",
   "metadata": {},
   "source": [
    "The Central Limit Theorem (CLT) is a fundamental concept in statistics that explains the behavior of the sample mean and its distribution. The assumptions of the CLT are as follows:\n",
    "\n",
    "The sample size should be large enough: The sample size n should be sufficiently large to ensure that the distribution of the sample means approaches a normal distribution.\n",
    "\n",
    "Independence: The sample observations should be independent of each other. This means that the selection of one observation should not affect the selection of another observation.\n",
    "\n",
    "Identical distribution: The population should have a finite variance and the observations in the sample should be drawn from the same distribution.\n",
    "\n",
    "The sample size is not greater than 10% of the population size: If the sample size is greater than 10% of the population size, it can cause a sampling bias and affect the accuracy of the sample mean.\n",
    "\n",
    "The Central Limit Theorem allows us to estimate the population mean and variance, even when the population distribution is unknown."
   ]
  },
  {
   "cell_type": "markdown",
   "id": "a36fb26e-693a-43f2-936e-57f5d3a165db",
   "metadata": {},
   "source": []
  }
 ],
 "metadata": {
  "kernelspec": {
   "display_name": "Python 3 (ipykernel)",
   "language": "python",
   "name": "python3"
  },
  "language_info": {
   "codemirror_mode": {
    "name": "ipython",
    "version": 3
   },
   "file_extension": ".py",
   "mimetype": "text/x-python",
   "name": "python",
   "nbconvert_exporter": "python",
   "pygments_lexer": "ipython3",
   "version": "3.10.8"
  }
 },
 "nbformat": 4,
 "nbformat_minor": 5
}
