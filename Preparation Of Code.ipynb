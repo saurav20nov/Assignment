{
 "cells": [
  {
   "cell_type": "markdown",
   "id": "aec0dea2-a7db-4684-aef4-48bbf04cd65a",
   "metadata": {},
   "source": [
    "1. Write a Python program to reverse a string without using any built-in string reversal functions.\n"
   ]
  },
  {
   "cell_type": "code",
   "execution_count": 1,
   "id": "d11b70dc-712e-49f9-9bf7-2feed40392bb",
   "metadata": {},
   "outputs": [
    {
     "data": {
      "text/plain": [
       "'IHSKAS'"
      ]
     },
     "execution_count": 1,
     "metadata": {},
     "output_type": "execute_result"
    }
   ],
   "source": [
    "string=\"SAKSHI\"\n",
    "string[::-1]"
   ]
  },
  {
   "cell_type": "markdown",
   "id": "ee7796af-6ac7-4807-891b-635201111853",
   "metadata": {},
   "source": [
    "2. Implement a function to check if a given string is a palindrome.\n"
   ]
  },
  {
   "cell_type": "code",
   "execution_count": 2,
   "id": "865942b9-c0c1-48b7-8040-4408ba50ef02",
   "metadata": {},
   "outputs": [
    {
     "data": {
      "text/plain": [
       "'palindrome'"
      ]
     },
     "execution_count": 2,
     "metadata": {},
     "output_type": "execute_result"
    }
   ],
   "source": [
    "def palin(string):\n",
    "    if string==string[::-1]:\n",
    "        return \"palindrome\"\n",
    "    else :\n",
    "        return \"not a palindrome\"\n",
    "s=\"civic\"\n",
    "palin(s)"
   ]
  },
  {
   "cell_type": "markdown",
   "id": "19380b4e-cde2-4782-8377-96fe7826dc8b",
   "metadata": {},
   "source": [
    "3. Write a program to find the largest element in a given list.\n"
   ]
  },
  {
   "cell_type": "code",
   "execution_count": 3,
   "id": "b05e3ed1-8dd1-4c4a-a5bb-79526a3846ae",
   "metadata": {},
   "outputs": [
    {
     "data": {
      "text/plain": [
       "11"
      ]
     },
     "execution_count": 3,
     "metadata": {},
     "output_type": "execute_result"
    }
   ],
   "source": [
    "l=[1,5,3,8,2,9,11,6]\n",
    "max(l)"
   ]
  },
  {
   "cell_type": "code",
   "execution_count": 4,
   "id": "ab7258d6-6d9c-455c-9bb3-5514cfced1a2",
   "metadata": {},
   "outputs": [
    {
     "data": {
      "text/plain": [
       "11"
      ]
     },
     "execution_count": 4,
     "metadata": {},
     "output_type": "execute_result"
    }
   ],
   "source": [
    "l=[1,5,3,8,2,9,11,6]\n",
    "l.sort()\n",
    "l[-1]"
   ]
  },
  {
   "cell_type": "markdown",
   "id": "0e6a165f-4c4f-4c93-bc54-dce8bb790040",
   "metadata": {},
   "source": [
    "4. Implement a function to count the occurrence of each element in a list.\n"
   ]
  },
  {
   "cell_type": "code",
   "execution_count": 5,
   "id": "5123e994-de00-46fa-9c46-8cd1077a2c8c",
   "metadata": {},
   "outputs": [
    {
     "name": "stdout",
     "output_type": "stream",
     "text": [
      "1 occur 5 times\n",
      "2 occur 4 times\n",
      "3 occur 2 times\n",
      "5 occur 4 times\n",
      "7 occur 1 times\n",
      "8 occur 1 times\n",
      "9 occur 1 times\n"
     ]
    }
   ],
   "source": [
    "l=[1,2,3,1,2,5,7,3,2,1,5,1,2,5,8,9,1,5]\n",
    "s1=set(l)\n",
    "s=list(s1) \n",
    "\n",
    "for i in range(len(s)):\n",
    "    \n",
    "    print(f\"{s[i]} occur {l.count(s[i])} times\")\n"
   ]
  },
  {
   "cell_type": "markdown",
   "id": "7b39ba21-ac0d-4390-a95a-8678cbcc8cac",
   "metadata": {},
   "source": [
    "5. Write a Python program to find the second largest number in a list.\n"
   ]
  },
  {
   "cell_type": "code",
   "execution_count": 6,
   "id": "a33a050d-a119-464b-aa24-ee9709579192",
   "metadata": {},
   "outputs": [
    {
     "name": "stdout",
     "output_type": "stream",
     "text": [
      "second max no 8\n"
     ]
    }
   ],
   "source": [
    "l=[1,2,3,1,2,5,7,3,2,1,5,1,2,5,8,9,1,5]\n",
    "s=max(l)\n",
    "while s in l:\n",
    "    l.remove(9)\n",
    "print(\"second max no\" ,max(l))"
   ]
  },
  {
   "cell_type": "code",
   "execution_count": 7,
   "id": "8f7f6bc6-55d3-4362-bf43-0b53caa1c524",
   "metadata": {},
   "outputs": [
    {
     "name": "stdout",
     "output_type": "stream",
     "text": [
      "second max no 8\n"
     ]
    }
   ],
   "source": [
    "l=[1,2,3,1,2,5,7,3,2,1,5,1,2,5,8,9,1,5]\n",
    "s1=set(l)\n",
    "l1=list(s1)\n",
    "\n",
    "print(\"second max no\" , l1[-2] )"
   ]
  },
  {
   "cell_type": "markdown",
   "id": "9bf4f6f7-a185-4ec0-a24e-899baeec2a1f",
   "metadata": {},
   "source": [
    "6. Implement a function to remove duplicate elements from a list."
   ]
  },
  {
   "cell_type": "code",
   "execution_count": 8,
   "id": "50f9f1f5-ee96-4a08-84da-ea8491f420f1",
   "metadata": {},
   "outputs": [
    {
     "data": {
      "text/plain": [
       "[1, 2, 3, 5, 7, 8, 9]"
      ]
     },
     "execution_count": 8,
     "metadata": {},
     "output_type": "execute_result"
    }
   ],
   "source": [
    "l=[1,2,3,1,2,5,7,3,2,1,5,1,2,5,8,9,1,5]\n",
    "s1=set(l)\n",
    "l1=list(s1)\n",
    "l1"
   ]
  },
  {
   "cell_type": "code",
   "execution_count": 9,
   "id": "2a798816-64ab-4a21-ad4f-c416c181e59e",
   "metadata": {},
   "outputs": [
    {
     "data": {
      "text/plain": [
       "[1, 2, 3, 5, 7, 8, 9]"
      ]
     },
     "execution_count": 9,
     "metadata": {},
     "output_type": "execute_result"
    }
   ],
   "source": [
    "def remove_duplicate(l):\n",
    "    s1=set(l)\n",
    "    l1=list(s1)\n",
    "    return l1\n",
    "    \n",
    "l=[1,2,3,1,2,5,7,3,2,1,5,1,2,5,8,9,1,5]\n",
    "remove_duplicate(l)"
   ]
  },
  {
   "cell_type": "markdown",
   "id": "16806eea-a9d2-4430-bf09-aa45d5a47e6b",
   "metadata": {},
   "source": [
    "7. Write a program to calculate the factorial of a given number.\n"
   ]
  },
  {
   "cell_type": "code",
   "execution_count": 10,
   "id": "0effa7dd-3846-48de-b10a-ab54285bb086",
   "metadata": {},
   "outputs": [
    {
     "name": "stdin",
     "output_type": "stream",
     "text": [
      " 5\n"
     ]
    },
    {
     "name": "stdout",
     "output_type": "stream",
     "text": [
      "The factorial of 5 is 120\n"
     ]
    }
   ],
   "source": [
    "num=int(input())\n",
    "f=1\n",
    "if num<0:\n",
    "    print(\"not defined\")\n",
    "elif num==0:\n",
    "    print(\"factorial of o is 1\")\n",
    "else:\n",
    "    for i in range(1,num+1):\n",
    "        f=f  *   i\n",
    "    print(f\"The factorial of {num} is {f}\")"
   ]
  },
  {
   "cell_type": "markdown",
   "id": "134251bb-5d9e-4223-8a8a-b441576c51a2",
   "metadata": {},
   "source": [
    "8. Implement a function to check if a given number is prime.\n"
   ]
  },
  {
   "cell_type": "code",
   "execution_count": 11,
   "id": "13244877-03ac-4d97-a6d0-659bb5bcbce0",
   "metadata": {},
   "outputs": [
    {
     "name": "stdin",
     "output_type": "stream",
     "text": [
      " 17\n"
     ]
    },
    {
     "name": "stdout",
     "output_type": "stream",
     "text": [
      "prime\n"
     ]
    }
   ],
   "source": [
    "flag=False\n",
    "num=int(input())\n",
    "if num<2:\n",
    "    print(\"Not a prime\")\n",
    "elif num==2:\n",
    "    print(\"It is a prime\")\n",
    "else :\n",
    "    for i in range(2,num): # (2 ,5)\n",
    "        if (num % i)==0:\n",
    "            5  % 5\n",
    "            \n",
    "            flag=True\n",
    "            break\n",
    "    if flag:\n",
    "        print(\"Not a Prime\")\n",
    "    else :\n",
    "        print(\"prime\")\n",
    "        \n",
    "\n"
   ]
  },
  {
   "cell_type": "markdown",
   "id": "2c691ad2-a4d9-4457-b492-5eded848ae8b",
   "metadata": {},
   "source": [
    "9. Write a Python program to sort a list of integers in ascending order.\n"
   ]
  },
  {
   "cell_type": "code",
   "execution_count": 12,
   "id": "fbf97491-9254-4f23-a252-6b19de2e7723",
   "metadata": {},
   "outputs": [
    {
     "data": {
      "text/plain": [
       "'In Ascending Order [1, 2, 5, 7, 8]'"
      ]
     },
     "execution_count": 12,
     "metadata": {},
     "output_type": "execute_result"
    }
   ],
   "source": [
    "def sort_acs(l):\n",
    "    l.sort()\n",
    "    return f\"In Ascending Order {l}\"\n",
    "l5=[5,2,8,7,1]\n",
    "sort_acs(l5)"
   ]
  },
  {
   "cell_type": "code",
   "execution_count": 13,
   "id": "c8cc0607-0f94-4996-869c-ef7d86a26b02",
   "metadata": {},
   "outputs": [
    {
     "data": {
      "text/plain": [
       "[1, 2, 5, 7, 8]"
      ]
     },
     "execution_count": 13,
     "metadata": {},
     "output_type": "execute_result"
    }
   ],
   "source": [
    "def sort_asc(l1):\n",
    "    for i in range (0,len(l1)):   #0   5 \n",
    "        for j in range (i+1,len(l1)):   # 1   2\n",
    "            if (l1[i]>l1[j]):     #5>2\n",
    "                temp=l1[i]     # 5\n",
    "                l1[i]=l1[j]  #  2\n",
    "                l1[j]=temp    # 5\n",
    "    return l1\n",
    "l=[5,2,8,7,1]\n",
    "sort_asc(l)"
   ]
  },
  {
   "cell_type": "markdown",
   "id": "97c8915c-b4b2-4c1c-a29c-e45a3fa35789",
   "metadata": {},
   "source": [
    "10. Implement a function to find the sum of all numbers in a list.\n"
   ]
  },
  {
   "cell_type": "code",
   "execution_count": 14,
   "id": "08a67357-6647-4ea5-8ca8-3efbad078aad",
   "metadata": {},
   "outputs": [
    {
     "data": {
      "text/plain": [
       "23"
      ]
     },
     "execution_count": 14,
     "metadata": {},
     "output_type": "execute_result"
    }
   ],
   "source": [
    "l=[5,2,8,7,1]\n",
    "sum(l)"
   ]
  },
  {
   "cell_type": "code",
   "execution_count": 15,
   "id": "301b34e5-a741-45ca-b52b-bf1e2a828bb7",
   "metadata": {},
   "outputs": [
    {
     "data": {
      "text/plain": [
       "23"
      ]
     },
     "execution_count": 15,
     "metadata": {},
     "output_type": "execute_result"
    }
   ],
   "source": [
    "def total_sum(l):\n",
    "    return sum(l)\n",
    "l=[5,2,8,7,1]\n",
    "total_sum(l)"
   ]
  },
  {
   "cell_type": "code",
   "execution_count": 16,
   "id": "3962f136-e617-4441-9996-7da72938d752",
   "metadata": {},
   "outputs": [
    {
     "data": {
      "text/plain": [
       "23"
      ]
     },
     "execution_count": 16,
     "metadata": {},
     "output_type": "execute_result"
    }
   ],
   "source": [
    "def total_sum(l):\n",
    "    total=0\n",
    "    for i in range(0,len(l)):\n",
    "        total=total + l[i]\n",
    "    return total\n",
    "\n",
    "l=[5,2,8,7,1]\n",
    "total_sum(l)"
   ]
  },
  {
   "cell_type": "markdown",
   "id": "cfdac9a3-9e98-405f-9152-a92910b94317",
   "metadata": {},
   "source": [
    "11. Write a program to find the common elements between two lists.\n"
   ]
  },
  {
   "cell_type": "code",
   "execution_count": 17,
   "id": "f6e708e4-8f7f-44f4-8ea5-ff9eb4c223fa",
   "metadata": {},
   "outputs": [
    {
     "data": {
      "text/plain": [
       "[1, 4, 6]"
      ]
     },
     "execution_count": 17,
     "metadata": {},
     "output_type": "execute_result"
    }
   ],
   "source": [
    "l1=[1,6,4]\n",
    "l2=[11,1,2,15,6,4]\n",
    "l3=[]\n",
    "for i in l1:\n",
    "    for j in l2:\n",
    "        if i==j:\n",
    "            l3.append(i)\n",
    "\n",
    "l3=set(l3)\n",
    "l3=list(l3)\n",
    "l3"
   ]
  },
  {
   "cell_type": "code",
   "execution_count": 18,
   "id": "dfd85b00-da14-4424-939f-98b922fa29de",
   "metadata": {},
   "outputs": [
    {
     "data": {
      "text/plain": [
       "[1, 4, 6]"
      ]
     },
     "execution_count": 18,
     "metadata": {},
     "output_type": "execute_result"
    }
   ],
   "source": [
    "l1=[1,6,4]\n",
    "l2=[11,1,2,15,6,4]\n",
    "l3=[]\n",
    "for i in range(len(l1)):\n",
    "    for j in range(len(l2)):\n",
    "        if l1[i]==l2[j]:\n",
    "            l3.append(l1[i])\n",
    "\n",
    "l3=set(l3)\n",
    "l3=list(l3)\n",
    "l3"
   ]
  },
  {
   "cell_type": "markdown",
   "id": "705e7a6f-d467-4dc1-860b-812747779f84",
   "metadata": {},
   "source": [
    "12. Implement a function to check if a given string is an anagram of another string."
   ]
  },
  {
   "cell_type": "code",
   "execution_count": 19,
   "id": "486f80df-cecf-4a6a-be3f-eedf8b3a0a7e",
   "metadata": {},
   "outputs": [
    {
     "name": "stdout",
     "output_type": "stream",
     "text": [
      "anagram\n"
     ]
    }
   ],
   "source": [
    "s=\"listen\"\n",
    "t=\"silent\"\n",
    "\n",
    "if sorted(s)==sorted(t):\n",
    "    print(\"anagram\")\n",
    "else:\n",
    "    print(\"Not Anagram\")"
   ]
  },
  {
   "cell_type": "markdown",
   "id": "adc86f21-238d-4863-9bfd-47f6facd0f3b",
   "metadata": {},
   "source": [
    "13. Write a Python program to generate all permutations of a given string.\n"
   ]
  },
  {
   "cell_type": "code",
   "execution_count": 20,
   "id": "ac40c70d-0055-4aea-a99c-11bb056910ab",
   "metadata": {},
   "outputs": [
    {
     "name": "stdout",
     "output_type": "stream",
     "text": [
      "ABC\n",
      "ACB\n",
      "BAC\n",
      "BCA\n",
      "CAB\n",
      "CBA\n"
     ]
    }
   ],
   "source": [
    "from itertools import permutations\n",
    "\n",
    "s=\"ABC\"\n",
    "l=list(permutations(s))\n",
    "\n",
    "for i in l:\n",
    "    print(\"\".join(i))"
   ]
  },
  {
   "cell_type": "markdown",
   "id": "ef678698-5789-4e54-9bff-2991ee0734b6",
   "metadata": {},
   "source": [
    "14. Implement a function to calculate the Fibonacci sequence up to a given number of terms."
   ]
  },
  {
   "cell_type": "code",
   "execution_count": 21,
   "id": "2922883f-ec79-417e-8e52-1de3d329c129",
   "metadata": {},
   "outputs": [
    {
     "name": "stdout",
     "output_type": "stream",
     "text": [
      "0 1 1 2 3 5 8 13 21 34 "
     ]
    }
   ],
   "source": [
    "n1,n2=0,1\n",
    "num=10\n",
    "print(n1,n2,end=\" \")\n",
    "for i in range(2,num):\n",
    "    n3=n1+n2\n",
    "    \n",
    "    n1=n2\n",
    "    n2=n3\n",
    "    print(n3,end=\" \")\n",
    "    "
   ]
  },
  {
   "cell_type": "markdown",
   "id": "d1769467-8521-445c-82d8-182570c15482",
   "metadata": {},
   "source": [
    "15. Write a program to find the median of a list of numbers.\n"
   ]
  },
  {
   "cell_type": "markdown",
   "id": "75d0ed06-c3f0-46f0-b46a-d101d1205172",
   "metadata": {},
   "source": [
    "l1=[1,2,3,4,5,6,7,8,9]\n",
    "import numpy as np\n",
    "np.median(l1)"
   ]
  },
  {
   "cell_type": "code",
   "execution_count": 22,
   "id": "c0848978-47c6-4bdd-b25f-bed589ee9853",
   "metadata": {},
   "outputs": [
    {
     "data": {
      "text/plain": [
       "4"
      ]
     },
     "execution_count": 22,
     "metadata": {},
     "output_type": "execute_result"
    }
   ],
   "source": [
    "import statistics \n",
    "statistics.median(l1)"
   ]
  },
  {
   "cell_type": "markdown",
   "id": "1fe8632c-a8a4-4f73-b7b2-377d98c1b40d",
   "metadata": {},
   "source": [
    "16. Implement a function to check if a given list is sorted in non-decreasing order."
   ]
  },
  {
   "cell_type": "markdown",
   "id": "b71f3095-39ec-43af-b0f2-0dabf475a723",
   "metadata": {},
   "source": [
    "l=[4,2,3] = non dreasing    yes    \n",
    "4 3 2 = decerasing  false"
   ]
  },
  {
   "cell_type": "code",
   "execution_count": 23,
   "id": "39c536b7-71cd-469f-ad9a-a607171e6a5f",
   "metadata": {},
   "outputs": [],
   "source": [
    "l=[4,2,3]"
   ]
  },
  {
   "cell_type": "code",
   "execution_count": 24,
   "id": "4ae9b8b4-a88f-417c-913e-c8874bd7bd79",
   "metadata": {},
   "outputs": [],
   "source": [
    "l1=l.copy()"
   ]
  },
  {
   "cell_type": "code",
   "execution_count": 25,
   "id": "d99054d1-a972-4ea1-9e44-a2853d855eac",
   "metadata": {},
   "outputs": [],
   "source": [
    "l1.sort()"
   ]
  },
  {
   "cell_type": "code",
   "execution_count": 26,
   "id": "fd4ecbef-443a-4f83-a7db-590c2d9302f9",
   "metadata": {},
   "outputs": [
    {
     "data": {
      "text/plain": [
       "[2, 3, 4]"
      ]
     },
     "execution_count": 26,
     "metadata": {},
     "output_type": "execute_result"
    }
   ],
   "source": [
    "l1"
   ]
  },
  {
   "cell_type": "code",
   "execution_count": 27,
   "id": "e171f124-4336-4a4e-a155-a683fbcf6434",
   "metadata": {},
   "outputs": [],
   "source": [
    "l1.reverse()"
   ]
  },
  {
   "cell_type": "code",
   "execution_count": 28,
   "id": "59eaf13d-48c5-47e1-b861-782a016271f8",
   "metadata": {},
   "outputs": [
    {
     "name": "stdout",
     "output_type": "stream",
     "text": [
      "True\n"
     ]
    }
   ],
   "source": [
    "if l!=l1:\n",
    "    print(\"True\")\n",
    "else:\n",
    "    print(\"False\")"
   ]
  },
  {
   "cell_type": "markdown",
   "id": "a562f399-b269-4eb0-853d-e05276a0ef06",
   "metadata": {},
   "source": [
    "17. Write a Python program to find the intersection of two lists."
   ]
  },
  {
   "cell_type": "code",
   "execution_count": 29,
   "id": "452999de-f68b-4683-92cf-d3334b56fcc0",
   "metadata": {},
   "outputs": [],
   "source": [
    "l=[1,3,6,7,9]\n",
    "l1=[2,6,10,11,15]\n"
   ]
  },
  {
   "cell_type": "code",
   "execution_count": 30,
   "id": "02a4a02c-b47b-48ac-a889-2d111f15ca58",
   "metadata": {},
   "outputs": [],
   "source": [
    "l=set(l)\n",
    "l1=set(l1)"
   ]
  },
  {
   "cell_type": "code",
   "execution_count": 31,
   "id": "73fce0bd-d771-4fe4-b387-9c387e2e0c3a",
   "metadata": {},
   "outputs": [
    {
     "data": {
      "text/plain": [
       "{6}"
      ]
     },
     "execution_count": 31,
     "metadata": {},
     "output_type": "execute_result"
    }
   ],
   "source": [
    "l.intersection(l1)"
   ]
  },
  {
   "cell_type": "markdown",
   "id": "8dc56e78-503e-4178-b431-5820c0b070a3",
   "metadata": {},
   "source": [
    "18. Implement a function to find the maximum subarray sum in a given list."
   ]
  },
  {
   "cell_type": "code",
   "execution_count": 32,
   "id": "4686ce90-2bb3-4fb4-abe7-c0a7b5c82dc8",
   "metadata": {},
   "outputs": [
    {
     "name": "stdout",
     "output_type": "stream",
     "text": [
      "6\n"
     ]
    }
   ],
   "source": [
    "def find_maximum_subarray_sum(arr):\n",
    "    max_sum = arr[0] \n",
    "    current_sum = 0  \n",
    "\n",
    "    for num in arr:\n",
    "        current_sum = max(num, current_sum + num)\n",
    "        max_sum = max(max_sum, current_sum)\n",
    "\n",
    "    return max_sum\n",
    "arr = [-2, 1, -3, 4, -1, 2, 1, -5, 4]\n",
    "max_subarray_sum = find_maximum_subarray_sum(arr)\n",
    "print(max_subarray_sum)  "
   ]
  },
  {
   "cell_type": "code",
   "execution_count": 33,
   "id": "bf1636de-b93b-4b89-8f34-1a6c6c6bd1f3",
   "metadata": {},
   "outputs": [
    {
     "name": "stdout",
     "output_type": "stream",
     "text": [
      "6\n"
     ]
    }
   ],
   "source": [
    "def find_maximum_subarray_sum(arr):\n",
    "    max_sum = float('-inf')  # Initialize the maximum sum as negative infinity\n",
    "    current_sum = 0 \n",
    "    for num in arr:\n",
    "        current_sum += num\n",
    "\n",
    "        if current_sum > max_sum:\n",
    "            max_sum = current_sum\n",
    "\n",
    "        if current_sum < 0:\n",
    "            current_sum = 0\n",
    "\n",
    "    return max_sum\n",
    "arr = [-2, 1, -3, 4, -1, 2, 1, -5, 4]\n",
    "max_subarray_sum = find_maximum_subarray_sum(arr)\n",
    "print(max_subarray_sum)  "
   ]
  },
  {
   "cell_type": "markdown",
   "id": "dcfcad81-31c5-4efb-8387-04def76188da",
   "metadata": {},
   "source": [
    "19. Write a program to remove all vowels from a given string.\n"
   ]
  },
  {
   "cell_type": "code",
   "execution_count": 34,
   "id": "e2fec616-2f79-450a-b613-3bb343b6d6c4",
   "metadata": {},
   "outputs": [
    {
     "name": "stdout",
     "output_type": "stream",
     "text": [
      "Hll, Wrld!\n"
     ]
    }
   ],
   "source": [
    "def remove_vowels(string):\n",
    "    vowels = \"aeiouAEIOU\"\n",
    "    vowels_removed = \"\"\n",
    "\n",
    "    for char in string:\n",
    "        if char not in vowels:\n",
    "            vowels_removed += char\n",
    "\n",
    "    return vowels_removed\n",
    "string = \"Hello, World!\"\n",
    "result = remove_vowels(string)\n",
    "print(result)  "
   ]
  },
  {
   "cell_type": "markdown",
   "id": "770b1c6b-eefd-426d-9f53-dc0f7a8376d1",
   "metadata": {},
   "source": [
    "20. Implement a function to reverse the order of words in a given sentence."
   ]
  },
  {
   "cell_type": "code",
   "execution_count": 35,
   "id": "600b4f1f-9305-4d93-9caf-03a8167bbeb8",
   "metadata": {},
   "outputs": [
    {
     "name": "stdout",
     "output_type": "stream",
     "text": [
      "India. to Welcome world! Hello,\n"
     ]
    }
   ],
   "source": [
    "def reverse_words(sentence):\n",
    "    words = sentence.split() \n",
    "    reversed_sentence = ' '.join(reversed(words))  \n",
    "    return reversed_sentence\n",
    "sentence = \"Hello, world! Welcome to India.\"\n",
    "reversed_sentence = reverse_words(sentence)\n",
    "print(reversed_sentence)  "
   ]
  },
  {
   "cell_type": "code",
   "execution_count": 36,
   "id": "759fad52-78c7-4765-8897-d02936c52e09",
   "metadata": {},
   "outputs": [
    {
     "name": "stdout",
     "output_type": "stream",
     "text": [
      "India. to Welcome world! Hello,\n"
     ]
    }
   ],
   "source": [
    "def reverse_words(sentence):\n",
    "    return ' '.join(sentence.split()[::-1])\n",
    "sentence = \"Hello, world! Welcome to India.\"\n",
    "reversed_sentence = reverse_words(sentence)\n",
    "print(reversed_sentence)  "
   ]
  },
  {
   "cell_type": "markdown",
   "id": "19748cbe-30f2-466f-ba7e-ec0075584a54",
   "metadata": {},
   "source": [
    "21. Write a Python program to check if two strings are anagrams of each other."
   ]
  },
  {
   "cell_type": "code",
   "execution_count": 37,
   "id": "9836b650-ee9a-4aa2-8e88-75ae6a9c2f95",
   "metadata": {},
   "outputs": [
    {
     "name": "stdout",
     "output_type": "stream",
     "text": [
      "True\n"
     ]
    }
   ],
   "source": [
    "def are_anagrams(str1, str2):\n",
    "\n",
    "    str1 = str1.replace(\" \", \"\").lower()\n",
    "    str2 = str2.replace(\" \", \"\").lower()\n",
    "\n",
    "    \n",
    "    if len(str1) != len(str2):\n",
    "        return False\n",
    "\n",
    "\n",
    "    str1_chars = list(str1)\n",
    "    str2_chars = list(str2)\n",
    "\n",
    "\n",
    "    str1_chars.sort()\n",
    "    str2_chars.sort()\n",
    "\n",
    "    if str1_chars == str2_chars:\n",
    "        return True\n",
    "    else:\n",
    "        return False\n",
    "str1 = \"listen\"\n",
    "str2 = \"silent\"\n",
    "result = are_anagrams(str1, str2)\n",
    "print(result) "
   ]
  },
  {
   "cell_type": "code",
   "execution_count": 38,
   "id": "3a331575-d568-43ab-926b-bbb4c9c09d8e",
   "metadata": {},
   "outputs": [
    {
     "name": "stdout",
     "output_type": "stream",
     "text": [
      "True\n"
     ]
    }
   ],
   "source": [
    "def are_anagrams(str1, str2):\n",
    "    return sorted(str1.replace(\" \", \"\").lower()) == sorted(str2.replace(\" \", \"\").lower())\n",
    "str1 = \"listen\"\n",
    "str2 = \"silent\"\n",
    "result = are_anagrams(str1, str2)\n",
    "print(result) "
   ]
  },
  {
   "cell_type": "code",
   "execution_count": 39,
   "id": "49324a4d-6c6c-4bcd-b438-38e1076d66ea",
   "metadata": {},
   "outputs": [
    {
     "name": "stdout",
     "output_type": "stream",
     "text": [
      "True\n"
     ]
    }
   ],
   "source": [
    "def are_anagrams(str1, str2):\n",
    "    return sorted(str1) == sorted(str2)\n",
    "str1 = \"listen\"\n",
    "str2 = \"silent\"\n",
    "result = are_anagrams(str1, str2)\n",
    "print(result) "
   ]
  },
  {
   "cell_type": "markdown",
   "id": "2550da08-4b68-4ef9-8b49-e95bf50c06da",
   "metadata": {},
   "source": [
    "22. Implement a function to find the first non-repeating character in a string.\n"
   ]
  },
  {
   "cell_type": "code",
   "execution_count": 40,
   "id": "15dad469-156b-4042-ac9f-754d0730faeb",
   "metadata": {},
   "outputs": [
    {
     "name": "stdout",
     "output_type": "stream",
     "text": [
      "c\n"
     ]
    }
   ],
   "source": [
    "def first_non_repeating_character(string):\n",
    "    char_count = {}\n",
    "\n",
    "    # Count the occurrences of each character in the string\n",
    "    for char in string:\n",
    "        if char in char_count:\n",
    "            char_count[char] += 1\n",
    "        else:\n",
    "            char_count[char] = 1\n",
    "\n",
    "    # Find the first character with count equal to 1\n",
    "    for char in string:\n",
    "        if char_count[char] == 1:\n",
    "            return char\n",
    "\n",
    "    # If no non-repeating character is found, return None\n",
    "    return None\n",
    "string = \"abracadabra\"\n",
    "result = first_non_repeating_character(string)\n",
    "print(result)  "
   ]
  },
  {
   "cell_type": "markdown",
   "id": "f1de20b8-d27d-4c99-bc1f-15f459d175cd",
   "metadata": {},
   "source": [
    "23. Write a program to find the prime factors of a given number."
   ]
  },
  {
   "cell_type": "code",
   "execution_count": 41,
   "id": "96006d28-ad10-4524-b493-da2864f54f05",
   "metadata": {},
   "outputs": [
    {
     "name": "stdout",
     "output_type": "stream",
     "text": [
      "[2, 2, 2, 7]\n"
     ]
    }
   ],
   "source": [
    "def find_prime_factors(number):\n",
    "    prime_factors = []\n",
    "\n",
    "    # Check for factors starting from 2\n",
    "    for factor in range(2, number + 1):\n",
    "        while number % factor == 0:\n",
    "            prime_factors.append(factor)\n",
    "            number //= factor\n",
    "\n",
    "        if number == 1:\n",
    "            break\n",
    "\n",
    "    return prime_factors\n",
    "number = 56\n",
    "prime_factors = find_prime_factors(number)\n",
    "print(prime_factors) "
   ]
  },
  {
   "cell_type": "markdown",
   "id": "4538087f-3a5a-4fa8-b8ea-56053a95483b",
   "metadata": {},
   "source": [
    "24. Implement a function to check if a given number is a power of two.\n"
   ]
  },
  {
   "cell_type": "code",
   "execution_count": 42,
   "id": "043f6c22-4e09-4108-a419-b1cb65b2b3a3",
   "metadata": {},
   "outputs": [
    {
     "name": "stdout",
     "output_type": "stream",
     "text": [
      "True\n"
     ]
    }
   ],
   "source": [
    "def is_power_of_two(number):\n",
    "    if number <= 0:\n",
    "        return False\n",
    "\n",
    "    while number > 1:\n",
    "        if number % 2 != 0:\n",
    "            return False\n",
    "        number //= 2\n",
    "\n",
    "    return True\n",
    "number = 16\n",
    "result = is_power_of_two(number)\n",
    "print(result) "
   ]
  },
  {
   "cell_type": "markdown",
   "id": "6ec0d2c5-5208-44de-9b1b-1a5db50e490e",
   "metadata": {},
   "source": [
    "25. Write a Python program to merge two sorted lists into a single sorted list."
   ]
  },
  {
   "cell_type": "code",
   "execution_count": 43,
   "id": "c1c4c24b-29d5-44f0-b9b7-b4e2c1be2b5d",
   "metadata": {},
   "outputs": [
    {
     "name": "stdout",
     "output_type": "stream",
     "text": [
      "[1, 2, 3, 4, 5, 6, 7, 8]\n"
     ]
    }
   ],
   "source": [
    "def merge_sorted_lists(list1, list2):\n",
    "    return sorted(list1 + list2)\n",
    "list1 = [1, 3, 5, 7]\n",
    "list2 = [2, 4, 6, 8]\n",
    "merged_list = merge_sorted_lists(list1, list2)\n",
    "print(merged_list) "
   ]
  },
  {
   "cell_type": "markdown",
   "id": "bee51b59-69ea-4624-a03b-90a9b3a7c63e",
   "metadata": {},
   "source": [
    "26. Implement a function to find the mode of a list of numbers.\n"
   ]
  },
  {
   "cell_type": "code",
   "execution_count": 44,
   "id": "01fcbaad-9f6a-400d-ac03-336a8c3fcd33",
   "metadata": {},
   "outputs": [
    {
     "data": {
      "text/plain": [
       "3"
      ]
     },
     "execution_count": 44,
     "metadata": {},
     "output_type": "execute_result"
    }
   ],
   "source": [
    "import statistics as st\n",
    "numbers = [1, 2, 2, 3, 3, 3, 4, 4, 5]\n",
    "st.mode(numbers)"
   ]
  },
  {
   "cell_type": "markdown",
   "id": "0e37382c-9c85-46f3-bed6-302dd529fa1d",
   "metadata": {},
   "source": [
    "27. Write a program to find the greatest common divisor (GCD) of two numbers."
   ]
  },
  {
   "cell_type": "code",
   "execution_count": 45,
   "id": "07f6bbc0-7aa2-44d0-a885-ed7856826e9b",
   "metadata": {},
   "outputs": [
    {
     "name": "stdout",
     "output_type": "stream",
     "text": [
      "12\n"
     ]
    }
   ],
   "source": [
    "def find_gcd(a, b):\n",
    "    while b != 0:\n",
    "        a, b = b, a % b\n",
    "    return a\n",
    "a = 36\n",
    "b = 48\n",
    "gcd = find_gcd(a, b)\n",
    "print(gcd)"
   ]
  },
  {
   "cell_type": "code",
   "execution_count": 46,
   "id": "425463b9-ed90-49c8-b342-da87f10ed8fa",
   "metadata": {},
   "outputs": [
    {
     "name": "stdout",
     "output_type": "stream",
     "text": [
      "12\n"
     ]
    }
   ],
   "source": [
    "import math\n",
    "\n",
    "def find_gcd(a, b):\n",
    "    return math.gcd(a, b)\n",
    "a = 36\n",
    "b = 48\n",
    "gcd = find_gcd(a, b)\n",
    "print(gcd)"
   ]
  },
  {
   "cell_type": "markdown",
   "id": "039b009c-2eea-4d71-8a97-af70299ca7e0",
   "metadata": {},
   "source": [
    "28. Implement a function to calculate the square root of a given number.\n"
   ]
  },
  {
   "cell_type": "code",
   "execution_count": 47,
   "id": "21e83831-b364-4cb9-b650-493420219ead",
   "metadata": {},
   "outputs": [
    {
     "name": "stdout",
     "output_type": "stream",
     "text": [
      "4.0\n"
     ]
    }
   ],
   "source": [
    "import math\n",
    "\n",
    "def calculate_square_root(number):\n",
    "    return math.sqrt(number)\n",
    "\n",
    "\n",
    "number = 16\n",
    "square_root = calculate_square_root(number)\n",
    "print(square_root)  \n"
   ]
  },
  {
   "cell_type": "markdown",
   "id": "0de60bb9-1eff-4161-b4e3-9f1481c77812",
   "metadata": {},
   "source": [
    "29. Write a Python program to check if a given string is a valid palindrome ignoring\n",
    "non-alphanumeric characters."
   ]
  },
  {
   "cell_type": "code",
   "execution_count": 48,
   "id": "72eed9c6-5378-4a5b-8063-5244269889c9",
   "metadata": {},
   "outputs": [
    {
     "name": "stdin",
     "output_type": "stream",
     "text": [
      "Enter a string:  sasas\n"
     ]
    },
    {
     "name": "stdout",
     "output_type": "stream",
     "text": [
      "Valid palindrome.\n"
     ]
    }
   ],
   "source": [
    "def is_valid_palindrome(string):\n",
    "    alphanumeric_string = ''.join(c.lower() for c in string if c.isalnum())\n",
    "    return alphanumeric_string == alphanumeric_string[::-1]\n",
    "\n",
    "input_string = input(\"Enter a string: \").lower()\n",
    "print(\"Valid palindrome.\" if is_valid_palindrome(input_string) else \"Not a valid palindrome.\")\n"
   ]
  },
  {
   "cell_type": "markdown",
   "id": "2076a72e-93c8-43d5-afa1-35fe7faac014",
   "metadata": {},
   "source": [
    "30. Implement a function to find the minimum element in a rotated sorted list."
   ]
  },
  {
   "cell_type": "code",
   "execution_count": 49,
   "id": "99d1350f-7ca6-4bf1-8ad7-e06585bf448e",
   "metadata": {},
   "outputs": [
    {
     "name": "stdout",
     "output_type": "stream",
     "text": [
      "The minimum element in the rotated sorted list is: 0\n"
     ]
    }
   ],
   "source": [
    "def find_min_in_rotated_sorted_list(nums):\n",
    "    left = 0\n",
    "    right = len(nums) - 1\n",
    "\n",
    "    while left < right:\n",
    "        mid = left + (right - left) // 2\n",
    "\n",
    "        if nums[mid] > nums[right]:\n",
    "            # Minimum element is in the right half\n",
    "            left = mid + 1\n",
    "        else:\n",
    "            # Minimum element is in the left half or mid itself\n",
    "            right = mid\n",
    "\n",
    "    return nums[left]\n",
    "\n",
    "# Test the function\n",
    "nums = [4, 5, 6, 7, 0, 1, 2]\n",
    "min_element = find_min_in_rotated_sorted_list(nums)\n",
    "print(\"The minimum element in the rotated sorted list is:\", min_element)\n"
   ]
  },
  {
   "cell_type": "code",
   "execution_count": 50,
   "id": "bfe7565c-e111-4048-be7b-6eeba9763fd3",
   "metadata": {},
   "outputs": [
    {
     "name": "stdout",
     "output_type": "stream",
     "text": [
      "The minimum element in the rotated sorted list is: 0\n"
     ]
    }
   ],
   "source": [
    "def find_min_in_rotated_sorted_list(nums):\n",
    "    return min(nums)\n",
    "\n",
    "\n",
    "nums = [4, 5, 6, 7, 0, 1, 2]\n",
    "min_element = find_min_in_rotated_sorted_list(nums)\n",
    "print(\"The minimum element in the rotated sorted list is:\", min_element)\n"
   ]
  },
  {
   "cell_type": "markdown",
   "id": "7d0e24f2-82f2-42b3-beac-2edd6eb30f87",
   "metadata": {},
   "source": [
    "31. Write a program to find the sum of all even numbers in a list.\n"
   ]
  },
  {
   "cell_type": "code",
   "execution_count": 51,
   "id": "7264d015-1b18-4d71-b67b-8428e2dcff13",
   "metadata": {},
   "outputs": [
    {
     "name": "stdout",
     "output_type": "stream",
     "text": [
      "The sum of all even numbers in the list is: 30\n"
     ]
    }
   ],
   "source": [
    "def sum_even_numbers(numbers):\n",
    "    total = 0\n",
    "    for num in numbers:\n",
    "        if num % 2 == 0:\n",
    "            total += num\n",
    "    return total\n",
    "\n",
    "nums = [1, 2, 3, 4, 5, 6, 7, 8, 9, 10]\n",
    "even_sum = sum_even_numbers(nums)\n",
    "print(\"The sum of all even numbers in the list is:\", even_sum)\n"
   ]
  },
  {
   "cell_type": "code",
   "execution_count": 52,
   "id": "3ab25d93-ea0d-4438-b69d-0f186511698a",
   "metadata": {},
   "outputs": [
    {
     "name": "stdout",
     "output_type": "stream",
     "text": [
      "The sum of all even numbers in the list is: 30\n"
     ]
    }
   ],
   "source": [
    "def sum_even_numbers(numbers):\n",
    "    return sum(num for num in numbers if num % 2 == 0)\n",
    "\n",
    "\n",
    "nums = [1, 2, 3, 4, 5, 6, 7, 8, 9, 10]\n",
    "even_sum = sum_even_numbers(nums)\n",
    "print(\"The sum of all even numbers in the list is:\", even_sum)\n"
   ]
  },
  {
   "cell_type": "markdown",
   "id": "2be74dc1-a33c-4304-8cf2-45ca9ce919a2",
   "metadata": {},
   "source": [
    "32. Implement a function to calculate the power of a number using recursion.\n"
   ]
  },
  {
   "cell_type": "code",
   "execution_count": 53,
   "id": "a6d3f759-184c-4ec2-92c9-911e498c800b",
   "metadata": {},
   "outputs": [
    {
     "name": "stdin",
     "output_type": "stream",
     "text": [
      "Enter the base number:  6\n",
      "Enter the exponent:  2\n"
     ]
    },
    {
     "name": "stdout",
     "output_type": "stream",
     "text": [
      "The result of 6.0 raised to the power of 2 is: 36.0\n"
     ]
    }
   ],
   "source": [
    "def power(base, exponent):\n",
    "    if exponent == 0:\n",
    "        return 1\n",
    "    elif exponent < 0:\n",
    "        return 1 / power(base, -exponent)\n",
    "    else:\n",
    "        return base * power(base, exponent - 1)\n",
    "\n",
    "\n",
    "base = float(input(\"Enter the base number: \"))\n",
    "exponent = int(input(\"Enter the exponent: \"))\n",
    "result = power(base, exponent)\n",
    "print(f\"The result of {base} raised to the power of {exponent} is: {result}\")\n"
   ]
  },
  {
   "cell_type": "code",
   "execution_count": 54,
   "id": "1262178b-f269-4d7b-8b73-822fa835a270",
   "metadata": {},
   "outputs": [
    {
     "name": "stdin",
     "output_type": "stream",
     "text": [
      "Enter the base number:  6\n",
      "Enter the exponent:  2\n"
     ]
    },
    {
     "name": "stdout",
     "output_type": "stream",
     "text": [
      "The result of 6.0 raised to the power of 2 is: 36.0\n"
     ]
    }
   ],
   "source": [
    "def power(base, exponent):\n",
    "    if exponent == 0:\n",
    "        return 1\n",
    "    return base * power(base, exponent - 1)\n",
    "\n",
    "# Get input from the user\n",
    "base = float(input(\"Enter the base number: \"))\n",
    "exponent = int(input(\"Enter the exponent: \"))\n",
    "\n",
    "# Calculate the result using the power function\n",
    "result = power(base, exponent)\n",
    "\n",
    "# Display the result\n",
    "print(f\"The result of {base} raised to the power of {exponent} is: {result}\")\n"
   ]
  },
  {
   "cell_type": "markdown",
   "id": "1f6165d7-6206-4efd-a255-e20775ff042f",
   "metadata": {},
   "source": [
    "33. Write a Python program to remove duplicates from a list while preserving the order."
   ]
  },
  {
   "cell_type": "code",
   "execution_count": 55,
   "id": "e2e51db1-eb7d-406e-8532-db4d8c5bdd86",
   "metadata": {},
   "outputs": [
    {
     "name": "stdout",
     "output_type": "stream",
     "text": [
      "List after removing duplicates: [1, 2, 3, 4, 5, 6]\n"
     ]
    }
   ],
   "source": [
    "def remove_duplicates_preserve_order(lst):\n",
    "    seen = set()\n",
    "    result = []\n",
    "    for item in lst:\n",
    "        if item not in seen:\n",
    "            seen.add(item)\n",
    "            result.append(item)\n",
    "    return result\n",
    "\n",
    "\n",
    "lst = [1, 2, 3, 2, 4, 5, 6, 1, 3]\n",
    "result = remove_duplicates_preserve_order(lst)\n",
    "print(\"List after removing duplicates:\", result)\n"
   ]
  },
  {
   "cell_type": "markdown",
   "id": "cc11dae4-4772-47b9-8bf2-823b1a7a1687",
   "metadata": {},
   "source": [
    "34. Implement a function to find the longest common prefix among a list of strings."
   ]
  },
  {
   "cell_type": "code",
   "execution_count": 56,
   "id": "d71c28ac-cbd8-4933-8d07-74ff28883254",
   "metadata": {},
   "outputs": [
    {
     "name": "stdout",
     "output_type": "stream",
     "text": [
      "The longest common prefix is: fl\n"
     ]
    }
   ],
   "source": [
    "def longest_common_prefix(strings):\n",
    "    if not strings:\n",
    "        return \"\"\n",
    "\n",
    "    prefix = strings[0]\n",
    "    for string in strings[1:]:\n",
    "        while string[:len(prefix)] != prefix:\n",
    "            prefix = prefix[:-1]\n",
    "            if not prefix:\n",
    "                return \"\"\n",
    "    \n",
    "    return prefix\n",
    "\n",
    "\n",
    "words = [\"flower\", \"flow\", \"flight\"]\n",
    "common_prefix = longest_common_prefix(words)\n",
    "print(\"The longest common prefix is:\", common_prefix)\n"
   ]
  },
  {
   "cell_type": "code",
   "execution_count": 57,
   "id": "dac57fca-710e-42ab-bc78-76fa3cbddb39",
   "metadata": {},
   "outputs": [
    {
     "name": "stdout",
     "output_type": "stream",
     "text": [
      "The longest common prefix is: fl\n"
     ]
    }
   ],
   "source": [
    "def longest_common_prefix(strings):\n",
    "    if not strings:\n",
    "        return \"\"\n",
    "\n",
    "    prefix = \"\"\n",
    "    for chars in zip(*strings):\n",
    "        if len(set(chars)) == 1:\n",
    "            prefix += chars[0]\n",
    "        else:\n",
    "            break\n",
    "    \n",
    "    return prefix\n",
    "\n",
    "\n",
    "words = [\"flower\", \"flow\", \"flight\"]\n",
    "common_prefix = longest_common_prefix(words)\n",
    "print(\"The longest common prefix is:\", common_prefix)\n"
   ]
  },
  {
   "cell_type": "markdown",
   "id": "9ac9cf55-c8ce-4fa1-a2d7-b783aa065adf",
   "metadata": {},
   "source": [
    "35. Write a program to check if a given number is a perfect square."
   ]
  },
  {
   "cell_type": "code",
   "execution_count": 58,
   "id": "7e6acceb-7372-497b-9d16-87b0a43a19b7",
   "metadata": {},
   "outputs": [
    {
     "name": "stdin",
     "output_type": "stream",
     "text": [
      "Enter a number:  16\n"
     ]
    },
    {
     "name": "stdout",
     "output_type": "stream",
     "text": [
      "16 is a perfect square.\n"
     ]
    }
   ],
   "source": [
    "def is_perfect_square(number):\n",
    "    if number < 0:\n",
    "        return False\n",
    "    elif number == 0:\n",
    "        return True\n",
    "    else:\n",
    "        \n",
    "        square_root = int(number ** 0.5)\n",
    "        return square_root * square_root == number\n",
    "\n",
    "\n",
    "num = int(input(\"Enter a number: \"))\n",
    "if is_perfect_square(num):\n",
    "    print(f\"{num} is a perfect square.\")\n",
    "else:\n",
    "    print(f\"{num} is not a perfect square.\")\n"
   ]
  },
  {
   "cell_type": "markdown",
   "id": "a16ed738-ee4a-4ef9-9367-06a8bbb322ac",
   "metadata": {},
   "source": [
    "36. Implement a function to calculate the product of all elements in a list."
   ]
  },
  {
   "cell_type": "code",
   "execution_count": 59,
   "id": "7863119d-2ccc-402c-949d-5d0edd8b295c",
   "metadata": {},
   "outputs": [
    {
     "name": "stdout",
     "output_type": "stream",
     "text": [
      "The product of [2, 3, 4, 5] is: 120\n"
     ]
    }
   ],
   "source": [
    "def calculate_product(lst):\n",
    "    if len(lst) == 0:\n",
    "        return None\n",
    "\n",
    "    product = 1\n",
    "    for num in lst:\n",
    "        product *= num\n",
    "\n",
    "    return product\n",
    "numbers = [2, 3, 4, 5]\n",
    "result = calculate_product(numbers)\n",
    "print(f\"The product of {numbers} is: {result}\")"
   ]
  },
  {
   "cell_type": "markdown",
   "id": "07f8c522-d4f0-449d-b3f3-31e80f63a14c",
   "metadata": {},
   "source": [
    "37. Write a Python program to reverse the order of words in a sentence while preserving the\n",
    "word order.\n"
   ]
  },
  {
   "cell_type": "code",
   "execution_count": 60,
   "id": "a343383c-e263-49d4-80ae-8907b8b06e62",
   "metadata": {},
   "outputs": [
    {
     "name": "stdin",
     "output_type": "stream",
     "text": [
      "Enter a sentence:  india is great\n"
     ]
    },
    {
     "name": "stdout",
     "output_type": "stream",
     "text": [
      "Reversed sentence: great is india\n"
     ]
    }
   ],
   "source": [
    "def reverse_sentence(sentence):\n",
    "    # Split the sentence into a list of words\n",
    "    words = sentence.split()\n",
    "\n",
    "    # Reverse the order of words\n",
    "    reversed_words = words[::-1]\n",
    "\n",
    "    \n",
    "    reversed_sentence = \" \".join(reversed_words)\n",
    "\n",
    "    return reversed_sentence\n",
    "\n",
    "\n",
    "# Example usage\n",
    "input_sentence = input(\"Enter a sentence: \")\n",
    "reversed_sentence = reverse_sentence(input_sentence)\n",
    "print(\"Reversed sentence:\", reversed_sentence)\n"
   ]
  },
  {
   "cell_type": "markdown",
   "id": "1bfb34b0-2d2f-44eb-a0c1-7043cef7581d",
   "metadata": {},
   "source": [
    "38. Implement a function to find the missing number in a given list of consecutive numbers."
   ]
  },
  {
   "cell_type": "code",
   "execution_count": 61,
   "id": "82719723-22be-471b-abf1-29b38e3d196b",
   "metadata": {},
   "outputs": [
    {
     "name": "stdout",
     "output_type": "stream",
     "text": [
      "The missing number in [1, 2, 3, 5, 6, 7, 8] is: 4\n"
     ]
    }
   ],
   "source": [
    "def find_missing_number(lst):\n",
    "    n = len(lst) + 1\n",
    "    expected_sum = (n * (n+1)) // 2\n",
    "    actual_sum = sum(lst)\n",
    "    missing_number = expected_sum - actual_sum\n",
    "    return missing_number\n",
    "numbers = [1, 2, 3, 5, 6, 7, 8]\n",
    "missing_num = find_missing_number(numbers)\n",
    "print(f\"The missing number in {numbers} is: {missing_num}\")\n"
   ]
  },
  {
   "cell_type": "markdown",
   "id": "a6166df9-0e12-497e-99e0-a23872cb031c",
   "metadata": {},
   "source": [
    "39. Write a program to find the sum of digits of a given number"
   ]
  },
  {
   "cell_type": "code",
   "execution_count": 62,
   "id": "72eb2623-62d2-415b-a794-382db6771139",
   "metadata": {},
   "outputs": [
    {
     "name": "stdin",
     "output_type": "stream",
     "text": [
      "Enter a number:  5671\n"
     ]
    },
    {
     "name": "stdout",
     "output_type": "stream",
     "text": [
      "Sum of digits: 19\n"
     ]
    }
   ],
   "source": [
    "def sum_of_digits(number):\n",
    "    return sum(map(int, str(number)))\n",
    "\n",
    "\n",
    "\n",
    "num = int(input(\"Enter a number: \"))\n",
    "result = sum_of_digits(num)\n",
    "print(\"Sum of digits:\", result)\n"
   ]
  },
  {
   "cell_type": "code",
   "execution_count": 63,
   "id": "a018ff07-55c2-4372-a3f9-00f0650194b0",
   "metadata": {},
   "outputs": [
    {
     "name": "stdin",
     "output_type": "stream",
     "text": [
      "Enter a number:  5671\n"
     ]
    },
    {
     "name": "stdout",
     "output_type": "stream",
     "text": [
      "Sum of digits: 19\n"
     ]
    }
   ],
   "source": [
    "def sum_of_digits(number):\n",
    "    digit_sum = sum(int(digit) for digit in str(number))\n",
    "    return digit_sum\n",
    "\n",
    "\n",
    "\n",
    "num = int(input(\"Enter a number: \"))\n",
    "result = sum_of_digits(num)\n",
    "print(\"Sum of digits:\", result)\n"
   ]
  },
  {
   "cell_type": "code",
   "execution_count": 64,
   "id": "e633c5e2-62b1-444f-bc5c-0d3c23269d42",
   "metadata": {},
   "outputs": [
    {
     "name": "stdin",
     "output_type": "stream",
     "text": [
      "Enter a number:  5671\n"
     ]
    },
    {
     "name": "stdout",
     "output_type": "stream",
     "text": [
      "Sum of digits: 19\n"
     ]
    }
   ],
   "source": [
    "def sum_of_digits(number):\n",
    "    # Convert the number to a string\n",
    "    number_str = str(number)\n",
    "\n",
    "    digit_sum = 0\n",
    "\n",
    "    for digit in number_str:\n",
    "        \n",
    "        digit_sum = digit_sum + int(digit)\n",
    "\n",
    "    return digit_sum\n",
    "\n",
    "\n",
    "# Example usage\n",
    "num = int(input(\"Enter a number: \"))\n",
    "result = sum_of_digits(num)\n",
    "print(\"Sum of digits:\", result)\n"
   ]
  },
  {
   "cell_type": "markdown",
   "id": "05767da9-fbfb-483d-b351-dcd51f7bdd7a",
   "metadata": {},
   "source": [
    "40. Implement a function to check if a given string is a valid palindrome considering case\n",
    "sensitivity.\n"
   ]
  },
  {
   "cell_type": "code",
   "execution_count": null,
   "id": "649f70ac-492c-4bb4-a94e-8a51ea06865c",
   "metadata": {},
   "outputs": [],
   "source": [
    "def is_palindrome(string):\n",
    "   \n",
    "    string = string.replace(\" \", \"\").lower()\n",
    "\n",
    "    \n",
    "    return string == string[::-1]\n",
    "\n",
    "\n",
    "\n",
    "input_str = input(\"Enter a string: \")\n",
    "if is_palindrome(input_str):\n",
    "    print(f\"{input_str} is a valid palindrome.\")\n",
    "else:\n",
    "    print(f\"{input_str} is not a valid palindrome.\")\n"
   ]
  },
  {
   "cell_type": "markdown",
   "id": "bd63cc96-9b7b-4d37-8bc0-e841b0e5acae",
   "metadata": {},
   "source": [
    "41. Write a Python program to find the smallest missing positive integer in a list.\n"
   ]
  },
  {
   "cell_type": "code",
   "execution_count": null,
   "id": "c5b69aeb-5acf-4e91-9863-28254721b0fa",
   "metadata": {},
   "outputs": [],
   "source": [
    "def find_smallest_missing_positive(nums):\n",
    "    nums = set(nums) \n",
    "\n",
    "   \n",
    "    smallest_missing = 1\n",
    "    while smallest_missing in nums:\n",
    "        smallest_missing += 1\n",
    "\n",
    "    return smallest_missing\n",
    "\n",
    "\n",
    "\n",
    "numbers = [-1, 2, 3, 0, 5]\n",
    "smallest_missing = find_smallest_missing_positive(numbers)\n",
    "print(\"Smallest missing positive integer:\", smallest_missing)\n"
   ]
  },
  {
   "cell_type": "markdown",
   "id": "cbc57147-8550-4f24-b8e2-ec7f1c482488",
   "metadata": {},
   "source": [
    "42. Implement a function to find the longest palindrome substring in a given string"
   ]
  },
  {
   "cell_type": "code",
   "execution_count": null,
   "id": "f542a405-f5b4-413b-ac3b-df32b4f7e336",
   "metadata": {},
   "outputs": [],
   "source": [
    "def longest_palindrome_substring(string):\n",
    "    n = len(string)\n",
    "    max_length = 0\n",
    "    start_index = 0\n",
    "\n",
    "    for i in range(n):\n",
    "        # Check for odd-length palindromes\n",
    "        left = right = i\n",
    "        while left >= 0 and right < n and string[left] == string[right]:\n",
    "            left -= 1\n",
    "            right += 1\n",
    "\n",
    "        length = right - left - 1\n",
    "        if length > max_length:\n",
    "            max_length = length\n",
    "            start_index = left + 1\n",
    "\n",
    "        # Check for even-length palindromes\n",
    "        left = i\n",
    "        right = i + 1\n",
    "        while left >= 0 and right < n and string[left] == string[right]:\n",
    "            left -= 1\n",
    "            right += 1\n",
    "\n",
    "        length = right - left - 1\n",
    "        if length > max_length:\n",
    "            max_length = length\n",
    "            start_index = left + 1\n",
    "\n",
    "    longest_palindrome = string[start_index:start_index + max_length]\n",
    "    return longest_palindrome\n",
    "\n",
    "\n",
    "\n",
    "input_string = input(\"Enter a string: \")\n",
    "result = longest_palindrome_substring(input_string)\n",
    "print(\"Longest palindrome substring:\", result)\n"
   ]
  },
  {
   "cell_type": "markdown",
   "id": "1c89f761-53be-48cb-a244-c8d91c9f7a57",
   "metadata": {},
   "source": [
    "43. Write a program to find the number of occurrences of a given element in a list"
   ]
  },
  {
   "cell_type": "code",
   "execution_count": null,
   "id": "7974f884-787b-4c5e-a9a6-cf7c0b03a84c",
   "metadata": {},
   "outputs": [],
   "source": [
    "def count_occurrences(lst, element):\n",
    "    count = 0\n",
    "    for item in lst:\n",
    "        if item == element:\n",
    "            count += 1\n",
    "    return count\n",
    "\n",
    "\n",
    "\n",
    "numbers = [1, 2, 3, 4, 2, 2, 5, 6, 2]\n",
    "target = 2\n",
    "occurrences = count_occurrences(numbers, target)\n",
    "print(f\"The element {target} appears {occurrences} times in the list.\")\n"
   ]
  },
  {
   "cell_type": "code",
   "execution_count": null,
   "id": "f02020d8-d0b1-4c4f-aa46-c0710856a3d0",
   "metadata": {},
   "outputs": [],
   "source": [
    "numbers = [1, 2, 3, 4, 2, 2, 5, 6, 2]\n",
    "numbers.count(2)"
   ]
  },
  {
   "cell_type": "code",
   "execution_count": null,
   "id": "437204aa-11a0-4cc0-b73b-642765f92a84",
   "metadata": {},
   "outputs": [],
   "source": [
    "def count_occurrences(lst, element):\n",
    "    return lst.count(element)\n",
    "\n",
    "\n",
    "\n",
    "numbers = [1, 2, 3, 4, 2, 2, 5, 6, 2]\n",
    "target = 2\n",
    "occurrences = count_occurrences(numbers, target)\n",
    "print(f\"The element {target} appears {occurrences} times in the list.\")\n"
   ]
  },
  {
   "cell_type": "markdown",
   "id": "08317a31-2726-42e6-a1c2-879bf0978798",
   "metadata": {},
   "source": [
    "44. Implement a function to check if a given number is a perfect number."
   ]
  },
  {
   "cell_type": "code",
   "execution_count": null,
   "id": "de948f8f-d292-4897-bfc5-42f46a9faaf7",
   "metadata": {},
   "outputs": [],
   "source": [
    "def is_perfect_number(number):\n",
    "    if number <= 0:\n",
    "        return False\n",
    "\n",
    "    divisors_sum = 0\n",
    "    for i in range(1, number):\n",
    "        if number % i == 0:\n",
    "            divisors_sum += i\n",
    "\n",
    "    return divisors_sum == number\n",
    "\n",
    "\n",
    "\n",
    "num = int(input(\"Enter a number: \"))\n",
    "if is_perfect_number(num):\n",
    "    print(f\"{num} is a perfect number.\")\n",
    "else:\n",
    "    print(f\"{num} is not a perfect number.\")\n"
   ]
  },
  {
   "cell_type": "markdown",
   "id": "472b0303-8c82-4242-beef-65435903c6aa",
   "metadata": {},
   "source": [
    "45. Write a Python program to remove all duplicates from a string.\n"
   ]
  },
  {
   "cell_type": "code",
   "execution_count": null,
   "id": "bc609c12-6171-408b-bf73-093c6a6bfd9a",
   "metadata": {},
   "outputs": [],
   "source": [
    "def remove_duplicates(string):\n",
    "    return ''.join(set(string))\n",
    "\n",
    "\n",
    "\n",
    "input_string = input(\"Enter a string: \")\n",
    "result = remove_duplicates(input_string)\n",
    "print(\"String after removing duplicates:\", result)\n"
   ]
  },
  {
   "cell_type": "code",
   "execution_count": null,
   "id": "ae7e77f8-57f4-452d-80b6-8d4d7f561e78",
   "metadata": {},
   "outputs": [],
   "source": [
    "def remove_duplicates(string):\n",
    "    unique_chars = []\n",
    "    for char in string:\n",
    "        if char not in unique_chars:\n",
    "            unique_chars.append(char)\n",
    "    return ''.join(unique_chars)\n",
    "\n",
    "\n",
    "\n",
    "input_string = input(\"Enter a string: \")\n",
    "result = remove_duplicates(input_string)\n",
    "print(\"String after removing duplicates:\", result)\n"
   ]
  },
  {
   "cell_type": "markdown",
   "id": "dd31779d-402c-460a-a891-9df66e30b7a6",
   "metadata": {},
   "source": [
    "46. Implement a function to find the first missing positive"
   ]
  },
  {
   "cell_type": "code",
   "execution_count": null,
   "id": "f968f12e-d4dc-42ab-9b5f-108162c496fa",
   "metadata": {},
   "outputs": [],
   "source": [
    "def find_first_missing_positive(nums):\n",
    "    nums = set(nums)  \n",
    "\n",
    "  \n",
    "    i = 1\n",
    "    while i in nums:\n",
    "        i += 1\n",
    "\n",
    "    return i\n",
    "\n",
    "\n",
    "\n",
    "numbers = [-1, 2, 3, 0, 5]\n",
    "first_missing = find_first_missing_positive(numbers)\n",
    "print(\"First missing positive integer:\", first_missing)\n"
   ]
  },
  {
   "cell_type": "code",
   "execution_count": null,
   "id": "06ee1a8e-996e-435f-aa0c-1a26d08e578c",
   "metadata": {},
   "outputs": [],
   "source": [
    "def find_smallest_missing_positive(nums):\n",
    "    nums = set(nums) \n",
    "\n",
    "   \n",
    "    smallest_missing = 1\n",
    "    while smallest_missing in nums:\n",
    "        smallest_missing += 1\n",
    "\n",
    "    return smallest_missing\n",
    "\n",
    "\n",
    "\n",
    "numbers = [-1, 2, 3, 0, 5]\n",
    "smallest_missing = find_smallest_missing_positive(numbers)\n",
    "print(\"Smallest missing positive integer:\", smallest_missing)"
   ]
  },
  {
   "cell_type": "code",
   "execution_count": null,
   "id": "2b0d5c3c-ef57-401d-83d4-9e513c34a4f1",
   "metadata": {},
   "outputs": [],
   "source": []
  }
 ],
 "metadata": {
  "kernelspec": {
   "display_name": "Python 3 (ipykernel)",
   "language": "python",
   "name": "python3"
  },
  "language_info": {
   "codemirror_mode": {
    "name": "ipython",
    "version": 3
   },
   "file_extension": ".py",
   "mimetype": "text/x-python",
   "name": "python",
   "nbconvert_exporter": "python",
   "pygments_lexer": "ipython3",
   "version": "3.10.8"
  }
 },
 "nbformat": 4,
 "nbformat_minor": 5
}
