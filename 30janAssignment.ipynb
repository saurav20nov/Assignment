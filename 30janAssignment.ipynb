{
 "cells": [
  {
   "cell_type": "code",
   "execution_count": 17,
   "id": "bc3357a8-0f13-4303-a58f-7f51e118d099",
   "metadata": {},
   "outputs": [
    {
     "name": "stdin",
     "output_type": "stream",
     "text": [
      "Enter percentage to get grade:  76\n"
     ]
    },
    {
     "name": "stdout",
     "output_type": "stream",
     "text": [
      "C\n"
     ]
    }
   ],
   "source": [
    "# 1.\n",
    "p= int(input(\"Enter percentage to get grade: \"))\n",
    "if p >90 and p <=100 :\n",
    "       print(\"A\")\n",
    "elif p>80 and p <=90:\n",
    "       print(\"B\")\n",
    "elif p>=60 and p<=80:\n",
    "       print(\"C\")\n",
    "elif p<60 and p >=0:\n",
    "       print(\"D\")\n",
    "else:\n",
    "       print(\"Invalid Option\")\n",
    "            "
   ]
  },
  {
   "cell_type": "code",
   "execution_count": 21,
   "id": "908f1e70-2280-4279-949f-cb45e6e128e6",
   "metadata": {},
   "outputs": [
    {
     "name": "stdin",
     "output_type": "stream",
     "text": [
      "CP of bike 55000\n"
     ]
    },
    {
     "name": "stdout",
     "output_type": "stream",
     "text": [
      "Road Tax is 10%\n"
     ]
    }
   ],
   "source": [
    "# 2.\n",
    "cp=int(input(\"CP of bike\"))\n",
    "if cp>100000:\n",
    "    print(\"Road Tax is 15%\")\n",
    "elif cp >50000 and cp <= 100000:\n",
    "    print(\"Road Tax is 10%\")\n",
    "elif cp <=50000:\n",
    "    print(\"Road Tax is 5% \")\n",
    "    "
   ]
  },
  {
   "cell_type": "code",
   "execution_count": 27,
   "id": "154b4db4-df62-4071-8b70-fd1ba355873a",
   "metadata": {},
   "outputs": [
    {
     "name": "stdin",
     "output_type": "stream",
     "text": [
      "Enter city name to get famous monument od that city  Delhi\n"
     ]
    },
    {
     "name": "stdout",
     "output_type": "stream",
     "text": [
      "Red Fort\n"
     ]
    }
   ],
   "source": [
    "# 3.\n",
    "city=input(\"Enter city name to get famous monument od that city \")\n",
    "if city==\"delhi\" or city ==\"Delhi\":\n",
    "    print(\"Red Fort\")\n",
    "elif city == \"Agra\" or city == \"agra\":\n",
    "    print(\"Taj Mahal\")\n",
    "elif city == \"Jaipur\" or city == \"jaipur\":\n",
    "    print(\"Jal Mahal\")\n",
    "else:\n",
    "    print(\"Out of the box question\")\n",
    "    "
   ]
  },
  {
   "cell_type": "code",
   "execution_count": 42,
   "id": "b95a3b08-d589-4c2a-9270-5b80c05760e9",
   "metadata": {},
   "outputs": [
    {
     "name": "stdin",
     "output_type": "stream",
     "text": [
      "Enter Number 81\n"
     ]
    },
    {
     "name": "stdout",
     "output_type": "stream",
     "text": [
      "2\n"
     ]
    }
   ],
   "source": [
    "#4.\n",
    "num=int(input(\"Enter Number\"))\n",
    "count=0\n",
    "while num>=10 and num%3==0:\n",
    "    count=count + 1\n",
    "    num=num/3\n",
    "print(count)\n",
    "        "
   ]
  },
  {
   "cell_type": "raw",
   "id": "5f22a3fa-cab1-4d15-8320-71e671b36f3f",
   "metadata": {},
   "source": [
    "5.\n",
    "\n",
    "A \"While\" Loop is used to repeat a specific block of code an unknown number of times, until a condition is met. For example, if we want to ask a user for a number between 1 and 10, we don't know how many times the user may enter a larger number, so we keep asking \"while the number is not between 1 and 10.\n",
    "\n",
    "While Loop is used to execute a block of statements repeatedly until a given condition is satisfied. And when the condition becomes false, the line immediately after the loop in the program is executed."
   ]
  },
  {
   "cell_type": "code",
   "execution_count": 3,
   "id": "01ecdb45-7d0b-481c-ae59-0485f4a3d24f",
   "metadata": {},
   "outputs": [
    {
     "name": "stdout",
     "output_type": "stream",
     "text": [
      "* \n",
      "* * \n",
      "* * * \n",
      "* * * * \n",
      "* * * * * \n"
     ]
    }
   ],
   "source": [
    "#6(A) Pattern no 1\n",
    "\n",
    "n=5\n",
    " \n",
    "i=1;j=0\n",
    "\n",
    "while(i<=n):\n",
    "    while(j<=i-1):\n",
    "        print(\"* \",end=\"\")\n",
    "        j+=1\n",
    "    print(\"\\r\")\n",
    "    j=0;i+=1\n",
    "\n"
   ]
  },
  {
   "cell_type": "code",
   "execution_count": 1,
   "id": "b6183162-f19f-4937-9245-faa9974c71af",
   "metadata": {},
   "outputs": [
    {
     "name": "stdout",
     "output_type": "stream",
     "text": [
      "\n",
      "* \n",
      "* * \n",
      "* * * \n",
      "* * * * \n"
     ]
    }
   ],
   "source": [
    "# 6 (B) Pattern No 2\n",
    "\n",
    "n=5\n",
    " \n",
    "i=1;j=0\n",
    "\n",
    "while(i<=n):\n",
    "    while(j<i-1):\n",
    "        print(\"* \",end=\"\")\n",
    "        j+=1\n",
    "    print(\"\\r\")\n",
    "    j=0;i+=1"
   ]
  },
  {
   "cell_type": "code",
   "execution_count": 2,
   "id": "2aeddf83-883f-439f-9584-e5bf83c4e823",
   "metadata": {},
   "outputs": [
    {
     "name": "stdout",
     "output_type": "stream",
     "text": [
      "1 \n",
      "3 3 \n",
      "5 5 5 \n",
      "7 7 7 7 \n",
      "9 9 9 9 9 \n"
     ]
    }
   ],
   "source": [
    "#  6 (C) Pattern no 3\n",
    "rows = 5\n",
    "i = 1\n",
    "while i <= rows:\n",
    "    j = 1\n",
    "    while j <= i:\n",
    "        print((i * 2 - 1), end=\" \")\n",
    "        j = j + 1\n",
    "    i = i + 1\n",
    "    print('')"
   ]
  },
  {
   "cell_type": "code",
   "execution_count": null,
   "id": "df758096-d7c3-4b3a-911f-64952e4372c2",
   "metadata": {},
   "outputs": [],
   "source": [
    "num"
   ]
  }
 ],
 "metadata": {
  "kernelspec": {
   "display_name": "Python 3 (ipykernel)",
   "language": "python",
   "name": "python3"
  },
  "language_info": {
   "codemirror_mode": {
    "name": "ipython",
    "version": 3
   },
   "file_extension": ".py",
   "mimetype": "text/x-python",
   "name": "python",
   "nbconvert_exporter": "python",
   "pygments_lexer": "ipython3",
   "version": "3.10.8"
  }
 },
 "nbformat": 4,
 "nbformat_minor": 5
}
