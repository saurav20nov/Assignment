{
 "cells": [
  {
   "cell_type": "markdown",
   "id": "00130e1b-d445-4c0c-a3a9-6244604aa44d",
   "metadata": {},
   "source": [
    "Q1. What are the three measures of central tendency?"
   ]
  },
  {
   "cell_type": "markdown",
   "id": "885244b9-c806-49c3-8885-3a748d17031c",
   "metadata": {},
   "source": [
    "The three measures of central tendency are:\n",
    "\n",
    "Mean: The arithmetic average of a set of numbers, obtained by summing all the values and dividing by the total number of values. It is the most commonly used measure of central tendency.\n",
    "\n",
    "Median: The middle value in a set of numbers when they are arranged in order of magnitude. It is the value that separates the upper and lower halves of the distribution.\n",
    "\n",
    "Mode: The value that occurs most frequently in a set of numbers. It is the value that has the highest frequency in the distribution."
   ]
  },
  {
   "cell_type": "code",
   "execution_count": null,
   "id": "d3a6d373-58a6-436a-a4e6-3bb63342d0fb",
   "metadata": {},
   "outputs": [],
   "source": []
  },
  {
   "cell_type": "markdown",
   "id": "e84e3069-6c55-4803-9caf-9320ce8c74a8",
   "metadata": {},
   "source": [
    "Q2. What is the difference between the mean, median, and mode? How are they used to measure the\n",
    "central tendency of a dataset?"
   ]
  },
  {
   "cell_type": "markdown",
   "id": "e2af18fb-4d35-4739-adf0-4df496d716dd",
   "metadata": {},
   "source": [
    "The mean, median, and mode are all measures of central tendency used to describe the typical or central value in a dataset, but they are calculated and used differently based on the nature of the data.\n",
    "\n",
    "The mean, also known as the average, is calculated by summing up all the values in a dataset and dividing by the number of values. It represents the arithmetic average of the dataset and is sensitive to outliers. The mean is commonly used when the dataset has a symmetrical distribution.\n",
    "\n",
    "The median is the middle value in a dataset when the values are arranged in numerical order. It is less sensitive to outliers than the mean and is commonly used when the dataset has a skewed distribution.\n",
    "\n",
    "The mode is the value that appears most frequently in a dataset. It is useful for describing the most common value or category in a dataset, especially for categorical or discrete variables.\n",
    "\n",
    "\n",
    "If your data is normally distributed, the mean is often the best measure of central tendency. If your data is skewed, the median may be more appropriate. And if you are dealing with categorical or discrete variables, the mode may be the best measure of central tendency."
   ]
  },
  {
   "cell_type": "code",
   "execution_count": null,
   "id": "e54c0365-399c-4abe-8f7c-49224cd58ab5",
   "metadata": {},
   "outputs": [],
   "source": []
  },
  {
   "cell_type": "markdown",
   "id": "b0343cec-bcaa-426c-8171-11d48fea40ae",
   "metadata": {},
   "source": [
    "Q3. Measure the three measures of central tendency for the given height data:\n",
    "[178,177,176,177,178.2,178,175,179,180,175,178.9,176.2,177,172.5,178,176.5]"
   ]
  },
  {
   "cell_type": "code",
   "execution_count": 1,
   "id": "9f5ddad0-d3cf-4e09-9d60-ea0ca21d5171",
   "metadata": {},
   "outputs": [],
   "source": [
    "\n",
    "data=[178,177,176,177,178.2,178,175,179,180,175,178.9,176.2,177,172.5,178,176.5]"
   ]
  },
  {
   "cell_type": "code",
   "execution_count": 2,
   "id": "060641ae-3289-4d8f-b984-6ebab77aeae9",
   "metadata": {},
   "outputs": [
    {
     "data": {
      "text/plain": [
       "177.01875"
      ]
     },
     "execution_count": 2,
     "metadata": {},
     "output_type": "execute_result"
    }
   ],
   "source": [
    "import numpy as np\n",
    "\n",
    "np.mean(data)"
   ]
  },
  {
   "cell_type": "code",
   "execution_count": 3,
   "id": "097b82bd-ea32-4e08-9dec-fe9722d18721",
   "metadata": {},
   "outputs": [
    {
     "data": {
      "text/plain": [
       "177.0"
      ]
     },
     "execution_count": 3,
     "metadata": {},
     "output_type": "execute_result"
    }
   ],
   "source": [
    "np.median(data)"
   ]
  },
  {
   "cell_type": "code",
   "execution_count": 5,
   "id": "e16f79e5-5cb1-41b3-b7b3-dedbf407de4e",
   "metadata": {},
   "outputs": [
    {
     "name": "stderr",
     "output_type": "stream",
     "text": [
      "/tmp/ipykernel_468/2800027621.py:2: FutureWarning: Unlike other reduction functions (e.g. `skew`, `kurtosis`), the default behavior of `mode` typically preserves the axis it acts along. In SciPy 1.11.0, this behavior will change: the default value of `keepdims` will become False, the `axis` over which the statistic is taken will be eliminated, and the value None will no longer be accepted. Set `keepdims` to True or False to avoid this warning.\n",
      "  stats.mode(data)\n"
     ]
    },
    {
     "data": {
      "text/plain": [
       "ModeResult(mode=array([177.]), count=array([3]))"
      ]
     },
     "execution_count": 5,
     "metadata": {},
     "output_type": "execute_result"
    }
   ],
   "source": [
    "from scipy import stats\n",
    "stats.mode(data)"
   ]
  },
  {
   "cell_type": "code",
   "execution_count": null,
   "id": "4f6b03a0-81a6-4ba8-8833-423d9573333e",
   "metadata": {},
   "outputs": [],
   "source": []
  },
  {
   "cell_type": "code",
   "execution_count": null,
   "id": "019ea03a-6bed-4714-9b27-eca45bfdd1f5",
   "metadata": {},
   "outputs": [],
   "source": []
  },
  {
   "cell_type": "markdown",
   "id": "866e7da7-5763-47a9-a793-352ba59cbccc",
   "metadata": {},
   "source": [
    "Q4. Find the standard deviation for the given data:\n",
    "[178,177,176,177,178.2,178,175,179,180,175,178.9,176.2,177,172.5,178,176.5]"
   ]
  },
  {
   "cell_type": "code",
   "execution_count": 6,
   "id": "555aa0aa-5d05-4d8b-9790-c5fe795d3351",
   "metadata": {},
   "outputs": [],
   "source": [
    "\n",
    "data1=[178,177,176,177,178.2,178,175,179,180,175,178.9,176.2,177,172.5,178,176.5]"
   ]
  },
  {
   "cell_type": "code",
   "execution_count": 8,
   "id": "cfcd6fdc-9cd8-4f3f-b27f-2206980df134",
   "metadata": {},
   "outputs": [
    {
     "data": {
      "text/plain": [
       "1.7885814036548633"
      ]
     },
     "execution_count": 8,
     "metadata": {},
     "output_type": "execute_result"
    }
   ],
   "source": [
    "np.std(data1)"
   ]
  },
  {
   "cell_type": "code",
   "execution_count": null,
   "id": "912a8008-852f-4fff-bbd6-4b1f3c785f50",
   "metadata": {},
   "outputs": [],
   "source": []
  },
  {
   "cell_type": "markdown",
   "id": "5805a26d-c7a1-477e-9c6b-ef0b845a79fc",
   "metadata": {},
   "source": [
    "Q5. How are measures of dispersion such as range, variance, and standard deviation used to describe\n",
    "the spread of a dataset? Provide an example."
   ]
  },
  {
   "cell_type": "markdown",
   "id": "82d398ab-a9f0-4891-a95e-f560280a6eca",
   "metadata": {},
   "source": [
    "Measures of dispersion, such as range, variance, and standard deviation, are used to describe how spread out a dataset is. These measures help to provide insight into the variability of the data, and they can be used to compare the spread of different datasets.\n",
    "\n",
    "The range is a simple measure of dispersion that represents the difference between the maximum and minimum values in a dataset. It is easy to calculate and provides a quick sense of the spread of the data. However, the range can be influenced by extreme values, so it is not always the most reliable measure of dispersion.\n",
    "\n",
    "The variance is a more precise measure of dispersion that takes into account all of the values in a dataset. It is calculated by taking the average of the squared differences between each value and the mean of the dataset. The variance is useful because it provides a measure of the spread of the data that is independent of the units of measurement. However, it can be difficult to interpret because it is expressed in squared units.\n",
    "\n",
    "The standard deviation is a commonly used measure of dispersion that is calculated by taking the square root of the variance. It is expressed in the same units as the data, and it provides a more intuitive measure of spread than the variance. The standard deviation is useful because it can be used to identify outliers, which are values that are more than a certain number of standard deviations away from the mean.\n",
    "\n",
    "For example, let's say we have a dataset of the daily high temperatures in a city over the past month: 70, 75, 78, 72, 68, 71, 75, 77, 80, 73, 76, 74, 79, 72, 70. The range of this dataset is 12, which is the difference between the highest temperature (80) and the lowest temperature (68). The variance of this dataset is 16.07, and the standard deviation is 4.01. This tells us that the temperatures are fairly tightly clustered around the mean, with a spread of about 4 degrees. If we wanted to identify outliers, we could use the standard deviation as a guide. Any temperatures more than two standard deviations away from the mean (which is 74.27 in this case) would be considered outliers."
   ]
  },
  {
   "cell_type": "code",
   "execution_count": null,
   "id": "a6a39496-4718-491d-a5d6-73e2c2e767eb",
   "metadata": {},
   "outputs": [],
   "source": []
  },
  {
   "cell_type": "markdown",
   "id": "37994c98-af1e-4c7b-a623-df466df09bf9",
   "metadata": {},
   "source": [
    "Q6. What is a Venn diagram?"
   ]
  },
  {
   "cell_type": "markdown",
   "id": "2edfc7b2-f265-4a21-9f99-485f18518948",
   "metadata": {},
   "source": [
    "A Venn diagram is a visual tool used to represent sets, which are collections of objects or concepts. It was introduced by the British logician John Venn in the 1880s.\n",
    "\n",
    "A Venn diagram consists of two or more overlapping circles or shapes, each representing a set. The overlapping regions of the circles or shapes represent the elements that are common to the sets. The non-overlapping regions represent the elements that are unique to each set.\n",
    "\n",
    "Venn diagrams can be used to illustrate relationships between sets, such as showing the similarities and differences between different groups of things. They are commonly used in mathematics, statistics, logic, and other fields where set theory is relevant. Venn diagrams can also be used in everyday life, such as when making decisions about how to categorize items or when organizing data."
   ]
  },
  {
   "cell_type": "code",
   "execution_count": null,
   "id": "4165c83f-53a4-4932-bb58-fd7e41d036ac",
   "metadata": {},
   "outputs": [],
   "source": []
  },
  {
   "cell_type": "markdown",
   "id": "686cb83b-a1fc-43bb-a4ac-eb79ad47ced5",
   "metadata": {},
   "source": [
    "Q7. For the two given sets A = (2,3,4,5,6,7) & B = (0,2,6,8,10). Find:\n",
    "(i) A intersection B\n",
    "(ii) A ⋃ B"
   ]
  },
  {
   "cell_type": "code",
   "execution_count": 12,
   "id": "c897f729-19ec-430b-86cf-3bdfc1c5b2ef",
   "metadata": {},
   "outputs": [],
   "source": [
    "(i) : (2,6)\n",
    "\n",
    "(ii) : (0,2,3,4,5,6,7,8,10)"
   ]
  },
  {
   "cell_type": "code",
   "execution_count": null,
   "id": "4dfda213-4d38-4c29-ba30-252ca0350db0",
   "metadata": {},
   "outputs": [],
   "source": []
  },
  {
   "cell_type": "markdown",
   "id": "ff4dde5f-f876-4ae5-96a3-165ed36af738",
   "metadata": {},
   "source": [
    "Q8. What do you understand about skewness in data?"
   ]
  },
  {
   "cell_type": "markdown",
   "id": "eb1f701c-6276-433c-88c9-912597494d51",
   "metadata": {},
   "source": [
    "Skewness is a statistical term that refers to the degree of asymmetry in a distribution of data. Specifically, it describes the extent to which the tail of a distribution is skewed to one side or the other. In a perfectly symmetrical distribution, the mean, median, and mode are all equal, and the data points are evenly distributed around the center. However, when a distribution is skewed, the mean, median, and mode will not be the same, and the data points will be more concentrated on one side of the center than the other."
   ]
  },
  {
   "cell_type": "code",
   "execution_count": null,
   "id": "783426d7-2199-4337-8094-9eaf7d14710e",
   "metadata": {},
   "outputs": [],
   "source": []
  },
  {
   "cell_type": "markdown",
   "id": "96f35353-2cc9-426a-9902-00780d7e2fec",
   "metadata": {},
   "source": [
    "Q9. If a data is right skewed then what will be the position of median with respect to mean?"
   ]
  },
  {
   "cell_type": "markdown",
   "id": "ce866c12-f052-4881-8e2f-c6b00f7c81cd",
   "metadata": {},
   "source": [
    "If the data is right skewed, the mean will be greater than the median.\n",
    "\n",
    "This is because in a right-skewed distribution, there are some extreme values on the right side of the distribution that pull the mean in that direction. On the other hand, the median is less affected by extreme values and represents the value that separates the lower 50% of the data from the upper 50% of the data. Therefore, the median tends to be closer to the center of the distribution, which is shifted towards the left in a right-skewed distribution."
   ]
  },
  {
   "cell_type": "code",
   "execution_count": null,
   "id": "3b43a757-f2bb-4529-a4c6-695eb1a76c5a",
   "metadata": {},
   "outputs": [],
   "source": []
  },
  {
   "cell_type": "markdown",
   "id": "e56044bb-108c-4e42-9d40-0157fdaff051",
   "metadata": {},
   "source": [
    "Q10. Explain the difference between covariance and correlation. How are these measures used in\n",
    "statistical analysis?"
   ]
  },
  {
   "cell_type": "markdown",
   "id": "60c946f2-3878-4621-b2c4-ae6ca242ec20",
   "metadata": {},
   "source": [
    "Covariance and correlation are two statistical measures that describe the relationship between two variables.\n",
    "\n",
    "Covariance measures how two variables vary together. It is a measure of the joint variability of two random variables. A positive covariance indicates that the two variables tend to vary in the same direction, while a negative covariance indicates that they vary in opposite directions. A covariance of zero indicates that there is no linear relationship between the variables.\n",
    "\n",
    "Correlation is a standardized version of covariance, which ranges from -1 to 1. Correlation measures the strength and direction of the linear relationship between two variables. A correlation of 1 indicates a perfect positive relationship, a correlation of -1 indicates a perfect negative relationship, and a correlation of 0 indicates no linear relationship.\n",
    "\n",
    "Both covariance and correlation are used in statistical analysis to describe the relationship between two variables. However, correlation is more commonly used because it is standardized, making it easier to interpret and compare across different datasets. Correlation is also used to identify and quantify the strength of the relationship between variables in regression analysis and other statistical models. Covariance is used less frequently but is still useful in some cases, such as in portfolio analysis, where it is used to measure the co-movement of stocks in a portfolio."
   ]
  },
  {
   "cell_type": "code",
   "execution_count": null,
   "id": "92a5499b-4401-453f-849f-615b4f41127c",
   "metadata": {},
   "outputs": [],
   "source": []
  },
  {
   "cell_type": "markdown",
   "id": "25370665-9126-45df-ac89-92e365f970a7",
   "metadata": {},
   "source": [
    "Q11. What is the formula for calculating the sample mean? Provide an example calculation for a\n",
    "dataset."
   ]
  },
  {
   "cell_type": "markdown",
   "id": "a18edef7-2c05-442a-9314-2f418264e96f",
   "metadata": {},
   "source": [
    "The formula for calculating the sample mean is:\n",
    "\n",
    "Sample Mean = (Sum of all values in the sample) / (Number of values in the sample)\n",
    "\n",
    "For example, suppose we have a dataset of 5 values: 3, 6, 9, 12, and 15. We can calculate the sample mean as follows:\n",
    "\n",
    "Sample Mean = (3 + 6 + 9 + 12 + 15) / 5\n",
    "Sample Mean = 45 / 5\n",
    "Sample Mean = 9\n",
    "\n",
    "Therefore, the sample mean of the dataset is 9."
   ]
  },
  {
   "cell_type": "code",
   "execution_count": null,
   "id": "985c7765-d4a9-4682-b35c-d916ab8f96c2",
   "metadata": {},
   "outputs": [],
   "source": []
  },
  {
   "cell_type": "markdown",
   "id": "22bf829d-6db2-4c20-937c-41a967ade591",
   "metadata": {},
   "source": [
    "Q12. For a normal distribution data what is the relationship between its measure of central tendency?"
   ]
  },
  {
   "cell_type": "markdown",
   "id": "ef38e481-810e-4a8c-9a2b-473695a7e1c8",
   "metadata": {},
   "source": [
    "For a normal distribution, the three most commonly used measures of central tendency are the mean, median, and mode.\n",
    "\n",
    "In a perfectly symmetrical normal distribution, the mean, median, and mode will all be equal, and they will be located at the peak of the distribution curve.\n",
    "\n",
    "However, in a skewed normal distribution, the mean, median, and mode will not be equal. If the distribution is positively skewed (meaning the tail of the distribution is longer on the right-hand side), the mean will be greater than the median, which will be greater than the mode. On the other hand, if the distribution is negatively skewed (meaning the tail of the distribution is longer on the left-hand side), the mean will be less than the median, which will be less than the mode.\n",
    "\n",
    "\n",
    "\n",
    "When a normal distribution is approximately symmetrical, the mean, median, and mode will be similar and will provide similar information about the central tendency of the data. However, in skewed distributions, it is important to consider all three measures of central tendency in order to get a more complete understanding of the distribution of the data."
   ]
  },
  {
   "cell_type": "code",
   "execution_count": null,
   "id": "d0c8158b-219d-4e13-b9c5-11f05191d826",
   "metadata": {},
   "outputs": [],
   "source": []
  },
  {
   "cell_type": "markdown",
   "id": "0bcd2d58-79a5-4e89-86e8-3af90dce0aa5",
   "metadata": {},
   "source": [
    "Q13. How is covariance different from correlation?"
   ]
  },
  {
   "cell_type": "markdown",
   "id": "ab85f0c9-8547-4607-a9fb-5a9024dc3cd3",
   "metadata": {},
   "source": [
    "Covariance and correlation are two measures of the relationship between two variables.\n",
    "\n",
    "Covariance is a measure of how two variables vary together. It measures the extent to which two variables are linearly related. Specifically, it measures how much the deviations of two variables from their respective means vary together. If two variables have a positive covariance, it means that they tend to vary in the same direction (i.e., when one variable is above its mean, the other variable tends to be above its mean as well), while a negative covariance means that they tend to vary in opposite directions.\n",
    "\n",
    "Correlation, on the other hand, is a standardized version of covariance. It measures the strength and direction of the linear relationship between two variables, and is calculated by dividing the covariance by the product of the standard deviations of the two variables. The resulting value, called the correlation coefficient, ranges from -1 to 1. A value of 1 indicates a perfect positive linear relationship, a value of -1 indicates a perfect negative linear relationship, and a value of 0 indicates no linear relationship.\n",
    "\n",
    "In summary, covariance measures the extent to which two variables vary together, while correlation measures the strength and direction of the linear relationship between two variables, after standardizing for the scale of the variables."
   ]
  },
  {
   "cell_type": "code",
   "execution_count": null,
   "id": "8859458f-0349-4457-953f-b0a90c0798c1",
   "metadata": {},
   "outputs": [],
   "source": []
  },
  {
   "cell_type": "markdown",
   "id": "08806bc9-da5b-4c5a-8637-83bbac2c76ef",
   "metadata": {},
   "source": [
    "Q14. How do outliers affect measures of central tendency and dispersion? Provide an example."
   ]
  },
  {
   "cell_type": "markdown",
   "id": "1b0d8d5d-83d3-409c-9ef3-2db789bdaf17",
   "metadata": {},
   "source": [
    "Outliers are data points that fall far outside the range of the majority of the data. Outliers can have a significant impact on measures of central tendency and dispersion because they can cause the values of these measures to be skewed or biased.\n",
    "\n",
    "Measures of central tendency, such as the mean, median, and mode, are affected by outliers because they represent the \"center\" of the data. Outliers can significantly impact the mean because it is calculated by adding up all the values and dividing by the number of values. If there is an outlier that is significantly larger or smaller than the rest of the values, it can pull the mean in that direction. The median is less affected by outliers because it is the middle value when the data is ordered from smallest to largest. However, if there are extreme outliers, the median may be affected as well. The mode is not affected by outliers because it is simply the value that occurs most frequently in the data.\n",
    "\n",
    "Measures of dispersion, such as the range, interquartile range, variance, and standard deviation, are also affected by outliers. The range is the difference between the largest and smallest values in the data, so outliers can significantly impact this measure. The interquartile range is the difference between the first and third quartiles and is less affected by outliers than the range. However, extreme outliers can still impact the interquartile range. The variance and standard deviation are both measures of how spread out the data is from the mean. Outliers can cause these measures to be inflated because they increase the distance between the outlier and the mean."
   ]
  },
  {
   "cell_type": "markdown",
   "id": "42fad970-94eb-4e57-83b9-f21c69191ebb",
   "metadata": {},
   "source": [
    "Example:\n",
    "\n",
    "\n",
    "consider a dataset of salaries for a company's employees:\n",
    "\n",
    "$50,000, $60,000, $70,000, $80,000, $90,000, $100,000, $1,000,000\n",
    "\n",
    "The mean salary in this dataset is $212,857,  which is significantly higher than the salaries of the majority of the employees. \n",
    "\n",
    "\n",
    "The median salary is $80,000, which is a more representative measure of the \"center\" of the data.\n",
    "\n",
    "The range of the data is $950,000, which is also heavily influenced by the outlier.\n",
    "\n",
    "The standard deviation is $373,342, which is a large value due to the influence of the outlier."
   ]
  },
  {
   "cell_type": "code",
   "execution_count": null,
   "id": "8c796b5b-a3ad-4e1b-8bf9-90f457840c03",
   "metadata": {},
   "outputs": [],
   "source": []
  }
 ],
 "metadata": {
  "kernelspec": {
   "display_name": "Python 3 (ipykernel)",
   "language": "python",
   "name": "python3"
  },
  "language_info": {
   "codemirror_mode": {
    "name": "ipython",
    "version": 3
   },
   "file_extension": ".py",
   "mimetype": "text/x-python",
   "name": "python",
   "nbconvert_exporter": "python",
   "pygments_lexer": "ipython3",
   "version": "3.10.8"
  }
 },
 "nbformat": 4,
 "nbformat_minor": 5
}
