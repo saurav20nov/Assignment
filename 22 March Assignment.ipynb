{
 "cells": [
  {
   "cell_type": "markdown",
   "id": "6e46d306-72c0-4cbf-99bd-5d72be198636",
   "metadata": {},
   "source": [
    "Q1. Pearson correlation coefficient is a measure of the linear relationship between two variables. Suppose\n",
    "you have collected data on the amount of time students spend studying for an exam and their final exam\n",
    "scores. Calculate the Pearson correlation coefficient between these two variables and interpret the result."
   ]
  },
  {
   "cell_type": "code",
   "execution_count": 1,
   "id": "68e52767-4882-4653-87fe-efe8f5e1d424",
   "metadata": {},
   "outputs": [
    {
     "name": "stdout",
     "output_type": "stream",
     "text": [
      "Pearson Correlation Coefficient: 0.9548401009908489\n"
     ]
    }
   ],
   "source": [
    "import numpy as np\n",
    "\n",
    "# Suppose you have the data for the amount of time spent studying and final exam scores\n",
    "studying_time = [10, 15, 12, 18, 8]\n",
    "exam_scores = [80, 85, 78, 90, 75]\n",
    "\n",
    "# Calculate the Pearson correlation coefficient\n",
    "correlation_coefficient = np.corrcoef(studying_time, exam_scores)[0, 1]\n",
    "\n",
    "print(\"Pearson Correlation Coefficient:\", correlation_coefficient)\n"
   ]
  },
  {
   "cell_type": "markdown",
   "id": "8fa61725-82c2-4bae-93c2-b4d1116f504b",
   "metadata": {},
   "source": [
    "Q2. Spearman's rank correlation is a measure of the monotonic relationship between two variables.\n",
    "Suppose you have collected data on the amount of sleep individuals get each night and their overall job\n",
    "satisfaction level on a scale of 1 to 10. Calculate the Spearman's rank correlation between these two\n",
    "variables and interpret the result."
   ]
  },
  {
   "cell_type": "code",
   "execution_count": 2,
   "id": "e8483789-fb9f-4fe2-a4af-74cdfe8761d3",
   "metadata": {},
   "outputs": [
    {
     "name": "stdout",
     "output_type": "stream",
     "text": [
      "Spearman's Rank Correlation: 0.9710083124552246\n"
     ]
    }
   ],
   "source": [
    "import numpy as np\n",
    "from scipy.stats import spearmanr\n",
    "\n",
    "# Suppose you have the data for the amount of sleep and job satisfaction levels\n",
    "sleep_hours = [7, 6, 8, 5, 7, 6]\n",
    "job_satisfaction = [8, 6, 9, 4, 7, 5]\n",
    "\n",
    "# Calculate the Spearman's rank correlation\n",
    "rank_correlation, _ = spearmanr(sleep_hours, job_satisfaction)\n",
    "\n",
    "print(\"Spearman's Rank Correlation:\", rank_correlation)\n"
   ]
  },
  {
   "cell_type": "markdown",
   "id": "b1c1d895-c68d-476b-83d3-81303f84b336",
   "metadata": {},
   "source": [
    "Q3. Suppose you are conducting a study to examine the relationship between the number of hours of\n",
    "exercise per week and body mass index (BMI) in a sample of adults. You collected data on both variables\n",
    "for 50 participants. Calculate the Pearson correlation coefficient and the Spearman's rank correlation\n",
    "between these two variables and compare the results."
   ]
  },
  {
   "cell_type": "code",
   "execution_count": 7,
   "id": "7e774e6a-1915-432e-83e5-a25cfbd5fcec",
   "metadata": {},
   "outputs": [
    {
     "name": "stdout",
     "output_type": "stream",
     "text": [
      "Pearson Correlation Coefficient: 0.2307713759737005\n",
      "Spearman's Rank Correlation: 0.21062530473854577\n"
     ]
    }
   ],
   "source": [
    "import numpy as np\n",
    "from scipy.stats import pearsonr, spearmanr\n",
    "\n",
    "# Another example of data for hours of exercise and BMI for 50 participants\n",
    "hours_of_exercise = [4, 5, 2, 6, 3, 4, 5, 2, 1, 4, 3, 2, 6, 5, 4, 3, 2, 1, 7, 5,\n",
    "                     6, 3, 4, 5, 6, 2, 3, 4, 5, 3, 4, 1, 2, 6, 5, 4, 3, 2, 1, 5,\n",
    "                     4, 3, 2, 6, 5, 4, 3, 2, 1, 3]\n",
    "\n",
    "bmi = [22, 23, 24, 21, 22, 25, 20, 22, 23, 21, 20, 24, 25, 22, 23, 24, 21, 20, 25, 22,\n",
    "       23, 24, 21, 22, 25, 20, 22, 23, 21, 20, 24, 25, 22, 23, 24, 21, 20, 25, 22, 23,\n",
    "       24, 21, 22, 25, 20, 22, 23, 21, 20, 24]\n",
    "\n",
    "# Check if the data has the same length\n",
    "if len(hours_of_exercise) == len(bmi):\n",
    "    # Calculate the Pearson correlation coefficient\n",
    "    pearson_corr_coefficient, _ = pearsonr(hours_of_exercise, bmi)\n",
    "\n",
    "    # Calculate the Spearman's rank correlation\n",
    "    spearman_corr_coefficient, _ = spearmanr(hours_of_exercise, bmi)\n",
    "\n",
    "    print(\"Pearson Correlation Coefficient:\", pearson_corr_coefficient)\n",
    "    print(\"Spearman's Rank Correlation:\", spearman_corr_coefficient)\n",
    "else:\n",
    "    print(\"Error: The data for 'hours_of_exercise' and 'bmi' must have the same length.\")\n"
   ]
  },
  {
   "cell_type": "markdown",
   "id": "81f1f282-5696-479f-b810-dd5dbee0c922",
   "metadata": {},
   "source": [
    "Q4. A researcher is interested in examining the relationship between the number of hours individuals\n",
    "spend watching television per day and their level of physical activity. The researcher collected data on\n",
    "both variables from a sample of 50 participants. Calculate the Pearson correlation coefficient between\n",
    "these two variables."
   ]
  },
  {
   "cell_type": "code",
   "execution_count": 8,
   "id": "ede8f744-4261-472b-ab70-d8c151ce0568",
   "metadata": {},
   "outputs": [
    {
     "name": "stdout",
     "output_type": "stream",
     "text": [
      "Pearson Correlation Coefficient: -1.0\n"
     ]
    }
   ],
   "source": [
    "import numpy as np\n",
    "from scipy.stats import pearsonr\n",
    "\n",
    "# Suppose you have the data for hours of TV watching and level of physical activity for 50 participants\n",
    "tv_hours = [3, 2, 4, 5, 1, 2, 3, 2, 4, 1, 2, 3, 2, 5, 1, 3, 4, 2, 1, 5,\n",
    "            4, 3, 2, 2, 1, 3, 4, 2, 3, 2, 1, 2, 4, 5, 1, 3, 2, 4, 1, 2,\n",
    "            3, 5, 2, 1, 2, 3, 2, 1, 4, 2, 3]\n",
    "\n",
    "physical_activity = [5, 6, 4, 3, 7, 6, 5, 6, 4, 7, 6, 5, 6, 3, 7, 5, 4, 6, 7, 3,\n",
    "                     4, 5, 6, 6, 7, 5, 4, 6, 5, 6, 7, 6, 4, 3, 7, 5, 6, 4, 7, 6,\n",
    "                     5, 3, 6, 7, 6, 5, 6, 7, 4, 6, 5]\n",
    "\n",
    "# Check if the data has the same length\n",
    "if len(tv_hours) == len(physical_activity):\n",
    "    # Calculate the Pearson correlation coefficient\n",
    "    corr_coefficient, _ = pearsonr(tv_hours, physical_activity)\n",
    "\n",
    "    print(\"Pearson Correlation Coefficient:\", corr_coefficient)\n",
    "else:\n",
    "    print(\"Error: The data for 'tv_hours' and 'physical_activity' must have the same length.\")\n"
   ]
  },
  {
   "cell_type": "markdown",
   "id": "5ed3d1c4-9827-4552-85f1-cb3bff0e7b18",
   "metadata": {},
   "source": [
    "Q5. A survey was conducted to examine the relationship between age and preference for a particular\n",
    "brand of soft drink. The survey results are shown below:  Age(Years)  & Soft drink Preference\n",
    "25 \n",
    "42\n",
    "37\n",
    "19\n",
    "31\n",
    "28\n",
    "Coke                                                                                                                                                 Pepsi\n",
    "Mountain dew\n",
    "Coke\n",
    "Pepsi\n",
    "Coke"
   ]
  },
  {
   "cell_type": "markdown",
   "id": "e9f4cf9f-b6e5-4aa6-8ff3-d98292128f8f",
   "metadata": {},
   "source": [
    "The survey aimed to investigate the connection between age and the preference for a specific brand of soft drink. Below are the recorded data:\n",
    "\n",
    "1. Age (Years): 25, Soft drink Preference: Coke\n",
    "2. Age (Years): 42, Soft drink Preference: Pepsi\n",
    "3. Age (Years): 37, Soft drink Preference: Mountain Dew\n",
    "4. Age (Years): 19, Soft drink Preference: Coke\n",
    "5. Age (Years): 31, Soft drink Preference: Pepsi\n",
    "6. Age (Years): 28, Soft drink Preference: Coke\n",
    "\n",
    "As per the survey results, individuals of different ages showed varying preferences for soft drink brands. The majority of respondents preferred Coke (3 out of 6), while Pepsi was the second most favored brand (2 out of 6). Mountain Dew was the least preferred, with only one person selecting it."
   ]
  },
  {
   "cell_type": "markdown",
   "id": "ea0f11a7-fbab-487e-9ae5-e14887107499",
   "metadata": {},
   "source": [
    "Q6. A company is interested in examining the relationship between the number of sales calls made per day\n",
    "and the number of sales made per week. The company collected data on both variables from a sample of\n",
    "30 sales representatives. Calculate the Pearson correlation coefficient between these two variables."
   ]
  },
  {
   "cell_type": "code",
   "execution_count": 9,
   "id": "f8c4324e-5d19-43d2-ae03-77e1e71b6763",
   "metadata": {},
   "outputs": [
    {
     "name": "stdout",
     "output_type": "stream",
     "text": [
      "Pearson correlation coefficient: 0.9388743444899449\n"
     ]
    }
   ],
   "source": [
    "import numpy as np\n",
    "\n",
    "# Sample data (replace this with your actual data, 30 data points each)\n",
    "sales_calls_per_day = [25, 42, 37, 19, 31, 28, 30, 22, 29, 36, 20, 27, 33, 24, 35, 23, 26, 34, 32, 21, 40, 39, 38, 41, 43, 44, 45, 46, 47, 48]\n",
    "sales_per_week = [4, 8, 6, 3, 5, 4, 5, 3, 6, 8, 3, 5, 7, 4, 9, 3, 6, 8, 7, 2, 10, 9, 8, 11, 12, 13, 14, 15, 16, 17]\n",
    "\n",
    "# Calculate the Pearson correlation coefficient\n",
    "correlation_coefficient = np.corrcoef(sales_calls_per_day, sales_per_week)[0, 1]\n",
    "\n",
    "print(\"Pearson correlation coefficient:\", correlation_coefficient)\n"
   ]
  },
  {
   "cell_type": "code",
   "execution_count": null,
   "id": "cea64308-a049-439e-a018-c3133c8c1911",
   "metadata": {},
   "outputs": [],
   "source": []
  }
 ],
 "metadata": {
  "kernelspec": {
   "display_name": "Python 3 (ipykernel)",
   "language": "python",
   "name": "python3"
  },
  "language_info": {
   "codemirror_mode": {
    "name": "ipython",
    "version": 3
   },
   "file_extension": ".py",
   "mimetype": "text/x-python",
   "name": "python",
   "nbconvert_exporter": "python",
   "pygments_lexer": "ipython3",
   "version": "3.10.8"
  }
 },
 "nbformat": 4,
 "nbformat_minor": 5
}
