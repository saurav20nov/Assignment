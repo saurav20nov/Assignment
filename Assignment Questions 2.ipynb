{
 "cells": [
  {
   "cell_type": "markdown",
   "id": "1f828a95-2cca-4369-afa3-f210f1f195bf",
   "metadata": {},
   "source": [
    "\n",
    "💡 Question 1\n",
    "Given an integer array nums of 2n integers, group these integers into n pairs (a1, b1), (a2, b2),..., (an, bn) such that the sum of min(ai, bi) for all i is maximized. Return the maximized sum.\n",
    "\n",
    "**Example 1:**\n",
    "Input: nums = [1,4,3,2]\n",
    "Output: 4\n",
    "\n",
    "**Explanation:** All possible pairings (ignoring the ordering of elements) are:\n",
    "\n",
    "1. (1, 4), (2, 3) -> min(1, 4) + min(2, 3) = 1 + 2 = 3\n",
    "2. (1, 3), (2, 4) -> min(1, 3) + min(2, 4) = 1 + 2 = 3\n",
    "3. (1, 2), (3, 4) -> min(1, 2) + min(3, 4) = 1 + 3 = 4\n",
    "So the maximum possible sum is 4\n"
   ]
  },
  {
   "cell_type": "code",
   "execution_count": 1,
   "id": "c85c2862-cbda-4cea-8eb1-d0476ad62deb",
   "metadata": {},
   "outputs": [
    {
     "name": "stdout",
     "output_type": "stream",
     "text": [
      "Maximized sum of minimum values: 4\n"
     ]
    }
   ],
   "source": [
    "def array_pair_sum(nums):\n",
    "    nums.sort()  \n",
    "    pair_sum = 0\n",
    "    for i in range(0, len(nums), 2):\n",
    "        pair_sum += nums[i]  \n",
    "    return pair_sum\n",
    "\n",
    "# Test the function\n",
    "nums = [1, 4, 3, 2]\n",
    "max_sum = array_pair_sum(nums)\n",
    "print(\"Maximized sum of minimum values:\", max_sum)\n"
   ]
  },
  {
   "cell_type": "markdown",
   "id": "3ec82f66-5603-4d45-960e-53fdc615ba61",
   "metadata": {},
   "source": [
    "Question 2\n",
    "Alice has n candies, where the ith candy is of type candyType[i]. Alice noticed that she started to gain weight, so she visited a doctor. \n",
    "\n",
    "The doctor advised Alice to only eat n / 2 of the candies she has (n is always even). Alice likes her candies very much, and she wants to eat the maximum number of different types of candies while still following the doctor's advice. \n",
    "\n",
    "Given the integer array candyType of length n, return the maximum number of different types of candies she can eat if she only eats n / 2 of them.\n",
    "\n",
    "Example 1:\n",
    "Input: candyType = [1,1,2,2,3,3]\n",
    "Output: 3\n",
    "\n",
    "Explanation: Alice can only eat 6 / 2 = 3 candies. Since there are only 3 types, she can eat one of each type."
   ]
  },
  {
   "cell_type": "code",
   "execution_count": 2,
   "id": "68660a70-275f-4160-b0e1-a5529096da8f",
   "metadata": {},
   "outputs": [
    {
     "name": "stdout",
     "output_type": "stream",
     "text": [
      "Maximum number of different types of candies Alice can eat: 3\n"
     ]
    }
   ],
   "source": [
    "def max_candies(candyType):\n",
    "    unique_types = len(set(candyType))  \n",
    "    max_candies = min(unique_types, len(candyType) // 2)  \n",
    "    return max_candies\n",
    "\n",
    "\n",
    "candyType = [1, 1, 2, 2, 3, 3]\n",
    "max_types = max_candies(candyType)\n",
    "print(\"Maximum number of different types of candies Alice can eat:\", max_types)\n"
   ]
  },
  {
   "cell_type": "markdown",
   "id": "1b0b7186-9a27-4a8f-ad2e-896fe7c3e22f",
   "metadata": {},
   "source": [
    "Question 3\n",
    "We define a harmonious array as an array where the difference between its maximum value\n",
    "and its minimum value is exactly 1.\n",
    "\n",
    "Given an integer array nums, return the length of its longest harmonious subsequence\n",
    "among all its possible subsequences.\n",
    "\n",
    "A subsequence of an array is a sequence that can be derived from the array by deleting some or no elements without changing the order of the remaining elements.\n",
    "\n",
    "Example 1:\n",
    "Input: nums = [1,3,2,2,5,2,3,7]\n",
    "Output: 5\n",
    "\n",
    "Explanation: The longest harmonious subsequence is [3,2,2,2,3]."
   ]
  },
  {
   "cell_type": "code",
   "execution_count": 3,
   "id": "b2514e36-197a-495e-97e8-10db40061291",
   "metadata": {},
   "outputs": [
    {
     "name": "stdout",
     "output_type": "stream",
     "text": [
      "Length of the longest harmonious subsequence: 5\n"
     ]
    }
   ],
   "source": [
    "def findLHS(nums):\n",
    "    num_count = {}\n",
    "    max_length = 0\n",
    "\n",
    " \n",
    "    for num in nums:\n",
    "        num_count[num] = num_count.get(num, 0) + 1\n",
    "\n",
    "    \n",
    "    for num in num_count:\n",
    "        if num + 1 in num_count:\n",
    "            max_length = max(max_length, num_count[num] + num_count[num + 1])\n",
    "\n",
    "    return max_length\n",
    "\n",
    "\n",
    "nums = [1, 3, 2, 2, 5, 2, 3, 7]\n",
    "longest_length = findLHS(nums)\n",
    "print(\"Length of the longest harmonious subsequence:\", longest_length)\n"
   ]
  },
  {
   "cell_type": "markdown",
   "id": "534d47fd-93d7-4136-b777-697e6339b645",
   "metadata": {},
   "source": [
    "Question 4\n",
    "You have a long flowerbed in which some of the plots are planted, and some are not.\n",
    "However, flowers cannot be planted in adjacent plots.\n",
    "Given an integer array flowerbed containing 0's and 1's, where 0 means empty and 1 means not empty, and an integer n, return true if n new flowers can be planted in the flowerbed without violating the no-adjacent-flowers rule and false otherwise.\n",
    "\n",
    "Example 1:\n",
    "Input: flowerbed = [1,0,0,0,1], n = 1\n",
    "Output: true"
   ]
  },
  {
   "cell_type": "code",
   "execution_count": 4,
   "id": "7f8dd991-f9c6-4302-b81e-a3015d1e7ba3",
   "metadata": {},
   "outputs": [
    {
     "name": "stdout",
     "output_type": "stream",
     "text": [
      "Can plant 1 flowers? True\n"
     ]
    }
   ],
   "source": [
    "def canPlaceFlowers(flowerbed, n):\n",
    "    count = 0\n",
    "    length = len(flowerbed)\n",
    "    i = 0\n",
    "\n",
    "    while i < length and count < n:\n",
    "        if flowerbed[i] == 0:\n",
    "            if (i == 0 or flowerbed[i-1] == 0) and (i == length-1 or flowerbed[i+1] == 0):\n",
    "                count += 1\n",
    "                flowerbed[i] = 1\n",
    "        i += 1\n",
    "\n",
    "    return count >= n\n",
    "\n",
    "\n",
    "flowerbed = [1, 0, 0, 0, 1]\n",
    "n = 1\n",
    "can_plant = canPlaceFlowers(flowerbed, n)\n",
    "print(\"Can plant\", n, \"flowers?\", can_plant)\n"
   ]
  },
  {
   "cell_type": "markdown",
   "id": "7a4efd71-f612-4226-9017-f78bfabd6715",
   "metadata": {},
   "source": [
    "Question 5\n",
    "Given an integer array nums, find three numbers whose product is maximum and return the maximum product.\n",
    "\n",
    "Example 1:\n",
    "Input: nums = [1,2,3]\n",
    "Output: 6"
   ]
  },
  {
   "cell_type": "code",
   "execution_count": 5,
   "id": "7d10e013-d718-4773-99bb-30b2c939f13b",
   "metadata": {},
   "outputs": [
    {
     "name": "stdout",
     "output_type": "stream",
     "text": [
      "Maximum product: 6\n"
     ]
    }
   ],
   "source": [
    "def maximumProduct(nums):\n",
    "    nums.sort()\n",
    "    return ( nums[-3] * nums[-2] * nums[-1] )\n",
    "\n",
    "\n",
    "nums = [1, 2, 3]\n",
    "max_product = maximumProduct(nums)\n",
    "print(\"Maximum product:\", max_product)\n"
   ]
  },
  {
   "cell_type": "markdown",
   "id": "b31aa206-a14d-4d9e-8f8d-3ce8bd24610b",
   "metadata": {},
   "source": [
    "Question 6\n",
    "Given an array of integers nums which is sorted in ascending order, and an integer target,\n",
    "write a function to search target in nums. If target exists, then return its index. Otherwise,\n",
    "return -1.\n",
    "\n",
    "You must write an algorithm with O(log n) runtime complexity.\n",
    "\n",
    "Input: nums = [-1,0,3,5,9,12], target = 9\n",
    "Output: 4\n",
    "\n",
    "Explanation: 9 exists in nums and its index is 4"
   ]
  },
  {
   "cell_type": "code",
   "execution_count": 6,
   "id": "a9330978-6b1d-4af1-bad1-cf9e0c679d3d",
   "metadata": {},
   "outputs": [
    {
     "name": "stdout",
     "output_type": "stream",
     "text": [
      "Index of 9 in nums: 4\n"
     ]
    }
   ],
   "source": [
    "def search(nums, target):\n",
    "    left, right = 0, len(nums) - 1\n",
    "\n",
    "    while left <= right:\n",
    "        mid = (left + right) // 2\n",
    "        if nums[mid] == target:\n",
    "            return mid\n",
    "        elif nums[mid] < target:\n",
    "            left = mid + 1\n",
    "        else:\n",
    "            right = mid - 1\n",
    "\n",
    "    return -1\n",
    "\n",
    "\n",
    "nums = [-1, 0, 3, 5, 9, 12]\n",
    "target = 9\n",
    "index = search(nums, target)\n",
    "print(\"Index of\", target, \"in nums:\", index)\n"
   ]
  },
  {
   "cell_type": "markdown",
   "id": "a9199093-2cc8-46af-8356-85e92141dead",
   "metadata": {},
   "source": [
    "Question 7\n",
    "An array is monotonic if it is either monotone increasing or monotone decreasing.\n",
    "\n",
    "An array nums is monotone increasing if for all i <= j, nums[i] <= nums[j]. An array nums is\n",
    "monotone decreasing if for all i <= j, nums[i] >= nums[j].\n",
    "\n",
    "Given an integer array nums, return true if the given array is monotonic, or false otherwise.\n",
    "\n",
    "Example 1:\n",
    "Input: nums = [1,2,2,3]\n",
    "Output: true"
   ]
  },
  {
   "cell_type": "code",
   "execution_count": 7,
   "id": "c8c707fb-1da3-46d4-96a9-f1ed90848ae7",
   "metadata": {},
   "outputs": [
    {
     "name": "stdout",
     "output_type": "stream",
     "text": [
      "Is the array monotonic? True\n"
     ]
    }
   ],
   "source": [
    "def isMonotonic(nums):\n",
    "    return nums == sorted(nums) or nums == sorted(nums, reverse=True)\n",
    "\n",
    "\n",
    "nums = [1, 2, 2, 3]\n",
    "is_mono = isMonotonic(nums)\n",
    "print(\"Is the array monotonic?\", is_mono)\n"
   ]
  },
  {
   "cell_type": "code",
   "execution_count": 8,
   "id": "791a07d2-c023-4ba0-988b-ff25220948bb",
   "metadata": {},
   "outputs": [
    {
     "name": "stdout",
     "output_type": "stream",
     "text": [
      "Is the array monotonic? True\n"
     ]
    }
   ],
   "source": [
    "def isMonotonic(nums):\n",
    "    increasing = decreasing = True\n",
    "\n",
    "    for i in range(1, len(nums)):\n",
    "        if nums[i] < nums[i-1]:\n",
    "            increasing = False\n",
    "        if nums[i] > nums[i-1]:\n",
    "            decreasing = False\n",
    "\n",
    "    return increasing or decreasing\n",
    "\n",
    "\n",
    "nums = [1, 2, 2, 3]\n",
    "is_mono = isMonotonic(nums)\n",
    "print(\"Is the array monotonic?\", is_mono)\n"
   ]
  },
  {
   "cell_type": "markdown",
   "id": "b1bb399c-00d9-4a5b-bfdb-33a357b16af9",
   "metadata": {},
   "source": [
    "Question 8\n",
    "You are given an integer array nums and an integer k.\n",
    "\n",
    "In one operation, you can choose any index i where 0 <= i < nums.length and change nums[i] to nums[i] + x where x is an integer from the range [-k, k]. You can apply this operation at most once for each index i.\n",
    "\n",
    "The score of nums is the difference between the maximum and minimum elements in nums.\n",
    "\n",
    "Return the minimum score of nums after applying the mentioned operation at most once for each index in it.\n",
    "\n",
    "Example 1:\n",
    "Input: nums = [1], k = 0\n",
    "Output: 0\n",
    "\n",
    "Explanation: The score is max(nums) - min(nums) = 1 - 1 = 0."
   ]
  },
  {
   "cell_type": "code",
   "execution_count": 9,
   "id": "f62e9c90-66bb-4d5b-b337-bafabf9e3ec7",
   "metadata": {},
   "outputs": [
    {
     "name": "stdout",
     "output_type": "stream",
     "text": [
      "Minimum Score: 0\n"
     ]
    }
   ],
   "source": [
    "def minimumScore(nums, k):\n",
    "    return max(0, max(nums) - min(nums) - 2*k)\n",
    "\n",
    "\n",
    "nums = [1]\n",
    "k = 0\n",
    "min_score = minimumScore(nums, k)\n",
    "print(\"Minimum Score:\", min_score)\n"
   ]
  },
  {
   "cell_type": "code",
   "execution_count": 10,
   "id": "dcbf48e1-d662-45b8-b97c-c9fff95cbb1a",
   "metadata": {},
   "outputs": [
    {
     "name": "stdout",
     "output_type": "stream",
     "text": [
      "Minimum Score: 0\n"
     ]
    }
   ],
   "source": [
    "def minimumScore(nums, k):\n",
    "    min_val = min(nums)\n",
    "    max_val = max(nums)\n",
    "    potential_min_score = max_val - min_val - 2*k\n",
    "    return max(0, potential_min_score)\n",
    "\n",
    "\n",
    "nums = [1]\n",
    "k = 0\n",
    "min_score = minimumScore(nums, k)\n",
    "print(\"Minimum Score:\", min_score)\n"
   ]
  },
  {
   "cell_type": "code",
   "execution_count": null,
   "id": "9c76392d-d55d-4234-b383-e7c408a8fc6e",
   "metadata": {},
   "outputs": [],
   "source": []
  }
 ],
 "metadata": {
  "kernelspec": {
   "display_name": "Python 3 (ipykernel)",
   "language": "python",
   "name": "python3"
  },
  "language_info": {
   "codemirror_mode": {
    "name": "ipython",
    "version": 3
   },
   "file_extension": ".py",
   "mimetype": "text/x-python",
   "name": "python",
   "nbconvert_exporter": "python",
   "pygments_lexer": "ipython3",
   "version": "3.10.8"
  }
 },
 "nbformat": 4,
 "nbformat_minor": 5
}
