{
 "cells": [
  {
   "cell_type": "markdown",
   "id": "8fdf73a7-a47e-4ac7-9ee7-858c86ff8909",
   "metadata": {},
   "source": [
    "Q1: What is Estimation Statistics? Explain point estimate and interval estimate."
   ]
  },
  {
   "cell_type": "markdown",
   "id": "ffbe32d8-ffab-4225-a836-bc96fdc834d9",
   "metadata": {},
   "source": [
    "Estimation statistics is a branch of statistics that deals with estimating the value of a population parameter based on a sample statistic. In other words, estimation statistics is used to make inferences about the population based on information obtained from a sample.\n",
    "\n",
    "There are two types of estimation: point estimation and interval estimation.\n",
    "\n",
    "Point estimation involves using a single value to estimate the population parameter. For example, if we want to estimate the mean height of all people in a particular country, we could take a sample of people and calculate the mean height of that sample. This calculated mean height is then used as a point estimate for the mean height of the entire population.\n",
    "\n",
    "Interval estimation, on the other hand, involves estimating the population parameter by specifying a range of values that we are reasonably sure the true population parameter lies within. This range is called a confidence interval. For example, we might calculate a 95% confidence interval for the mean height of people in a particular country based on a sample, which would mean that we are 95% confident that the true mean height of the population falls within that range of values.\n",
    "\n",
    "In summary, point estimation involves using a single value to estimate the population parameter, while interval estimation involves specifying a range of values that we are reasonably sure the true population parameter lies within."
   ]
  },
  {
   "cell_type": "code",
   "execution_count": null,
   "id": "3e934d3a-6e3b-4fdb-8ac4-6a18a504df7b",
   "metadata": {},
   "outputs": [],
   "source": []
  },
  {
   "cell_type": "markdown",
   "id": "ac3ee9a1-8f0c-4614-9bb1-2586ad00e95c",
   "metadata": {},
   "source": [
    "Q2. Write a Python function to estimate the population mean using a sample mean and standard\n",
    "deviation."
   ]
  },
  {
   "cell_type": "markdown",
   "id": "0fd40252-6ec6-4d67-8e96-f74abe74c7c1",
   "metadata": {},
   "source": [
    "You can use the formula for calculating the confidence interval of the population mean to estimate the population mean given a sample mean and standard deviation. The formula is:\n",
    "\n",
    "Population Mean = Sample Mean ± (Z-score x Standard Error)\n",
    "\n",
    "Where Z-score is the critical value from the standard normal distribution for the desired level of confidence, and Standard Error is the standard deviation of the sampling distribution of the mean, which is equal to the standard deviation of the sample divided by the square root of the sample size.\n",
    "\n",
    "\n",
    "The function takes four arguments:\n",
    "\n",
    "sample_mean: the sample mean\n",
    "\n",
    "sample_std: the sample standard deviation\n",
    "\n",
    "sample_size: the sample size\n",
    "\n",
    "confidence_level: the desired level of confidence, which can be 0.90, 0.95, or 0.99."
   ]
  },
  {
   "cell_type": "code",
   "execution_count": null,
   "id": "2dccd4e0-e8c9-4675-a010-785f768f3836",
   "metadata": {},
   "outputs": [],
   "source": []
  },
  {
   "cell_type": "markdown",
   "id": "2bef71a7-24de-4c84-91cd-cf4ba9c2d0ce",
   "metadata": {},
   "source": [
    "Q3: What is Hypothesis testing? Why is it used? State the importance of Hypothesis testing."
   ]
  },
  {
   "cell_type": "markdown",
   "id": "7b93dc77-5b73-4a0f-97a5-29a99e457d33",
   "metadata": {},
   "source": [
    "Hypothesis testing is a statistical method used to determine whether a hypothesis about a population parameter is supported by the available sample data. It involves making a statistical inference about the population parameter based on the observed sample data.\n",
    "\n",
    "Hypothesis testing is used in various fields such as science, business, and social sciences to test the validity of claims or theories. It is typically used to make decisions based on data, such as accepting or rejecting a null hypothesis, which is a statement that there is no significant difference between the observed data and the expected or assumed data. The alternative hypothesis is the opposite of the null hypothesis and represents the research question or theory being tested.\n",
    "\n",
    "The importance of hypothesis testing lies in its ability to help researchers and decision-makers make informed decisions based on statistical evidence. It provides a rigorous framework for evaluating the validity of research findings and helps to eliminate any biases or errors that may have been introduced during the data collection or analysis process.\n",
    "\n",
    "Additionally, hypothesis testing allows researchers to identify important patterns or relationships in data, which can be used to develop new theories or refine existing ones. This can lead to important advances in various fields of study, including medicine, engineering, and social sciences."
   ]
  },
  {
   "cell_type": "code",
   "execution_count": null,
   "id": "2ca508c4-8c66-46e2-b4db-46097fc6ee76",
   "metadata": {},
   "outputs": [],
   "source": []
  },
  {
   "cell_type": "markdown",
   "id": "4dc0ec62-4c0a-427d-82b2-31a6c28a3490",
   "metadata": {},
   "source": [
    "Q4. Create a hypothesis that states whether the average weight of male college students is greater than\n",
    "the average weight of female college students."
   ]
  },
  {
   "cell_type": "markdown",
   "id": "23ec4e2f-5688-427b-9d94-136a63e754ab",
   "metadata": {},
   "source": [
    "Hypothesis: The average weight of male college students is greater than the average weight of female college students."
   ]
  },
  {
   "cell_type": "code",
   "execution_count": null,
   "id": "682c56a6-83fa-45b6-95e5-27dcc5867210",
   "metadata": {},
   "outputs": [],
   "source": []
  },
  {
   "cell_type": "markdown",
   "id": "2c18bfee-acdf-4e82-9cd0-549b4c65ab8d",
   "metadata": {},
   "source": [
    "Q5. Write a Python script to conduct a hypothesis test on the difference between two population means,\n",
    "given a sample from each population."
   ]
  },
  {
   "cell_type": "code",
   "execution_count": 1,
   "id": "80229b6a-e1fc-4045-baa9-e8979bd6495c",
   "metadata": {},
   "outputs": [
    {
     "name": "stdout",
     "output_type": "stream",
     "text": [
      "Sample 1 Mean: 3.0\n",
      "Sample 2 Mean: 6.0\n",
      "Sample 1 Standard Deviation: 1.5811388300841898\n",
      "Sample 2 Standard Deviation: 3.1622776601683795\n",
      "T-Statistic: -1.8973665961010275\n",
      "P-Value: 0.09434977284243756\n"
     ]
    }
   ],
   "source": [
    "import numpy as np\n",
    "from scipy import stats\n",
    "\n",
    "\n",
    "sample1 = np.array([1, 2, 3, 4, 5])\n",
    "sample2 = np.array([2, 4, 6, 8, 10])\n",
    "\n",
    "#  the sample means and standard deviations\n",
    "mean1 = np.mean(sample1)\n",
    "mean2 = np.mean(sample2)\n",
    "std1 = np.std(sample1, ddof=1)\n",
    "std2 = np.std(sample2, ddof=1)\n",
    "\n",
    "#  the degrees of freedom\n",
    "n1 = len(sample1)\n",
    "n2 = len(sample2)\n",
    "df = n1 + n2 - 2\n",
    "\n",
    "#  the t-statistic and p-value\n",
    "t_statistic, p_value = stats.ttest_ind_from_stats(mean1, std1, n1, mean2, std2, n2)\n",
    "\n",
    "\n",
    "print('Sample 1 Mean:', mean1)\n",
    "print('Sample 2 Mean:', mean2)\n",
    "print('Sample 1 Standard Deviation:', std1)\n",
    "print('Sample 2 Standard Deviation:', std2)\n",
    "print('T-Statistic:', t_statistic)\n",
    "print('P-Value:', p_value)\n"
   ]
  },
  {
   "cell_type": "code",
   "execution_count": null,
   "id": "6a88b435-261d-450d-8622-c4324c42a4ee",
   "metadata": {},
   "outputs": [],
   "source": []
  },
  {
   "cell_type": "markdown",
   "id": "5bfdfc37-132e-496a-8c13-a299057ead00",
   "metadata": {},
   "source": [
    "Q6: What is a null and alternative hypothesis? Give some examples."
   ]
  },
  {
   "cell_type": "markdown",
   "id": "4f5b3448-601f-4191-9d1c-a6a82991d7c7",
   "metadata": {},
   "source": [
    "In statistics, a hypothesis is a statement or an assumption that is made about a population parameter. The two types of hypotheses are null hypothesis and alternative hypothesis.\n",
    "\n",
    "The null hypothesis is a statement that assumes there is no significant difference or effect between two variables. In other words, it assumes that any observed difference between two variables is due to random chance or sampling error. It is denoted by \"H0.\"\n",
    "\n",
    "The alternative hypothesis is a statement that assumes there is a significant difference or effect between two variables. It is denoted by \"Ha.\"\n",
    "\n",
    "Here are some examples of null and alternative hypotheses:\n",
    "\n",
    "Example 1: A researcher is interested in knowing whether a new drug reduces blood pressure. The null hypothesis would be \"the new drug does not reduce blood pressure,\" and the alternative hypothesis would be \"the new drug reduces blood pressure.\"\n",
    "\n",
    "Example 2: A company wants to test if its new product packaging design leads to an increase in sales. The null hypothesis would be \"the new product packaging design does not increase sales,\" and the alternative hypothesis would be \"the new product packaging design increases sales.\"\n",
    "\n",
    "Example 3: A teacher wants to investigate if a new teaching method improves student performance on a test. The null hypothesis would be \"the new teaching method does not improve student performance on"
   ]
  },
  {
   "cell_type": "code",
   "execution_count": null,
   "id": "b9b693fd-6d4d-4c1c-974e-64cd42ce94dd",
   "metadata": {},
   "outputs": [],
   "source": []
  },
  {
   "cell_type": "markdown",
   "id": "7f5799c4-6c49-4794-898e-0312a824a2df",
   "metadata": {},
   "source": [
    "Q7: Write down the steps involved in hypothesis testing."
   ]
  },
  {
   "cell_type": "markdown",
   "id": "7f868255-861e-4ad2-8a8f-e4e5f789cd50",
   "metadata": {},
   "source": [
    "Hypothesis testing is a statistical process used to determine whether there is sufficient evidence to support a hypothesis or claim about a population parameter. The following are the steps involved in hypothesis testing:\n",
    "\n",
    "State the null and alternative hypotheses: The null hypothesis (H0) is the default hypothesis that assumes there is no difference or relationship between the variables being tested. The alternative hypothesis (Ha) is the hypothesis that we want to test, and it assumes that there is a difference or relationship between the variables being tested.\n",
    "\n",
    "Determine the level of significance: The level of significance (α) is the probability of rejecting the null hypothesis when it is true. Common levels of significance are 0.05 and 0.01.\n",
    "\n",
    "Determine the appropriate test statistic: The choice of test statistic depends on the type of data being analyzed and the hypotheses being tested.\n",
    "\n",
    "Determine the p-value: The p-value is the probability of observing a test statistic as extreme as, or more extreme than, the one calculated from the sample data, assuming the null hypothesis is true.\n",
    "\n",
    "Make a decision: Compare the p-value to the level of significance. If the p-value is less than the level of significance, reject the null hypothesis. Otherwise, fail to reject the null hypothesis.\n",
    "\n",
    "Interpret the results: If the null hypothesis is rejected, it means that there is sufficient evidence to support the alternative hypothesis. If the null hypothesis is not rejected, it means that there is not enough evidence to support the alternative hypothesis.\n",
    "\n",
    "Draw conclusions: The conclusions drawn from the hypothesis test should be based on the results and the specific context of the study."
   ]
  },
  {
   "cell_type": "code",
   "execution_count": null,
   "id": "ad6205f4-dd65-4e84-8ac7-c07ee5e30d9d",
   "metadata": {},
   "outputs": [],
   "source": []
  },
  {
   "cell_type": "markdown",
   "id": "c89249b8-99ad-45b1-968e-89332b4f80ca",
   "metadata": {},
   "source": [
    "Q8. Define p-value and explain its significance in hypothesis testing."
   ]
  },
  {
   "cell_type": "markdown",
   "id": "88d28d25-aba4-4980-8ce6-05351c2ed388",
   "metadata": {},
   "source": [
    "In hypothesis testing, the p-value is a statistical measure that helps to determine the strength of evidence against the null hypothesis. The null hypothesis is a statement that assumes there is no significant difference between two groups or that any observed difference is due to chance.\n",
    "\n",
    "The p-value represents the probability of obtaining results as extreme as the ones observed in the data, assuming that the null hypothesis is true. In other words, it measures the likelihood of obtaining the observed test statistic, assuming the null hypothesis is correct.\n",
    "\n",
    "The significance level is often set at 0.05 or 0.01, which means that if the p-value is less than or equal to the significance level, the null hypothesis can be rejected. Conversely, if the p-value is greater than the significance level, there is insufficient evidence to reject the null hypothesis."
   ]
  },
  {
   "cell_type": "code",
   "execution_count": null,
   "id": "3bd0c03b-b212-457e-98ae-bdf11b01f391",
   "metadata": {},
   "outputs": [],
   "source": []
  },
  {
   "cell_type": "markdown",
   "id": "dc4557bd-64d0-45df-ba85-97e985735bda",
   "metadata": {},
   "source": [
    "Q9. Generate a Student's t-distribution plot using Python's matplotlib library, with the degrees of freedom\n",
    "parameter set to 10."
   ]
  },
  {
   "cell_type": "code",
   "execution_count": 2,
   "id": "92cad316-8be7-4b07-8875-aebd16461a36",
   "metadata": {},
   "outputs": [
    {
     "data": {
      "image/png": "[encoded data removed]",
      "text/plain": [
       "<Figure size 640x480 with 1 Axes>"
      ]
     },
     "metadata": {},
     "output_type": "display_data"
    }
   ],
   "source": [
    "import numpy as np\n",
    "import matplotlib.pyplot as plt\n",
    "from scipy.stats import t\n",
    "\n",
    "# degrees of freedom\n",
    "df = 10\n",
    "\n",
    "x = np.linspace(t.ppf(0.001, df), t.ppf(0.999, df), 100)\n",
    "\n",
    "y = t.pdf(x, df)\n",
    "\n",
    "# Generate plot\n",
    "plt.plot(x, y, 'b-', label='t pdf')\n",
    "plt.legend()\n",
    "plt.xlabel('x')\n",
    "plt.ylabel('Probability density')\n",
    "plt.title('Student\\'s t-distribution plot with 10 degrees of freedom')\n",
    "plt.show()\n"
   ]
  },
  {
   "cell_type": "code",
   "execution_count": null,
   "id": "da76b9bd-397b-44bf-9d52-e2ae12e33657",
   "metadata": {},
   "outputs": [],
   "source": []
  },
  {
   "cell_type": "markdown",
   "id": "b7d9d003-59a3-444b-9c44-72806a46f69f",
   "metadata": {},
   "source": [
    "Q10. Write a Python program to calculate the two-sample t-test for independent samples, given two\n",
    "random samples of equal size and a null hypothesis that the population means are equal."
   ]
  },
  {
   "cell_type": "code",
   "execution_count": 3,
   "id": "a984fc1c-25eb-492e-8e99-7234b815d91f",
   "metadata": {},
   "outputs": [
    {
     "name": "stdout",
     "output_type": "stream",
     "text": [
      "Null Hypothesis: The population means are equal.\n",
      "Sample 1: [1, 2, 3, 4, 5]\n",
      "Sample 2: [6, 7, 8, 9, 10]\n",
      "t-statistic: -5.0\n",
      "p-value: 0.001052825793366539\n"
     ]
    }
   ],
   "source": [
    "from scipy import stats\n",
    "\n",
    "sample1 = [1, 2, 3, 4, 5]\n",
    "sample2 = [6, 7, 8, 9, 10]\n",
    "\n",
    "\n",
    "null_hypothesis = \"The population means are equal.\"\n",
    "\n",
    "t_statistic, p_value = stats.ttest_ind(sample1, sample2)\n",
    "\n",
    "print(\"Null Hypothesis:\", null_hypothesis)\n",
    "print(\"Sample 1:\", sample1)\n",
    "print(\"Sample 2:\", sample2)\n",
    "print(\"t-statistic:\", t_statistic)\n",
    "print(\"p-value:\", p_value)\n"
   ]
  },
  {
   "cell_type": "code",
   "execution_count": null,
   "id": "d23d225e-74cd-47a9-975e-88ad5c7b8642",
   "metadata": {},
   "outputs": [],
   "source": []
  },
  {
   "cell_type": "markdown",
   "id": "d08ba715-17a3-4ac1-bfac-eb08a4aff35a",
   "metadata": {},
   "source": [
    "Q11: What is Student’s t distribution? When to use the t-Distribution."
   ]
  },
  {
   "cell_type": "markdown",
   "id": "a5b2a5fb-d3fb-40a2-93e4-9a15129d0eff",
   "metadata": {},
   "source": [
    "Student's t-distribution is a probability distribution that arises when estimating the mean of a normally distributed population in situations where the sample size is small and the population standard deviation is unknown. It is named after William Gosset, who used the pseudonym \"Student\" when publishing his work.\n",
    "\n",
    "The t-distribution is similar to the standard normal distribution but has fatter tails, which means it has more probability in the tails of the distribution. This is because when the sample size is small, the sample mean is less likely to be close to the population mean, and the t-distribution adjusts for this uncertainty.\n",
    "\n",
    "The t-distribution is commonly used in hypothesis testing when the sample size is small and the population standard deviation is unknown. It is used to test hypotheses about the mean of a population, such as whether a treatment has an effect or not. The t-distribution can also be used to construct confidence intervals for the population mean.\n",
    "\n",
    "\n",
    "\n",
    "\n",
    "In general, the t-distribution should be used when:\n",
    "\n",
    "The sample size is small (typically less than 30).\n",
    "\n",
    "The population standard deviation is unknown.\n",
    "\n",
    "The population is assumed to be normally distributed (or the sample size is large enough for the central limit theorem to apply)."
   ]
  },
  {
   "cell_type": "code",
   "execution_count": null,
   "id": "13fe2a5c-0bda-4347-963a-ca455ee115ca",
   "metadata": {},
   "outputs": [],
   "source": []
  },
  {
   "cell_type": "markdown",
   "id": "107b9bb7-20c4-415f-9be3-9a72ae1e98e7",
   "metadata": {},
   "source": [
    "Q12: What is t-statistic? State the formula for t-statistic."
   ]
  },
  {
   "cell_type": "markdown",
   "id": "b3a348d1-79aa-49f8-b0a3-24c2aeadd352",
   "metadata": {},
   "source": [
    "The t-statistic is a measure used in hypothesis testing to determine if the mean of a sample is significantly different from the population mean. It is calculated as the ratio of the difference between the sample mean and the population mean, divided by the standard error of the sample mean.\n",
    "\n",
    "The formula for the t-statistic is:\n",
    "\n",
    "t = (x̄ - μ) / (s / √n)\n",
    "\n",
    "where:\n",
    "x̄ is the sample mean\n",
    "μ is the population mean\n",
    "s is the standard deviation of the sample\n",
    "n is the sample size\n",
    "\n",
    "The t-statistic is used to determine the probability of obtaining a sample mean as different or more extreme than the one observed, assuming that the null hypothesis (i.e., no difference between the sample mean and population mean) is true. If the calculated t-statistic exceeds a critical value based on the chosen level of significance and the degrees of freedom, the null hypothesis is rejected in favor of the alternative hypothesis."
   ]
  },
  {
   "cell_type": "code",
   "execution_count": null,
   "id": "cae5df99-9a42-4d0c-8fb5-4b48d12b5c62",
   "metadata": {},
   "outputs": [],
   "source": []
  },
  {
   "cell_type": "markdown",
   "id": "0b151d05-9657-41d2-908e-b3f2e185debd",
   "metadata": {},
   "source": [
    "Q13. A coffee shop owner wants to estimate the average daily revenue for their shop. They take a random\n",
    "sample of 50 days and find the sample mean revenue to be $500 with a standard deviation of $50.\n",
    "Estimate the population mean revenue with a 95% confidence interval."
   ]
  },
  {
   "cell_type": "markdown",
   "id": "b53658b6-e02f-4a06-be77-c8ace9c6f73a",
   "metadata": {},
   "source": [
    "To estimate the population mean revenue with a 95% confidence interval, we can use the following formula:\n",
    "\n",
    "Confidence Interval = sample mean ± (z-score)(standard error)\n",
    "\n",
    "where:\n",
    "\n",
    "sample mean = $500 (given)\n",
    "\n",
    "z-score = the z-score corresponding to a 95% confidence level, which can be found using a z-table or a calculator.\n",
    "\n",
    "For a two-tailed test, the z-score is 1.96.\n",
    "\n",
    "standard error = standard deviation / square root of sample size. In this case, the standard error is $50 / sqrt(50) = $7.07.\n",
    "\n",
    "Substituting these values into the formula, we get:\n",
    "\n",
    "Confidence Interval = $500 ± (1.96)($7.07)\n",
    "\n",
    "Confidence Interval = $500 ± $13.89\n",
    "\n",
    "Therefore, the 95% confidence interval for the population mean revenue is $486.11 to $513.89. We can say with 95% confidence that the true average daily revenue of the coffee shop is between these two values."
   ]
  },
  {
   "cell_type": "code",
   "execution_count": null,
   "id": "be6e5952-5296-41f1-b450-aa5e78679812",
   "metadata": {},
   "outputs": [],
   "source": []
  },
  {
   "cell_type": "markdown",
   "id": "2ddf2e18-9a50-42ff-b17c-190938478a57",
   "metadata": {},
   "source": [
    "Q14. A researcher hypothesizes that a new drug will decrease blood pressure by 10 mmHg. They conduct a\n",
    "clinical trial with 100 patients and find that the sample mean decrease in blood pressure is 8 mmHg with a\n",
    "standard deviation of 3 mmHg. Test the hypothesis with a significance level of 0.05."
   ]
  },
  {
   "cell_type": "markdown",
   "id": "efc69b55-69c5-45b7-81c1-e23476c1e26b",
   "metadata": {},
   "source": [
    "To test the hypothesis, we need to set up the null and alternative hypotheses. The null hypothesis (H0) is that the drug does not decrease blood pressure by 10 mmHg, and the alternative hypothesis (Ha) is that the drug does decrease blood pressure by 10 mmHg.\n",
    "\n",
    "H0: μ = 10 (where μ is the true mean decrease in blood pressure)\n",
    "Ha: μ < 10\n",
    "\n",
    "The significance level is 0.05, which means we need to find the critical value at the 5% level of significance. Since the alternative hypothesis is one-tailed (μ < 10), we will use a one-tailed t-test.\n",
    "\n",
    "The degrees of freedom for this test is n-1, where n is the sample size. In this case, n = 100, so the degrees of freedom is 99.\n",
    "\n",
    "Using a t-table or calculator, we find the critical value for a one-tailed t-test at the 5% level of significance and 99 degrees of freedom to be -1.660.\n",
    "\n",
    "Next, we calculate the test statistic using the formula:\n",
    "\n",
    "t = (x̄ - μ) / (s / sqrt(n))\n",
    "\n",
    "Where x̄ is the sample mean, μ is the hypothesized population mean, s is the sample standard deviation, and n is the sample size.\n",
    "\n",
    "Plugging in the values, we get:\n",
    "\n",
    "t = (8 - 10) / (3 / sqrt(100))\n",
    "t = -2.82\n",
    "\n",
    "Finally, we compare the test statistic to the critical value. If the test statistic is less than the critical value, we reject the null hypothesis. If it is greater than or equal to the critical value, we fail to reject the null hypothesis.\n",
    "\n",
    "In this case, -2.82 is less than -1.660, so we reject the null hypothesis. Therefore, we can conclude that there is evidence to support the alternative hypothesis that the new drug decreases blood pressure by less than 10 mmHg."
   ]
  },
  {
   "cell_type": "code",
   "execution_count": null,
   "id": "5e34ef81-ea51-44dc-a19e-420f826eb776",
   "metadata": {},
   "outputs": [],
   "source": []
  },
  {
   "cell_type": "markdown",
   "id": "69a19c77-bfee-432f-80af-878d33bdd574",
   "metadata": {},
   "source": [
    "Q15. An electronics company produces a certain type of product with a mean weight of 5 pounds and a\n",
    "standard deviation of 0.5 pounds. A random sample of 25 products is taken, and the sample mean weight\n",
    "is found to be 4.8 pounds. Test the hypothesis that the true mean weight of the products is less than 5\n",
    "pounds with a significance level of 0.01."
   ]
  },
  {
   "cell_type": "markdown",
   "id": "69faa1dd-ad72-4d39-9310-829902c4c979",
   "metadata": {},
   "source": [
    "To test the hypothesis, we can use a one-tailed t-test with a level of significance of 0.01. The null hypothesis is that the true mean weight of the products is 5 pounds or more, and the alternative hypothesis is that it is less than 5 pounds.\n",
    "\n",
    "The test statistic for this test is calculated as:\n",
    "\n",
    "t = (x̄ - μ) / (s / √n)\n",
    "\n",
    "Where x̄ is the sample mean weight, μ is the hypothesized population mean weight, s is the sample standard deviation, and n is the sample size.\n",
    "\n",
    "Substituting the given values, we get:\n",
    "\n",
    "t = (4.8 - 5) / (0.5 / √25) = -2\n",
    "\n",
    "The critical value for a one-tailed t-test with a level of significance of 0.01 and 24 degrees of freedom (df = n - 1) is -2.492. Since our calculated t-value of -2 falls within the rejection region (t < -2.492), we reject the null hypothesis and conclude that the true mean weight of the products is less than 5 pounds with a significance level of 0.01."
   ]
  },
  {
   "cell_type": "code",
   "execution_count": null,
   "id": "6fdf2a91-0c7b-4138-a6f9-d81d23dd11f4",
   "metadata": {},
   "outputs": [],
   "source": []
  },
  {
   "cell_type": "markdown",
   "id": "f8a230ff-4f7d-4812-85d8-5f90df3836c6",
   "metadata": {},
   "source": [
    "Q16. Two groups of students are given different study materials to prepare for a test. The first group (n1 =\n",
    "30) has a mean score of 80 with a standard deviation of 10, and the second group (n2 = 40) has a mean\n",
    "score of 75 with a standard deviation of 8. Test the hypothesis that the population means for the two\n",
    "groups are equal with a significance level of 0.01."
   ]
  },
  {
   "cell_type": "markdown",
   "id": "c2173cfb-5b74-4a80-968d-a82fe253d8e6",
   "metadata": {},
   "source": [
    "To test the hypothesis that the population means for the two groups are equal, we can use a two-sample t-test with equal variances. The null hypothesis is that the population means are equal, and the alternative hypothesis is that they are not equal.\n",
    "\n",
    "The test statistic is calculated as:\n",
    "\n",
    "t = (x1̄ - x2̄) / [s_p * sqrt(1/n1 + 1/n2)]\n",
    "\n",
    "where x1̄ and x2̄ are the sample means, s_p is the pooled standard deviation given by:\n",
    "\n",
    "s_p = sqrt(((n1-1)*s1^2 + (n2-1)*s2^2) / (n1 + n2 - 2))\n",
    "\n",
    "where s1 and s2 are the sample standard deviations for the two groups.\n",
    "\n",
    "The degrees of freedom for the test are (n1 + n2 - 2).\n",
    "\n",
    "Using a significance level of 0.01, the critical value for a two-tailed test with 68 degrees of freedom is ±2.601.\n",
    "\n",
    "Calculating the values for the two groups, we have:\n",
    "\n",
    "x1̄ = 80, s1 = 10, n1 = 30\n",
    "x2̄ = 75, s2 = 8, n2 = 40\n",
    "\n",
    "s_p = sqrt(((30-1)*10^2 + (40-1)*8^2) / (30 + 40 - 2)) = 9.022\n",
    "\n",
    "t = (80 - 75) / [9.022 * sqrt(1/30 + 1/40)] = 2.776\n",
    "\n",
    "Since the absolute value of the test statistic (2.776) is greater than the critical value (2.601), we reject the null hypothesis. We can conclude that there is significant evidence to suggest that the population means for the two groups are different at a significance level of 0.01."
   ]
  },
  {
   "cell_type": "code",
   "execution_count": null,
   "id": "8492fa45-9500-4503-8034-c75d7cf90f86",
   "metadata": {},
   "outputs": [],
   "source": []
  },
  {
   "cell_type": "markdown",
   "id": "21a3e0b8-b9ba-4de1-a041-68e6142bb2bc",
   "metadata": {},
   "source": [
    "Q17. A marketing company wants to estimate the average number of ads watched by viewers during a TV\n",
    "program. They take a random sample of 50 viewers and find that the sample mean is 4 with a standard\n",
    "deviation of 1.5. Estimate the population mean with a 99% confidence interval."
   ]
  },
  {
   "cell_type": "markdown",
   "id": "20698625-fec2-4be8-ad3b-8ce312dd52e2",
   "metadata": {},
   "source": [
    "To estimate the population mean with a 99% confidence interval, we can use the formula:\n",
    "\n",
    "Confidence interval = sample mean ± (critical value) x (standard error)\n",
    "\n",
    "Where the critical value is determined by the confidence level and the degrees of freedom, and the standard error is the standard deviation of the sample divided by the square root of the sample size.\n",
    "\n",
    "In this case, the sample mean is 4 and the standard deviation is 1.5. The sample size is 50, so the standard error is:\n",
    "\n",
    "standard error = 1.5 / sqrt(50) = 0.2121\n",
    "\n",
    "To find the critical value for a 99% confidence interval with 49 degrees of freedom (50-1), we can look it up in a t-distribution table or use a calculator. The critical value is 2.681.\n",
    "\n",
    "Now we can plug in the values to find the confidence interval:\n",
    "\n",
    "Confidence interval = 4 ± 2.681 x 0.2121\n",
    "Confidence interval = (3.428, 4.572)\n",
    "\n",
    "Therefore, we can say with 99% confidence that the population mean of ads watched by viewers during a TV program is between 3.428 and 4.572."
   ]
  },
  {
   "cell_type": "code",
   "execution_count": null,
   "id": "11cb7aa3-3777-4570-8325-032e3f8389d1",
   "metadata": {},
   "outputs": [],
   "source": []
  }
 ],
 "metadata": {
  "kernelspec": {
   "display_name": "Python 3 (ipykernel)",
   "language": "python",
   "name": "python3"
  },
  "language_info": {
   "codemirror_mode": {
    "name": "ipython",
    "version": 3
   },
   "file_extension": ".py",
   "mimetype": "text/x-python",
   "name": "python",
   "nbconvert_exporter": "python",
   "pygments_lexer": "ipython3",
   "version": "3.10.8"
  }
 },
 "nbformat": 4,
 "nbformat_minor": 5
}
