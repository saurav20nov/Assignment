{
 "cells": [
  {
   "cell_type": "markdown",
   "id": "2f2af273-d95c-4a43-b7e2-ff783e9a11a8",
   "metadata": {},
   "source": [
    "Q1. What is Statistics?"
   ]
  },
  {
   "cell_type": "markdown",
   "id": "1a351b56-b158-4334-8ae8-e663b75e6181",
   "metadata": {},
   "source": [
    "Statistics is the study of data and the processes used to collect, analyze, and interpret that data.\n",
    "\n",
    "It involves the application of mathematical and computational methods to extract insights from large and complex data sets."
   ]
  },
  {
   "cell_type": "markdown",
   "id": "7410dbf3-3b80-47de-b8a6-b832257c30e3",
   "metadata": {},
   "source": [
    "Q2. Define the different types of statistics and give an example of when each type might be used."
   ]
  },
  {
   "cell_type": "markdown",
   "id": "afaec916-436b-48b5-9274-4b2d4617e8dc",
   "metadata": {},
   "source": [
    "Statistics is a field of study that involves collecting, analyzing, interpreting, and presenting data.\n",
    "\n",
    "There are two main types of statistics:\n",
    "\n",
    "1. descriptive statistics and\n",
    "\n",
    "2. inferential statistics.\n",
    "\n",
    "\n",
    "Descriptive statistics:\n",
    "\n",
    "Descriptive statistics is a branch of statistics that deals with summarizing and describing data. Descriptive statistics involves measures of central tendency (mean, median, and mode), measures of variability (range, variance, standard deviation), and measures of shape (skewness, kurtosis). Descriptive statistics is used to describe and summarize data sets.\n",
    "\n",
    "ex: Avg height of the class\n",
    "\n",
    "\n",
    "It organize and summarize data\n",
    "\n",
    "\n",
    "\n",
    "\n",
    "\n",
    "\n",
    "\n",
    "Inferential statistics:\n",
    "\n",
    "\n",
    "Inferential statistics is a branch of statistics that deals with making predictions or generalizations about a population based on sample data. Inferential statistics involves hypothesis testing, confidence intervals, and regression analysis. Inferential statistics is used to draw conclusions about a population based on a sample of data.\n",
    "\n",
    "ex: are the average height in class is similar to entire college that you expect.\n",
    "\n",
    "It draws conclusion based on the descriptive statistics approch on data."
   ]
  },
  {
   "cell_type": "markdown",
   "id": "b0196d96-f5ae-4c97-aa73-cfb8fbc2bd33",
   "metadata": {},
   "source": [
    "Q3. What are the different types of data and how do they differ from each other? Provide an example of\n",
    "each type of data."
   ]
  },
  {
   "cell_type": "markdown",
   "id": "8f610ab3-693d-45be-959f-9ac6bc3f42eb",
   "metadata": {},
   "source": [
    "There are several different types of data, which can be broadly categorized into two main categories: quantitative data and qualitative data.\n",
    "\n",
    "1. Quantitative Data:\n",
    "\n",
    "Quantitative data refers to numerical data that can be measured and analyzed using mathematical and statistical methods. This type of data is often used to answer questions related to quantity, amount, or size.\n",
    "\n",
    "There are two types of quantitative data: discrete data and continuous data.\n",
    "\n",
    "(a) Discrete Data: Discrete data refers to data that can only take on certain values. For example, the number of students in a class or the number of cars in a parking lot.\n",
    "\n",
    "(b) Continuous Data: Continuous data refers to data that can take on any value within a certain range. For example, the height of a person or the weight of an object.\n",
    "\n",
    "\n",
    "\n",
    "2. Qualitative Data:\n",
    "\n",
    "Qualitative data refers to non-numerical data that cannot be measured using mathematical and statistical methods. This type of data is often used to answer questions related to quality, opinion, or experience.\n",
    "\n",
    "There are two types of qualitative data: nominal data and ordinal data.\n",
    "\n",
    "(a) Nominal Data: Nominal data refers to data that is used to classify or categorize objects, people, or events. For example, the color of a car or the gender of a person.\n",
    "\n",
    "(b) Ordinal Data: Ordinal data refers to data that is used to rank or order objects, people, or events. For example, the level of education of a person or the satisfaction rating of a customer.\n",
    "\n",
    "\n",
    "\n",
    "Example:\n",
    "\n",
    "Discrete Data: The number of people attending a concert.\n",
    "\n",
    "Continuous Data: The temperature of a room.\n",
    "\n",
    "Nominal Data: The type of fruit in a basket (e.g. apples, oranges, bananas).\n",
    "\n",
    "Ordinal Data: The ranking of athletes in a race"
   ]
  },
  {
   "cell_type": "code",
   "execution_count": null,
   "id": "df22fb3f-51b6-4e62-a242-cd82c1d431c5",
   "metadata": {},
   "outputs": [],
   "source": []
  },
  {
   "cell_type": "markdown",
   "id": "84ec7098-fb12-4133-a7f6-f53d232cea9c",
   "metadata": {},
   "source": [
    "Q4. Categorise the following datasets with respect to quantitative and qualitative data types:\n",
    "(i) Grading in exam: A+, A, B+, B, C+, C, D, E\n",
    "(ii) Colour of mangoes: yellow, green, orange, red\n",
    "(iii) Height data of a class: [178.9, 179, 179.5, 176, 177.2, 178.3, 175.8,...]\n",
    "(iv) Number of mangoes exported by a farm: [500, 600, 478, 672, ...]"
   ]
  },
  {
   "cell_type": "markdown",
   "id": "02b24875-ebb3-4bc3-b1b5-0db84618203a",
   "metadata": {},
   "source": [
    "(i) Grading in exam: A+, A, B+, B, C+, C, D, E - This is a qualitative dataset.\n",
    "\n",
    "(ii) Colour of mangoes: yellow, green, orange, red - This is a qualitative dataset.\n",
    "\n",
    "(iii) Height data of a class: [178.9, 179, 179.5, 176, 177.2, 178.3, 175.8,...] - This is a quantitative dataset.\n",
    "\n",
    "(iv) Number of mangoes exported by a farm: [500, 600, 478, 672, ...] - This is a quantitative dataset."
   ]
  },
  {
   "cell_type": "code",
   "execution_count": null,
   "id": "828fad75-84b4-4131-9d7f-21f9baf743fa",
   "metadata": {},
   "outputs": [],
   "source": []
  },
  {
   "cell_type": "markdown",
   "id": "22dd8289-aaa3-4120-a30f-0cba941728cb",
   "metadata": {},
   "source": [
    "Q5. Explain the concept of levels of measurement and give an example of a variable for each level."
   ]
  },
  {
   "cell_type": "markdown",
   "id": "6674fd28-cfa2-4edd-b730-4e5c756d82c5",
   "metadata": {},
   "source": [
    "The levels of measurement, also known as scales of measurement, refer to the different types of data that can be collected and the operations that can be performed on them. There are four main levels of measurement: nominal, ordinal, interval, and ratio.\n",
    "\n",
    "Nominal level: This is the lowest level of measurement, where data is classified into categories without any order or ranking. Nominal data can only be categorized, counted, and tallied. Examples of nominal variables are gender, race, or religion.\n",
    "\n",
    "Ordinal level: This level of measurement involves data that can be ordered or ranked but without an exact measurement of the differences between each category. Ordinal data can be ranked or sorted into a specific order, but the distances between the categories are not uniform. Examples of ordinal variables include levels of education, socioeconomic status, and customer satisfaction ratings.\n",
    "\n",
    "Interval level: This level of measurement involves data that can be measured on a scale with equal intervals between each point. Interval data have a known distance between any two points on the scale, but do not have a true zero point. Examples of interval variables include temperature measured in Celsius or Fahrenheit, or dates measured in years.\n",
    "\n",
    "Ratio level: This is the highest level of measurement, where data can be measured on a scale with equal intervals between each point and has a true zero point. Ratio data can be compared using the ratios between values. Examples of ratio variables include weight, height, income, and time."
   ]
  },
  {
   "cell_type": "code",
   "execution_count": null,
   "id": "4fd5d5f6-97c5-4a9c-acbf-2b12a2550f7f",
   "metadata": {},
   "outputs": [],
   "source": []
  },
  {
   "cell_type": "markdown",
   "id": "0f617344-3e5a-4e52-9581-8e03af2f851b",
   "metadata": {},
   "source": [
    "Q6. Why is it important to understand the level of measurement when analyzing data? Provide an\n",
    "example to illustrate your answer."
   ]
  },
  {
   "cell_type": "markdown",
   "id": "70574e26-0b16-4f6a-b3a9-01b8c4d5cc3d",
   "metadata": {},
   "source": [
    "It is important to understand the level of measurement when analyzing data because different statistical methods and techniques are appropriate for different levels of measurement.\n",
    "\n",
    "The level of measurement refers to the nature of the variable being measured, whether it is categorical or numerical and whether the values have a meaningful order or not.\n",
    "\n",
    "\n",
    "In summary, the levels of measurement help us understand how data is measured and classified. Nominal, ordinal, interval, and ratio are the four levels of measurement, and each level requires a different set of statistical tests to analyze the data."
   ]
  },
  {
   "cell_type": "markdown",
   "id": "412eee7a-7213-44f5-9a8b-061f6b441d07",
   "metadata": {},
   "source": [
    "\n",
    "    For example : \n",
    "    \n",
    "consider a survey of individuals' favorite colors. The data collected might be nominal, as the colors chosen are distinct categories (e.g., red, blue, green). Alternatively, if the survey asked respondents to rank their favorite colors from 1 to 5, the data would be ordinal. If the survey asked respondents to rate their favorite colors on a scale of 1 to 10, the data would be interval. Finally, if the survey asked respondents to indicate the number of times they wear a shirt of their favorite color in a week, the data would be ratio.\n",
    "\n",
    "\n",
    "\n",
    "\n",
    "Finally I came to a conclusion:\n",
    "\n",
    "Understanding the level of measurement helps in selecting appropriate statistical methods and techniques that can effectively analyze the data, and this can have a significant impact on the accuracy of the results obtained."
   ]
  },
  {
   "cell_type": "markdown",
   "id": "af93a9e0-a13a-486b-963e-70c609b1b4fc",
   "metadata": {},
   "source": [
    "Q7. How nominal data type is different from ordinal data type."
   ]
  },
  {
   "cell_type": "markdown",
   "id": "cbce9e0a-a50b-4d8b-81a4-18dd4effb788",
   "metadata": {},
   "source": [
    "The key difference between nominal and ordinal data is that ordinal data have an inherent order or ranking, while nominal data do not.\n",
    "\n",
    "\n",
    "Nominal data and ordinal data are two types of categorical data in statistics.\n",
    "\n",
    "Nominal data are variables that have two or more categories without any natural order or ranking. For example, the type of fruit (apple, banana, orange) or the color of a car (red, blue, green). These categories are not inherently ordered in any way.\n",
    "\n",
    "On the other hand, ordinal data are variables that have two or more categories with a natural order or ranking. For example, the rating of a restaurant (excellent, good, fair, poor) or the level of education (high school, college, graduate school). These categories have a clear order to them, where one category is greater or lesser than another."
   ]
  },
  {
   "cell_type": "code",
   "execution_count": null,
   "id": "75791411-6872-413d-b8f0-9523cac4e5e5",
   "metadata": {},
   "outputs": [],
   "source": []
  },
  {
   "cell_type": "markdown",
   "id": "17799be2-4c35-4079-ae6e-56c8353de7f1",
   "metadata": {},
   "source": [
    "Q8. Which type of plot can be used to display data in terms of range?"
   ]
  },
  {
   "cell_type": "markdown",
   "id": "508e3271-98a8-4601-89cc-86c5477bc213",
   "metadata": {},
   "source": [
    "A box plot (box) and whisker plot, is a type of plot that can be used to display data in terms of range."
   ]
  },
  {
   "cell_type": "code",
   "execution_count": null,
   "id": "93a1183c-1d61-4d03-8db6-dfe7b061ca84",
   "metadata": {},
   "outputs": [],
   "source": []
  },
  {
   "cell_type": "markdown",
   "id": "d6c281dd-dc56-40f9-9081-660870644e9c",
   "metadata": {},
   "source": [
    "Q9. Describe the difference between descriptive and inferential statistics. Give an example of each\n",
    "type of statistics and explain how they are used."
   ]
  },
  {
   "cell_type": "markdown",
   "id": "e32467f4-a7eb-44bb-aadd-073888c14165",
   "metadata": {},
   "source": [
    "Descriptive statistics are used to summarize and describe data, while inferential statistics are used to draw conclusions about a larger population based on a sample of data.\n",
    "\n",
    "\n",
    "1. Descriptive statistics refer to the methods used to summarize and describe the main features of a set of data. These methods include measures of central tendency (such as mean, median, and mode) and measures of variability (such as range, variance, and standard deviation). Descriptive statistics are used to provide a clear and concise summary of data, and are often used in data visualization and exploratory data analysis.\n",
    "\n",
    "\n",
    "Ex: Mean , median , mode , sd ,range of group of people.\n",
    "\n",
    "\n",
    "\n",
    "2. Inferential statistics, on the other hand, refer to methods used to make inferences about a larger population based on a sample of data. These methods include hypothesis testing and estimation. Inferential statistics are used to draw conclusions about a population based on a sample, and to test whether the observed differences between groups or variables are statistically significant.\n",
    "\n",
    "Ex: If a researcher wants to know if a new drug is effective in reducing symptoms of a certain disease, they might conduct a randomized controlled trial, in which a group of patients is randomly assigned to receive either the new drug or a placebo. The researcher would then compare the outcomes of the two groups using inferential statistics, such as a t-test, to determine if there is a statistically significant difference in symptom reduction between the two groups."
   ]
  },
  {
   "cell_type": "code",
   "execution_count": null,
   "id": "810deb2e-d2f1-4612-81d1-f9f6786792df",
   "metadata": {},
   "outputs": [],
   "source": []
  },
  {
   "cell_type": "markdown",
   "id": "75f35cb7-b95a-4892-a4f4-1bed0f061604",
   "metadata": {},
   "source": [
    "Q10. What are some common measures of central tendency and variability used in statistics? Explain\n",
    "how each measure can be used to describe a dataset."
   ]
  },
  {
   "cell_type": "markdown",
   "id": "1ee97fb4-b4ee-4910-b7d8-daf49a80d927",
   "metadata": {},
   "source": [
    "Measures of central tendency and variability are essential tools for summarizing and describing datasets. Each measure provides valuable information about the data, and choosing the appropriate measure depends on the specific characteristics of the dataset being analyzed.\n",
    "\n",
    "\n",
    "In statistics, measures of central tendency and variability are used to describe the characteristics of a dataset. The most common measures of central tendency are the mean, median, and mode, while the most common measures of variability are the range, variance, and standard deviation.\n",
    "\n",
    "\n",
    "\n",
    "Mean: The mean is the arithmetic average of a set of values. It is calculated by adding up all the values in a dataset and dividing by the number of values. The mean is useful for describing the central tendency of a dataset and is commonly used in hypothesis testing and regression analysis.\n",
    "\n",
    "Median: The median is the middle value in a set of values that are arranged in order of magnitude. It is useful for describing the central tendency of a dataset when there are extreme values or outliers that skew the data. The median is less affected by outliers than the mean.\n",
    "\n",
    "Mode: The mode is the most common value in a dataset. It is useful for describing the central tendency of a dataset when there are multiple peaks or modes.\n",
    "\n",
    "Range: The range is the difference between the largest and smallest values in a dataset. It is useful for describing the spread or variability of a dataset, but it is sensitive to outliers.\n",
    "\n",
    "Variance: The variance is the average of the squared differences from the mean. It is useful for describing the spread or variability of a dataset and is commonly used in hypothesis testing and regression analysis.\n",
    "\n",
    "Standard deviation: The standard deviation is the square root of the variance. It is useful for describing the spread or variability of a dataset and is commonly used in hypothesis testing and regression analysis. The standard deviation is less sensitive to outliers than the range and is a measure of how much the data deviates from the mean."
   ]
  },
  {
   "cell_type": "code",
   "execution_count": null,
   "id": "df126bf0-3cd5-4e3f-a01f-c4194866207d",
   "metadata": {},
   "outputs": [],
   "source": []
  }
 ],
 "metadata": {
  "kernelspec": {
   "display_name": "Python 3 (ipykernel)",
   "language": "python",
   "name": "python3"
  },
  "language_info": {
   "codemirror_mode": {
    "name": "ipython",
    "version": 3
   },
   "file_extension": ".py",
   "mimetype": "text/x-python",
   "name": "python",
   "nbconvert_exporter": "python",
   "pygments_lexer": "ipython3",
   "version": "3.10.8"
  }
 },
 "nbformat": 4,
 "nbformat_minor": 5
}
