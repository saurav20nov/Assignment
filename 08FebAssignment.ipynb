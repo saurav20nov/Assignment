{
 "cells": [
  {
   "cell_type": "markdown",
   "id": "866de16f-2565-4129-a180-7becd7a03ebe",
   "metadata": {},
   "source": [
    "Q1. What is Abstraction in OOps? Explain with an example."
   ]
  },
  {
   "cell_type": "markdown",
   "id": "4ec64b24-ebc7-4750-9122-3129d841858c",
   "metadata": {},
   "source": [
    "Abstraction is used to hide the internal functionality of the function from the users. The users only interact with the basic implementation of the function, but inner working is hidden. User is familiar with that \"what function does\" but they don't know \"how it does.\"\n",
    "\n",
    "We are using pwskill dashboard application and using its feature but we are unaware of the background operations .\n",
    "This is said as Abstraction\n",
    "\n",
    "In simple words, we all use the smartphone and very much familiar with its functions such as camera, voice-recorder, call-dialing, etc., but we don't know how these operations are happening in the background. Let's take another example - When we use the TV remote to increase the volume. We don't know how pressing a key increases the volume of the TV. We only know to press the \"+\" button to increase the volume.\n",
    "\n"
   ]
  },
  {
   "cell_type": "markdown",
   "id": "9061e912-2d02-4bd3-ae8a-02f77d3a3c8d",
   "metadata": {},
   "source": [
    "Q2. Differentiate between Abstraction and Encapsulation. Explain with an example."
   ]
  },
  {
   "cell_type": "markdown",
   "id": "b4024d35-05cc-49e5-ad9c-007aa438cda7",
   "metadata": {},
   "source": [
    "Abstraction: Abstraction means showing essential features and hiding non-essential features to the user.\n",
    "\n",
    "For Eg.  Yahoo Mail...\n",
    "\n",
    "When you provide the user name and password and click on submit button..It will show Compose,Inbox,Outbox,Sentmails...so and so when you click on compose it will open...but user doesn't\n",
    "know what are the actions performed internally....It just Opens....that is essential; User doesn't know internal actions ...that is non-essential things...\n",
    "\n",
    "For Eg. Tv Remote..\n",
    "Remote is a interface between user and tv..right. which has buttons like 0 to 10 ,on /of etc but we dont know circuits inside remote...User does not  need to know..Just he is using essential thing that is remote.\n",
    " \n",
    "\n",
    "Encapsulation: Encapsulation means which binds the data and code (or) writing operations and methods in single unit (class).\n",
    " \n",
    "For Example:\n",
    "A car is having multiple parts..like steering,wheels,engine...etc..which binds together to form a single object that is car. So, Here multiple parts of cars encapsulates itself together to form a single object that is Car.\n",
    "\n",
    "In real time we are using Encapsulation for security purpose..."
   ]
  },
  {
   "cell_type": "markdown",
   "id": "7a5aaab8-0285-4285-8f41-2b68f542f365",
   "metadata": {},
   "source": [
    "Q3. What is abc module in python? Why is it used?"
   ]
  },
  {
   "cell_type": "markdown",
   "id": "d9020ca4-8c5c-4052-8c83-7e5e4fef5815",
   "metadata": {},
   "source": [
    "The 'abc' module in Python library provides the infrastructure for defining custom abstract base classes.\n",
    "\n",
    "Python provides the abc module to use the abstraction in the Python program. \n",
    "\n",
    "By default, Python does not provide abstract classes. The ‘abc’ module in the Python library provides the infrastructure for defining custom abstract base classes.\n",
    "\n",
    "\n",
    "Abstract class cannot be instantiated in python. An Abstract method can be call by its subclasses.\n",
    "\n",
    "The above module provides us the following,\n",
    "\n",
    "1. ABCMeta\n",
    "2. ABC ( helper class )\n",
    "these are keywords used to create an abstract class.\n",
    "\n",
    "ABCMeta:\n",
    "It is a metaclass for defining the abstract class.\n",
    "\n",
    "ABC:\n",
    "It is a helper class. we can use it in the area where we want to avoid the confusion of metaclass usage.\n"
   ]
  },
  {
   "cell_type": "code",
   "execution_count": 1,
   "id": "4d96e40d-2908-4123-9857-fbdda907078c",
   "metadata": {},
   "outputs": [
    {
     "name": "stdout",
     "output_type": "stream",
     "text": [
      "area:  200\n"
     ]
    }
   ],
   "source": [
    "import abc\n",
    "class Shape(metaclass=abc.ABCMeta):\n",
    "   @abc.abstractmethod\n",
    "   def area(self):\n",
    "      pass\n",
    "class Rectangle(Shape):\n",
    "   def __init__(self, x,y):\n",
    "      self.l = x\n",
    "      self.b=y\n",
    "   def area(self):\n",
    "      return self.l*self.b\n",
    "r = Rectangle(10,20)\n",
    "print ('area: ',r.area())"
   ]
  },
  {
   "cell_type": "markdown",
   "id": "66e8c10f-ed37-4d05-9f62-72f6928ce782",
   "metadata": {},
   "source": [
    "Q4. How can we achieve data abstraction?"
   ]
  },
  {
   "cell_type": "markdown",
   "id": "e94c52e9-2dfd-421e-926a-1231d6dfc28a",
   "metadata": {},
   "source": [
    "Data Abstraction in Python can be achieved through creating abstract classes and inheriting them later.\n",
    "\n",
    "In Python abstraction can be achieved using abstract class and it’s methods.\n",
    "\n",
    "Python provides the abc module to use the abstraction in the Python program.\n"
   ]
  },
  {
   "cell_type": "code",
   "execution_count": 9,
   "id": "29458673-5416-4b46-b71e-430f5e39109c",
   "metadata": {},
   "outputs": [
    {
     "name": "stdout",
     "output_type": "stream",
     "text": [
      "Area of Square  25\n",
      "Area of circle  50.24\n"
     ]
    }
   ],
   "source": [
    "from abc import ABC\n",
    "\n",
    "class llgm(ABC): \n",
    "\n",
    "    pass\n",
    "\n",
    "class Square(llgm):\n",
    "\n",
    "  length = 5\n",
    "\n",
    "  def Area(self):\n",
    "\n",
    "    return self.length * self.length \n",
    "\n",
    "\n",
    "class Circle(llgm):\n",
    "\n",
    "  radius =4 \n",
    "\n",
    "  def Area(self):\n",
    "\n",
    "    return 3.14 * self.radius * self.radius\n",
    "\n",
    "\n",
    "sq = Square() \n",
    "\n",
    "cir = Circle() \n",
    "\n",
    "print(\"Area of Square \",sq.Area())\n",
    "\n",
    "print(\"Area of circle \",cir.Area())"
   ]
  },
  {
   "cell_type": "markdown",
   "id": "140dfcba-ddfa-4eb1-a59b-c36e95fb11c5",
   "metadata": {},
   "source": [
    "Q5. Can we create an instance of an abstract class? Explain your answer."
   ]
  },
  {
   "cell_type": "markdown",
   "id": "121f1daa-404a-451b-a8f0-7bdc086ed661",
   "metadata": {},
   "source": [
    "Abstract class has not implemented method so, we cant create the object.\n",
    "But in a simple class where we have all virtual method, able to create an object.\n",
    "\n",
    "\n",
    "Because it's abstract and an object is concrete. An abstract class is sort of like a template, or an empty/partially empty structure, you have to extend it and build on it before you can use it.\n",
    "\n",
    "abstract class has a protected constructor (by default) allowing derived types to initialize it.\n",
    "\n",
    "An abstract type is defined largely as one that can't be created.\n"
   ]
  },
  {
   "cell_type": "code",
   "execution_count": null,
   "id": "6639c4fb-a9de-4ef6-8272-12b63987d8c3",
   "metadata": {},
   "outputs": [],
   "source": []
  }
 ],
 "metadata": {
  "kernelspec": {
   "display_name": "Python 3 (ipykernel)",
   "language": "python",
   "name": "python3"
  },
  "language_info": {
   "codemirror_mode": {
    "name": "ipython",
    "version": 3
   },
   "file_extension": ".py",
   "mimetype": "text/x-python",
   "name": "python",
   "nbconvert_exporter": "python",
   "pygments_lexer": "ipython3",
   "version": "3.10.8"
  }
 },
 "nbformat": 4,
 "nbformat_minor": 5
}
