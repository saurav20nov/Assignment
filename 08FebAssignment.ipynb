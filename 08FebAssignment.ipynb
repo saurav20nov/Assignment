{
 "cells": [
  {
   "cell_type": "markdown",
   "id": "866de16f-2565-4129-a180-7becd7a03ebe",
   "metadata": {},
   "source": [
    "Q1. What is Abstraction in OOps? Explain with an example."
   ]
  },
  {
   "cell_type": "markdown",
   "id": "4ec64b24-ebc7-4750-9122-3129d841858c",
   "metadata": {},
   "source": [
    "Abstraction is used to hide the internal functionality of the function from the users. The users only interact with the basic implementation of the function, but inner working is hidden. User is familiar with that \"what function does\" but they don't know \"how it does.\"\n",
    "\n",
    "We are using pwskill dashboard application and using its feature but we are unaware of the background operations .\n",
    "This is said as Abstraction\n",
    "\n",
    "In simple words, we all use the smartphone and very much familiar with its functions such as camera, voice-recorder, call-dialing, etc., but we don't know how these operations are happening in the background. Let's take another example - When we use the TV remote to increase the volume. We don't know how pressing a key increases the volume of the TV. We only know to press the \"+\" button to increase the volume.\n",
    "\n"
   ]
  },
  {
   "cell_type": "code",
   "execution_count": 11,
   "id": "c0639763-2bb5-4717-a6c1-90df9faca306",
   "metadata": {},
   "outputs": [
    {
     "name": "stdout",
     "output_type": "stream",
     "text": [
      "sudh\n",
      "Bakers street, London HUAPK29971 123445678\n",
      "Chinese Python Programming A+\n"
     ]
    }
   ],
   "source": [
    "# abstraction example code\n",
    "class Person:\n",
    "    def __init__(self):\n",
    "        self.name = \"sudh\"\n",
    "\n",
    "    def bio(self):\n",
    "        self.addr = \"Bakers street, London\"\n",
    "        self.taxInfo = \"HUAPK29971\"\n",
    "        self.contact = \"123445678\"\n",
    "        print(self.addr, self.taxInfo, self.contact)\n",
    "\n",
    "    def interest(self):\n",
    "        self.favFood = \"Chinese\"\n",
    "        self.hobbies = \"Python Programming\"\n",
    "        self.bloodGroup = \"A+\"\n",
    "        print(self.favFood, self.hobbies, self.bloodGroup)\n",
    "\n",
    "obj = Person()\n",
    "print(obj.name)\n",
    "obj.bio()\n",
    "obj.interest()"
   ]
  },
  {
   "cell_type": "markdown",
   "id": "323896bc-175a-418c-af53-762919d72b8f",
   "metadata": {},
   "source": [
    "Q2. Differentiate between Abstraction and Encapsulation. Explain with an example."
   ]
  },
  {
   "cell_type": "markdown",
   "id": "b4024d35-05cc-49e5-ad9c-007aa438cda7",
   "metadata": {},
   "source": [
    "\n",
    "\n",
    "Abstraction\n",
    "Abstraction is used to hide internal details and show only functionalities. Abstracting something means to give names to things, so that the name captures the basic idea of what a function or a whole program does.\n",
    "\n",
    "Encapsulation\n",
    "Encapsulation is used to restrict access to methods and variables. In encapsulation, code and data are wrapped together within a single unit from being modified by accident.\n",
    "\n",
    "\n",
    "Abstraction: Abstraction means showing essential features and hiding non-essential features to the user.\n",
    "\n",
    "For Eg.  Yahoo Mail...\n",
    "\n",
    "When you provide the user name and password and click on submit button..It will show Compose,Inbox,Outbox,Sentmails...so and so when you click on compose it will open...but user doesn't\n",
    "know what are the actions performed internally....It just Opens....that is essential; User doesn't know internal actions ...that is non-essential things...\n",
    "\n",
    "For Eg. Tv Remote..\n",
    "Remote is a interface between user and tv..right. which has buttons like 0 to 10 ,on /of etc but we dont know circuits inside remote...User does not  need to know..Just he is using essential thing that is remote.\n",
    " \n",
    "\n",
    "Encapsulation: Encapsulation means which binds the data and code (or) writing operations and methods in single unit (class).\n",
    " \n",
    "For Example:\n",
    "A car is having multiple parts..like steering,wheels,engine...etc..which binds together to form a single object that is car. So, Here multiple parts of cars encapsulates itself together to form a single object that is Car.\n",
    "\n",
    "In real time we are using Encapsulation for security purpose..."
   ]
  },
  {
   "cell_type": "code",
   "execution_count": 4,
   "id": "44ed6786-5e0c-4063-888d-da71868640f9",
   "metadata": {},
   "outputs": [
    {
     "name": "stdout",
     "output_type": "stream",
     "text": [
      "Channel changed to 10\n",
      "Volume increased to 1\n",
      "Volume decreased to 0\n"
     ]
    }
   ],
   "source": [
    "# example :\n",
    "class Television:\n",
    "    def __init__(self):\n",
    "        self.__volume = 0\n",
    "        self.__channel = 1\n",
    "\n",
    "    def change_channel(self, channel):\n",
    "        if channel >= 1 and channel <= 100:\n",
    "            self.__channel = channel\n",
    "            print(f\"Channel changed to {channel}\")\n",
    "        else:\n",
    "            print(\"Invalid channel number\")\n",
    "\n",
    "    def increase_volume(self):\n",
    "        self.__volume += 1\n",
    "        print(f\"Volume increased to {self.__volume}\")\n",
    "\n",
    "    def decrease_volume(self):\n",
    "        self.__volume -= 1\n",
    "        print(f\"Volume decreased to {self.__volume}\")\n",
    "\n",
    "tv = Television()\n",
    "tv.change_channel(10) # Channel changed to 10\n",
    "tv.increase_volume() # Volume increased to 1\n",
    "tv.decrease_volume() # Volume decreased to 0"
   ]
  },
  {
   "cell_type": "markdown",
   "id": "5bf3e220-2188-4941-9df1-ebf35ff84713",
   "metadata": {},
   "source": [
    "In this example, the Television class represents a TV and implements the functionality to change the channel and adjust the volume. The __volume and __channel attributes are encapsulated and can only be accessed through the public methods change_channel, increase_volume, and decrease_volume. The user of the TV does not need to know the implementation details of how the volume and channel are stored and manipulated internally."
   ]
  },
  {
   "cell_type": "markdown",
   "id": "11ffae7d-fe7a-42c2-b671-a7841471fcf9",
   "metadata": {},
   "source": [
    "Q3. What is abc module in python? Why is it used?"
   ]
  },
  {
   "cell_type": "markdown",
   "id": "d9020ca4-8c5c-4052-8c83-7e5e4fef5815",
   "metadata": {},
   "source": [
    "The abc (abstract base class) module in Python is used to define abstract base classes. An abstract base class is a class that cannot be instantiated and is meant to be subclassed by other classes.\n",
    "\n",
    "The main purpose of using abstract base classes is to define a common interface for a set of related classes. By defining an abstract base class, you can ensure that all the subclasses implement certain methods and properties, and provide a way to check if a given object is an instance of a particular abstract base class.\n",
    "\n",
    "\n",
    "The 'abc' module in Python library provides the infrastructure for defining custom abstract base classes.\n",
    "\n",
    "Python provides the abc module to use the abstraction in the Python program. \n",
    "\n",
    "By default, Python does not provide abstract classes. The ‘abc’ module in the Python library provides the infrastructure for defining custom abstract base classes.\n",
    "\n",
    "\n"
   ]
  },
  {
   "cell_type": "code",
   "execution_count": 2,
   "id": "4d96e40d-2908-4123-9857-fbdda907078c",
   "metadata": {},
   "outputs": [
    {
     "name": "stdout",
     "output_type": "stream",
     "text": [
      "area:  200\n"
     ]
    }
   ],
   "source": [
    "import abc\n",
    "class Shape(metaclass=abc.ABCMeta):\n",
    "   @abc.abstractmethod\n",
    "   def area(self):\n",
    "      pass\n",
    "class Rectangle(Shape):\n",
    "   def __init__(self, x,y):\n",
    "      self.l = x\n",
    "      self.b=y\n",
    "   def area(self):\n",
    "      return self.l*self.b\n",
    "r = Rectangle(10,20)\n",
    "print ('area: ',r.area())"
   ]
  },
  {
   "cell_type": "markdown",
   "id": "66e8c10f-ed37-4d05-9f62-72f6928ce782",
   "metadata": {},
   "source": [
    "Q4. How can we achieve data abstraction?"
   ]
  },
  {
   "cell_type": "markdown",
   "id": "e94c52e9-2dfd-421e-926a-1231d6dfc28a",
   "metadata": {},
   "source": [
    "Data abstraction in Python can be achieved through object-oriented programming by defining classes and encapsulating data within the objects defined by these classes.\n",
    "\n",
    "Data Abstraction in Python can be achieved through creating abstract classes and inheriting them later.\n",
    "\n",
    "In Python abstraction can be achieved using abstract class and it’s methods.\n",
    "\n",
    "\n"
   ]
  },
  {
   "cell_type": "code",
   "execution_count": 8,
   "id": "29458673-5416-4b46-b71e-430f5e39109c",
   "metadata": {},
   "outputs": [
    {
     "name": "stdout",
     "output_type": "stream",
     "text": [
      "1000\n"
     ]
    },
    {
     "data": {
      "text/plain": [
       "6000"
      ]
     },
     "execution_count": 8,
     "metadata": {},
     "output_type": "execute_result"
    }
   ],
   "source": [
    "class BankAccount:\n",
    "    def __init__(self, balance):\n",
    "        self.__balance = balance\n",
    "\n",
    "    def deposit(self, amount):\n",
    "        self.__balance += amount\n",
    "\n",
    "    def withdraw(self, amount):\n",
    "        if self.__balance >= amount:\n",
    "            self.__balance -= amount\n",
    "        else:\n",
    "            print(\"Insufficient funds.\")\n",
    "\n",
    "    def get_balance(self):\n",
    "        return self.__balance\n",
    "    \n",
    "    \n",
    "sudh=bank_account(1000)\n",
    "print(sudh.get__balance())\n",
    "sudh.deposit(5000)\n",
    "sudh.get__balance()  \n",
    "    \n"
   ]
  },
  {
   "cell_type": "markdown",
   "id": "991b033f-eea2-4f6c-b786-e0a77c04d6b9",
   "metadata": {},
   "source": [
    "In this example, the BankAccount class defines the data abstraction for a bank account. The balance is kept as a private variable and is only accessible through the methods defined in the class. This allows you to change the implementation details (e.g., the way the balance is stored) without affecting the external behavior of the class."
   ]
  },
  {
   "cell_type": "markdown",
   "id": "140dfcba-ddfa-4eb1-a59b-c36e95fb11c5",
   "metadata": {},
   "source": [
    "Q5. Can we create an instance of an abstract class? Explain your answer."
   ]
  },
  {
   "cell_type": "markdown",
   "id": "121f1daa-404a-451b-a8f0-7bdc086ed661",
   "metadata": {},
   "source": [
    "NO\n",
    "\n",
    "\n",
    "Abstract class has not implemented method so, we cant create the object.\n",
    "But in a simple class where we have all virtual method, able to create an object.\n",
    "\n",
    "\n",
    "Because it's abstract and an object is concrete. An abstract class is sort of like a template, or an empty/partially empty structure, you have to extend it and build on it before you can use it.\n",
    "\n",
    "abstract class has a protected constructor (by default) allowing derived types to initialize it.\n",
    "\n",
    "An abstract type is defined largely as one that can't be created.\n"
   ]
  },
  {
   "cell_type": "code",
   "execution_count": null,
   "id": "6639c4fb-a9de-4ef6-8272-12b63987d8c3",
   "metadata": {},
   "outputs": [],
   "source": []
  }
 ],
 "metadata": {
  "kernelspec": {
   "display_name": "Python 3 (ipykernel)",
   "language": "python",
   "name": "python3"
  },
  "language_info": {
   "codemirror_mode": {
    "name": "ipython",
    "version": 3
   },
   "file_extension": ".py",
   "mimetype": "text/x-python",
   "name": "python",
   "nbconvert_exporter": "python",
   "pygments_lexer": "ipython3",
   "version": "3.10.8"
  }
 },
 "nbformat": 4,
 "nbformat_minor": 5
}
