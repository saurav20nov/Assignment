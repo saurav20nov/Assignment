{
 "cells": [
  {
   "cell_type": "markdown",
   "id": "a9172220-ae87-4e40-b35e-adc272aeb45c",
   "metadata": {},
   "source": [
    "Q1. Create a vehicle class with an init method having instance variables as name_of_vehicle, max_speedand average_of_vehicle."
   ]
  },
  {
   "cell_type": "code",
   "execution_count": 1,
   "id": "077aef24-1637-4458-bf5f-d283262bce3b",
   "metadata": {},
   "outputs": [],
   "source": [
    "class vehicle:\n",
    "    def __init__(self,name_of_vehicle,max_speed,average_of_vehicle):\n",
    "        self.name_of_vehicle=name_of_vehicle\n",
    "        self.max_speed=max_speed\n",
    "        self.average_of_vehicle=average_of_vehicle\n",
    "car=vehicle(\"BMW\",400,200)"
   ]
  },
  {
   "cell_type": "code",
   "execution_count": 2,
   "id": "98a452e0-964e-404d-aa18-ecd4cfa6eda4",
   "metadata": {},
   "outputs": [
    {
     "data": {
      "text/plain": [
       "200"
      ]
     },
     "execution_count": 2,
     "metadata": {},
     "output_type": "execute_result"
    }
   ],
   "source": [
    "car.average_of_vehicle"
   ]
  },
  {
   "cell_type": "code",
   "execution_count": 3,
   "id": "065238f2-0165-458a-bdc3-2a4fa63da05f",
   "metadata": {},
   "outputs": [
    {
     "data": {
      "text/plain": [
       "400"
      ]
     },
     "execution_count": 3,
     "metadata": {},
     "output_type": "execute_result"
    }
   ],
   "source": [
    "car.max_speed"
   ]
  },
  {
   "cell_type": "code",
   "execution_count": 4,
   "id": "725a7073-57f9-4c5d-80b2-543cf55b3ede",
   "metadata": {},
   "outputs": [
    {
     "data": {
      "text/plain": [
       "'BMW'"
      ]
     },
     "execution_count": 4,
     "metadata": {},
     "output_type": "execute_result"
    }
   ],
   "source": [
    "car.name_of_vehicle"
   ]
  },
  {
   "cell_type": "markdown",
   "id": "3ed7b37f-caa6-4c0c-975f-cf8e25776764",
   "metadata": {},
   "source": [
    "Q2. Create a child class car from the vehicle class created in Que 1, which will inherit the vehicle class.\n",
    "Create a method named seating_capacity which takes capacity as an argument and returns the name of\n",
    "the vehicle and its seating capacity."
   ]
  },
  {
   "cell_type": "code",
   "execution_count": 7,
   "id": "71e50af4-5c5f-4df1-97b3-55c323aaa6b5",
   "metadata": {},
   "outputs": [],
   "source": [
    "class child(vehicle):\n",
    "    def seating_capacity(self,capacity):\n",
    "        self.capacity=capacity\n",
    "        return f\" Name of vehicle is {self.name_of_vehicle} and seating capacity is {self.capacity}\"\n",
    "        \n",
    "    "
   ]
  },
  {
   "cell_type": "code",
   "execution_count": 8,
   "id": "d6139270-e9d8-4a79-900e-96282b950f67",
   "metadata": {},
   "outputs": [],
   "source": [
    "obj_child=child(\"BMW\",400,200)"
   ]
  },
  {
   "cell_type": "code",
   "execution_count": 9,
   "id": "e0153dc7-74c6-43c9-b100-9ce9614b3dd8",
   "metadata": {},
   "outputs": [
    {
     "data": {
      "text/plain": [
       "' Name of vehicle is BMW and seating capacity is 4'"
      ]
     },
     "execution_count": 9,
     "metadata": {},
     "output_type": "execute_result"
    }
   ],
   "source": [
    "obj_child.seating_capacity(4)"
   ]
  },
  {
   "cell_type": "markdown",
   "id": "bb46c343-b9f6-450e-9529-45ad9442a40c",
   "metadata": {},
   "source": [
    "Q3. What is multiple inheritance? Write a python code to demonstrate multiple inheritance."
   ]
  },
  {
   "cell_type": "markdown",
   "id": "5082c8b5-f4f7-425e-8db9-685d755ad67a",
   "metadata": {},
   "source": [
    "Multiple Inheritance: \n",
    "When a class is derived from more than one base class it is called multiple Inheritance. The derived class inherits all the features of the base case."
   ]
  },
  {
   "cell_type": "code",
   "execution_count": 12,
   "id": "888704c0-d3d8-4e74-ac86-b31281372f43",
   "metadata": {},
   "outputs": [],
   "source": [
    "class class1:\n",
    "    def func_1(self):\n",
    "        return \" This is class 1\""
   ]
  },
  {
   "cell_type": "code",
   "execution_count": 13,
   "id": "a9b7c307-4acb-4ac4-afee-c73ccf71d1bb",
   "metadata": {},
   "outputs": [],
   "source": [
    "class class2:\n",
    "    def func_2(self):\n",
    "        return \"This is class 2\""
   ]
  },
  {
   "cell_type": "code",
   "execution_count": 14,
   "id": "50a91f9b-2726-4a72-bee5-a939062424f1",
   "metadata": {},
   "outputs": [],
   "source": [
    "class class3(class1,class2):\n",
    "    pass"
   ]
  },
  {
   "cell_type": "code",
   "execution_count": 15,
   "id": "59b8d336-1db2-4adb-bbb8-ec4bdde048b2",
   "metadata": {},
   "outputs": [],
   "source": [
    "obj_class3=class3()"
   ]
  },
  {
   "cell_type": "code",
   "execution_count": 16,
   "id": "49951377-ff74-42f4-a29a-a28f97e2d102",
   "metadata": {},
   "outputs": [
    {
     "data": {
      "text/plain": [
       "' This is class 1'"
      ]
     },
     "execution_count": 16,
     "metadata": {},
     "output_type": "execute_result"
    }
   ],
   "source": [
    "obj_class3.func_1()"
   ]
  },
  {
   "cell_type": "code",
   "execution_count": 17,
   "id": "b868479b-f35b-44f4-95e8-af82600ec64c",
   "metadata": {},
   "outputs": [
    {
     "data": {
      "text/plain": [
       "'This is class 2'"
      ]
     },
     "execution_count": 17,
     "metadata": {},
     "output_type": "execute_result"
    }
   ],
   "source": [
    "obj_class3.func_2()"
   ]
  },
  {
   "cell_type": "markdown",
   "id": "3f5867c4-426b-4687-b754-a774685f7b35",
   "metadata": {},
   "source": [
    "Q4. What are getter and setter in python? Create a class and create a getter and a setter method in this\n",
    "class."
   ]
  },
  {
   "cell_type": "markdown",
   "id": "7a6806d6-bd7e-4449-9881-397650c5dba8",
   "metadata": {},
   "source": [
    "The main purpose of using getters and setters in object-oriented programs is to ensure data encapsulation.\n",
    "\n",
    "Getter: A method that allows you to access an attribute in a given class.\n",
    "\n",
    "Setter: A method that allows you to set or mutate the value of an attribute in a class"
   ]
  },
  {
   "cell_type": "code",
   "execution_count": 18,
   "id": "b860dc1e-5007-44f0-b5df-65d609637bed",
   "metadata": {},
   "outputs": [],
   "source": [
    "class pwskill():\n",
    "    def __init__(self,course,teacher,duration):\n",
    "        self.__course=course\n",
    "        self.__teacher=teacher\n",
    "        self.__duration=duration\n",
    "    def set_course(self,course):\n",
    "        self.__course=course\n",
    "    def get_course(self):\n",
    "        return f\" The course is {self.__course} \""
   ]
  },
  {
   "cell_type": "code",
   "execution_count": 20,
   "id": "697e7853-9e84-4239-ab27-26a3c23e52e8",
   "metadata": {},
   "outputs": [],
   "source": [
    "obj_pwskill=pwskill(\"Web development\",\"Sudhanshu Sir\",6)"
   ]
  },
  {
   "cell_type": "code",
   "execution_count": 21,
   "id": "818e3210-7618-4866-b561-3c59e437982a",
   "metadata": {},
   "outputs": [
    {
     "data": {
      "text/plain": [
       "' The course is Web development '"
      ]
     },
     "execution_count": 21,
     "metadata": {},
     "output_type": "execute_result"
    }
   ],
   "source": [
    "obj_pwskill.get_course()"
   ]
  },
  {
   "cell_type": "code",
   "execution_count": 23,
   "id": "e8a8f4f2-6d0f-4091-888b-984d2808d7d7",
   "metadata": {},
   "outputs": [],
   "source": [
    "obj_pwskill.set_course(\"Data Science\")"
   ]
  },
  {
   "cell_type": "code",
   "execution_count": 24,
   "id": "2a09486c-d6b9-4044-b3d5-ca119a9b0a31",
   "metadata": {},
   "outputs": [
    {
     "data": {
      "text/plain": [
       "' The course is Data Science '"
      ]
     },
     "execution_count": 24,
     "metadata": {},
     "output_type": "execute_result"
    }
   ],
   "source": [
    "obj_pwskill.get_course()"
   ]
  },
  {
   "cell_type": "markdown",
   "id": "8453afd7-1e09-4f6c-9397-5e92c36c4696",
   "metadata": {},
   "source": [
    "Q5.What is method overriding in python? Write a python code to demonstrate method overriding."
   ]
  },
  {
   "cell_type": "markdown",
   "id": "6e67ad64-4043-425b-891d-d0f18d63f22b",
   "metadata": {},
   "source": [
    "Method Overriding in Python :  When a child class method overrides the parent class method of the same name, parameters and return type, it is known as method overriding.\n",
    "\n",
    "In this case, the child class's method is called the overriding method and the parent class's method is called the overriden method."
   ]
  },
  {
   "cell_type": "markdown",
   "id": "0029a22c-8167-4bdf-8e94-f9032f3945e2",
   "metadata": {},
   "source": [
    "Example 1"
   ]
  },
  {
   "cell_type": "code",
   "execution_count": 25,
   "id": "63469e05-d703-450b-a36b-93021136580c",
   "metadata": {},
   "outputs": [],
   "source": [
    "class pwskill_1():\n",
    "    def course(self):\n",
    "        return \"This is web development course\""
   ]
  },
  {
   "cell_type": "code",
   "execution_count": 26,
   "id": "55ca7655-97a7-423f-a888-dbb9fa37dec8",
   "metadata": {},
   "outputs": [],
   "source": [
    "class pwskill_2(pwskill_1):\n",
    "    def course(self):\n",
    "        return \"This is Data Science course\""
   ]
  },
  {
   "cell_type": "code",
   "execution_count": 27,
   "id": "a85b40f4-859b-4c0b-9238-4eafb3cb34b2",
   "metadata": {},
   "outputs": [],
   "source": [
    "obj=pwskill_2()"
   ]
  },
  {
   "cell_type": "code",
   "execution_count": 28,
   "id": "2ab3cc04-e13b-435b-bcae-9d0ae086c9ce",
   "metadata": {},
   "outputs": [
    {
     "data": {
      "text/plain": [
       "'This is Data Science course'"
      ]
     },
     "execution_count": 28,
     "metadata": {},
     "output_type": "execute_result"
    }
   ],
   "source": [
    "obj.course()"
   ]
  },
  {
   "cell_type": "markdown",
   "id": "3f823568-f8cb-46ad-8520-919531103e60",
   "metadata": {},
   "source": [
    "Example 2"
   ]
  },
  {
   "cell_type": "code",
   "execution_count": 35,
   "id": "090c8fce-be46-4585-995f-d36588e61bef",
   "metadata": {},
   "outputs": [],
   "source": [
    "class pwskill_1():\n",
    "    def __init__(self):\n",
    "        self.value=\"This is web development course\"\n",
    "    def show(self):\n",
    "        return self.value\n",
    "    "
   ]
  },
  {
   "cell_type": "code",
   "execution_count": 36,
   "id": "387a5880-587a-4000-97ed-7730175a7b5f",
   "metadata": {},
   "outputs": [],
   "source": [
    "class pwskill_2():\n",
    "    def __init__(self):\n",
    "        self.value=\"This is Data Science course\"\n",
    "    def show(self):\n",
    "        return self.value"
   ]
  },
  {
   "cell_type": "code",
   "execution_count": 37,
   "id": "4348596a-891f-4755-8c70-0b71a1969ea4",
   "metadata": {},
   "outputs": [],
   "source": [
    "obj1=pwskill_2()"
   ]
  },
  {
   "cell_type": "code",
   "execution_count": 38,
   "id": "d76787b2-cac2-4967-a574-e405518d2113",
   "metadata": {},
   "outputs": [
    {
     "data": {
      "text/plain": [
       "'This is Data Science course'"
      ]
     },
     "execution_count": 38,
     "metadata": {},
     "output_type": "execute_result"
    }
   ],
   "source": [
    "obj1.show()"
   ]
  },
  {
   "cell_type": "markdown",
   "id": "c320ef70-c63e-4004-85cd-73ba8b06fdfc",
   "metadata": {},
   "source": [
    "example 3"
   ]
  },
  {
   "cell_type": "code",
   "execution_count": 40,
   "id": "a3fa0c78-f8c4-4cc0-ad9b-63e005095542",
   "metadata": {},
   "outputs": [
    {
     "name": "stdout",
     "output_type": "stream",
     "text": [
      "I have 4 sides. I am from Square class\n",
      "I am a 2D object. I am from shape class\n",
      "I have teal color. I am from Square class.\n",
      "Old value of data1 =  abc\n",
      "The value of data1 in Shape class overridden by the Square class =  New value\n"
     ]
    }
   ],
   "source": [
    "# Parent class\n",
    "class Shape:\n",
    "    \n",
    "    data1 = \"abc\"\n",
    "\n",
    "    \n",
    "    def no_of_sides(self):\n",
    "        print(\"My sides need to be defined. I am from shape class.\")\n",
    "\n",
    "    \n",
    "    def two_dimensional(self):\n",
    "        print(\"I am a 2D object. I am from shape class\")\n",
    "\n",
    "#Sub-class\n",
    "class Square(Shape):\n",
    "    data2 = \"xyz\"\n",
    "\n",
    "    def no_of_sides(self):\n",
    "        print(\"I have 4 sides. I am from Square class\")\n",
    "\n",
    "    def color(self):\n",
    "        print(\"I have teal color. I am from Square class.\")\n",
    "\n",
    "\n",
    "# Create an object of Square class\n",
    "sq = Square()\n",
    "# Override the no_of_sides of parent class\n",
    "sq.no_of_sides()\n",
    "# Will inherit this method from the parent class\n",
    "sq.two_dimensional()\n",
    "# It's own method - color\n",
    "sq.color()\n",
    "print(\"Old value of data1 = \", sq.data1)\n",
    "# Override property of the Parent class\n",
    "sq.data1 = \"New value\"\n",
    "print(\"The value of data1 in Shape class overridden by the Square class = \", sq.data1)\n"
   ]
  },
  {
   "cell_type": "code",
   "execution_count": null,
   "id": "ba506c09-9a17-4d36-9de6-606328e20f13",
   "metadata": {},
   "outputs": [],
   "source": []
  }
 ],
 "metadata": {
  "kernelspec": {
   "display_name": "Python 3 (ipykernel)",
   "language": "python",
   "name": "python3"
  },
  "language_info": {
   "codemirror_mode": {
    "name": "ipython",
    "version": 3
   },
   "file_extension": ".py",
   "mimetype": "text/x-python",
   "name": "python",
   "nbconvert_exporter": "python",
   "pygments_lexer": "ipython3",
   "version": "3.10.8"
  }
 },
 "nbformat": 4,
 "nbformat_minor": 5
}
