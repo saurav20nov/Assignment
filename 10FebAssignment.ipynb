{
 "cells": [
  {
   "cell_type": "markdown",
   "id": "a481bca5-7928-4a91-97f2-4135ec6efaa2",
   "metadata": {},
   "source": [
    "Q1. Which function is used to open a file? What are the different modes of opening a file? Explain each mode\n",
    "of file opening."
   ]
  },
  {
   "cell_type": "markdown",
   "id": "cd1f8668-805a-4d12-b39c-9be0377e6382",
   "metadata": {},
   "source": [
    "In Python, we use the open() method to open files.\n",
    "\n"
   ]
  },
  {
   "cell_type": "code",
   "execution_count": 10,
   "id": "760eb61b-f2a2-4f86-ba61-add0acf6b647",
   "metadata": {},
   "outputs": [],
   "source": [
    "file = open(\"test2.txt\",\"w\")"
   ]
  },
  {
   "cell_type": "code",
   "execution_count": 11,
   "id": "4e77a58e-8df8-4728-84e6-18ea36df69e3",
   "metadata": {},
   "outputs": [
    {
     "data": {
      "text/plain": [
       "'/home/jovyan/work'"
      ]
     },
     "execution_count": 11,
     "metadata": {},
     "output_type": "execute_result"
    }
   ],
   "source": [
    "pwd"
   ]
  },
  {
   "cell_type": "code",
   "execution_count": 12,
   "id": "49b79bdb-742c-42fd-8a9b-a77df85f6897",
   "metadata": {},
   "outputs": [
    {
     "data": {
      "text/plain": [
       "21"
      ]
     },
     "execution_count": 12,
     "metadata": {},
     "output_type": "execute_result"
    }
   ],
   "source": [
    "file.write(\"This is my first file\")"
   ]
  },
  {
   "cell_type": "code",
   "execution_count": 13,
   "id": "924941b7-f0bc-4ceb-8a63-23f6159596a1",
   "metadata": {},
   "outputs": [],
   "source": [
    "file.close()"
   ]
  },
  {
   "cell_type": "markdown",
   "id": "eb3cb7dc-b625-4106-8a0e-44259d55df8f",
   "metadata": {},
   "source": [
    "Different Modes of opening a file are:\n",
    "\n",
    "r\t : Open a file for reading. (default)\n",
    "\n",
    "w\t : Open a file for writing. Creates a new file if it does not exist or truncates the file if it exists.\n",
    "\n",
    "x\t : Open a file for exclusive creation. If the file already exists, the operation fails.\n",
    "\n",
    "a\t : Open a file for appending at the end of the file without truncating it. Creates a new file if it does not exist.\n",
    "\n",
    "t\t : Open in text mode. (default)\n",
    "\n",
    "b\t : Open in binary mode.\n",
    "\n",
    "(+)\t : Open a file for updating (reading and writing)\n",
    "\n",
    "'U'  : universal newline mode (deprecated)\n"
   ]
  },
  {
   "cell_type": "markdown",
   "id": "6dd95419-a481-4028-899e-c29c5dd55ba0",
   "metadata": {},
   "source": [
    "Read Only (‘r’) : Open text file for reading. The handle is positioned at the beginning of the file. If the file does not exists, raises the I/O error. This is also the default mode in which a file is opened.\n",
    "\n",
    "\n",
    "\n",
    "Write Only (‘w’) : Open the file for writing. For the existing files, the data is truncated and over-written. The handle is positioned at the beginning of the file. Creates the file if the file does not exist.\n",
    "\n",
    "\n",
    "\n",
    "Append Only (‘a’): Open the file for writing. The file is created if it does not exist. The handle is positioned at the end of the file. The data being written will be inserted at the end, after the existing data.\n",
    "\n"
   ]
  },
  {
   "cell_type": "code",
   "execution_count": null,
   "id": "ec60c6ff-9148-4c8a-8863-b68012fbf102",
   "metadata": {},
   "outputs": [],
   "source": []
  },
  {
   "cell_type": "markdown",
   "id": "22ba5c94-fa51-489b-b043-23723c553666",
   "metadata": {},
   "source": [
    "Q2. Why close() function is used? Why is it important to close a file?"
   ]
  },
  {
   "cell_type": "markdown",
   "id": "37b40387-e75d-4a07-92ed-8ab4d527f6a6",
   "metadata": {},
   "source": [
    "close() function:\n",
    "\n",
    "It is used to close an opened file, if the file does not exist, it returns an error."
   ]
  },
  {
   "cell_type": "code",
   "execution_count": 16,
   "id": "779573d8-7811-486d-a453-69d71383bbf4",
   "metadata": {},
   "outputs": [
    {
     "name": "stdout",
     "output_type": "stream",
     "text": [
      "Operation successful.\n"
     ]
    }
   ],
   "source": [
    "\n",
    "f = open(\"file1.txt\",\"wt\")\n",
    "\n",
    "f.close()\n",
    "\n",
    "\n",
    "f = open(\"file1.txt\",\"rt\")\n",
    "\n",
    "f.close()\n",
    "\n",
    "print(\"Operation successful.\")\n"
   ]
  },
  {
   "cell_type": "markdown",
   "id": "52146072-e9a3-471a-b45f-ad85baeb6c2d",
   "metadata": {},
   "source": [
    "We should always close your files, in some cases, due to buffering, changes made to a file may not show until we close the file. So it is necessary to close the file ."
   ]
  },
  {
   "cell_type": "markdown",
   "id": "0a1f822e-b005-4390-a473-c298bf55a21b",
   "metadata": {},
   "source": [
    "Not closing a file after an interaction is not only a waste of program resources but could also prevent other file interactions and may lead to inconsistencies .. Leaving files open is also widely regarded as poor practice, and it's always best to get into good habits early on."
   ]
  },
  {
   "cell_type": "markdown",
   "id": "131e5d87-b29d-4e81-9469-6341f832d615",
   "metadata": {},
   "source": [
    "Q3. Write a python program to create a text file. Write ‘I want to become a Data Scientist’ in that file. Then\n",
    "close the file. Open this file and read the content of the file."
   ]
  },
  {
   "cell_type": "code",
   "execution_count": 22,
   "id": "65e14007-2a39-4f7e-b019-6bb89a44cb1d",
   "metadata": {},
   "outputs": [],
   "source": [
    "pw = open(\"pw.txt\",\"w\")\n",
    "pw.write(\"I want to become a Data Scientist\")\n",
    "pw.close()"
   ]
  },
  {
   "cell_type": "code",
   "execution_count": 23,
   "id": "5c5cf430-6a9a-490f-9724-a739df7c09de",
   "metadata": {},
   "outputs": [],
   "source": [
    "pw = open(\"pw.txt\",\"r\")"
   ]
  },
  {
   "cell_type": "code",
   "execution_count": 24,
   "id": "9f86fdbb-f57e-48c1-a91d-fc9cb23d580c",
   "metadata": {},
   "outputs": [
    {
     "data": {
      "text/plain": [
       "'I want to become a Data Scientist'"
      ]
     },
     "execution_count": 24,
     "metadata": {},
     "output_type": "execute_result"
    }
   ],
   "source": [
    "pw.read()"
   ]
  },
  {
   "cell_type": "markdown",
   "id": "2f1b7125-d4cd-4d29-80fb-940354bdd8a5",
   "metadata": {},
   "source": [
    "Q4. Explain the following with python code: read(), readline() and readlines()."
   ]
  },
  {
   "cell_type": "markdown",
   "id": "b0728f35-b2f0-43c9-9854-d9989283de06",
   "metadata": {},
   "source": [
    "The read() function in Python, used to read the content of a file."
   ]
  },
  {
   "cell_type": "code",
   "execution_count": 1,
   "id": "83b60dd6-60bf-4556-ba3b-4fe65495ca64",
   "metadata": {},
   "outputs": [
    {
     "data": {
      "text/plain": [
       "\"This is how read function works , it help to run the output which is the text written in the file It reads entire line from start to end or we can say from starting cursor position to the last position.........................this is my fileData Science Masters course is highly curated and uniquely designed according to the latest industry standards. This program instills students the skills essential to knowledge discovery efforts to identify standard, novel, and truly differentiated solutions and decision-making, including skills in managing, querying, analyzing, visualizing, and extracting meaning from extremely large data sets. This trending program provides students with the statistical, mathematical and computational skills needed to meet the large-scale data science challenges of today's professional world. You will learn all the stack required to work in data science industry including cloud infrastructure and real-time industry projects. This course will be taught in Hindi language\""
      ]
     },
     "execution_count": 1,
     "metadata": {},
     "output_type": "execute_result"
    }
   ],
   "source": [
    "pw1 = open(\"pw1.txt\",\"w\")\n",
    "pw1.write(\"This is how read function works , it help to run the output which is the text written in the file It reads entire line from start to end or we can say from starting cursor position to the last position.........................this is my fileData Science Masters course is highly curated and uniquely designed according to the latest industry standards. This program instills students the skills essential to knowledge discovery efforts to identify standard, novel, and truly differentiated solutions and decision-making, including skills in managing, querying, analyzing, visualizing, and extracting meaning from extremely large data sets. This trending program provides students with the statistical, mathematical and computational skills needed to meet the large-scale data science challenges of today's professional world. You will learn all the stack required to work in data science industry including cloud infrastructure and real-time industry projects. This course will be taught in Hindi language\")\n",
    "pw1.close()\n",
    "pw1 = open(\"pw1.txt\",\"r\")\n",
    "pw1.read()"
   ]
  },
  {
   "cell_type": "markdown",
   "id": "38f7c34e-2e59-44a7-97c8-210a05dfc35a",
   "metadata": {},
   "source": [
    "This is how read function works , it help to run the output which is the text written in the file It reads entire line from start to end or we can say from starting cursor position to the last position\n",
    "\n",
    "\n",
    "\n",
    ".\n"
   ]
  },
  {
   "cell_type": "markdown",
   "id": "186548cf-d38d-42ff-ae4f-e0e2b8137399",
   "metadata": {},
   "source": [
    "The readlines() method returns a list containing each line in the file as a list item.\n",
    "\n",
    "Readlines ( ) is a function that is used in Python to read a particular file line by line in a single go\n",
    "\n",
    "readlines ( ) function reads only one complete line from the given file; after reading, it returns the whole line containing all elements in the form of a list.\n",
    "\n",
    "This readlines ( ) function is mostly suitable for small-sized files, containing fewer data to read the whole file within less time easily."
   ]
  },
  {
   "cell_type": "code",
   "execution_count": 10,
   "id": "92434a98-349b-42bd-9ffd-b2b69f35bc7a",
   "metadata": {},
   "outputs": [
    {
     "data": {
      "text/plain": [
       "[\"This is how read function works , it help to run the output which is the text written in the file It reads entire line from start to end or we can say from starting cursor position to the last position.........................this is my fileData Science Masters course is highly curated and uniquely designed according to the latest industry standards. This program instills students the skills essential to knowledge discovery efforts to identify standard, novel, and truly differentiated solutions and decision-making, including skills in managing, querying, analyzing, visualizing, and extracting meaning from extremely large data sets. This trending program provides students with the statistical, mathematical and computational skills needed to meet the large-scale data science challenges of today's professional world. You will learn all the stack required to work in data science industry including cloud infrastructure and real-time industry projects. This course will be taught in Hindi language\"]"
      ]
     },
     "execution_count": 10,
     "metadata": {},
     "output_type": "execute_result"
    }
   ],
   "source": [
    "pw1 = open(\"pw1.txt\",\"r\")\n",
    "pw1.readlines()"
   ]
  },
  {
   "cell_type": "code",
   "execution_count": null,
   "id": "f43dc748-8d9c-4ff9-9d45-6408d211c500",
   "metadata": {},
   "outputs": [],
   "source": []
  },
  {
   "cell_type": "code",
   "execution_count": null,
   "id": "1731f768-5af4-4959-86f0-d6493fded9b8",
   "metadata": {},
   "outputs": [],
   "source": []
  },
  {
   "cell_type": "markdown",
   "id": "c2464090-ae1d-4d94-8a1d-489f28b903c6",
   "metadata": {},
   "source": [
    "readline () :The readline() method returns one line from the file.Python readline() is a file method that helps to read one complete line from the given file. It has a trailing newline (“\\n”) at the end of the string returned.\n",
    "\n",
    "Python readline() method reads only one complete line from the file given.\n",
    "\n",
    "It appends a newline (“\\n”) at the end of the line.\n",
    "\n",
    "If you open the file in normal read mode, readline() will return you the string.\n",
    "\n",
    "If you open the file in binary mode, readline() will return you binary object.\n",
    "\n",
    "You can give size as an argument to readline(), and it will get you the line as per the size given inclusive of the newline. By default, the size is 0, and it returns the entire line."
   ]
  },
  {
   "cell_type": "code",
   "execution_count": null,
   "id": "e9f23ea4-eb9a-4763-a3fc-75255a4355c5",
   "metadata": {},
   "outputs": [],
   "source": []
  },
  {
   "cell_type": "code",
   "execution_count": 50,
   "id": "d8f66766-6231-47bb-b42c-3c089e906d4c",
   "metadata": {},
   "outputs": [
    {
     "data": {
      "text/plain": [
       "0"
      ]
     },
     "execution_count": 50,
     "metadata": {},
     "output_type": "execute_result"
    }
   ],
   "source": [
    "pw1.seek(0)"
   ]
  },
  {
   "cell_type": "markdown",
   "id": "258c4ace-6ec7-4c98-baef-293549073741",
   "metadata": {},
   "source": [
    "pw1.readline()"
   ]
  },
  {
   "cell_type": "code",
   "execution_count": 34,
   "id": "a5137506-2259-47f3-96bf-527ab70ab5db",
   "metadata": {},
   "outputs": [
    {
     "data": {
      "text/plain": [
       "'\\n'"
      ]
     },
     "execution_count": 34,
     "metadata": {},
     "output_type": "execute_result"
    }
   ],
   "source": [
    "pw1.readline()"
   ]
  },
  {
   "cell_type": "code",
   "execution_count": 35,
   "id": "da237b0e-93f2-4019-92da-e9900f8d143a",
   "metadata": {},
   "outputs": [
    {
     "data": {
      "text/plain": [
       "'This is my fileData Science Masters course is highly curated and uniquely designed according to the latest industry standards.\\n'"
      ]
     },
     "execution_count": 35,
     "metadata": {},
     "output_type": "execute_result"
    }
   ],
   "source": [
    "pw1.readline()"
   ]
  },
  {
   "cell_type": "code",
   "execution_count": 36,
   "id": "4e816c9d-1d72-4834-b63e-3bfbc1492ea1",
   "metadata": {},
   "outputs": [
    {
     "data": {
      "text/plain": [
       "'This program instills students the skills essential to knowledge discovery efforts to identify standard, novel, and truly differentiated solutions and decision-making, including skills in managing, querying, analyzing, visualizing, and extracting meaning from extremely large data sets.\\n'"
      ]
     },
     "execution_count": 36,
     "metadata": {},
     "output_type": "execute_result"
    }
   ],
   "source": [
    "pw1.readline()"
   ]
  },
  {
   "cell_type": "code",
   "execution_count": 37,
   "id": "8aef0902-b413-45c8-bf45-ca9bb3fdca6c",
   "metadata": {},
   "outputs": [
    {
     "data": {
      "text/plain": [
       "'\\n'"
      ]
     },
     "execution_count": 37,
     "metadata": {},
     "output_type": "execute_result"
    }
   ],
   "source": [
    "pw1.readline()"
   ]
  },
  {
   "cell_type": "code",
   "execution_count": 38,
   "id": "7088824b-6dca-4ee2-9eab-304e08e05a49",
   "metadata": {},
   "outputs": [
    {
     "data": {
      "text/plain": [
       "\"This trending program provides students with the statistical, mathematical and computational skills needed to meet the large-scale data science challenges of today's professional world. You will learn all the stack required to work in data science industry including cloud infrastructure and real-time industry projects.\\n\""
      ]
     },
     "execution_count": 38,
     "metadata": {},
     "output_type": "execute_result"
    }
   ],
   "source": [
    "pw1.readline()"
   ]
  },
  {
   "cell_type": "code",
   "execution_count": 39,
   "id": "2cee10ad-9559-48e8-98c1-0ad8b05e9190",
   "metadata": {},
   "outputs": [
    {
     "data": {
      "text/plain": [
       "'\\n'"
      ]
     },
     "execution_count": 39,
     "metadata": {},
     "output_type": "execute_result"
    }
   ],
   "source": [
    "pw1.readline()"
   ]
  },
  {
   "cell_type": "code",
   "execution_count": 40,
   "id": "a0c79723-e530-4eab-87a9-279d38a0ba0f",
   "metadata": {},
   "outputs": [
    {
     "data": {
      "text/plain": [
       "'This course will be taught in Hindi language'"
      ]
     },
     "execution_count": 40,
     "metadata": {},
     "output_type": "execute_result"
    }
   ],
   "source": [
    "pw1.readline()"
   ]
  },
  {
   "cell_type": "code",
   "execution_count": 43,
   "id": "53b6f9fe-1352-4429-8739-4a7f84dd9e41",
   "metadata": {},
   "outputs": [
    {
     "data": {
      "text/plain": [
       "''"
      ]
     },
     "execution_count": 43,
     "metadata": {},
     "output_type": "execute_result"
    }
   ],
   "source": [
    "pw1.readline()"
   ]
  },
  {
   "cell_type": "code",
   "execution_count": null,
   "id": "75ac8955-932e-4c32-8c6e-541fe187104d",
   "metadata": {},
   "outputs": [],
   "source": []
  },
  {
   "cell_type": "code",
   "execution_count": null,
   "id": "e5d281fa-6589-4691-b891-dcc2061bee8a",
   "metadata": {},
   "outputs": [],
   "source": []
  },
  {
   "cell_type": "markdown",
   "id": "65d7bf64-b06b-4587-a985-4a0aeac46df7",
   "metadata": {},
   "source": [
    "Q5. Explain why with statement is used with open(). What is the advantage of using with statement and\n",
    "open() together?"
   ]
  },
  {
   "cell_type": "markdown",
   "id": "8a21861e-f95f-44b9-a662-f2b008af6a83",
   "metadata": {},
   "source": [
    "In Python, you can access a file by using the open() method. However, using the open() method directly requires you to use the close() method to close the file explicitly. Instead, you can create a context using the with Open statement in python.\n",
    "\n",
    "Unlike open() where you have to close the file with the close() method, the with statement closes the file for you without you telling it to.\n",
    "\n",
    "This is because the with statement calls 2 built-in methods behind the scene – __enter()__ and __exit()__.\n",
    "\n",
    "The __exit()__ method closes the file when the operation you specify is done.\n",
    "\n",
    "\n",
    "\n",
    "Advantages:\n",
    "\n",
    "With statement closes the file for us and we get to write less code.\n",
    "\n",
    "The with statement provides a way for ensuring that a clean-up is always used by closing the file always.\n",
    "\n",
    "With the “With” statement, you get better syntax and exception handling.\n",
    "\n",
    "Clearing resources on your system is extremely important and it helps in doing that.\n"
   ]
  },
  {
   "cell_type": "code",
   "execution_count": 51,
   "id": "eb9c8092-ce27-4f5c-803d-8ce3c79cdab7",
   "metadata": {},
   "outputs": [
    {
     "name": "stdout",
     "output_type": "stream",
     "text": [
      "Hello Welcome to PW Skill \n",
      "I hope you're doing well today \n",
      "This is 10th feb assignment \n",
      "It gives proper idea about subject \n",
      "\n"
     ]
    }
   ],
   "source": [
    "with open(\"pwclass.txt\", \"w\") as pwskill:\n",
    "    pwskill.write(\"Hello Welcome to PW Skill \\n\")\n",
    "    pwskill.write(\"I hope you're doing well today \\n\")\n",
    "    pwskill.write(\"This is 10th feb assignment \\n\")\n",
    "    pwskill.write(\"It gives proper idea about subject \\n\")\n",
    "\n",
    "with open(\"pwclass.txt\") as pwskill:\n",
    "    print(pwskill.read())"
   ]
  },
  {
   "cell_type": "code",
   "execution_count": null,
   "id": "5610b7bb-44f9-46de-9fcd-d41cb399dd3a",
   "metadata": {},
   "outputs": [],
   "source": []
  },
  {
   "cell_type": "code",
   "execution_count": null,
   "id": "80129513-d75b-4d86-a6e4-a7c31dc868b8",
   "metadata": {},
   "outputs": [],
   "source": []
  },
  {
   "cell_type": "code",
   "execution_count": null,
   "id": "c835d2d0-c3fd-4ab8-bcff-a7eebcd0aecf",
   "metadata": {},
   "outputs": [],
   "source": []
  },
  {
   "cell_type": "markdown",
   "id": "8afbc19d-72a0-4732-b96d-837c1f4abb28",
   "metadata": {},
   "source": [
    "Q6. Explain the write() and writelines() functions. Give a suitable example."
   ]
  },
  {
   "cell_type": "code",
   "execution_count": null,
   "id": "fc65e0a4-7537-43b0-b978-3aafa7674c5d",
   "metadata": {},
   "outputs": [],
   "source": []
  },
  {
   "cell_type": "markdown",
   "id": "8d53a48c-d2f1-4582-83ad-77f31d4a8e8d",
   "metadata": {},
   "source": [
    "write(): \n",
    "\n",
    "write () method takes a string as an argument and writes it to the text file.\n",
    "\n",
    "\n",
    "\n",
    "The write() function will write the content in the file without adding any extra characters.\n",
    "\n",
    "\n",
    "\n",
    "writelines() :\n",
    "\n",
    "This function writes the content of a list to a file.\n",
    "\n",
    "writeline() method is used to write multiple strings to a file. We need to pass an iterable object like lists, tuple etc. containing strings to writelines() method."
   ]
  },
  {
   "cell_type": "code",
   "execution_count": null,
   "id": "dfcbfd4e-c13c-4dca-9f5a-5f097ac01313",
   "metadata": {},
   "outputs": [],
   "source": []
  },
  {
   "cell_type": "code",
   "execution_count": null,
   "id": "8c820393-a14a-43b7-a803-456411f3a2e3",
   "metadata": {},
   "outputs": [],
   "source": []
  },
  {
   "cell_type": "code",
   "execution_count": 102,
   "id": "3851bbc6-7a07-48fb-9202-0bb96893327f",
   "metadata": {},
   "outputs": [
    {
     "name": "stdin",
     "output_type": "stream",
     "text": [
      "Enter the name of the course:  Web Development\n",
      "Enter the name of the course:  Data Science\n",
      "Enter the name of the course:  Java Design\n"
     ]
    },
    {
     "name": "stdout",
     "output_type": "stream",
     "text": [
      "Courses added\n"
     ]
    }
   ],
   "source": [
    "file = open(\"course.txt\", \"w\")\n",
    "\n",
    "for i in range(3):\n",
    "    name = input(\"Enter the name of the course: \")\n",
    "    file.write(name)\n",
    "    file.write(\"\\n\")\n",
    "\t\n",
    "file.close()\n",
    "\n",
    "print(\"Courses added\")\n"
   ]
  },
  {
   "cell_type": "code",
   "execution_count": 103,
   "id": "0a18d830-9baf-4091-bcad-415ab2e1ccb7",
   "metadata": {},
   "outputs": [
    {
     "data": {
      "text/plain": [
       "'Web Development\\nData Science\\nJava Design\\n'"
      ]
     },
     "execution_count": 103,
     "metadata": {},
     "output_type": "execute_result"
    }
   ],
   "source": [
    "file=open(\"course.txt\",\"r\")\n",
    "file.read()"
   ]
  },
  {
   "cell_type": "code",
   "execution_count": 104,
   "id": "2ee96c37-2dad-478b-a1b2-0debb47a9385",
   "metadata": {},
   "outputs": [
    {
     "name": "stdout",
     "output_type": "stream",
     "text": [
      "Web Development\n",
      "Data Science\n",
      "Java Design\n",
      "Sudhanshu SirKrish Naik Sir\n"
     ]
    }
   ],
   "source": [
    "f = open(\"course.txt\", \"a\")\n",
    "f.writelines([\"Sudhanshu Sir\",\"Krish Naik Sir\"])\n",
    "f.close()\n",
    "\n",
    "\n",
    "f = open(\"course.txt\", \"r\")\n",
    "print(f.read())"
   ]
  },
  {
   "cell_type": "code",
   "execution_count": 106,
   "id": "b0cd8e29-2878-45f6-bdcf-27b09c49bdd7",
   "metadata": {},
   "outputs": [
    {
     "name": "stdout",
     "output_type": "stream",
     "text": [
      "Web Development\n",
      "Data Science\n",
      "Java Design\n",
      "Sudhanshu SirKrish Naik Sir\n",
      "Sudhanshu Sir\n",
      "Krish Naik Sir\n"
     ]
    }
   ],
   "source": [
    "f = open(\"course.txt\", \"a\")\n",
    "f.writelines([\"\\nSudhanshu Sir\",\"\\nKrish Naik Sir\"])\n",
    "f.close()\n",
    "\n",
    "\n",
    "f = open(\"course.txt\", \"r\")\n",
    "print(f.read())"
   ]
  },
  {
   "cell_type": "markdown",
   "id": "238945db-f2aa-4828-9790-761b93e65f07",
   "metadata": {},
   "source": [
    "writelines() ensures line by line entry if escape character is used but in case of write() it doesnot give any impact. "
   ]
  },
  {
   "cell_type": "code",
   "execution_count": null,
   "id": "855879c1-7330-46ec-af00-606b07979df4",
   "metadata": {},
   "outputs": [],
   "source": []
  }
 ],
 "metadata": {
  "kernelspec": {
   "display_name": "Python 3 (ipykernel)",
   "language": "python",
   "name": "python3"
  },
  "language_info": {
   "codemirror_mode": {
    "name": "ipython",
    "version": 3
   },
   "file_extension": ".py",
   "mimetype": "text/x-python",
   "name": "python",
   "nbconvert_exporter": "python",
   "pygments_lexer": "ipython3",
   "version": "3.10.8"
  }
 },
 "nbformat": 4,
 "nbformat_minor": 5
}
